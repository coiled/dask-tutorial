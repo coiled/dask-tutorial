{
 "cells": [
  {
   "cell_type": "code",
   "execution_count": 1,
   "id": "5a749874-4920-4b70-b709-832043039c33",
   "metadata": {},
   "outputs": [],
   "source": [
    "import re\n",
    "import time\n",
    "\n",
    "import pandas as pd\n",
    "import requests\n",
    "from requests_html import HTML"
   ]
  },
  {
   "cell_type": "code",
   "execution_count": 2,
   "id": "8bdbd911-c42d-4f31-bab1-f67d307712b8",
   "metadata": {},
   "outputs": [
    {
     "data": {
      "text/plain": [
       "'https://stackoverflow.com/questions/tagged/dask?tab=Newest'"
      ]
     },
     "execution_count": 2,
     "metadata": {},
     "output_type": "execute_result"
    }
   ],
   "source": [
    "base_url = \"https://stackoverflow.com/questions/tagged/\"\n",
    "tag = \"dask\"\n",
    "query_filter = \"Newest\"\n",
    "url = f\"{base_url}{tag}?tab={query_filter}\"\n",
    "url\n"
   ]
  },
  {
   "cell_type": "code",
   "execution_count": 7,
   "id": "45c8a6a7-e49f-4d93-83b6-3e312271e0c4",
   "metadata": {},
   "outputs": [],
   "source": [
    "r = requests.get(url)\n",
    "html_str = r.text\n",
    "html = HTML(html=html_str)"
   ]
  },
  {
   "cell_type": "markdown",
   "id": "eea631c7-76b1-4b26-aaee-ef42f2f472ba",
   "metadata": {},
   "source": [
    "`.s-post-summary`: Base parent container for a post summary\n",
    "\n",
    "https://stackoverflow.design/product/components/post-summary/"
   ]
  },
  {
   "cell_type": "code",
   "execution_count": 12,
   "id": "2ac426e3-20e9-4183-9dd3-f350b85fa294",
   "metadata": {},
   "outputs": [
    {
     "data": {
      "text/plain": [
       "[<Element 'div' id='question-summary-74688899' class=('s-post-summary', 'js-post-summary') data-post-id='74688899' data-post-type-id='1'>,\n",
       " <Element 'div' id='question-summary-74668680' class=('s-post-summary', 'js-post-summary') data-post-id='74668680' data-post-type-id='1'>,\n",
       " <Element 'div' id='question-summary-74662292' class=('s-post-summary', 'js-post-summary') data-post-id='74662292' data-post-type-id='1'>]"
      ]
     },
     "execution_count": 12,
     "metadata": {},
     "output_type": "execute_result"
    }
   ],
   "source": [
    "html.find(\".s-post-summary\")[:3]"
   ]
  },
  {
   "cell_type": "code",
   "execution_count": 10,
   "id": "0773e7ec-5a2f-4b85-ae7d-8a4be8fe81a5",
   "metadata": {},
   "outputs": [
    {
     "data": {
      "text/plain": [
       "'0 votes\\n0 answers\\n13 views\\nIs py-datatable compatible with Dask?\\nDoes Python Datatable work with distributed big data frameworks like Dask? I have plenty of data.table experience on R, but not on Python. For a person familiar with the tools this might sound a ...\\ndask\\npy-datatable\\nJylpah\\n183\\nasked 3 hours ago'"
      ]
     },
     "execution_count": 10,
     "metadata": {},
     "output_type": "execute_result"
    }
   ],
   "source": [
    "html.find(\".s-post-summary\")[0].text"
   ]
  },
  {
   "cell_type": "code",
   "execution_count": 13,
   "id": "c4f3f947-176d-4abd-8018-807c2f8adb61",
   "metadata": {},
   "outputs": [
    {
     "name": "stdout",
     "output_type": "stream",
     "text": [
      "0 votes\n",
      "0 answers\n",
      "13 views\n",
      "Is py-datatable compatible with Dask?\n",
      "Does Python Datatable work with distributed big data frameworks like Dask? I have plenty of data.table experience on R, but not on Python. For a person familiar with the tools this might sound a ...\n",
      "dask\n",
      "py-datatable\n",
      "Jylpah\n",
      "183\n",
      "asked 3 hours ago\n"
     ]
    }
   ],
   "source": [
    "print(html.find(\".s-post-summary\")[0].text)"
   ]
  },
  {
   "cell_type": "code",
   "execution_count": 14,
   "id": "2af68e02-b1ac-41fa-83ee-f685d9bd2450",
   "metadata": {},
   "outputs": [
    {
     "data": {
      "text/plain": [
       "<Element 'div' id='question-summary-74688899' class=('s-post-summary', 'js-post-summary') data-post-id='74688899' data-post-type-id='1'>"
      ]
     },
     "execution_count": 14,
     "metadata": {},
     "output_type": "execute_result"
    }
   ],
   "source": [
    "q1 = html.find(\".s-post-summary\")[0]\n",
    "q1"
   ]
  },
  {
   "cell_type": "code",
   "execution_count": 42,
   "id": "98514897-799a-4b51-b521-fb4ed318d427",
   "metadata": {},
   "outputs": [
    {
     "data": {
      "text/plain": [
       "<Element 'a' href='/questions/74688899/is-py-datatable-compatible-with-dask' class=('s-link',)>"
      ]
     },
     "execution_count": 42,
     "metadata": {},
     "output_type": "execute_result"
    }
   ],
   "source": [
    "#get link\n",
    "q1.find(\".s-link\", first=True)"
   ]
  },
  {
   "cell_type": "code",
   "execution_count": 26,
   "id": "738db175-6c6e-45e5-99af-df0c5b62c282",
   "metadata": {},
   "outputs": [
    {
     "data": {
      "text/plain": [
       "'0 votes 0 answers 13 views'"
      ]
     },
     "execution_count": 26,
     "metadata": {},
     "output_type": "execute_result"
    }
   ],
   "source": [
    "# `.s-post-summary--stats`: Container for the post summary stats\n",
    "q1.find(\".s-post-summary--stats\", first=True).text.replace(\"\\n\", \" \")"
   ]
  },
  {
   "cell_type": "code",
   "execution_count": 27,
   "id": "927a2881-aa9c-4862-9ddd-202c40137fe0",
   "metadata": {},
   "outputs": [
    {
     "data": {
      "text/plain": [
       "'dask py-datatable Jylpah 183 asked 3 hours ago'"
      ]
     },
     "execution_count": 27,
     "metadata": {},
     "output_type": "execute_result"
    }
   ],
   "source": [
    "# A container for post meta data, things like tags and user cards.\n",
    "q1.find(\".s-post-summary--meta\", first=True).text.replace(\"\\n\", \" \")\n"
   ]
  },
  {
   "cell_type": "code",
   "execution_count": 28,
   "id": "3258e938-9acf-4c34-beda-9202cf284b4e",
   "metadata": {},
   "outputs": [
    {
     "data": {
      "text/plain": [
       "'Does Python Datatable work with distributed big data frameworks like Dask? I have plenty of data.table experience on R, but not on Python. For a person familiar with the tools this might sound a ...'"
      ]
     },
     "execution_count": 28,
     "metadata": {},
     "output_type": "execute_result"
    }
   ],
   "source": [
    "# An optional content excerpt truncated at 2 lines.\n",
    "q1.find(\".s-post-summary--content-excerpt\", first=True).text"
   ]
  },
  {
   "cell_type": "code",
   "execution_count": 34,
   "id": "03d9a686-58eb-4901-a17c-1f9692f51a57",
   "metadata": {},
   "outputs": [
    {
     "data": {
      "text/plain": [
       "'Is py-datatable compatible with Dask?'"
      ]
     },
     "execution_count": 34,
     "metadata": {},
     "output_type": "execute_result"
    }
   ],
   "source": [
    "#title\n",
    "q1.find(\".s-post-summary--content-title\", first=True).text"
   ]
  },
  {
   "cell_type": "markdown",
   "id": "c90dc1eb-da10-4a1b-9998-f07e15ce0faa",
   "metadata": {},
   "source": [
    "Test richards code"
   ]
  },
  {
   "cell_type": "code",
   "execution_count": 43,
   "id": "96e3c017-7ffb-4b72-ad31-d7bdb0901db6",
   "metadata": {},
   "outputs": [],
   "source": [
    "questions = html.find(\".s-post-summary\")"
   ]
  },
  {
   "cell_type": "code",
   "execution_count": null,
   "id": "0c3d179b-3ecc-44a8-b766-550c6b4ed5ea",
   "metadata": {},
   "outputs": [],
   "source": []
  },
  {
   "cell_type": "code",
   "execution_count": 50,
   "id": "b7e26dac-69d6-46e6-ba03-670f5a68653f",
   "metadata": {},
   "outputs": [],
   "source": [
    "key_class_dict = {\"title\": \".s-post-summary--content-title\" ,\n",
    "                  \"stats\": \".s-post-summary--stats\",\n",
    "                  \"tags\": \".s-post-summary--meta-tags\"}"
   ]
  },
  {
   "cell_type": "code",
   "execution_count": 52,
   "id": "23259ca2-e774-487d-bd71-75153e4973e1",
   "metadata": {},
   "outputs": [
    {
     "data": {
      "text/plain": [
       "<function dict.items>"
      ]
     },
     "execution_count": 52,
     "metadata": {},
     "output_type": "execute_result"
    }
   ],
   "source": [
    "key_class_dict.items"
   ]
  },
  {
   "cell_type": "code",
   "execution_count": null,
   "id": "eec78d14-092a-4abc-bb0c-f4d8088909ab",
   "metadata": {},
   "outputs": [],
   "source": []
  },
  {
   "cell_type": "code",
   "execution_count": null,
   "id": "55d714df-aba1-45ab-bf79-d0ccd7e269c5",
   "metadata": {},
   "outputs": [],
   "source": []
  },
  {
   "cell_type": "code",
   "execution_count": 54,
   "id": "56cd446e-1c95-4472-8402-af3d212908a1",
   "metadata": {},
   "outputs": [],
   "source": [
    "datas = []\n",
    "\n",
    "for q_el in questions:\n",
    "    q_data = {}\n",
    "    for k, v in key_class_dict.items():\n",
    "        q_data[k] = q_el.find(v, first=True).text\n",
    "    datas.append(q_data)"
   ]
  },
  {
   "cell_type": "code",
   "execution_count": 56,
   "id": "25d940e1-e9ae-4842-ad3b-77d68a35a445",
   "metadata": {},
   "outputs": [
    {
     "data": {
      "text/plain": [
       "[{'title': 'Is py-datatable compatible with Dask?',\n",
       "  'stats': '0 votes\\n0 answers\\n13 views',\n",
       "  'tags': 'dask\\npy-datatable'},\n",
       " {'title': 'Dask (delayed) vs pandas/function returns',\n",
       "  'stats': '0 votes\\n0 answers\\n14 views',\n",
       "  'tags': 'pandas\\ndask'},\n",
       " {'title': 'What is the most efficient way to access large dask arrays in functions submitted to the workers?',\n",
       "  'stats': '0 votes\\n0 answers\\n12 views',\n",
       "  'tags': 'python-3.x\\ndask'},\n",
       " {'title': 'dask/core.py:119: RuntimeWarning: invalid value encountered in divide',\n",
       "  'stats': '0 votes\\n0 answers\\n12 views',\n",
       "  'tags': 'runtime\\ndask\\ndivide'},\n",
       " {'title': \"Dask worker out of memory but I don't know why\",\n",
       "  'stats': '0 votes\\n1 answer\\n29 views',\n",
       "  'tags': 'python-3.x\\ndask'}]"
      ]
     },
     "execution_count": 56,
     "metadata": {},
     "output_type": "execute_result"
    }
   ],
   "source": [
    "datas[:5]"
   ]
  },
  {
   "cell_type": "code",
   "execution_count": 57,
   "id": "31a2ac23-040b-44c9-9bb4-bbe157a88cde",
   "metadata": {},
   "outputs": [],
   "source": [
    "# define keynames and quetions needed\n",
    "# keynames = [\"title\", \"stats\", \"tags\"]\n",
    "# classes_needed = [\n",
    "#     \".s-post-summary--content-title\",\n",
    "#     \".s-post-summary--stats\",\n",
    "#     \".s-post-summary--meta-tags\",\n",
    "# ]\n"
   ]
  },
  {
   "cell_type": "code",
   "execution_count": 58,
   "id": "caa0e26e-7dd1-4594-be5a-7e29ba52d0c4",
   "metadata": {},
   "outputs": [],
   "source": [
    "# datas = []\n",
    "\n",
    "# for q_el in questions:\n",
    "#     q_data = {}\n",
    "#     for i, _class in enumerate(classes_needed):\n",
    "#         sub_el = q_el.find(_class, first=True)\n",
    "#         keyname = keynames[i]\n",
    "#         q_data[keyname] = sub_el.text\n",
    "#     datas.append(q_data)\n"
   ]
  },
  {
   "cell_type": "code",
   "execution_count": 60,
   "id": "45d83274-fbda-4d1f-93d6-c0a3672b7f40",
   "metadata": {},
   "outputs": [
    {
     "data": {
      "text/plain": [
       "50"
      ]
     },
     "execution_count": 60,
     "metadata": {},
     "output_type": "execute_result"
    }
   ],
   "source": [
    "len(datas)"
   ]
  },
  {
   "cell_type": "code",
   "execution_count": 61,
   "id": "905f37db-4590-45f8-81f8-6e2b3cb37c65",
   "metadata": {},
   "outputs": [
    {
     "data": {
      "text/html": [
       "<div>\n",
       "<style scoped>\n",
       "    .dataframe tbody tr th:only-of-type {\n",
       "        vertical-align: middle;\n",
       "    }\n",
       "\n",
       "    .dataframe tbody tr th {\n",
       "        vertical-align: top;\n",
       "    }\n",
       "\n",
       "    .dataframe thead th {\n",
       "        text-align: right;\n",
       "    }\n",
       "</style>\n",
       "<table border=\"1\" class=\"dataframe\">\n",
       "  <thead>\n",
       "    <tr style=\"text-align: right;\">\n",
       "      <th></th>\n",
       "      <th>title</th>\n",
       "      <th>stats</th>\n",
       "      <th>tags</th>\n",
       "    </tr>\n",
       "  </thead>\n",
       "  <tbody>\n",
       "    <tr>\n",
       "      <th>0</th>\n",
       "      <td>Is py-datatable compatible with Dask?</td>\n",
       "      <td>0 votes\\n0 answers\\n13 views</td>\n",
       "      <td>dask\\npy-datatable</td>\n",
       "    </tr>\n",
       "    <tr>\n",
       "      <th>1</th>\n",
       "      <td>Dask (delayed) vs pandas/function returns</td>\n",
       "      <td>0 votes\\n0 answers\\n14 views</td>\n",
       "      <td>pandas\\ndask</td>\n",
       "    </tr>\n",
       "    <tr>\n",
       "      <th>2</th>\n",
       "      <td>What is the most efficient way to access large...</td>\n",
       "      <td>0 votes\\n0 answers\\n12 views</td>\n",
       "      <td>python-3.x\\ndask</td>\n",
       "    </tr>\n",
       "    <tr>\n",
       "      <th>3</th>\n",
       "      <td>dask/core.py:119: RuntimeWarning: invalid valu...</td>\n",
       "      <td>0 votes\\n0 answers\\n12 views</td>\n",
       "      <td>runtime\\ndask\\ndivide</td>\n",
       "    </tr>\n",
       "    <tr>\n",
       "      <th>4</th>\n",
       "      <td>Dask worker out of memory but I don't know why</td>\n",
       "      <td>0 votes\\n1 answer\\n29 views</td>\n",
       "      <td>python-3.x\\ndask</td>\n",
       "    </tr>\n",
       "  </tbody>\n",
       "</table>\n",
       "</div>"
      ],
      "text/plain": [
       "                                               title  \\\n",
       "0              Is py-datatable compatible with Dask?   \n",
       "1          Dask (delayed) vs pandas/function returns   \n",
       "2  What is the most efficient way to access large...   \n",
       "3  dask/core.py:119: RuntimeWarning: invalid valu...   \n",
       "4     Dask worker out of memory but I don't know why   \n",
       "\n",
       "                          stats                   tags  \n",
       "0  0 votes\\n0 answers\\n13 views     dask\\npy-datatable  \n",
       "1  0 votes\\n0 answers\\n14 views           pandas\\ndask  \n",
       "2  0 votes\\n0 answers\\n12 views       python-3.x\\ndask  \n",
       "3  0 votes\\n0 answers\\n12 views  runtime\\ndask\\ndivide  \n",
       "4   0 votes\\n1 answer\\n29 views       python-3.x\\ndask  "
      ]
     },
     "execution_count": 61,
     "metadata": {},
     "output_type": "execute_result"
    }
   ],
   "source": [
    "df = pd.DataFrame(datas)\n",
    "df.head(5)"
   ]
  },
  {
   "cell_type": "code",
   "execution_count": 63,
   "id": "ed8317a5-7252-4350-bd68-d05c004fbe1b",
   "metadata": {},
   "outputs": [],
   "source": []
  },
  {
   "cell_type": "code",
   "execution_count": 76,
   "id": "b8defb13-3deb-4fed-9d8e-6cb744937ab1",
   "metadata": {},
   "outputs": [
    {
     "data": {
      "text/plain": [
       "['0', '0', '13']"
      ]
     },
     "execution_count": 76,
     "metadata": {},
     "output_type": "execute_result"
    }
   ],
   "source": [
    "# get only numbers\n",
    "stats_test = re.findall(\n",
    "    r\"\\d+\", q1.find(\".s-post-summary--stats\", first=True).text\n",
    ")\n",
    "stats_test"
   ]
  },
  {
   "cell_type": "code",
   "execution_count": 81,
   "id": "2183a685-934c-4008-8ce0-03c497ebac17",
   "metadata": {},
   "outputs": [
    {
     "data": {
      "text/plain": [
       "['dask', 'py-datatable']"
      ]
     },
     "execution_count": 81,
     "metadata": {},
     "output_type": "execute_result"
    }
   ],
   "source": [
    "q1.find(\".s-post-summary--meta-tags\", first=True).text.split(\"\\n\")"
   ]
  },
  {
   "cell_type": "code",
   "execution_count": 101,
   "id": "bbf85c45-9dae-4372-888f-ad74276da855",
   "metadata": {},
   "outputs": [
    {
     "data": {
      "text/plain": [
       "['0', '0', '13']"
      ]
     },
     "execution_count": 101,
     "metadata": {},
     "output_type": "execute_result"
    }
   ],
   "source": [
    "re.findall(\n",
    "    r\"\\d+\", q1.find(\".s-post-summary--stats\", first=True).text\n",
    ")"
   ]
  },
  {
   "cell_type": "code",
   "execution_count": null,
   "id": "66e3e329-0ca2-4deb-a81c-6c6481e25e48",
   "metadata": {},
   "outputs": [],
   "source": []
  },
  {
   "cell_type": "code",
   "execution_count": 108,
   "id": "edb0251e-0f03-4cb5-a2f2-b7aada3f9a08",
   "metadata": {},
   "outputs": [],
   "source": [
    "# function that will clean the scraped data\n",
    "def clean_scraped_data(text, keyname=None):\n",
    "    if keyname == \"stats\":\n",
    "        text_strings = re.findall(r\"\\d+\", text)\n",
    "        \n",
    "        try:\n",
    "            text =[int(s) for s in text_strings]\n",
    "        except ValueError:\n",
    "            text =[int(re.sub(\"k\", \"000\", s)) for s in text_strings]\n",
    "\n",
    "    elif keyname == \"tags\":\n",
    "        return text.split(\"\\n\")\n",
    "    return text"
   ]
  },
  {
   "cell_type": "code",
   "execution_count": 109,
   "id": "23bd218b-7ab3-420f-ad76-eefc0c835b81",
   "metadata": {},
   "outputs": [],
   "source": [
    "datas = []\n",
    "\n",
    "for q_el in questions:\n",
    "    q_data = {}\n",
    "    for k, v in key_class_dict.items():\n",
    "        q_data[k] = clean_scraped_data(q_el.find(v, first=True).text, k)\n",
    "    datas.append(q_data)"
   ]
  },
  {
   "cell_type": "code",
   "execution_count": 111,
   "id": "8258c228-c2f4-4841-997f-84f44755fe94",
   "metadata": {},
   "outputs": [],
   "source": [
    "# df = pd.DataFrame(datas)\n",
    "# df.head()\n"
   ]
  },
  {
   "cell_type": "code",
   "execution_count": null,
   "id": "f4cf3bb5-97c7-47ba-affd-6e4e46033467",
   "metadata": {},
   "outputs": [],
   "source": []
  },
  {
   "cell_type": "code",
   "execution_count": 160,
   "id": "26ea6fc0-74da-4c51-ab04-975ac51aed31",
   "metadata": {},
   "outputs": [],
   "source": [
    "# define function that will parse a single page\n",
    "def extract_url_and_parse_html(url):\n",
    "    r = requests.get(url)\n",
    "    if r.status_code not in range(200, 299):\n",
    "        return []\n",
    "    \n",
    "    html = HTML(html=r.text)\n",
    "        \n",
    "    questions = html.find(\".s-post-summary\")\n",
    "    \n",
    "    key_class_dict = {\"title\": \".s-post-summary--content-title\" ,\n",
    "                  \"stats\": \".s-post-summary--stats\",\n",
    "                  \"tags\": \".s-post-summary--meta-tags\"}\n",
    "\n",
    "    datas = []\n",
    "\n",
    "    for q_el in questions:\n",
    "        q_data = {}\n",
    "        for k, v in key_class_dict.items():\n",
    "            q_data[k] = clean_scraped_data(q_el.find(v, first=True).text, k)\n",
    "        \n",
    "        q_data[\"vote\"] = q_data[\"stats\"][0]\n",
    "        q_data[\"answer\"] = q_data[\"stats\"][1]\n",
    "        q_data[\"view\"] = q_data[\"stats\"][2]\n",
    "        datas.append(q_data)\n",
    "    return datas"
   ]
  },
  {
   "cell_type": "code",
   "execution_count": 121,
   "id": "f5a32139-e7b2-4a59-8a99-f4f4e9c87940",
   "metadata": {},
   "outputs": [],
   "source": [
    "def scrape_tag(tag=\"python\", query_filter=\"Newest\", max_pages=10, pagesize=100):\n",
    "    base_url = \"https://stackoverflow.com/questions/tagged/\"\n",
    "    datas_page = []\n",
    "    for p in range(max_pages):\n",
    "        page_num = p + 1\n",
    "        url = f\"{base_url}{tag}?tab={query_filter}&page={page_num}&pagesize={pagesize}\"\n",
    "        datas_page += extract_url_and_parse_html(url)\n",
    "        time.sleep(1.2) #need between requests.\n",
    "    return datas_page"
   ]
  },
  {
   "cell_type": "code",
   "execution_count": 114,
   "id": "e66175b1-6d1f-4fe5-9a91-afbb8d0b56bf",
   "metadata": {},
   "outputs": [
    {
     "name": "stdout",
     "output_type": "stream",
     "text": [
      "CPU times: user 2.53 s, sys: 99.2 ms, total: 2.63 s\n",
      "Wall time: 16.3 s\n"
     ]
    }
   ],
   "source": [
    "%%time\n",
    "seq = scrape_tag(max_pages=10)\n"
   ]
  },
  {
   "cell_type": "code",
   "execution_count": 116,
   "id": "89590d8b-59fd-42b0-a3af-8561a1a90d27",
   "metadata": {},
   "outputs": [
    {
     "data": {
      "text/plain": [
       "500"
      ]
     },
     "execution_count": 116,
     "metadata": {},
     "output_type": "execute_result"
    }
   ],
   "source": [
    "len(seq)"
   ]
  },
  {
   "cell_type": "code",
   "execution_count": 122,
   "id": "c922aaef-752a-4782-bc46-b5aeb02c5572",
   "metadata": {},
   "outputs": [],
   "source": [
    "t = scrape_tag(max_pages=1)"
   ]
  },
  {
   "cell_type": "code",
   "execution_count": 117,
   "id": "fb07b10a-2939-4ef3-87a2-5f486e29b814",
   "metadata": {},
   "outputs": [
    {
     "data": {
      "text/html": [
       "<div>\n",
       "<style scoped>\n",
       "    .dataframe tbody tr th:only-of-type {\n",
       "        vertical-align: middle;\n",
       "    }\n",
       "\n",
       "    .dataframe tbody tr th {\n",
       "        vertical-align: top;\n",
       "    }\n",
       "\n",
       "    .dataframe thead th {\n",
       "        text-align: right;\n",
       "    }\n",
       "</style>\n",
       "<table border=\"1\" class=\"dataframe\">\n",
       "  <thead>\n",
       "    <tr style=\"text-align: right;\">\n",
       "      <th></th>\n",
       "      <th>title</th>\n",
       "      <th>stats</th>\n",
       "      <th>tags</th>\n",
       "    </tr>\n",
       "  </thead>\n",
       "  <tbody>\n",
       "    <tr>\n",
       "      <th>0</th>\n",
       "      <td>Pandas Expanding Rows According to the Condition</td>\n",
       "      <td>[0, 0, 6]</td>\n",
       "      <td>[python, pandas, dataframe]</td>\n",
       "    </tr>\n",
       "    <tr>\n",
       "      <th>1</th>\n",
       "      <td>SSH to remote system and run python script and...</td>\n",
       "      <td>[0, 0, 6]</td>\n",
       "      <td>[python, python-3.x, ssh, remote-access, scp]</td>\n",
       "    </tr>\n",
       "    <tr>\n",
       "      <th>2</th>\n",
       "      <td>Docker-Django-Nginx problem with http/https</td>\n",
       "      <td>[0, 0, 4]</td>\n",
       "      <td>[python, docker, http, nginx, https]</td>\n",
       "    </tr>\n",
       "    <tr>\n",
       "      <th>3</th>\n",
       "      <td>Is list in python is mutable? [duplicate]</td>\n",
       "      <td>[4, 0, 17]</td>\n",
       "      <td>[python]</td>\n",
       "    </tr>\n",
       "    <tr>\n",
       "      <th>4</th>\n",
       "      <td>How to sort column wise based on custom values...</td>\n",
       "      <td>[0, 0, 10]</td>\n",
       "      <td>[python, pandas, sorting, columnsorting]</td>\n",
       "    </tr>\n",
       "  </tbody>\n",
       "</table>\n",
       "</div>"
      ],
      "text/plain": [
       "                                               title       stats  \\\n",
       "0   Pandas Expanding Rows According to the Condition   [0, 0, 6]   \n",
       "1  SSH to remote system and run python script and...   [0, 0, 6]   \n",
       "2        Docker-Django-Nginx problem with http/https   [0, 0, 4]   \n",
       "3          Is list in python is mutable? [duplicate]  [4, 0, 17]   \n",
       "4  How to sort column wise based on custom values...  [0, 0, 10]   \n",
       "\n",
       "                                            tags  \n",
       "0                    [python, pandas, dataframe]  \n",
       "1  [python, python-3.x, ssh, remote-access, scp]  \n",
       "2           [python, docker, http, nginx, https]  \n",
       "3                                       [python]  \n",
       "4       [python, pandas, sorting, columnsorting]  "
      ]
     },
     "execution_count": 117,
     "metadata": {},
     "output_type": "execute_result"
    }
   ],
   "source": [
    "df = pd.DataFrame(seq)\n",
    "df.head()"
   ]
  },
  {
   "cell_type": "code",
   "execution_count": 118,
   "id": "7ff6e847-03df-4c7c-9be7-cc2ad8ff698e",
   "metadata": {},
   "outputs": [],
   "source": [
    "import dask.dataframe as dd"
   ]
  },
  {
   "cell_type": "code",
   "execution_count": 165,
   "id": "aacf75d9-7a07-4c62-9e2d-96fe4dc21007",
   "metadata": {},
   "outputs": [],
   "source": [
    "def scrape_single_tag(page):\n",
    "    base_url = \"https://stackoverflow.com/questions/tagged/\"\n",
    "    tag=\"dask\"\n",
    "    query_filter=\"Newest\"\n",
    "    pagesize=100\n",
    "    datas_page = []\n",
    "\n",
    "    url = f\"{base_url}{tag}?tab={query_filter}&page={page}&pagesize={pagesize}\"\n",
    "    datas_page += extract_url_and_parse_html(url)\n",
    "    #time.sleep(1.2) #need between requests.\n",
    "    return pd.DataFrame(datas_page)"
   ]
  },
  {
   "cell_type": "code",
   "execution_count": 131,
   "id": "9c18010e-dfd4-41cf-80a3-c28c2410477f",
   "metadata": {},
   "outputs": [],
   "source": [
    "from dask.distributed import Client, wait"
   ]
  },
  {
   "cell_type": "code",
   "execution_count": 128,
   "id": "ae9c3f40-7e99-45d1-a5c3-f5e4437251d9",
   "metadata": {},
   "outputs": [],
   "source": [
    "client = Client()"
   ]
  },
  {
   "cell_type": "code",
   "execution_count": 166,
   "id": "3011db51-3453-45ae-acfb-bb8707f99b51",
   "metadata": {},
   "outputs": [
    {
     "name": "stdout",
     "output_type": "stream",
     "text": [
      "CPU times: user 103 ms, sys: 15.6 ms, total: 119 ms\n",
      "Wall time: 949 ms\n"
     ]
    },
    {
     "data": {
      "text/plain": [
       "DoneAndNotDoneFutures(done={<Future: finished, type: pandas.core.frame.DataFrame, key: scrape_single_tag-3976a22be77c2b9019662479a556ec31>, <Future: finished, type: pandas.core.frame.DataFrame, key: scrape_single_tag-5643478c4cc454ce1bb26c1794e3b7a6>, <Future: finished, type: pandas.core.frame.DataFrame, key: scrape_single_tag-ee10f11f1d0cc02e7a803faa2a949887>, <Future: finished, type: pandas.core.frame.DataFrame, key: scrape_single_tag-323dcf8e792172f9d0e7007df5cd00a2>, <Future: finished, type: pandas.core.frame.DataFrame, key: scrape_single_tag-0f4d46093a47c5144bf8a556170b9309>, <Future: finished, type: pandas.core.frame.DataFrame, key: scrape_single_tag-eaed47cf61308a314802180268cd2178>, <Future: finished, type: pandas.core.frame.DataFrame, key: scrape_single_tag-3afd382317d5656b3dad699c11016519>, <Future: finished, type: pandas.core.frame.DataFrame, key: scrape_single_tag-af48af8b5918ee794cc81fba5ff193d4>, <Future: finished, type: pandas.core.frame.DataFrame, key: scrape_single_tag-9546d0f6b603b7eed9792b393009782a>, <Future: finished, type: pandas.core.frame.DataFrame, key: scrape_single_tag-19e7e83096c0736547eb9c2ae7b381e7>}, not_done=set())"
      ]
     },
     "execution_count": 166,
     "metadata": {},
     "output_type": "execute_result"
    }
   ],
   "source": [
    "%%time\n",
    "t = client.map(scrape_single_tag, range(10))\n",
    "wait(t)"
   ]
  },
  {
   "cell_type": "code",
   "execution_count": 167,
   "id": "5e30cc79-f0fa-4bc9-8e41-7318576fd8fa",
   "metadata": {},
   "outputs": [],
   "source": [
    "p1 = t[0].result()"
   ]
  },
  {
   "cell_type": "code",
   "execution_count": 168,
   "id": "8e4ca4c6-680a-4e69-ae1f-6b4902d1ae4f",
   "metadata": {},
   "outputs": [
    {
     "data": {
      "text/html": [
       "<div>\n",
       "<style scoped>\n",
       "    .dataframe tbody tr th:only-of-type {\n",
       "        vertical-align: middle;\n",
       "    }\n",
       "\n",
       "    .dataframe tbody tr th {\n",
       "        vertical-align: top;\n",
       "    }\n",
       "\n",
       "    .dataframe thead th {\n",
       "        text-align: right;\n",
       "    }\n",
       "</style>\n",
       "<table border=\"1\" class=\"dataframe\">\n",
       "  <thead>\n",
       "    <tr style=\"text-align: right;\">\n",
       "      <th></th>\n",
       "      <th>title</th>\n",
       "      <th>stats</th>\n",
       "      <th>tags</th>\n",
       "      <th>vote</th>\n",
       "      <th>answer</th>\n",
       "      <th>view</th>\n",
       "    </tr>\n",
       "  </thead>\n",
       "  <tbody>\n",
       "    <tr>\n",
       "      <th>0</th>\n",
       "      <td>Is py-datatable compatible with Dask?</td>\n",
       "      <td>[0, 0, 16]</td>\n",
       "      <td>[dask, py-datatable]</td>\n",
       "      <td>0</td>\n",
       "      <td>0</td>\n",
       "      <td>16</td>\n",
       "    </tr>\n",
       "    <tr>\n",
       "      <th>1</th>\n",
       "      <td>Dask (delayed) vs pandas/function returns</td>\n",
       "      <td>[0, 0, 16]</td>\n",
       "      <td>[pandas, dask]</td>\n",
       "      <td>0</td>\n",
       "      <td>0</td>\n",
       "      <td>16</td>\n",
       "    </tr>\n",
       "    <tr>\n",
       "      <th>2</th>\n",
       "      <td>What is the most efficient way to access large...</td>\n",
       "      <td>[0, 0, 12]</td>\n",
       "      <td>[python-3.x, dask]</td>\n",
       "      <td>0</td>\n",
       "      <td>0</td>\n",
       "      <td>12</td>\n",
       "    </tr>\n",
       "    <tr>\n",
       "      <th>3</th>\n",
       "      <td>dask/core.py:119: RuntimeWarning: invalid valu...</td>\n",
       "      <td>[0, 0, 12]</td>\n",
       "      <td>[runtime, dask, divide]</td>\n",
       "      <td>0</td>\n",
       "      <td>0</td>\n",
       "      <td>12</td>\n",
       "    </tr>\n",
       "    <tr>\n",
       "      <th>4</th>\n",
       "      <td>Dask worker out of memory but I don't know why</td>\n",
       "      <td>[0, 1, 29]</td>\n",
       "      <td>[python-3.x, dask]</td>\n",
       "      <td>0</td>\n",
       "      <td>1</td>\n",
       "      <td>29</td>\n",
       "    </tr>\n",
       "  </tbody>\n",
       "</table>\n",
       "</div>"
      ],
      "text/plain": [
       "                                               title       stats  \\\n",
       "0              Is py-datatable compatible with Dask?  [0, 0, 16]   \n",
       "1          Dask (delayed) vs pandas/function returns  [0, 0, 16]   \n",
       "2  What is the most efficient way to access large...  [0, 0, 12]   \n",
       "3  dask/core.py:119: RuntimeWarning: invalid valu...  [0, 0, 12]   \n",
       "4     Dask worker out of memory but I don't know why  [0, 1, 29]   \n",
       "\n",
       "                      tags  vote  answer  view  \n",
       "0     [dask, py-datatable]     0       0    16  \n",
       "1           [pandas, dask]     0       0    16  \n",
       "2       [python-3.x, dask]     0       0    12  \n",
       "3  [runtime, dask, divide]     0       0    12  \n",
       "4       [python-3.x, dask]     0       1    29  "
      ]
     },
     "execution_count": 168,
     "metadata": {},
     "output_type": "execute_result"
    }
   ],
   "source": [
    "p1.head()"
   ]
  },
  {
   "cell_type": "code",
   "execution_count": 172,
   "id": "709a940b-c91e-4c23-a0e9-b1ac4c93955d",
   "metadata": {},
   "outputs": [
    {
     "data": {
      "text/html": [
       "<strong>Future: scrape_single_tag</strong>\n",
       "<span style=\"color: var(--jp-ui-font-color2, gray)\"> status: </span>\n",
       "\n",
       "\n",
       "<span style=\"color: var(--jp-error-color0, black)\">finished</span>,\n",
       "\n",
       "\n",
       "\n",
       "<span style=\"color: var(--jp-ui-font-color2, gray)\"> type:</span> pandas.core.frame.DataFrame,\n",
       "\n",
       "\n",
       "<span style=\"color: var(--jp-ui-font-color2, gray)\"> key:</span> scrape_single_tag-0f4d46093a47c5144bf8a556170b9309"
      ],
      "text/plain": [
       "<Future: finished, type: pandas.core.frame.DataFrame, key: scrape_single_tag-0f4d46093a47c5144bf8a556170b9309>"
      ]
     },
     "execution_count": 172,
     "metadata": {},
     "output_type": "execute_result"
    }
   ],
   "source": [
    "t[0].result()[]"
   ]
  },
  {
   "cell_type": "code",
   "execution_count": 188,
   "id": "a8822fad-fc37-4ddb-81f4-8dcea9d9c5f3",
   "metadata": {},
   "outputs": [],
   "source": [
    "del t15"
   ]
  },
  {
   "cell_type": "code",
   "execution_count": 169,
   "id": "a50089dc-20ca-44d7-9c45-c3fd2a7814d3",
   "metadata": {},
   "outputs": [],
   "source": [
    "from dask.distributed import as_completed"
   ]
  },
  {
   "cell_type": "code",
   "execution_count": 189,
   "id": "e1d08e82-47eb-4b55-9a40-a5cd11dddf5b",
   "metadata": {},
   "outputs": [
    {
     "name": "stdout",
     "output_type": "stream",
     "text": [
      "CPU times: user 35.5 ms, sys: 7.28 ms, total: 42.8 ms\n",
      "Wall time: 51.7 ms\n"
     ]
    },
    {
     "data": {
      "text/plain": [
       "105874"
      ]
     },
     "execution_count": 189,
     "metadata": {},
     "output_type": "execute_result"
    }
   ],
   "source": [
    "%%time\n",
    "t15 = client.map(scrape_single_tag, range(15))\n",
    "\n",
    "tot_views= 0 \n",
    "\n",
    "for future in as_completed(t15):\n",
    "    test = future.result()['view']\n",
    "    tot_views += test.sum()\n",
    "\n",
    "tot_views"
   ]
  },
  {
   "cell_type": "code",
   "execution_count": 173,
   "id": "cda21277-be84-45fb-8fcf-deae96e38421",
   "metadata": {},
   "outputs": [
    {
     "data": {
      "text/plain": [
       "[<Future: finished, type: pandas.core.frame.DataFrame, key: scrape_single_tag-0f4d46093a47c5144bf8a556170b9309>,\n",
       " <Future: finished, type: pandas.core.frame.DataFrame, key: scrape_single_tag-eaed47cf61308a314802180268cd2178>,\n",
       " <Future: finished, type: pandas.core.frame.DataFrame, key: scrape_single_tag-af48af8b5918ee794cc81fba5ff193d4>,\n",
       " <Future: finished, type: pandas.core.frame.DataFrame, key: scrape_single_tag-3976a22be77c2b9019662479a556ec31>,\n",
       " <Future: finished, type: pandas.core.frame.DataFrame, key: scrape_single_tag-ee10f11f1d0cc02e7a803faa2a949887>,\n",
       " <Future: finished, type: pandas.core.frame.DataFrame, key: scrape_single_tag-323dcf8e792172f9d0e7007df5cd00a2>,\n",
       " <Future: finished, type: pandas.core.frame.DataFrame, key: scrape_single_tag-9546d0f6b603b7eed9792b393009782a>,\n",
       " <Future: finished, type: pandas.core.frame.DataFrame, key: scrape_single_tag-5643478c4cc454ce1bb26c1794e3b7a6>,\n",
       " <Future: finished, type: pandas.core.frame.DataFrame, key: scrape_single_tag-19e7e83096c0736547eb9c2ae7b381e7>,\n",
       " <Future: finished, type: pandas.core.frame.DataFrame, key: scrape_single_tag-3afd382317d5656b3dad699c11016519>]"
      ]
     },
     "execution_count": 173,
     "metadata": {},
     "output_type": "execute_result"
    }
   ],
   "source": [
    "t"
   ]
  },
  {
   "cell_type": "code",
   "execution_count": 183,
   "id": "1e92d0ea-339b-4651-9aeb-57fc274cba8b",
   "metadata": {},
   "outputs": [],
   "source": [
    "test_del = dd.from_delayed(t15)"
   ]
  },
  {
   "cell_type": "code",
   "execution_count": 184,
   "id": "e53622c1-95dd-4018-aba1-8025fb61dd3e",
   "metadata": {},
   "outputs": [
    {
     "data": {
      "text/html": [
       "<div><strong>Dask DataFrame Structure:</strong></div>\n",
       "<div>\n",
       "<style scoped>\n",
       "    .dataframe tbody tr th:only-of-type {\n",
       "        vertical-align: middle;\n",
       "    }\n",
       "\n",
       "    .dataframe tbody tr th {\n",
       "        vertical-align: top;\n",
       "    }\n",
       "\n",
       "    .dataframe thead th {\n",
       "        text-align: right;\n",
       "    }\n",
       "</style>\n",
       "<table border=\"1\" class=\"dataframe\">\n",
       "  <thead>\n",
       "    <tr style=\"text-align: right;\">\n",
       "      <th></th>\n",
       "      <th>title</th>\n",
       "      <th>stats</th>\n",
       "      <th>tags</th>\n",
       "      <th>vote</th>\n",
       "      <th>answer</th>\n",
       "      <th>view</th>\n",
       "    </tr>\n",
       "    <tr>\n",
       "      <th>npartitions=15</th>\n",
       "      <th></th>\n",
       "      <th></th>\n",
       "      <th></th>\n",
       "      <th></th>\n",
       "      <th></th>\n",
       "      <th></th>\n",
       "    </tr>\n",
       "  </thead>\n",
       "  <tbody>\n",
       "    <tr>\n",
       "      <th></th>\n",
       "      <td>object</td>\n",
       "      <td>object</td>\n",
       "      <td>object</td>\n",
       "      <td>int64</td>\n",
       "      <td>int64</td>\n",
       "      <td>int64</td>\n",
       "    </tr>\n",
       "    <tr>\n",
       "      <th></th>\n",
       "      <td>...</td>\n",
       "      <td>...</td>\n",
       "      <td>...</td>\n",
       "      <td>...</td>\n",
       "      <td>...</td>\n",
       "      <td>...</td>\n",
       "    </tr>\n",
       "    <tr>\n",
       "      <th>...</th>\n",
       "      <td>...</td>\n",
       "      <td>...</td>\n",
       "      <td>...</td>\n",
       "      <td>...</td>\n",
       "      <td>...</td>\n",
       "      <td>...</td>\n",
       "    </tr>\n",
       "    <tr>\n",
       "      <th></th>\n",
       "      <td>...</td>\n",
       "      <td>...</td>\n",
       "      <td>...</td>\n",
       "      <td>...</td>\n",
       "      <td>...</td>\n",
       "      <td>...</td>\n",
       "    </tr>\n",
       "    <tr>\n",
       "      <th></th>\n",
       "      <td>...</td>\n",
       "      <td>...</td>\n",
       "      <td>...</td>\n",
       "      <td>...</td>\n",
       "      <td>...</td>\n",
       "      <td>...</td>\n",
       "    </tr>\n",
       "  </tbody>\n",
       "</table>\n",
       "</div>\n",
       "<div>Dask Name: from-delayed, 16 graph layers</div>"
      ],
      "text/plain": [
       "Dask DataFrame Structure:\n",
       "                 title   stats    tags   vote answer   view\n",
       "npartitions=15                                             \n",
       "                object  object  object  int64  int64  int64\n",
       "                   ...     ...     ...    ...    ...    ...\n",
       "...                ...     ...     ...    ...    ...    ...\n",
       "                   ...     ...     ...    ...    ...    ...\n",
       "                   ...     ...     ...    ...    ...    ...\n",
       "Dask Name: from-delayed, 16 graph layers"
      ]
     },
     "execution_count": 184,
     "metadata": {},
     "output_type": "execute_result"
    }
   ],
   "source": [
    "test_del"
   ]
  },
  {
   "cell_type": "code",
   "execution_count": 185,
   "id": "0e25d438-200b-4291-ba4e-470f32596ce1",
   "metadata": {},
   "outputs": [
    {
     "data": {
      "text/plain": [
       "dd.Scalar<series-..., dtype=int64>"
      ]
     },
     "execution_count": 185,
     "metadata": {},
     "output_type": "execute_result"
    }
   ],
   "source": [
    "test_del['view'].sum()"
   ]
  },
  {
   "cell_type": "code",
   "execution_count": 186,
   "id": "9f0e5f6f-c3e2-4a44-9199-fc95bf26a512",
   "metadata": {},
   "outputs": [
    {
     "name": "stdout",
     "output_type": "stream",
     "text": [
      "CPU times: user 37.5 ms, sys: 4.54 ms, total: 42.1 ms\n",
      "Wall time: 49 ms\n"
     ]
    },
    {
     "data": {
      "text/plain": [
       "105874"
      ]
     },
     "execution_count": 186,
     "metadata": {},
     "output_type": "execute_result"
    }
   ],
   "source": [
    "%%time\n",
    "test_del['view'].sum().compute()"
   ]
  },
  {
   "cell_type": "code",
   "execution_count": null,
   "id": "607f9a04-349a-41b2-bf67-c378dbd03de4",
   "metadata": {},
   "outputs": [],
   "source": []
  }
 ],
 "metadata": {
  "kernelspec": {
   "display_name": "Python 3 (ipykernel)",
   "language": "python",
   "name": "python3"
  },
  "language_info": {
   "codemirror_mode": {
    "name": "ipython",
    "version": 3
   },
   "file_extension": ".py",
   "mimetype": "text/x-python",
   "name": "python",
   "nbconvert_exporter": "python",
   "pygments_lexer": "ipython3",
   "version": "3.10.8"
  }
 },
 "nbformat": 4,
 "nbformat_minor": 5
}
