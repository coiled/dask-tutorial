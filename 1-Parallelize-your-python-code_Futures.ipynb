{
 "cells": [
  {
   "cell_type": "code",
   "execution_count": 1,
   "id": "5a749874-4920-4b70-b709-832043039c33",
   "metadata": {},
   "outputs": [],
   "source": [
    "import re\n",
    "import time\n",
    "\n",
    "import pandas as pd\n",
    "import requests\n",
    "from requests_html import HTML"
   ]
  },
  {
   "cell_type": "markdown",
   "id": "838fb5da-a9ee-4235-84f4-c92258b78154",
   "metadata": {},
   "source": [
    "Except for the number of pages to scrape and the size of them. The code is pretty much ready, we need to polish \n",
    "it and write the narrative around the examples. \n",
    "\n",
    "TODO:\n",
    "\n",
    "    - Write intro\n",
    "    - Recap futures api and delayed shortly\n",
    "    - Introduce the \"SO problem\"\n",
    "    - Write text around how to solve it serialy\n",
    "    - Write text around multiple ways to parallelize the workflow\n",
    "    - Write text around as_completed, vs dask dataframe example\n",
    "    - Select some parts to be exercises. \n",
    "     "
   ]
  },
  {
   "cell_type": "code",
   "execution_count": null,
   "id": "023fadf1-3c8a-4b90-a007-f9a5fb337537",
   "metadata": {},
   "outputs": [],
   "source": []
  },
  {
   "cell_type": "code",
   "execution_count": null,
   "id": "c19431d0-8e9a-42f2-8ed7-30994ed6986a",
   "metadata": {},
   "outputs": [],
   "source": []
  },
  {
   "cell_type": "markdown",
   "id": "22dc3283-1e19-4864-8528-0409ae751fd2",
   "metadata": {},
   "source": [
    "Note:\n",
    "Throttling limitation\n",
    "https://api.stackexchange.com/docs/throttle\n",
    "\n",
    "If an application does not have an access_token, then the application shares an IP based quota with all other applications on that IP. This quota is based on the key being passed by the applications; it is the max of the daily request limit for the applications involved, which by default is 10,000. This quota scheme is essentially unchanged from earlier versions of the API."
   ]
  },
  {
   "cell_type": "code",
   "execution_count": null,
   "id": "7dc749f0-c7ea-44bf-aa9c-a8569d742b12",
   "metadata": {},
   "outputs": [],
   "source": []
  },
  {
   "cell_type": "code",
   "execution_count": null,
   "id": "ecb88c30-e6ea-426b-9322-bf9470de05ea",
   "metadata": {},
   "outputs": [],
   "source": []
  },
  {
   "cell_type": "code",
   "execution_count": 4,
   "id": "45c8a6a7-e49f-4d93-83b6-3e312271e0c4",
   "metadata": {},
   "outputs": [],
   "source": [
    "# r = requests.get(url)\n",
    "# html_str = r.text\n",
    "# html = HTML(html=html_str)"
   ]
  },
  {
   "cell_type": "markdown",
   "id": "eea631c7-76b1-4b26-aaee-ef42f2f472ba",
   "metadata": {},
   "source": [
    "`.s-post-summary`: Base parent container for a post summary\n",
    "\n",
    "https://stackoverflow.design/product/components/post-summary/"
   ]
  },
  {
   "cell_type": "code",
   "execution_count": 5,
   "id": "edb0251e-0f03-4cb5-a2f2-b7aada3f9a08",
   "metadata": {},
   "outputs": [],
   "source": [
    "# @dask.delayed\n",
    "def clean_scraped_data(text, keyname=None):\n",
    "    \"\"\"\n",
    "    Cleans the scraped data once in text format\n",
    "    \"\"\"\n",
    "    if keyname == \"stats\":\n",
    "        text_strings = re.findall(r\"\\d+\", text)\n",
    "        \n",
    "        try:\n",
    "            text =[int(s) for s in text_strings]\n",
    "        except ValueError:\n",
    "            text =[int(re.sub(\"k\", \"000\", s)) for s in text_strings]\n",
    "\n",
    "    elif keyname == \"tags\":\n",
    "        return text.split(\"\\n\")\n",
    "    return text"
   ]
  },
  {
   "cell_type": "code",
   "execution_count": null,
   "id": "f4cf3bb5-97c7-47ba-affd-6e4e46033467",
   "metadata": {},
   "outputs": [],
   "source": []
  },
  {
   "cell_type": "code",
   "execution_count": 6,
   "id": "26ea6fc0-74da-4c51-ab04-975ac51aed31",
   "metadata": {},
   "outputs": [],
   "source": [
    "# @dask.delayed\n",
    "def extract_url_and_parse_html(url):\n",
    "    \"\"\"\n",
    "    Given a SO url gets questions summary and cleans data.\n",
    "    \n",
    "    see also: clean_scraped_data\n",
    "    \"\"\"\n",
    "    # function that will parse a single page\n",
    "    r = requests.get(url)\n",
    "    \n",
    "    if r.status_code not in range(200, 299):\n",
    "        return []\n",
    "    \n",
    "    #get html\n",
    "    html = HTML(html=r.text)\n",
    "        \n",
    "    questions = html.find(\".s-post-summary\")\n",
    "    \n",
    "    key_class_dict = {\"title\": \".s-post-summary--content-title\" ,\n",
    "                  \"stats\": \".s-post-summary--stats\",\n",
    "                  \"tags\": \".s-post-summary--meta-tags\"}\n",
    "\n",
    "    datas = []\n",
    "\n",
    "    for q_el in questions:\n",
    "        q_data = {}\n",
    "        for k, v in key_class_dict.items():\n",
    "            q_data[k] = clean_scraped_data(q_el.find(v, first=True).text, k)\n",
    "        \n",
    "        q_data[\"vote\"] = q_data[\"stats\"][0]\n",
    "        q_data[\"answer\"] = q_data[\"stats\"][1]\n",
    "        q_data[\"view\"] = q_data[\"stats\"][2]\n",
    "        datas.append(q_data)\n",
    "    return datas"
   ]
  },
  {
   "cell_type": "code",
   "execution_count": null,
   "id": "93ffc8f7-93ac-4d07-b49c-6b86b3eaf667",
   "metadata": {},
   "outputs": [],
   "source": []
  },
  {
   "cell_type": "code",
   "execution_count": 11,
   "id": "f5a32139-e7b2-4a59-8a99-f4f4e9c87940",
   "metadata": {},
   "outputs": [],
   "source": [
    "# def scrape_tag(tag=\"python\", query_filter=\"Newest\", max_pages=100, pagesize=50):\n",
    "#     base_url = \"https://stackoverflow.com/questions/tagged/\"\n",
    "#     datas_page = []\n",
    "#     for p in range(max_pages):\n",
    "#         page_num = p + 1\n",
    "#         url = f\"{base_url}{tag}?tab={query_filter}&page={page_num}&pagesize={pagesize}\"\n",
    "#         datas_page += extract_url_and_parse_html(url)\n",
    "#         #time.sleep(1.2) #need between requests.\n",
    "#     return datas_page"
   ]
  },
  {
   "cell_type": "code",
   "execution_count": 7,
   "id": "ba78c46b-12ed-4999-9439-9421cbea9dcc",
   "metadata": {},
   "outputs": [],
   "source": [
    "def scrape_tag(page_num, tag=\"python\", query_filter=\"Newest\", pagesize=50):\n",
    "    base_url = \"https://stackoverflow.com/questions/tagged/\"\n",
    "    url = f\"{base_url}{tag}?tab={query_filter}&page={page_num}&pagesize={pagesize}\"\n",
    "    datas_page = extract_url_and_parse_html(url)\n",
    "        #time.sleep(1.2) #need between requests.\n",
    "    return pd.DataFrame(datas_page)"
   ]
  },
  {
   "cell_type": "markdown",
   "id": "1f068969-e119-412a-9f17-98a2e2b642e9",
   "metadata": {},
   "source": [
    "## Sequential"
   ]
  },
  {
   "cell_type": "code",
   "execution_count": 9,
   "id": "da12ab6c-941c-470a-bbe5-9308a9db51a5",
   "metadata": {},
   "outputs": [
    {
     "name": "stdout",
     "output_type": "stream",
     "text": [
      "CPU times: user 2.2 s, sys: 36.6 ms, total: 2.24 s\n",
      "Wall time: 3.94 s\n"
     ]
    }
   ],
   "source": [
    "%%time\n",
    "pd_res = []\n",
    "for page in range(1, 11):\n",
    "    pd_res.append(scrape_tag(page))\n",
    "\n",
    "##pd_res"
   ]
  },
  {
   "cell_type": "markdown",
   "id": "7eda0d13-9896-4c59-827c-fa06264aaae9",
   "metadata": {},
   "source": [
    "## client.submit\n",
    "\n",
    "### NOTE: ADD SOMETHING WITH wait. "
   ]
  },
  {
   "cell_type": "code",
   "execution_count": 11,
   "id": "c58afd08-1eb8-4042-8a34-b9cd309d5477",
   "metadata": {},
   "outputs": [],
   "source": [
    "from dask.distributed import Client\n"
   ]
  },
  {
   "cell_type": "code",
   "execution_count": 12,
   "id": "941c2e63-11ab-4a49-8499-ae239400a55f",
   "metadata": {},
   "outputs": [
    {
     "name": "stderr",
     "output_type": "stream",
     "text": [
      "2022-12-06 15:36:33,980 - distributed.diskutils - INFO - Found stale lock file and directory '/var/folders/1y/ydztfpnd11b6qmvbb8_x56jh0000gn/T/dask-worker-space/worker-0dx8gl4i', purging\n",
      "2022-12-06 15:36:33,980 - distributed.diskutils - INFO - Found stale lock file and directory '/var/folders/1y/ydztfpnd11b6qmvbb8_x56jh0000gn/T/dask-worker-space/worker-7ddj6qvo', purging\n",
      "2022-12-06 15:36:33,981 - distributed.diskutils - INFO - Found stale lock file and directory '/var/folders/1y/ydztfpnd11b6qmvbb8_x56jh0000gn/T/dask-worker-space/worker-2dq1v_qk', purging\n",
      "2022-12-06 15:36:33,982 - distributed.diskutils - INFO - Found stale lock file and directory '/var/folders/1y/ydztfpnd11b6qmvbb8_x56jh0000gn/T/dask-worker-space/worker-m1xmp1he', purging\n"
     ]
    },
    {
     "data": {
      "text/html": [
       "<div>\n",
       "    <div style=\"width: 24px; height: 24px; background-color: #e1e1e1; border: 3px solid #9D9D9D; border-radius: 5px; position: absolute;\"> </div>\n",
       "    <div style=\"margin-left: 48px;\">\n",
       "        <h3 style=\"margin-bottom: 0px;\">Client</h3>\n",
       "        <p style=\"color: #9D9D9D; margin-bottom: 0px;\">Client-abe52c6a-75a5-11ed-84f8-9eae289ce629</p>\n",
       "        <table style=\"width: 100%; text-align: left;\">\n",
       "\n",
       "        <tr>\n",
       "        \n",
       "            <td style=\"text-align: left;\"><strong>Connection method:</strong> Cluster object</td>\n",
       "            <td style=\"text-align: left;\"><strong>Cluster type:</strong> distributed.LocalCluster</td>\n",
       "        \n",
       "        </tr>\n",
       "\n",
       "        \n",
       "            <tr>\n",
       "                <td style=\"text-align: left;\">\n",
       "                    <strong>Dashboard: </strong> <a href=\"http://127.0.0.1:8787/status\" target=\"_blank\">http://127.0.0.1:8787/status</a>\n",
       "                </td>\n",
       "                <td style=\"text-align: left;\"></td>\n",
       "            </tr>\n",
       "        \n",
       "\n",
       "        </table>\n",
       "\n",
       "        \n",
       "            <button style=\"margin-bottom: 12px;\" data-commandlinker-command=\"dask:populate-and-launch-layout\" data-commandlinker-args='{\"url\": \"http://127.0.0.1:8787/status\" }'>\n",
       "                Launch dashboard in JupyterLab\n",
       "            </button>\n",
       "        \n",
       "\n",
       "        \n",
       "            <details>\n",
       "            <summary style=\"margin-bottom: 20px;\"><h3 style=\"display: inline;\">Cluster Info</h3></summary>\n",
       "            <div class=\"jp-RenderedHTMLCommon jp-RenderedHTML jp-mod-trusted jp-OutputArea-output\">\n",
       "    <div style=\"width: 24px; height: 24px; background-color: #e1e1e1; border: 3px solid #9D9D9D; border-radius: 5px; position: absolute;\">\n",
       "    </div>\n",
       "    <div style=\"margin-left: 48px;\">\n",
       "        <h3 style=\"margin-bottom: 0px; margin-top: 0px;\">LocalCluster</h3>\n",
       "        <p style=\"color: #9D9D9D; margin-bottom: 0px;\">b8db337d</p>\n",
       "        <table style=\"width: 100%; text-align: left;\">\n",
       "            <tr>\n",
       "                <td style=\"text-align: left;\">\n",
       "                    <strong>Dashboard:</strong> <a href=\"http://127.0.0.1:8787/status\" target=\"_blank\">http://127.0.0.1:8787/status</a>\n",
       "                </td>\n",
       "                <td style=\"text-align: left;\">\n",
       "                    <strong>Workers:</strong> 4\n",
       "                </td>\n",
       "            </tr>\n",
       "            <tr>\n",
       "                <td style=\"text-align: left;\">\n",
       "                    <strong>Total threads:</strong> 8\n",
       "                </td>\n",
       "                <td style=\"text-align: left;\">\n",
       "                    <strong>Total memory:</strong> 16.00 GiB\n",
       "                </td>\n",
       "            </tr>\n",
       "            \n",
       "            <tr>\n",
       "    <td style=\"text-align: left;\"><strong>Status:</strong> running</td>\n",
       "    <td style=\"text-align: left;\"><strong>Using processes:</strong> True</td>\n",
       "</tr>\n",
       "\n",
       "            \n",
       "        </table>\n",
       "\n",
       "        <details>\n",
       "            <summary style=\"margin-bottom: 20px;\">\n",
       "                <h3 style=\"display: inline;\">Scheduler Info</h3>\n",
       "            </summary>\n",
       "\n",
       "            <div style=\"\">\n",
       "    <div>\n",
       "        <div style=\"width: 24px; height: 24px; background-color: #FFF7E5; border: 3px solid #FF6132; border-radius: 5px; position: absolute;\"> </div>\n",
       "        <div style=\"margin-left: 48px;\">\n",
       "            <h3 style=\"margin-bottom: 0px;\">Scheduler</h3>\n",
       "            <p style=\"color: #9D9D9D; margin-bottom: 0px;\">Scheduler-83d5c5cd-0a1e-442e-b7ef-ae6a9a5e49ae</p>\n",
       "            <table style=\"width: 100%; text-align: left;\">\n",
       "                <tr>\n",
       "                    <td style=\"text-align: left;\">\n",
       "                        <strong>Comm:</strong> tcp://127.0.0.1:61533\n",
       "                    </td>\n",
       "                    <td style=\"text-align: left;\">\n",
       "                        <strong>Workers:</strong> 4\n",
       "                    </td>\n",
       "                </tr>\n",
       "                <tr>\n",
       "                    <td style=\"text-align: left;\">\n",
       "                        <strong>Dashboard:</strong> <a href=\"http://127.0.0.1:8787/status\" target=\"_blank\">http://127.0.0.1:8787/status</a>\n",
       "                    </td>\n",
       "                    <td style=\"text-align: left;\">\n",
       "                        <strong>Total threads:</strong> 8\n",
       "                    </td>\n",
       "                </tr>\n",
       "                <tr>\n",
       "                    <td style=\"text-align: left;\">\n",
       "                        <strong>Started:</strong> Just now\n",
       "                    </td>\n",
       "                    <td style=\"text-align: left;\">\n",
       "                        <strong>Total memory:</strong> 16.00 GiB\n",
       "                    </td>\n",
       "                </tr>\n",
       "            </table>\n",
       "        </div>\n",
       "    </div>\n",
       "\n",
       "    <details style=\"margin-left: 48px;\">\n",
       "        <summary style=\"margin-bottom: 20px;\">\n",
       "            <h3 style=\"display: inline;\">Workers</h3>\n",
       "        </summary>\n",
       "\n",
       "        \n",
       "        <div style=\"margin-bottom: 20px;\">\n",
       "            <div style=\"width: 24px; height: 24px; background-color: #DBF5FF; border: 3px solid #4CC9FF; border-radius: 5px; position: absolute;\"> </div>\n",
       "            <div style=\"margin-left: 48px;\">\n",
       "            <details>\n",
       "                <summary>\n",
       "                    <h4 style=\"margin-bottom: 0px; display: inline;\">Worker: 0</h4>\n",
       "                </summary>\n",
       "                <table style=\"width: 100%; text-align: left;\">\n",
       "                    <tr>\n",
       "                        <td style=\"text-align: left;\">\n",
       "                            <strong>Comm: </strong> tcp://127.0.0.1:61548\n",
       "                        </td>\n",
       "                        <td style=\"text-align: left;\">\n",
       "                            <strong>Total threads: </strong> 2\n",
       "                        </td>\n",
       "                    </tr>\n",
       "                    <tr>\n",
       "                        <td style=\"text-align: left;\">\n",
       "                            <strong>Dashboard: </strong> <a href=\"http://127.0.0.1:61554/status\" target=\"_blank\">http://127.0.0.1:61554/status</a>\n",
       "                        </td>\n",
       "                        <td style=\"text-align: left;\">\n",
       "                            <strong>Memory: </strong> 4.00 GiB\n",
       "                        </td>\n",
       "                    </tr>\n",
       "                    <tr>\n",
       "                        <td style=\"text-align: left;\">\n",
       "                            <strong>Nanny: </strong> tcp://127.0.0.1:61539\n",
       "                        </td>\n",
       "                        <td style=\"text-align: left;\"></td>\n",
       "                    </tr>\n",
       "                    <tr>\n",
       "                        <td colspan=\"2\" style=\"text-align: left;\">\n",
       "                            <strong>Local directory: </strong> /var/folders/1y/ydztfpnd11b6qmvbb8_x56jh0000gn/T/dask-worker-space/worker-1qcf3pom\n",
       "                        </td>\n",
       "                    </tr>\n",
       "\n",
       "                    \n",
       "\n",
       "                    \n",
       "\n",
       "                </table>\n",
       "            </details>\n",
       "            </div>\n",
       "        </div>\n",
       "        \n",
       "        <div style=\"margin-bottom: 20px;\">\n",
       "            <div style=\"width: 24px; height: 24px; background-color: #DBF5FF; border: 3px solid #4CC9FF; border-radius: 5px; position: absolute;\"> </div>\n",
       "            <div style=\"margin-left: 48px;\">\n",
       "            <details>\n",
       "                <summary>\n",
       "                    <h4 style=\"margin-bottom: 0px; display: inline;\">Worker: 1</h4>\n",
       "                </summary>\n",
       "                <table style=\"width: 100%; text-align: left;\">\n",
       "                    <tr>\n",
       "                        <td style=\"text-align: left;\">\n",
       "                            <strong>Comm: </strong> tcp://127.0.0.1:61550\n",
       "                        </td>\n",
       "                        <td style=\"text-align: left;\">\n",
       "                            <strong>Total threads: </strong> 2\n",
       "                        </td>\n",
       "                    </tr>\n",
       "                    <tr>\n",
       "                        <td style=\"text-align: left;\">\n",
       "                            <strong>Dashboard: </strong> <a href=\"http://127.0.0.1:61555/status\" target=\"_blank\">http://127.0.0.1:61555/status</a>\n",
       "                        </td>\n",
       "                        <td style=\"text-align: left;\">\n",
       "                            <strong>Memory: </strong> 4.00 GiB\n",
       "                        </td>\n",
       "                    </tr>\n",
       "                    <tr>\n",
       "                        <td style=\"text-align: left;\">\n",
       "                            <strong>Nanny: </strong> tcp://127.0.0.1:61537\n",
       "                        </td>\n",
       "                        <td style=\"text-align: left;\"></td>\n",
       "                    </tr>\n",
       "                    <tr>\n",
       "                        <td colspan=\"2\" style=\"text-align: left;\">\n",
       "                            <strong>Local directory: </strong> /var/folders/1y/ydztfpnd11b6qmvbb8_x56jh0000gn/T/dask-worker-space/worker-leb0ethq\n",
       "                        </td>\n",
       "                    </tr>\n",
       "\n",
       "                    \n",
       "\n",
       "                    \n",
       "\n",
       "                </table>\n",
       "            </details>\n",
       "            </div>\n",
       "        </div>\n",
       "        \n",
       "        <div style=\"margin-bottom: 20px;\">\n",
       "            <div style=\"width: 24px; height: 24px; background-color: #DBF5FF; border: 3px solid #4CC9FF; border-radius: 5px; position: absolute;\"> </div>\n",
       "            <div style=\"margin-left: 48px;\">\n",
       "            <details>\n",
       "                <summary>\n",
       "                    <h4 style=\"margin-bottom: 0px; display: inline;\">Worker: 2</h4>\n",
       "                </summary>\n",
       "                <table style=\"width: 100%; text-align: left;\">\n",
       "                    <tr>\n",
       "                        <td style=\"text-align: left;\">\n",
       "                            <strong>Comm: </strong> tcp://127.0.0.1:61549\n",
       "                        </td>\n",
       "                        <td style=\"text-align: left;\">\n",
       "                            <strong>Total threads: </strong> 2\n",
       "                        </td>\n",
       "                    </tr>\n",
       "                    <tr>\n",
       "                        <td style=\"text-align: left;\">\n",
       "                            <strong>Dashboard: </strong> <a href=\"http://127.0.0.1:61553/status\" target=\"_blank\">http://127.0.0.1:61553/status</a>\n",
       "                        </td>\n",
       "                        <td style=\"text-align: left;\">\n",
       "                            <strong>Memory: </strong> 4.00 GiB\n",
       "                        </td>\n",
       "                    </tr>\n",
       "                    <tr>\n",
       "                        <td style=\"text-align: left;\">\n",
       "                            <strong>Nanny: </strong> tcp://127.0.0.1:61536\n",
       "                        </td>\n",
       "                        <td style=\"text-align: left;\"></td>\n",
       "                    </tr>\n",
       "                    <tr>\n",
       "                        <td colspan=\"2\" style=\"text-align: left;\">\n",
       "                            <strong>Local directory: </strong> /var/folders/1y/ydztfpnd11b6qmvbb8_x56jh0000gn/T/dask-worker-space/worker-mh3_fnjp\n",
       "                        </td>\n",
       "                    </tr>\n",
       "\n",
       "                    \n",
       "\n",
       "                    \n",
       "\n",
       "                </table>\n",
       "            </details>\n",
       "            </div>\n",
       "        </div>\n",
       "        \n",
       "        <div style=\"margin-bottom: 20px;\">\n",
       "            <div style=\"width: 24px; height: 24px; background-color: #DBF5FF; border: 3px solid #4CC9FF; border-radius: 5px; position: absolute;\"> </div>\n",
       "            <div style=\"margin-left: 48px;\">\n",
       "            <details>\n",
       "                <summary>\n",
       "                    <h4 style=\"margin-bottom: 0px; display: inline;\">Worker: 3</h4>\n",
       "                </summary>\n",
       "                <table style=\"width: 100%; text-align: left;\">\n",
       "                    <tr>\n",
       "                        <td style=\"text-align: left;\">\n",
       "                            <strong>Comm: </strong> tcp://127.0.0.1:61551\n",
       "                        </td>\n",
       "                        <td style=\"text-align: left;\">\n",
       "                            <strong>Total threads: </strong> 2\n",
       "                        </td>\n",
       "                    </tr>\n",
       "                    <tr>\n",
       "                        <td style=\"text-align: left;\">\n",
       "                            <strong>Dashboard: </strong> <a href=\"http://127.0.0.1:61552/status\" target=\"_blank\">http://127.0.0.1:61552/status</a>\n",
       "                        </td>\n",
       "                        <td style=\"text-align: left;\">\n",
       "                            <strong>Memory: </strong> 4.00 GiB\n",
       "                        </td>\n",
       "                    </tr>\n",
       "                    <tr>\n",
       "                        <td style=\"text-align: left;\">\n",
       "                            <strong>Nanny: </strong> tcp://127.0.0.1:61538\n",
       "                        </td>\n",
       "                        <td style=\"text-align: left;\"></td>\n",
       "                    </tr>\n",
       "                    <tr>\n",
       "                        <td colspan=\"2\" style=\"text-align: left;\">\n",
       "                            <strong>Local directory: </strong> /var/folders/1y/ydztfpnd11b6qmvbb8_x56jh0000gn/T/dask-worker-space/worker-31d9kuu5\n",
       "                        </td>\n",
       "                    </tr>\n",
       "\n",
       "                    \n",
       "\n",
       "                    \n",
       "\n",
       "                </table>\n",
       "            </details>\n",
       "            </div>\n",
       "        </div>\n",
       "        \n",
       "\n",
       "    </details>\n",
       "</div>\n",
       "\n",
       "        </details>\n",
       "    </div>\n",
       "</div>\n",
       "            </details>\n",
       "        \n",
       "\n",
       "    </div>\n",
       "</div>"
      ],
      "text/plain": [
       "<Client: 'tcp://127.0.0.1:61533' processes=4 threads=8, memory=16.00 GiB>"
      ]
     },
     "execution_count": 12,
     "metadata": {},
     "output_type": "execute_result"
    }
   ],
   "source": [
    "client = Client()\n",
    "client"
   ]
  },
  {
   "cell_type": "code",
   "execution_count": 14,
   "id": "c73a67bd-eb37-4453-a7a2-41e13aa22912",
   "metadata": {},
   "outputs": [
    {
     "name": "stdout",
     "output_type": "stream",
     "text": [
      "CPU times: user 209 ms, sys: 77.1 ms, total: 286 ms\n",
      "Wall time: 1.46 s\n"
     ]
    }
   ],
   "source": [
    "%%time\n",
    "fut = []\n",
    "for page_num in range(1, 11):\n",
    "    future = client.submit(scrape_tag, page_num)\n",
    "    fut.append(future)\n",
    "\n",
    "res = client.gather(fut)"
   ]
  },
  {
   "cell_type": "code",
   "execution_count": 15,
   "id": "6234ad38-f3ea-4cb2-a12f-0b57e24b2204",
   "metadata": {},
   "outputs": [
    {
     "data": {
      "text/html": [
       "<strong>Future: scrape_tag</strong>\n",
       "<span style=\"color: var(--jp-ui-font-color2, gray)\"> status: </span>\n",
       "\n",
       "\n",
       "<span style=\"color: var(--jp-error-color0, black)\">finished</span>,\n",
       "\n",
       "\n",
       "\n",
       "<span style=\"color: var(--jp-ui-font-color2, gray)\"> type:</span> pandas.core.frame.DataFrame,\n",
       "\n",
       "\n",
       "<span style=\"color: var(--jp-ui-font-color2, gray)\"> key:</span> scrape_tag-e83a617288abc03472fe398fc09cd480"
      ],
      "text/plain": [
       "<Future: finished, type: pandas.core.frame.DataFrame, key: scrape_tag-e83a617288abc03472fe398fc09cd480>"
      ]
     },
     "execution_count": 15,
     "metadata": {},
     "output_type": "execute_result"
    }
   ],
   "source": [
    "fut[0]"
   ]
  },
  {
   "cell_type": "code",
   "execution_count": 18,
   "id": "3f84e829-da1c-4f54-a568-b11a6aa67cac",
   "metadata": {},
   "outputs": [
    {
     "data": {
      "text/html": [
       "<div>\n",
       "<style scoped>\n",
       "    .dataframe tbody tr th:only-of-type {\n",
       "        vertical-align: middle;\n",
       "    }\n",
       "\n",
       "    .dataframe tbody tr th {\n",
       "        vertical-align: top;\n",
       "    }\n",
       "\n",
       "    .dataframe thead th {\n",
       "        text-align: right;\n",
       "    }\n",
       "</style>\n",
       "<table border=\"1\" class=\"dataframe\">\n",
       "  <thead>\n",
       "    <tr style=\"text-align: right;\">\n",
       "      <th></th>\n",
       "      <th>title</th>\n",
       "      <th>stats</th>\n",
       "      <th>tags</th>\n",
       "      <th>vote</th>\n",
       "      <th>answer</th>\n",
       "      <th>view</th>\n",
       "    </tr>\n",
       "  </thead>\n",
       "  <tbody>\n",
       "    <tr>\n",
       "      <th>0</th>\n",
       "      <td>Python errors in command prompt</td>\n",
       "      <td>[0, 0, 4]</td>\n",
       "      <td>[python, python-3.x, python-2.7]</td>\n",
       "      <td>0</td>\n",
       "      <td>0</td>\n",
       "      <td>4</td>\n",
       "    </tr>\n",
       "    <tr>\n",
       "      <th>1</th>\n",
       "      <td>How to use KinematicTrajectoryOptimization in ...</td>\n",
       "      <td>[1, 0, 3]</td>\n",
       "      <td>[python, optimization, drake]</td>\n",
       "      <td>1</td>\n",
       "      <td>0</td>\n",
       "      <td>3</td>\n",
       "    </tr>\n",
       "    <tr>\n",
       "      <th>2</th>\n",
       "      <td>Python Selenium &amp; Browserstack - Connect to proxy</td>\n",
       "      <td>[0, 0, 6]</td>\n",
       "      <td>[python, selenium, browserstack]</td>\n",
       "      <td>0</td>\n",
       "      <td>0</td>\n",
       "      <td>6</td>\n",
       "    </tr>\n",
       "  </tbody>\n",
       "</table>\n",
       "</div>"
      ],
      "text/plain": [
       "                                               title      stats  \\\n",
       "0                    Python errors in command prompt  [0, 0, 4]   \n",
       "1  How to use KinematicTrajectoryOptimization in ...  [1, 0, 3]   \n",
       "2  Python Selenium & Browserstack - Connect to proxy  [0, 0, 6]   \n",
       "\n",
       "                               tags  vote  answer  view  \n",
       "0  [python, python-3.x, python-2.7]     0       0     4  \n",
       "1     [python, optimization, drake]     1       0     3  \n",
       "2  [python, selenium, browserstack]     0       0     6  "
      ]
     },
     "execution_count": 18,
     "metadata": {},
     "output_type": "execute_result"
    }
   ],
   "source": [
    "res[0].head(3)"
   ]
  },
  {
   "cell_type": "markdown",
   "id": "05f5c160-8af2-4299-91a0-ddd98a7b93b7",
   "metadata": {},
   "source": [
    "### client.map\n",
    "lambda version or none lambda version"
   ]
  },
  {
   "cell_type": "code",
   "execution_count": 21,
   "id": "ebf2699c-b8f1-4986-b40f-3dbd8b64ea76",
   "metadata": {},
   "outputs": [],
   "source": [
    "del fut"
   ]
  },
  {
   "cell_type": "code",
   "execution_count": 28,
   "id": "5605c352-289b-4da7-a9e7-6c150e0aac79",
   "metadata": {},
   "outputs": [
    {
     "name": "stdout",
     "output_type": "stream",
     "text": [
      "CPU times: user 76 ms, sys: 15.4 ms, total: 91.4 ms\n",
      "Wall time: 831 ms\n"
     ]
    }
   ],
   "source": [
    "%%time\n",
    "t = client.map(scrape_tag, range(1, 11))\n",
    "test = client.gather(t)\n",
    "#wait(t)"
   ]
  },
  {
   "cell_type": "code",
   "execution_count": 30,
   "id": "1c90e623-df39-48fd-a9f1-3ae00fdfd5be",
   "metadata": {},
   "outputs": [
    {
     "data": {
      "text/html": [
       "<div>\n",
       "<style scoped>\n",
       "    .dataframe tbody tr th:only-of-type {\n",
       "        vertical-align: middle;\n",
       "    }\n",
       "\n",
       "    .dataframe tbody tr th {\n",
       "        vertical-align: top;\n",
       "    }\n",
       "\n",
       "    .dataframe thead th {\n",
       "        text-align: right;\n",
       "    }\n",
       "</style>\n",
       "<table border=\"1\" class=\"dataframe\">\n",
       "  <thead>\n",
       "    <tr style=\"text-align: right;\">\n",
       "      <th></th>\n",
       "      <th>title</th>\n",
       "      <th>stats</th>\n",
       "      <th>tags</th>\n",
       "      <th>vote</th>\n",
       "      <th>answer</th>\n",
       "      <th>view</th>\n",
       "    </tr>\n",
       "  </thead>\n",
       "  <tbody>\n",
       "    <tr>\n",
       "      <th>0</th>\n",
       "      <td>Python errors in command prompt</td>\n",
       "      <td>[0, 0, 4]</td>\n",
       "      <td>[python, python-3.x, python-2.7]</td>\n",
       "      <td>0</td>\n",
       "      <td>0</td>\n",
       "      <td>4</td>\n",
       "    </tr>\n",
       "    <tr>\n",
       "      <th>1</th>\n",
       "      <td>How to use KinematicTrajectoryOptimization in ...</td>\n",
       "      <td>[1, 0, 3]</td>\n",
       "      <td>[python, optimization, drake]</td>\n",
       "      <td>1</td>\n",
       "      <td>0</td>\n",
       "      <td>3</td>\n",
       "    </tr>\n",
       "    <tr>\n",
       "      <th>2</th>\n",
       "      <td>Python Selenium &amp; Browserstack - Connect to proxy</td>\n",
       "      <td>[0, 0, 6]</td>\n",
       "      <td>[python, selenium, browserstack]</td>\n",
       "      <td>0</td>\n",
       "      <td>0</td>\n",
       "      <td>6</td>\n",
       "    </tr>\n",
       "  </tbody>\n",
       "</table>\n",
       "</div>"
      ],
      "text/plain": [
       "                                               title      stats  \\\n",
       "0                    Python errors in command prompt  [0, 0, 4]   \n",
       "1  How to use KinematicTrajectoryOptimization in ...  [1, 0, 3]   \n",
       "2  Python Selenium & Browserstack - Connect to proxy  [0, 0, 6]   \n",
       "\n",
       "                               tags  vote  answer  view  \n",
       "0  [python, python-3.x, python-2.7]     0       0     4  \n",
       "1     [python, optimization, drake]     1       0     3  \n",
       "2  [python, selenium, browserstack]     0       0     6  "
      ]
     },
     "execution_count": 30,
     "metadata": {},
     "output_type": "execute_result"
    }
   ],
   "source": [
    "test[0].head(3)"
   ]
  },
  {
   "cell_type": "code",
   "execution_count": null,
   "id": "eb78d31b-d646-4709-9f0d-4a4a7358ef95",
   "metadata": {},
   "outputs": [],
   "source": []
  },
  {
   "cell_type": "code",
   "execution_count": 31,
   "id": "06fb0191-32a9-4061-b459-a7c4de95bf77",
   "metadata": {},
   "outputs": [
    {
     "name": "stdout",
     "output_type": "stream",
     "text": [
      "CPU times: user 104 ms, sys: 31.6 ms, total: 136 ms\n",
      "Wall time: 1.23 s\n"
     ]
    }
   ],
   "source": [
    "%%time\n",
    "t_d = client.map(lambda p: scrape_tag(p, tag=\"dask\"), range(1, 11))\n",
    "t_d_res = client.gather(t_d)"
   ]
  },
  {
   "cell_type": "code",
   "execution_count": 33,
   "id": "fadbd3cf-3956-42b3-94b8-76737fcd5ab5",
   "metadata": {},
   "outputs": [
    {
     "data": {
      "text/html": [
       "<div>\n",
       "<style scoped>\n",
       "    .dataframe tbody tr th:only-of-type {\n",
       "        vertical-align: middle;\n",
       "    }\n",
       "\n",
       "    .dataframe tbody tr th {\n",
       "        vertical-align: top;\n",
       "    }\n",
       "\n",
       "    .dataframe thead th {\n",
       "        text-align: right;\n",
       "    }\n",
       "</style>\n",
       "<table border=\"1\" class=\"dataframe\">\n",
       "  <thead>\n",
       "    <tr style=\"text-align: right;\">\n",
       "      <th></th>\n",
       "      <th>title</th>\n",
       "      <th>stats</th>\n",
       "      <th>tags</th>\n",
       "      <th>vote</th>\n",
       "      <th>answer</th>\n",
       "      <th>view</th>\n",
       "    </tr>\n",
       "  </thead>\n",
       "  <tbody>\n",
       "    <tr>\n",
       "      <th>0</th>\n",
       "      <td>Load data with chunks</td>\n",
       "      <td>[0, 1, 20]</td>\n",
       "      <td>[python, pandas, sqlalchemy, dask, chunks]</td>\n",
       "      <td>0</td>\n",
       "      <td>1</td>\n",
       "      <td>20</td>\n",
       "    </tr>\n",
       "    <tr>\n",
       "      <th>1</th>\n",
       "      <td>Apply a function over the columns of a Dask array</td>\n",
       "      <td>[2, 0, 23]</td>\n",
       "      <td>[dask, dask-distributed, dask-dataframe, dask-...</td>\n",
       "      <td>2</td>\n",
       "      <td>0</td>\n",
       "      <td>23</td>\n",
       "    </tr>\n",
       "    <tr>\n",
       "      <th>2</th>\n",
       "      <td>Is py-datatable compatible with Dask?</td>\n",
       "      <td>[0, 0, 18]</td>\n",
       "      <td>[dask, py-datatable]</td>\n",
       "      <td>0</td>\n",
       "      <td>0</td>\n",
       "      <td>18</td>\n",
       "    </tr>\n",
       "  </tbody>\n",
       "</table>\n",
       "</div>"
      ],
      "text/plain": [
       "                                               title       stats  \\\n",
       "0                              Load data with chunks  [0, 1, 20]   \n",
       "1  Apply a function over the columns of a Dask array  [2, 0, 23]   \n",
       "2              Is py-datatable compatible with Dask?  [0, 0, 18]   \n",
       "\n",
       "                                                tags  vote  answer  view  \n",
       "0         [python, pandas, sqlalchemy, dask, chunks]     0       1    20  \n",
       "1  [dask, dask-distributed, dask-dataframe, dask-...     2       0    23  \n",
       "2                               [dask, py-datatable]     0       0    18  "
      ]
     },
     "execution_count": 33,
     "metadata": {},
     "output_type": "execute_result"
    }
   ],
   "source": [
    "t_d_res[0].head(3)"
   ]
  },
  {
   "cell_type": "markdown",
   "id": "1c6bdbf0-c04a-4a7c-9f44-e6883165c171",
   "metadata": {},
   "source": [
    "## use delayed"
   ]
  },
  {
   "cell_type": "code",
   "execution_count": 28,
   "id": "a4906f13-5291-454e-81db-45b60827ec20",
   "metadata": {},
   "outputs": [],
   "source": [
    "import dask"
   ]
  },
  {
   "cell_type": "code",
   "execution_count": 39,
   "id": "755b7aa2-0b08-42e0-b3f9-bd9cf7992f49",
   "metadata": {},
   "outputs": [],
   "source": [
    "@dask.delayed\n",
    "def scrape_tag_delayed(page_num, tag=\"python\", query_filter=\"Newest\", pagesize=50):\n",
    "    base_url = \"https://stackoverflow.com/questions/tagged/\"\n",
    "    url = f\"{base_url}{tag}?tab={query_filter}&page={page_num}&pagesize={pagesize}\"\n",
    "    datas_page = extract_url_and_parse_html(url)\n",
    "        #time.sleep(1.2) #need between requests.\n",
    "    return pd.DataFrame(datas_page)"
   ]
  },
  {
   "cell_type": "code",
   "execution_count": 40,
   "id": "2a04db8e-a5f6-4077-9cc0-c3be80a7c6de",
   "metadata": {},
   "outputs": [],
   "source": [
    "res = []\n",
    "for page in range(1, 11):\n",
    "    res.append(scrape_tag_delayed(page))"
   ]
  },
  {
   "cell_type": "code",
   "execution_count": 41,
   "id": "f772bf99-a14a-40c0-b7bd-1da131f6dff0",
   "metadata": {},
   "outputs": [
    {
     "data": {
      "text/plain": [
       "[Delayed('scrape_tag_delayed-2cc531c7-c50d-40af-bf65-d3a1909de259'),\n",
       " Delayed('scrape_tag_delayed-7980fbe0-dbc5-46f6-b79b-379617bead4b'),\n",
       " Delayed('scrape_tag_delayed-ca4684a0-a78d-4241-ab0f-c0bea51900e5'),\n",
       " Delayed('scrape_tag_delayed-e8a95c0e-e2ad-432e-929a-c4267b7fda68'),\n",
       " Delayed('scrape_tag_delayed-6df82447-fc5f-49f9-8f8a-84f2addade57'),\n",
       " Delayed('scrape_tag_delayed-fce202db-e24c-42c0-99bf-ca28040f48fc'),\n",
       " Delayed('scrape_tag_delayed-812e0f2d-558b-4262-a56c-fa5a6c05680a'),\n",
       " Delayed('scrape_tag_delayed-18e7de00-63e9-471b-a921-dbb9c7080fe2'),\n",
       " Delayed('scrape_tag_delayed-2c163ab4-4732-49a1-b093-b443499c3428'),\n",
       " Delayed('scrape_tag_delayed-b17adc02-e4c2-42a9-909f-b3f0d6a16c6f')]"
      ]
     },
     "execution_count": 41,
     "metadata": {},
     "output_type": "execute_result"
    }
   ],
   "source": [
    "res"
   ]
  },
  {
   "cell_type": "code",
   "execution_count": 33,
   "id": "6d37347b-8f8b-459e-be1a-e3a0da5169e0",
   "metadata": {},
   "outputs": [
    {
     "name": "stdout",
     "output_type": "stream",
     "text": [
      "CPU times: user 99.9 ms, sys: 30.3 ms, total: 130 ms\n",
      "Wall time: 1.21 s\n"
     ]
    }
   ],
   "source": [
    "%%time\n",
    "r = dask.compute(res)"
   ]
  },
  {
   "cell_type": "code",
   "execution_count": 169,
   "id": "a50089dc-20ca-44d7-9c45-c3fd2a7814d3",
   "metadata": {},
   "outputs": [],
   "source": [
    "from dask.distributed import as_completed"
   ]
  },
  {
   "cell_type": "markdown",
   "id": "0143c29a-b4f3-4a1f-b62f-2b3c1474747b",
   "metadata": {},
   "source": [
    "## NOTE\n",
    "HERE DO EXAMPLE BELOW WITH WAIT AND TIME IT "
   ]
  },
  {
   "cell_type": "code",
   "execution_count": null,
   "id": "b8f1937c-2d27-4c3a-9c1b-d0a32404bb88",
   "metadata": {},
   "outputs": [],
   "source": []
  },
  {
   "cell_type": "code",
   "execution_count": null,
   "id": "5f7d5c19-5fde-4474-866c-b7d1b3711592",
   "metadata": {},
   "outputs": [],
   "source": []
  },
  {
   "cell_type": "code",
   "execution_count": 189,
   "id": "e1d08e82-47eb-4b55-9a40-a5cd11dddf5b",
   "metadata": {},
   "outputs": [
    {
     "name": "stdout",
     "output_type": "stream",
     "text": [
      "CPU times: user 35.5 ms, sys: 7.28 ms, total: 42.8 ms\n",
      "Wall time: 51.7 ms\n"
     ]
    },
    {
     "data": {
      "text/plain": [
       "105874"
      ]
     },
     "execution_count": 189,
     "metadata": {},
     "output_type": "execute_result"
    }
   ],
   "source": [
    "%%time\n",
    "t15 = client.map(scrape_tag, range(15))\n",
    "\n",
    "tot_views= 0 \n",
    "\n",
    "for future in as_completed(t15):\n",
    "    test = future.result()['view']\n",
    "    tot_views += test.sum()\n",
    "\n",
    "tot_views"
   ]
  },
  {
   "cell_type": "code",
   "execution_count": 118,
   "id": "7ff6e847-03df-4c7c-9be7-cc2ad8ff698e",
   "metadata": {},
   "outputs": [],
   "source": [
    "import dask.dataframe as dd"
   ]
  },
  {
   "cell_type": "code",
   "execution_count": 183,
   "id": "1e92d0ea-339b-4651-9aeb-57fc274cba8b",
   "metadata": {},
   "outputs": [],
   "source": [
    "test_del = dd.from_delayed(t15)"
   ]
  },
  {
   "cell_type": "code",
   "execution_count": 184,
   "id": "e53622c1-95dd-4018-aba1-8025fb61dd3e",
   "metadata": {},
   "outputs": [
    {
     "data": {
      "text/html": [
       "<div><strong>Dask DataFrame Structure:</strong></div>\n",
       "<div>\n",
       "<style scoped>\n",
       "    .dataframe tbody tr th:only-of-type {\n",
       "        vertical-align: middle;\n",
       "    }\n",
       "\n",
       "    .dataframe tbody tr th {\n",
       "        vertical-align: top;\n",
       "    }\n",
       "\n",
       "    .dataframe thead th {\n",
       "        text-align: right;\n",
       "    }\n",
       "</style>\n",
       "<table border=\"1\" class=\"dataframe\">\n",
       "  <thead>\n",
       "    <tr style=\"text-align: right;\">\n",
       "      <th></th>\n",
       "      <th>title</th>\n",
       "      <th>stats</th>\n",
       "      <th>tags</th>\n",
       "      <th>vote</th>\n",
       "      <th>answer</th>\n",
       "      <th>view</th>\n",
       "    </tr>\n",
       "    <tr>\n",
       "      <th>npartitions=15</th>\n",
       "      <th></th>\n",
       "      <th></th>\n",
       "      <th></th>\n",
       "      <th></th>\n",
       "      <th></th>\n",
       "      <th></th>\n",
       "    </tr>\n",
       "  </thead>\n",
       "  <tbody>\n",
       "    <tr>\n",
       "      <th></th>\n",
       "      <td>object</td>\n",
       "      <td>object</td>\n",
       "      <td>object</td>\n",
       "      <td>int64</td>\n",
       "      <td>int64</td>\n",
       "      <td>int64</td>\n",
       "    </tr>\n",
       "    <tr>\n",
       "      <th></th>\n",
       "      <td>...</td>\n",
       "      <td>...</td>\n",
       "      <td>...</td>\n",
       "      <td>...</td>\n",
       "      <td>...</td>\n",
       "      <td>...</td>\n",
       "    </tr>\n",
       "    <tr>\n",
       "      <th>...</th>\n",
       "      <td>...</td>\n",
       "      <td>...</td>\n",
       "      <td>...</td>\n",
       "      <td>...</td>\n",
       "      <td>...</td>\n",
       "      <td>...</td>\n",
       "    </tr>\n",
       "    <tr>\n",
       "      <th></th>\n",
       "      <td>...</td>\n",
       "      <td>...</td>\n",
       "      <td>...</td>\n",
       "      <td>...</td>\n",
       "      <td>...</td>\n",
       "      <td>...</td>\n",
       "    </tr>\n",
       "    <tr>\n",
       "      <th></th>\n",
       "      <td>...</td>\n",
       "      <td>...</td>\n",
       "      <td>...</td>\n",
       "      <td>...</td>\n",
       "      <td>...</td>\n",
       "      <td>...</td>\n",
       "    </tr>\n",
       "  </tbody>\n",
       "</table>\n",
       "</div>\n",
       "<div>Dask Name: from-delayed, 16 graph layers</div>"
      ],
      "text/plain": [
       "Dask DataFrame Structure:\n",
       "                 title   stats    tags   vote answer   view\n",
       "npartitions=15                                             \n",
       "                object  object  object  int64  int64  int64\n",
       "                   ...     ...     ...    ...    ...    ...\n",
       "...                ...     ...     ...    ...    ...    ...\n",
       "                   ...     ...     ...    ...    ...    ...\n",
       "                   ...     ...     ...    ...    ...    ...\n",
       "Dask Name: from-delayed, 16 graph layers"
      ]
     },
     "execution_count": 184,
     "metadata": {},
     "output_type": "execute_result"
    }
   ],
   "source": [
    "test_del"
   ]
  },
  {
   "cell_type": "code",
   "execution_count": 185,
   "id": "0e25d438-200b-4291-ba4e-470f32596ce1",
   "metadata": {},
   "outputs": [
    {
     "data": {
      "text/plain": [
       "dd.Scalar<series-..., dtype=int64>"
      ]
     },
     "execution_count": 185,
     "metadata": {},
     "output_type": "execute_result"
    }
   ],
   "source": [
    "test_del['view'].sum()"
   ]
  },
  {
   "cell_type": "code",
   "execution_count": 186,
   "id": "9f0e5f6f-c3e2-4a44-9199-fc95bf26a512",
   "metadata": {},
   "outputs": [
    {
     "name": "stdout",
     "output_type": "stream",
     "text": [
      "CPU times: user 37.5 ms, sys: 4.54 ms, total: 42.1 ms\n",
      "Wall time: 49 ms\n"
     ]
    },
    {
     "data": {
      "text/plain": [
       "105874"
      ]
     },
     "execution_count": 186,
     "metadata": {},
     "output_type": "execute_result"
    }
   ],
   "source": [
    "%%time\n",
    "test_del['view'].sum().compute()"
   ]
  },
  {
   "cell_type": "code",
   "execution_count": 191,
   "id": "607f9a04-349a-41b2-bf67-c378dbd03de4",
   "metadata": {},
   "outputs": [],
   "source": [
    "client.shutdown()"
   ]
  }
 ],
 "metadata": {
  "kernelspec": {
   "display_name": "Python 3 (ipykernel)",
   "language": "python",
   "name": "python3"
  },
  "language_info": {
   "codemirror_mode": {
    "name": "ipython",
    "version": 3
   },
   "file_extension": ".py",
   "mimetype": "text/x-python",
   "name": "python",
   "nbconvert_exporter": "python",
   "pygments_lexer": "ipython3",
   "version": "3.10.8"
  }
 },
 "nbformat": 4,
 "nbformat_minor": 5
}
