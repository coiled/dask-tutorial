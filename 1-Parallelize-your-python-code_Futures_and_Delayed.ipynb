{
 "cells": [
  {
   "cell_type": "markdown",
   "id": "8e414d3a-fd82-4af5-9a4e-d43a254d1d63",
   "metadata": {},
   "source": [
    "# Parallelize your python code\n",
    "\n",
    "In this lesson you will learn how to paralellize custom python code using Dask. You will learn about the Futures and Delayed APIs, and how to use them to parallelize customs functions.\n",
    "\n",
    "The example we will be tackling consist of scrapping and cleaning some data from Stack Overflow website. BUt first let's do a quick recap on Futures and Delayed objects.\n",
    "\n",
    "## Futures and Delayed: low-level collections\n",
    "\n",
    "Dask low-level collections are the best tools when you need to have fine control control to build custom parallel and distributed computations.\n",
    "\n",
    "**NOTE:** For an introductory lesson on futures and delayed revisit:\n",
    "- https://tutorial.dask.org/03_dask.delayed.html\n",
    "- https://tutorial.dask.org/05_futures.html\n",
    "\n",
    "\n",
    "## Recap Basics\n",
    "### Futures\n",
    "\n",
    "Submit arbitrary functions for computation in a parallelized, eager, and non-blocking way. \n",
    "\n",
    "The `futures` interface (derived from the built-in `concurrent.futures`) provide fine-grained real-time execution for custom situations. We can submit individual functions for evaluation with one set of inputs, or evaluated over a sequence of inputs with `submit()` and `map()`. The call returns immediately, giving one or more *futures*, whose status begins as \"pending\" and later becomes \"finished\". There is no blocking of the local Python session. With futures, as soon as the inputs are available and there is compute available, the computation starts. "
   ]
  },
  {
   "cell_type": "code",
   "execution_count": 1,
   "id": "3e4fc278-3c14-4955-8b58-07524426b579",
   "metadata": {},
   "outputs": [],
   "source": [
    "import dask\n",
    "from dask.distributed import Client"
   ]
  },
  {
   "cell_type": "code",
   "execution_count": 2,
   "id": "a0e9e13b-0ec7-4f18-a70e-eab2ea377ddf",
   "metadata": {},
   "outputs": [
    {
     "name": "stderr",
     "output_type": "stream",
     "text": [
      "2022-12-08 09:35:51,965 - distributed.diskutils - INFO - Found stale lock file and directory '/var/folders/1y/ydztfpnd11b6qmvbb8_x56jh0000gn/T/dask-worker-space/worker-spng1cll', purging\n",
      "2022-12-08 09:35:51,965 - distributed.diskutils - INFO - Found stale lock file and directory '/var/folders/1y/ydztfpnd11b6qmvbb8_x56jh0000gn/T/dask-worker-space/worker-4sckt0tb', purging\n",
      "2022-12-08 09:35:51,966 - distributed.diskutils - INFO - Found stale lock file and directory '/var/folders/1y/ydztfpnd11b6qmvbb8_x56jh0000gn/T/dask-worker-space/worker-nm7ouwy2', purging\n",
      "2022-12-08 09:35:51,966 - distributed.diskutils - INFO - Found stale lock file and directory '/var/folders/1y/ydztfpnd11b6qmvbb8_x56jh0000gn/T/dask-worker-space/worker-tbk7x2py', purging\n"
     ]
    },
    {
     "data": {
      "text/html": [
       "<div>\n",
       "    <div style=\"width: 24px; height: 24px; background-color: #e1e1e1; border: 3px solid #9D9D9D; border-radius: 5px; position: absolute;\"> </div>\n",
       "    <div style=\"margin-left: 48px;\">\n",
       "        <h3 style=\"margin-bottom: 0px;\">Client</h3>\n",
       "        <p style=\"color: #9D9D9D; margin-bottom: 0px;\">Client-9c754dc6-7705-11ed-b3c9-9eae289ce629</p>\n",
       "        <table style=\"width: 100%; text-align: left;\">\n",
       "\n",
       "        <tr>\n",
       "        \n",
       "            <td style=\"text-align: left;\"><strong>Connection method:</strong> Cluster object</td>\n",
       "            <td style=\"text-align: left;\"><strong>Cluster type:</strong> distributed.LocalCluster</td>\n",
       "        \n",
       "        </tr>\n",
       "\n",
       "        \n",
       "            <tr>\n",
       "                <td style=\"text-align: left;\">\n",
       "                    <strong>Dashboard: </strong> <a href=\"http://127.0.0.1:8787/status\" target=\"_blank\">http://127.0.0.1:8787/status</a>\n",
       "                </td>\n",
       "                <td style=\"text-align: left;\"></td>\n",
       "            </tr>\n",
       "        \n",
       "\n",
       "        </table>\n",
       "\n",
       "        \n",
       "            <button style=\"margin-bottom: 12px;\" data-commandlinker-command=\"dask:populate-and-launch-layout\" data-commandlinker-args='{\"url\": \"http://127.0.0.1:8787/status\" }'>\n",
       "                Launch dashboard in JupyterLab\n",
       "            </button>\n",
       "        \n",
       "\n",
       "        \n",
       "            <details>\n",
       "            <summary style=\"margin-bottom: 20px;\"><h3 style=\"display: inline;\">Cluster Info</h3></summary>\n",
       "            <div class=\"jp-RenderedHTMLCommon jp-RenderedHTML jp-mod-trusted jp-OutputArea-output\">\n",
       "    <div style=\"width: 24px; height: 24px; background-color: #e1e1e1; border: 3px solid #9D9D9D; border-radius: 5px; position: absolute;\">\n",
       "    </div>\n",
       "    <div style=\"margin-left: 48px;\">\n",
       "        <h3 style=\"margin-bottom: 0px; margin-top: 0px;\">LocalCluster</h3>\n",
       "        <p style=\"color: #9D9D9D; margin-bottom: 0px;\">6e0414b0</p>\n",
       "        <table style=\"width: 100%; text-align: left;\">\n",
       "            <tr>\n",
       "                <td style=\"text-align: left;\">\n",
       "                    <strong>Dashboard:</strong> <a href=\"http://127.0.0.1:8787/status\" target=\"_blank\">http://127.0.0.1:8787/status</a>\n",
       "                </td>\n",
       "                <td style=\"text-align: left;\">\n",
       "                    <strong>Workers:</strong> 4\n",
       "                </td>\n",
       "            </tr>\n",
       "            <tr>\n",
       "                <td style=\"text-align: left;\">\n",
       "                    <strong>Total threads:</strong> 8\n",
       "                </td>\n",
       "                <td style=\"text-align: left;\">\n",
       "                    <strong>Total memory:</strong> 16.00 GiB\n",
       "                </td>\n",
       "            </tr>\n",
       "            \n",
       "            <tr>\n",
       "    <td style=\"text-align: left;\"><strong>Status:</strong> running</td>\n",
       "    <td style=\"text-align: left;\"><strong>Using processes:</strong> True</td>\n",
       "</tr>\n",
       "\n",
       "            \n",
       "        </table>\n",
       "\n",
       "        <details>\n",
       "            <summary style=\"margin-bottom: 20px;\">\n",
       "                <h3 style=\"display: inline;\">Scheduler Info</h3>\n",
       "            </summary>\n",
       "\n",
       "            <div style=\"\">\n",
       "    <div>\n",
       "        <div style=\"width: 24px; height: 24px; background-color: #FFF7E5; border: 3px solid #FF6132; border-radius: 5px; position: absolute;\"> </div>\n",
       "        <div style=\"margin-left: 48px;\">\n",
       "            <h3 style=\"margin-bottom: 0px;\">Scheduler</h3>\n",
       "            <p style=\"color: #9D9D9D; margin-bottom: 0px;\">Scheduler-33c4f79d-2778-4a8d-901e-bc6ba9a3eb49</p>\n",
       "            <table style=\"width: 100%; text-align: left;\">\n",
       "                <tr>\n",
       "                    <td style=\"text-align: left;\">\n",
       "                        <strong>Comm:</strong> tcp://127.0.0.1:63898\n",
       "                    </td>\n",
       "                    <td style=\"text-align: left;\">\n",
       "                        <strong>Workers:</strong> 4\n",
       "                    </td>\n",
       "                </tr>\n",
       "                <tr>\n",
       "                    <td style=\"text-align: left;\">\n",
       "                        <strong>Dashboard:</strong> <a href=\"http://127.0.0.1:8787/status\" target=\"_blank\">http://127.0.0.1:8787/status</a>\n",
       "                    </td>\n",
       "                    <td style=\"text-align: left;\">\n",
       "                        <strong>Total threads:</strong> 8\n",
       "                    </td>\n",
       "                </tr>\n",
       "                <tr>\n",
       "                    <td style=\"text-align: left;\">\n",
       "                        <strong>Started:</strong> Just now\n",
       "                    </td>\n",
       "                    <td style=\"text-align: left;\">\n",
       "                        <strong>Total memory:</strong> 16.00 GiB\n",
       "                    </td>\n",
       "                </tr>\n",
       "            </table>\n",
       "        </div>\n",
       "    </div>\n",
       "\n",
       "    <details style=\"margin-left: 48px;\">\n",
       "        <summary style=\"margin-bottom: 20px;\">\n",
       "            <h3 style=\"display: inline;\">Workers</h3>\n",
       "        </summary>\n",
       "\n",
       "        \n",
       "        <div style=\"margin-bottom: 20px;\">\n",
       "            <div style=\"width: 24px; height: 24px; background-color: #DBF5FF; border: 3px solid #4CC9FF; border-radius: 5px; position: absolute;\"> </div>\n",
       "            <div style=\"margin-left: 48px;\">\n",
       "            <details>\n",
       "                <summary>\n",
       "                    <h4 style=\"margin-bottom: 0px; display: inline;\">Worker: 0</h4>\n",
       "                </summary>\n",
       "                <table style=\"width: 100%; text-align: left;\">\n",
       "                    <tr>\n",
       "                        <td style=\"text-align: left;\">\n",
       "                            <strong>Comm: </strong> tcp://127.0.0.1:63914\n",
       "                        </td>\n",
       "                        <td style=\"text-align: left;\">\n",
       "                            <strong>Total threads: </strong> 2\n",
       "                        </td>\n",
       "                    </tr>\n",
       "                    <tr>\n",
       "                        <td style=\"text-align: left;\">\n",
       "                            <strong>Dashboard: </strong> <a href=\"http://127.0.0.1:63919/status\" target=\"_blank\">http://127.0.0.1:63919/status</a>\n",
       "                        </td>\n",
       "                        <td style=\"text-align: left;\">\n",
       "                            <strong>Memory: </strong> 4.00 GiB\n",
       "                        </td>\n",
       "                    </tr>\n",
       "                    <tr>\n",
       "                        <td style=\"text-align: left;\">\n",
       "                            <strong>Nanny: </strong> tcp://127.0.0.1:63902\n",
       "                        </td>\n",
       "                        <td style=\"text-align: left;\"></td>\n",
       "                    </tr>\n",
       "                    <tr>\n",
       "                        <td colspan=\"2\" style=\"text-align: left;\">\n",
       "                            <strong>Local directory: </strong> /var/folders/1y/ydztfpnd11b6qmvbb8_x56jh0000gn/T/dask-worker-space/worker-q8kxqda1\n",
       "                        </td>\n",
       "                    </tr>\n",
       "\n",
       "                    \n",
       "\n",
       "                    \n",
       "\n",
       "                </table>\n",
       "            </details>\n",
       "            </div>\n",
       "        </div>\n",
       "        \n",
       "        <div style=\"margin-bottom: 20px;\">\n",
       "            <div style=\"width: 24px; height: 24px; background-color: #DBF5FF; border: 3px solid #4CC9FF; border-radius: 5px; position: absolute;\"> </div>\n",
       "            <div style=\"margin-left: 48px;\">\n",
       "            <details>\n",
       "                <summary>\n",
       "                    <h4 style=\"margin-bottom: 0px; display: inline;\">Worker: 1</h4>\n",
       "                </summary>\n",
       "                <table style=\"width: 100%; text-align: left;\">\n",
       "                    <tr>\n",
       "                        <td style=\"text-align: left;\">\n",
       "                            <strong>Comm: </strong> tcp://127.0.0.1:63916\n",
       "                        </td>\n",
       "                        <td style=\"text-align: left;\">\n",
       "                            <strong>Total threads: </strong> 2\n",
       "                        </td>\n",
       "                    </tr>\n",
       "                    <tr>\n",
       "                        <td style=\"text-align: left;\">\n",
       "                            <strong>Dashboard: </strong> <a href=\"http://127.0.0.1:63918/status\" target=\"_blank\">http://127.0.0.1:63918/status</a>\n",
       "                        </td>\n",
       "                        <td style=\"text-align: left;\">\n",
       "                            <strong>Memory: </strong> 4.00 GiB\n",
       "                        </td>\n",
       "                    </tr>\n",
       "                    <tr>\n",
       "                        <td style=\"text-align: left;\">\n",
       "                            <strong>Nanny: </strong> tcp://127.0.0.1:63903\n",
       "                        </td>\n",
       "                        <td style=\"text-align: left;\"></td>\n",
       "                    </tr>\n",
       "                    <tr>\n",
       "                        <td colspan=\"2\" style=\"text-align: left;\">\n",
       "                            <strong>Local directory: </strong> /var/folders/1y/ydztfpnd11b6qmvbb8_x56jh0000gn/T/dask-worker-space/worker-2hj7dtzv\n",
       "                        </td>\n",
       "                    </tr>\n",
       "\n",
       "                    \n",
       "\n",
       "                    \n",
       "\n",
       "                </table>\n",
       "            </details>\n",
       "            </div>\n",
       "        </div>\n",
       "        \n",
       "        <div style=\"margin-bottom: 20px;\">\n",
       "            <div style=\"width: 24px; height: 24px; background-color: #DBF5FF; border: 3px solid #4CC9FF; border-radius: 5px; position: absolute;\"> </div>\n",
       "            <div style=\"margin-left: 48px;\">\n",
       "            <details>\n",
       "                <summary>\n",
       "                    <h4 style=\"margin-bottom: 0px; display: inline;\">Worker: 2</h4>\n",
       "                </summary>\n",
       "                <table style=\"width: 100%; text-align: left;\">\n",
       "                    <tr>\n",
       "                        <td style=\"text-align: left;\">\n",
       "                            <strong>Comm: </strong> tcp://127.0.0.1:63915\n",
       "                        </td>\n",
       "                        <td style=\"text-align: left;\">\n",
       "                            <strong>Total threads: </strong> 2\n",
       "                        </td>\n",
       "                    </tr>\n",
       "                    <tr>\n",
       "                        <td style=\"text-align: left;\">\n",
       "                            <strong>Dashboard: </strong> <a href=\"http://127.0.0.1:63920/status\" target=\"_blank\">http://127.0.0.1:63920/status</a>\n",
       "                        </td>\n",
       "                        <td style=\"text-align: left;\">\n",
       "                            <strong>Memory: </strong> 4.00 GiB\n",
       "                        </td>\n",
       "                    </tr>\n",
       "                    <tr>\n",
       "                        <td style=\"text-align: left;\">\n",
       "                            <strong>Nanny: </strong> tcp://127.0.0.1:63904\n",
       "                        </td>\n",
       "                        <td style=\"text-align: left;\"></td>\n",
       "                    </tr>\n",
       "                    <tr>\n",
       "                        <td colspan=\"2\" style=\"text-align: left;\">\n",
       "                            <strong>Local directory: </strong> /var/folders/1y/ydztfpnd11b6qmvbb8_x56jh0000gn/T/dask-worker-space/worker-8_an2lww\n",
       "                        </td>\n",
       "                    </tr>\n",
       "\n",
       "                    \n",
       "\n",
       "                    \n",
       "\n",
       "                </table>\n",
       "            </details>\n",
       "            </div>\n",
       "        </div>\n",
       "        \n",
       "        <div style=\"margin-bottom: 20px;\">\n",
       "            <div style=\"width: 24px; height: 24px; background-color: #DBF5FF; border: 3px solid #4CC9FF; border-radius: 5px; position: absolute;\"> </div>\n",
       "            <div style=\"margin-left: 48px;\">\n",
       "            <details>\n",
       "                <summary>\n",
       "                    <h4 style=\"margin-bottom: 0px; display: inline;\">Worker: 3</h4>\n",
       "                </summary>\n",
       "                <table style=\"width: 100%; text-align: left;\">\n",
       "                    <tr>\n",
       "                        <td style=\"text-align: left;\">\n",
       "                            <strong>Comm: </strong> tcp://127.0.0.1:63913\n",
       "                        </td>\n",
       "                        <td style=\"text-align: left;\">\n",
       "                            <strong>Total threads: </strong> 2\n",
       "                        </td>\n",
       "                    </tr>\n",
       "                    <tr>\n",
       "                        <td style=\"text-align: left;\">\n",
       "                            <strong>Dashboard: </strong> <a href=\"http://127.0.0.1:63917/status\" target=\"_blank\">http://127.0.0.1:63917/status</a>\n",
       "                        </td>\n",
       "                        <td style=\"text-align: left;\">\n",
       "                            <strong>Memory: </strong> 4.00 GiB\n",
       "                        </td>\n",
       "                    </tr>\n",
       "                    <tr>\n",
       "                        <td style=\"text-align: left;\">\n",
       "                            <strong>Nanny: </strong> tcp://127.0.0.1:63901\n",
       "                        </td>\n",
       "                        <td style=\"text-align: left;\"></td>\n",
       "                    </tr>\n",
       "                    <tr>\n",
       "                        <td colspan=\"2\" style=\"text-align: left;\">\n",
       "                            <strong>Local directory: </strong> /var/folders/1y/ydztfpnd11b6qmvbb8_x56jh0000gn/T/dask-worker-space/worker-10k4qv3l\n",
       "                        </td>\n",
       "                    </tr>\n",
       "\n",
       "                    \n",
       "\n",
       "                    \n",
       "\n",
       "                </table>\n",
       "            </details>\n",
       "            </div>\n",
       "        </div>\n",
       "        \n",
       "\n",
       "    </details>\n",
       "</div>\n",
       "\n",
       "        </details>\n",
       "    </div>\n",
       "</div>\n",
       "            </details>\n",
       "        \n",
       "\n",
       "    </div>\n",
       "</div>"
      ],
      "text/plain": [
       "<Client: 'tcp://127.0.0.1:63898' processes=4 threads=8, memory=16.00 GiB>"
      ]
     },
     "execution_count": 2,
     "metadata": {},
     "output_type": "execute_result"
    }
   ],
   "source": [
    "client = Client(n_workers=4)\n",
    "client"
   ]
  },
  {
   "cell_type": "markdown",
   "id": "ff8bf6e6-ff5a-49a9-b231-557155ceefa6",
   "metadata": {},
   "source": [
    "Let's make a toy functions, `inc`  that sleep for a while to simulate work. We'll then time running these functions normally."
   ]
  },
  {
   "cell_type": "code",
   "execution_count": 3,
   "id": "037c298e-296b-4070-88bc-a4caaf432f88",
   "metadata": {},
   "outputs": [],
   "source": [
    "from time import sleep\n",
    "\n",
    "def inc(x):\n",
    "    sleep(1)\n",
    "    return x + 1"
   ]
  },
  {
   "cell_type": "markdown",
   "id": "d111477d-d1c0-4735-a0ff-6cd596ae28a7",
   "metadata": {},
   "source": [
    "We can run these locally"
   ]
  },
  {
   "cell_type": "code",
   "execution_count": 7,
   "id": "e4581be1-68d1-4be9-aacf-62104e7bcb53",
   "metadata": {},
   "outputs": [
    {
     "data": {
      "text/plain": [
       "2"
      ]
     },
     "execution_count": 7,
     "metadata": {},
     "output_type": "execute_result"
    }
   ],
   "source": [
    "inc(1)"
   ]
  },
  {
   "cell_type": "markdown",
   "id": "3f4f77ef-fb42-4ab2-acc9-a1785b88672e",
   "metadata": {},
   "source": [
    "**`client.submit()`**"
   ]
  },
  {
   "cell_type": "markdown",
   "id": "1b692833-4618-406e-8914-f44e8270fb7d",
   "metadata": {},
   "source": [
    "Or we can submit them to run remotely with Dask. This immediately returns a future that points to the ongoing computation, and eventually to the stored result."
   ]
  },
  {
   "cell_type": "code",
   "execution_count": 6,
   "id": "94211742-96bf-4862-a41b-069447115afc",
   "metadata": {},
   "outputs": [
    {
     "data": {
      "text/html": [
       "<strong>Future: inc</strong>\n",
       "<span style=\"color: var(--jp-ui-font-color2, gray)\"> status: </span>\n",
       "\n",
       "\n",
       "<span style=\"color: var(--jp-error-color0, black)\">pending</span>,\n",
       "\n",
       "\n",
       "\n",
       "<span style=\"color: var(--jp-ui-font-color2, gray)\"> type:</span> NoneType,\n",
       "\n",
       "\n",
       "<span style=\"color: var(--jp-ui-font-color2, gray)\"> key:</span> inc-b612ca5982bd2c57f06bea3c2e9ee23a"
      ],
      "text/plain": [
       "<Future: pending, key: inc-b612ca5982bd2c57f06bea3c2e9ee23a>"
      ]
     },
     "execution_count": 6,
     "metadata": {},
     "output_type": "execute_result"
    }
   ],
   "source": [
    "future = client.submit(inc, 1)  # returns immediately with pending future\n",
    "future"
   ]
  },
  {
   "cell_type": "markdown",
   "id": "c45ce68e-e9a9-4f0c-bfd5-68d3853a5e02",
   "metadata": {},
   "source": [
    "If you wait a second, and then check on the future again, you’ll see that it has finished."
   ]
  },
  {
   "cell_type": "code",
   "execution_count": 8,
   "id": "95e01e2b-46c1-4822-8aa5-eb8bb782ace2",
   "metadata": {},
   "outputs": [
    {
     "data": {
      "text/html": [
       "<strong>Future: inc</strong>\n",
       "<span style=\"color: var(--jp-ui-font-color2, gray)\"> status: </span>\n",
       "\n",
       "\n",
       "<span style=\"color: var(--jp-error-color0, black)\">finished</span>,\n",
       "\n",
       "\n",
       "\n",
       "<span style=\"color: var(--jp-ui-font-color2, gray)\"> type:</span> int,\n",
       "\n",
       "\n",
       "<span style=\"color: var(--jp-ui-font-color2, gray)\"> key:</span> inc-b612ca5982bd2c57f06bea3c2e9ee23a"
      ],
      "text/plain": [
       "<Future: finished, type: int, key: inc-b612ca5982bd2c57f06bea3c2e9ee23a>"
      ]
     },
     "execution_count": 8,
     "metadata": {},
     "output_type": "execute_result"
    }
   ],
   "source": [
    "future"
   ]
  },
  {
   "cell_type": "markdown",
   "id": "72bf4e6a-8553-4383-b15a-c9f249bd71df",
   "metadata": {},
   "source": [
    "You can block on the computation and gather the result with the `.result()` method."
   ]
  },
  {
   "cell_type": "code",
   "execution_count": 9,
   "id": "7f9bf670-2d56-4a7a-bdb4-36791b91de05",
   "metadata": {},
   "outputs": [
    {
     "data": {
      "text/plain": [
       "2"
      ]
     },
     "execution_count": 9,
     "metadata": {},
     "output_type": "execute_result"
    }
   ],
   "source": [
    "future.result()"
   ]
  },
  {
   "cell_type": "markdown",
   "id": "202e4b5d-b1c3-49f2-b5e7-5cc02602a4e4",
   "metadata": {},
   "source": [
    "**`client.map()`**"
   ]
  },
  {
   "cell_type": "code",
   "execution_count": 10,
   "id": "4c5576bf-3fdd-4fed-9419-a28ca323c850",
   "metadata": {},
   "outputs": [
    {
     "data": {
      "text/plain": [
       "[<Future: pending, key: inc-e89eb876bfcce4d2b7fa5a1eedd71da0>,\n",
       " <Future: finished, type: int, key: inc-b612ca5982bd2c57f06bea3c2e9ee23a>,\n",
       " <Future: pending, key: inc-192b31e5f13235db413a8e8d7fbfcd41>,\n",
       " <Future: pending, key: inc-a4235b69b0416ff52d2fd50a33197afb>,\n",
       " <Future: pending, key: inc-9d6f01cb38a804c622ab0031f981c5aa>,\n",
       " <Future: pending, key: inc-380564c010c36f918a586922e139c5a7>,\n",
       " <Future: pending, key: inc-1b3178850e2c9e15bc6c073bcbc3ce06>,\n",
       " <Future: pending, key: inc-9915b3e13c584dfc5f078311ae6d0a1d>]"
      ]
     },
     "execution_count": 10,
     "metadata": {},
     "output_type": "execute_result"
    }
   ],
   "source": [
    "futures = client.map(inc, range(8))  # returns immediately with pending list of futures\n",
    "futures"
   ]
  },
  {
   "cell_type": "code",
   "execution_count": 11,
   "id": "f94b34a6-fbd4-4ede-a9c0-9b90e71f4e1b",
   "metadata": {},
   "outputs": [
    {
     "data": {
      "text/plain": [
       "36"
      ]
     },
     "execution_count": 11,
     "metadata": {},
     "output_type": "execute_result"
    }
   ],
   "source": [
    "future_sum = client.submit(sum, futures)\n",
    "future_sum.result()"
   ]
  },
  {
   "cell_type": "markdown",
   "id": "d7be9fac-d3a0-4150-9d45-4e2bb787abf8",
   "metadata": {},
   "source": [
    "**NOTE:** For an introductory lesson on futures revisit:\n",
    "- https://tutorial.dask.org/05_futures.html\n",
    "\n",
    "**Useful links**\n",
    "* [Futures documentation](https://docs.dask.org/en/latest/futures.html)\n",
    "* [Futures screencast](https://www.youtube.com/watch?v=07EiCpdhtDE)\n",
    "* [Futures examples](https://examples.dask.org/futures.html)"
   ]
  },
  {
   "cell_type": "markdown",
   "id": "b1cd2a83-1ef5-4bf5-ab6d-d3bf14c4de8b",
   "metadata": {},
   "source": [
    "### Delayed \n",
    "\n",
    "Similarly to `futures`, `delayed` can be used to support arbitrary task scheduling, but in the case of `delayed` this happens **lazily**. This is the important difference between futures and delayed, `delayed` constructs a graph while `futures` are eager.\n"
   ]
  },
  {
   "cell_type": "code",
   "execution_count": 12,
   "id": "5cd4ab43-87d0-4e0f-984b-569c2716cad9",
   "metadata": {},
   "outputs": [],
   "source": [
    "@dask.delayed\n",
    "def inc(x):\n",
    "    sleep(1)\n",
    "    return x + 1"
   ]
  },
  {
   "cell_type": "code",
   "execution_count": 13,
   "id": "91afd8d6-3f7a-4857-bb51-ba86ae34a341",
   "metadata": {},
   "outputs": [
    {
     "data": {
      "text/plain": [
       "Delayed('inc-2804d179-c1c9-4b1d-9ae3-ce9fe5d23a92')"
      ]
     },
     "execution_count": 13,
     "metadata": {},
     "output_type": "execute_result"
    }
   ],
   "source": [
    "%%time\n",
    "x = inc(1)\n",
    "x"
   ]
  },
  {
   "cell_type": "markdown",
   "id": "312dc42e-3795-402b-ab38-0584f6d45891",
   "metadata": {},
   "source": [
    "This ran immediately, since nothing has really happened yet.\n",
    "\n",
    "To get the result, call `compute`. Notice that this runs faster than the original code."
   ]
  },
  {
   "cell_type": "code",
   "execution_count": 14,
   "id": "9bdfc2d6-212f-48f6-a224-f3a6b6f3d0d4",
   "metadata": {},
   "outputs": [
    {
     "data": {
      "text/plain": [
       "2"
      ]
     },
     "execution_count": 14,
     "metadata": {},
     "output_type": "execute_result"
    }
   ],
   "source": [
    "x.compute()"
   ]
  },
  {
   "cell_type": "markdown",
   "id": "ec8b689c-a070-4faf-9bc9-8a0f702a403d",
   "metadata": {},
   "source": [
    "The same example we did with `client.map()`, using `delayed` would be"
   ]
  },
  {
   "cell_type": "code",
   "execution_count": 15,
   "id": "3f104ffe-c778-4ee5-91a6-14fb0bbded50",
   "metadata": {},
   "outputs": [],
   "source": [
    "%%time\n",
    "results = []\n",
    "for x in range(8):\n",
    "    y = inc(x)\n",
    "    results.append(y)\n",
    "    \n",
    "total = sum(results)"
   ]
  },
  {
   "cell_type": "code",
   "execution_count": 16,
   "id": "6027cba4-39b2-46d2-b3ef-76d012f4d544",
   "metadata": {},
   "outputs": [
    {
     "data": {
      "text/plain": [
       "36"
      ]
     },
     "execution_count": 16,
     "metadata": {},
     "output_type": "execute_result"
    }
   ],
   "source": [
    "total.compute()"
   ]
  },
  {
   "cell_type": "markdown",
   "id": "bb0ffe5d-6453-43f8-b92a-4b81edde93e6",
   "metadata": {},
   "source": [
    "**NOTE:** For an introductory lesson on delayed revisit:\n",
    "- https://tutorial.dask.org/03_dask.delayed.html\n",
    "\n",
    "**Useful links**\n",
    "\n",
    "* [Delayed documentation](https://docs.dask.org/en/latest/delayed.html)\n",
    "* [Delayed screencast](https://www.youtube.com/watch?v=SHqFmynRxVU)\n",
    "* [Delayed API](https://docs.dask.org/en/latest/delayed-api.html)\n",
    "* [Delayed examples](https://examples.dask.org/delayed.html)\n",
    "* [Delayed best practices](https://docs.dask.org/en/latest/delayed-best-practices.html)"
   ]
  },
  {
   "cell_type": "markdown",
   "id": "16467916-008c-4a21-bb1e-d374c530ee57",
   "metadata": {},
   "source": [
    "## Grown-up example: Scrapping and cleaning SO data\n",
    "\n",
    "In the re-cap as well as in plenty of introductory tutorials we use toy examples. In this section, we graduate to a grownup example. You will learn how to parallelize a scrapping and cleaning workflow.\n",
    "\n",
    "You'll be scraping multiple pages from https://stackoverflow.com/questions/ , cleaning the data you are receiving and doing some computations with it. You'll first see how the sequential code works, and then you'll use `futures` and `delayed` to do this in parallel\n",
    "\n",
    "Note about throttling: \n",
    "\n",
    "Stack exchange has a throttling limit.\n",
    "\n",
    "> If an application does not have an access_token, then the application shares an IP based quota with all other applications on that IP. This quota is based on the key being passed by the applications; it is the max of the daily request limit for the applications involved, which by default is 10,000. This quota scheme is essentially unchanged from earlier versions of the API.\n",
    "\n",
    "In the following code we will be working well within those limits, but if you want to explore more, keep in mind that limitations you'll run into. https://api.stackexchange.com/docs/throttle"
   ]
  },
  {
   "cell_type": "code",
   "execution_count": 20,
   "id": "5a749874-4920-4b70-b709-832043039c33",
   "metadata": {},
   "outputs": [],
   "source": [
    "import pandas as pd\n",
    "import re\n",
    "import requests\n",
    "from requests_html import HTML"
   ]
  },
  {
   "cell_type": "markdown",
   "id": "838fb5da-a9ee-4235-84f4-c92258b78154",
   "metadata": {},
   "source": [
    "\n",
    "\n",
    "TODO:\n",
    "\n",
    "    - Introduce the \"SO problem\"\n",
    "    - Write text around how to solve it serialy\n",
    "    - Write text around multiple ways to parallelize the workflow\n",
    "    - Write text around as_completed, vs dask dataframe example\n",
    "    - Select some parts to be exercises. \n",
    "     "
   ]
  },
  {
   "cell_type": "markdown",
   "id": "27fbd2ba-ada6-4da9-9aef-7e817f8e953b",
   "metadata": {},
   "source": [
    "### Stack Overflow walk around\n",
    "\n",
    "Before we start let's quickly see what kind of data are we going to be retrieving."
   ]
  },
  {
   "cell_type": "code",
   "execution_count": 21,
   "id": "bbcb49e1-f380-4982-8d72-dfe581a9714f",
   "metadata": {},
   "outputs": [
    {
     "data": {
      "text/plain": [
       "'https://stackoverflow.com/questions/tagged/dask?tab=Newest'"
      ]
     },
     "execution_count": 21,
     "metadata": {},
     "output_type": "execute_result"
    }
   ],
   "source": [
    "#Example url\n",
    "base_url = \"https://stackoverflow.com/questions/tagged/\"\n",
    "tag = \"dask\"\n",
    "query_filter = \"Newest\"\n",
    "url = f\"{base_url}{tag}?tab={query_filter}\"\n",
    "url"
   ]
  },
  {
   "cell_type": "code",
   "execution_count": 92,
   "id": "c19431d0-8e9a-42f2-8ed7-30994ed6986a",
   "metadata": {},
   "outputs": [],
   "source": [
    "r = requests.get(url)\n",
    "html_str = r.text\n",
    "html = HTML(html=html_str)\n"
   ]
  },
  {
   "cell_type": "markdown",
   "id": "eea631c7-76b1-4b26-aaee-ef42f2f472ba",
   "metadata": {},
   "source": [
    "`.s-post-summary`: Base parent container for a post summary\n",
    "\n",
    "https://stackoverflow.design/product/components/post-summary/\n",
    "\n",
    "`html.find(\".s-post-summary\")` returns list of 50 elements, let's explore one of them."
   ]
  },
  {
   "cell_type": "code",
   "execution_count": 26,
   "id": "7dc749f0-c7ea-44bf-aa9c-a8569d742b12",
   "metadata": {},
   "outputs": [
    {
     "data": {
      "text/plain": [
       "'0 votes\\n0 answers\\n10 views\\nCreating xr.DataArray with dask.delayed coordinates\\nI am trying to create a xr.DataArray from the output of dask.delayed. Both the data and its coordinates are read from file in the same call to the delayed function, therefore the coordinates are not ...\\npython\\ndask\\npython-xarray\\npnjun\\n109\\nasked 4 hours ago'"
      ]
     },
     "execution_count": 26,
     "metadata": {},
     "output_type": "execute_result"
    }
   ],
   "source": [
    "html.find(\".s-post-summary\")[0].text"
   ]
  },
  {
   "cell_type": "code",
   "execution_count": 27,
   "id": "ecb88c30-e6ea-426b-9322-bf9470de05ea",
   "metadata": {},
   "outputs": [
    {
     "name": "stdout",
     "output_type": "stream",
     "text": [
      "0 votes\n",
      "0 answers\n",
      "10 views\n",
      "Creating xr.DataArray with dask.delayed coordinates\n",
      "I am trying to create a xr.DataArray from the output of dask.delayed. Both the data and its coordinates are read from file in the same call to the delayed function, therefore the coordinates are not ...\n",
      "python\n",
      "dask\n",
      "python-xarray\n",
      "pnjun\n",
      "109\n",
      "asked 4 hours ago\n"
     ]
    }
   ],
   "source": [
    "print(html.find(\".s-post-summary\")[0].text)"
   ]
  },
  {
   "cell_type": "code",
   "execution_count": 36,
   "id": "a514c55c-40ba-496c-8211-a99e01832221",
   "metadata": {},
   "outputs": [],
   "source": [
    "question = html.find(\".s-post-summary\")[0]"
   ]
  },
  {
   "cell_type": "code",
   "execution_count": 39,
   "id": "39b1a8aa-9f23-4f3e-b3db-5396ed72c9ff",
   "metadata": {},
   "outputs": [
    {
     "data": {
      "text/plain": [
       "'0 votes\\n0 answers\\n10 views\\nCreating xr.DataArray with dask.delayed coordinates\\nI am trying to create a xr.DataArray from the output of dask.delayed. Both the data and its coordinates are read from file in the same call to the delayed function, therefore the coordinates are not ...\\npython\\ndask\\npython-xarray\\npnjun\\n109\\nasked 4 hours ago'"
      ]
     },
     "execution_count": 39,
     "metadata": {},
     "output_type": "execute_result"
    }
   ],
   "source": [
    "question.text"
   ]
  },
  {
   "cell_type": "code",
   "execution_count": 42,
   "id": "e5d96971-7404-49c8-9d10-b5659e36badd",
   "metadata": {
    "tags": []
   },
   "outputs": [
    {
     "data": {
      "text/plain": [
       "'Creating xr.DataArray with dask.delayed coordinates'"
      ]
     },
     "execution_count": 42,
     "metadata": {},
     "output_type": "execute_result"
    }
   ],
   "source": [
    "question.find(\".s-post-summary--content-title\", first=True).text"
   ]
  },
  {
   "cell_type": "code",
   "execution_count": 41,
   "id": "e523217d-7ff3-4d47-9f24-d5c2ac461c1b",
   "metadata": {},
   "outputs": [
    {
     "data": {
      "text/plain": [
       "'0 votes\\n0 answers\\n10 views'"
      ]
     },
     "execution_count": 41,
     "metadata": {},
     "output_type": "execute_result"
    }
   ],
   "source": [
    "question.find(\".s-post-summary--stats\", first=True).text"
   ]
  },
  {
   "cell_type": "code",
   "execution_count": 43,
   "id": "e848e39a-7daf-4c20-ac0d-feae561b7c89",
   "metadata": {},
   "outputs": [
    {
     "data": {
      "text/plain": [
       "'python\\ndask\\npython-xarray'"
      ]
     },
     "execution_count": 43,
     "metadata": {},
     "output_type": "execute_result"
    }
   ],
   "source": [
    "question.find(\".s-post-summary--meta-tags\", first=True).text"
   ]
  },
  {
   "cell_type": "markdown",
   "id": "d22c3321-d821-4c89-b90d-a1620312db0b",
   "metadata": {},
   "source": [
    "## Scrape and clean \n",
    "\n",
    "With this information, we wrote some functions, that get a page and clean the data from all the posts in that page and returns it as a list of dictionaries."
   ]
  },
  {
   "cell_type": "code",
   "execution_count": 136,
   "id": "26ea6fc0-74da-4c51-ab04-975ac51aed31",
   "metadata": {},
   "outputs": [],
   "source": [
    "def extract_url_and_parse_html(url):\n",
    "    \"\"\"\n",
    "    Given a SO url gets questions summary and cleans data.\n",
    "    Returns a list of dictionaries with the clean data.\n",
    "    \n",
    "    see also: clean_scraped_data\n",
    "    \"\"\"\n",
    "    # function that will parse a single page\n",
    "    r = requests.get(url)\n",
    "    \n",
    "    if r.status_code not in range(200, 299):\n",
    "        return []\n",
    "    \n",
    "    #get html\n",
    "    html = HTML(html=r.text)\n",
    "        \n",
    "    questions = html.find(\".s-post-summary\")\n",
    "    \n",
    "    key_class_dict = {\"title\": \".s-post-summary--content-title\" ,\n",
    "                  \"stats\": \".s-post-summary--stats\",\n",
    "                  \"tags\": \".s-post-summary--meta-tags\"}\n",
    "\n",
    "    datas = []\n",
    "\n",
    "    for q_el in questions:\n",
    "        q_data = {}\n",
    "        for k, v in key_class_dict.items():\n",
    "            q_data[k] = clean_scraped_data(q_el.find(v, first=True).text, k)\n",
    "        \n",
    "        q_data[\"votes\"] = q_data[\"stats\"][0]\n",
    "        q_data[\"answers\"] = q_data[\"stats\"][1]\n",
    "        q_data[\"views\"] = q_data[\"stats\"][2]\n",
    "        datas.append(q_data)\n",
    "    return datas"
   ]
  },
  {
   "cell_type": "code",
   "execution_count": 137,
   "id": "edb0251e-0f03-4cb5-a2f2-b7aada3f9a08",
   "metadata": {},
   "outputs": [],
   "source": [
    "def clean_scraped_data(text, keyname=None):\n",
    "    \"\"\"\n",
    "    Cleans the scraped data once in text format\n",
    "    \"\"\"\n",
    "    if keyname == \"stats\":\n",
    "        # '12415 votes\\n51 answers\\n3.1m views' -> ['12415 votes', '51 answers', '3.1m views']\n",
    "        # t.split()[0] grabs what is before the space and we apply the str_to_num func\n",
    "        \n",
    "        text = [str_to_num(t.split()[0]) for t in text.split(\"\\n\")]\n",
    "\n",
    "    elif keyname == \"tags\":\n",
    "        text  = text.split(\"\\n\")\n",
    "        \n",
    "    return text"
   ]
  },
  {
   "cell_type": "code",
   "execution_count": 138,
   "id": "04b280a0-cd8c-44f5-a60e-59737fde06f0",
   "metadata": {
    "tags": []
   },
   "outputs": [],
   "source": [
    "def str_to_num(x):\n",
    "    \"\"\"\n",
    "    Converts strings of the form '1.5k' or '3.1m' into numbers\n",
    "    \"\"\"\n",
    "    \n",
    "    mult = {'k': 1e3, 'm': 1e6}\n",
    "\n",
    "    if ('k' in x) or ('m' in x):\n",
    "        num =int(float(x[:-1])*mult[x[-1]])\n",
    "    else:\n",
    "        num = int(float(x))\n",
    "        \n",
    "    return num"
   ]
  },
  {
   "cell_type": "markdown",
   "id": "724ba7a7-cfd0-4d8f-ab95-d1cd9741a6e1",
   "metadata": {},
   "source": [
    "## Let's scrape \n",
    "\n",
    "The following function will scrape a page with a specific `tag` and `query_filter` and return a `pandas.Dataframe`"
   ]
  },
  {
   "cell_type": "code",
   "execution_count": 139,
   "id": "ba78c46b-12ed-4999-9439-9421cbea9dcc",
   "metadata": {},
   "outputs": [],
   "source": [
    "def scrape_tag(page_num, tag=\"dask\", query_filter=\"Newest\", pagesize=50):\n",
    "    \n",
    "    base_url = \"https://stackoverflow.com/questions/tagged/\"\n",
    "    url = f\"{base_url}{tag}?tab={query_filter}&page={page_num}&pagesize={pagesize}\"\n",
    "    \n",
    "    datas_page = extract_url_and_parse_html(url)\n",
    "\n",
    "    return pd.DataFrame(datas_page)"
   ]
  },
  {
   "cell_type": "markdown",
   "id": "1f068969-e119-412a-9f17-98a2e2b642e9",
   "metadata": {},
   "source": [
    "## Sequential\n",
    "\n",
    "Let's get some data for the first 32 pages, where we have 50 posts per page. "
   ]
  },
  {
   "cell_type": "code",
   "execution_count": 143,
   "id": "da12ab6c-941c-470a-bbe5-9308a9db51a5",
   "metadata": {},
   "outputs": [
    {
     "name": "stdout",
     "output_type": "stream",
     "text": [
      "CPU times: user 7.33 s, sys: 192 ms, total: 7.52 s\n",
      "Wall time: 12.2 s\n"
     ]
    }
   ],
   "source": [
    "%%time\n",
    "pd_res = []\n",
    "for page in range(1, 33):\n",
    "    pd_res.append(scrape_tag(page))\n",
    "\n",
    "##pd_res"
   ]
  },
  {
   "cell_type": "code",
   "execution_count": 144,
   "id": "5a37b2ee-5d3b-47b2-9552-3def0e355f5f",
   "metadata": {},
   "outputs": [
    {
     "data": {
      "text/plain": [
       "32"
      ]
     },
     "execution_count": 144,
     "metadata": {},
     "output_type": "execute_result"
    }
   ],
   "source": [
    "len(pd_res)"
   ]
  },
  {
   "cell_type": "code",
   "execution_count": 145,
   "id": "b1ff6a6b-c96e-457b-a000-a6fd59b7d16e",
   "metadata": {},
   "outputs": [
    {
     "data": {
      "text/html": [
       "<div>\n",
       "<style scoped>\n",
       "    .dataframe tbody tr th:only-of-type {\n",
       "        vertical-align: middle;\n",
       "    }\n",
       "\n",
       "    .dataframe tbody tr th {\n",
       "        vertical-align: top;\n",
       "    }\n",
       "\n",
       "    .dataframe thead th {\n",
       "        text-align: right;\n",
       "    }\n",
       "</style>\n",
       "<table border=\"1\" class=\"dataframe\">\n",
       "  <thead>\n",
       "    <tr style=\"text-align: right;\">\n",
       "      <th></th>\n",
       "      <th>title</th>\n",
       "      <th>stats</th>\n",
       "      <th>tags</th>\n",
       "      <th>votes</th>\n",
       "      <th>answers</th>\n",
       "      <th>views</th>\n",
       "    </tr>\n",
       "  </thead>\n",
       "  <tbody>\n",
       "    <tr>\n",
       "      <th>0</th>\n",
       "      <td>Creating xr.DataArray with dask.delayed coordi...</td>\n",
       "      <td>[0, 0, 10]</td>\n",
       "      <td>[python, dask, python-xarray]</td>\n",
       "      <td>0</td>\n",
       "      <td>0</td>\n",
       "      <td>10</td>\n",
       "    </tr>\n",
       "    <tr>\n",
       "      <th>1</th>\n",
       "      <td>Insert data to mssql in partitions</td>\n",
       "      <td>[0, 0, 20]</td>\n",
       "      <td>[python, sql-server, dataframe, sqlalchemy, dask]</td>\n",
       "      <td>0</td>\n",
       "      <td>0</td>\n",
       "      <td>20</td>\n",
       "    </tr>\n",
       "    <tr>\n",
       "      <th>2</th>\n",
       "      <td>How to check if file is empty in dask python w...</td>\n",
       "      <td>[0, 0, 24]</td>\n",
       "      <td>[python, dask]</td>\n",
       "      <td>0</td>\n",
       "      <td>0</td>\n",
       "      <td>24</td>\n",
       "    </tr>\n",
       "    <tr>\n",
       "      <th>3</th>\n",
       "      <td>How to check if xarray's `DataArray` is `dask....</td>\n",
       "      <td>[1, 1, 21]</td>\n",
       "      <td>[python, dask, python-xarray]</td>\n",
       "      <td>1</td>\n",
       "      <td>1</td>\n",
       "      <td>21</td>\n",
       "    </tr>\n",
       "    <tr>\n",
       "      <th>4</th>\n",
       "      <td>How to calculate the columnwise minimum of a d...</td>\n",
       "      <td>[0, 0, 6]</td>\n",
       "      <td>[dask]</td>\n",
       "      <td>0</td>\n",
       "      <td>0</td>\n",
       "      <td>6</td>\n",
       "    </tr>\n",
       "  </tbody>\n",
       "</table>\n",
       "</div>"
      ],
      "text/plain": [
       "                                               title       stats  \\\n",
       "0  Creating xr.DataArray with dask.delayed coordi...  [0, 0, 10]   \n",
       "1                 Insert data to mssql in partitions  [0, 0, 20]   \n",
       "2  How to check if file is empty in dask python w...  [0, 0, 24]   \n",
       "3  How to check if xarray's `DataArray` is `dask....  [1, 1, 21]   \n",
       "4  How to calculate the columnwise minimum of a d...   [0, 0, 6]   \n",
       "\n",
       "                                                tags  votes  answers  views  \n",
       "0                      [python, dask, python-xarray]      0        0     10  \n",
       "1  [python, sql-server, dataframe, sqlalchemy, dask]      0        0     20  \n",
       "2                                     [python, dask]      0        0     24  \n",
       "3                      [python, dask, python-xarray]      1        1     21  \n",
       "4                                             [dask]      0        0      6  "
      ]
     },
     "execution_count": 145,
     "metadata": {},
     "output_type": "execute_result"
    }
   ],
   "source": [
    "pd_res[0].head()"
   ]
  },
  {
   "cell_type": "markdown",
   "id": "d2579d7f-a614-48f5-824b-e57d5b159460",
   "metadata": {},
   "source": [
    "## Parallel\n",
    "This took ~12 s, let's see how long it takes if we do it in parallel using futures and delayed."
   ]
  },
  {
   "cell_type": "markdown",
   "id": "7eda0d13-9896-4c59-827c-fa06264aaae9",
   "metadata": {},
   "source": [
    "## client.submit\n",
    "\n",
    "Notice that the code changes are minimal compare to the sequential version"
   ]
  },
  {
   "cell_type": "code",
   "execution_count": 146,
   "id": "c73a67bd-eb37-4453-a7a2-41e13aa22912",
   "metadata": {},
   "outputs": [
    {
     "name": "stdout",
     "output_type": "stream",
     "text": [
      "CPU times: user 373 ms, sys: 73.7 ms, total: 446 ms\n",
      "Wall time: 2.52 s\n"
     ]
    }
   ],
   "source": [
    "%%time\n",
    "fut = []\n",
    "for page_num in range(1, 33):\n",
    "    future = client.submit(scrape_tag, page_num)\n",
    "    fut.append(future)\n",
    "\n",
    "res = client.gather(fut)"
   ]
  },
  {
   "cell_type": "code",
   "execution_count": 147,
   "id": "6234ad38-f3ea-4cb2-a12f-0b57e24b2204",
   "metadata": {},
   "outputs": [
    {
     "data": {
      "text/html": [
       "<strong>Future: scrape_tag</strong>\n",
       "<span style=\"color: var(--jp-ui-font-color2, gray)\"> status: </span>\n",
       "\n",
       "\n",
       "<span style=\"color: var(--jp-error-color0, black)\">finished</span>,\n",
       "\n",
       "\n",
       "\n",
       "<span style=\"color: var(--jp-ui-font-color2, gray)\"> type:</span> pandas.core.frame.DataFrame,\n",
       "\n",
       "\n",
       "<span style=\"color: var(--jp-ui-font-color2, gray)\"> key:</span> scrape_tag-86e8e24952176451ff9f78997fa627ef"
      ],
      "text/plain": [
       "<Future: finished, type: pandas.core.frame.DataFrame, key: scrape_tag-86e8e24952176451ff9f78997fa627ef>"
      ]
     },
     "execution_count": 147,
     "metadata": {},
     "output_type": "execute_result"
    }
   ],
   "source": [
    "fut[0]"
   ]
  },
  {
   "cell_type": "code",
   "execution_count": 148,
   "id": "3f84e829-da1c-4f54-a568-b11a6aa67cac",
   "metadata": {},
   "outputs": [
    {
     "data": {
      "text/html": [
       "<div>\n",
       "<style scoped>\n",
       "    .dataframe tbody tr th:only-of-type {\n",
       "        vertical-align: middle;\n",
       "    }\n",
       "\n",
       "    .dataframe tbody tr th {\n",
       "        vertical-align: top;\n",
       "    }\n",
       "\n",
       "    .dataframe thead th {\n",
       "        text-align: right;\n",
       "    }\n",
       "</style>\n",
       "<table border=\"1\" class=\"dataframe\">\n",
       "  <thead>\n",
       "    <tr style=\"text-align: right;\">\n",
       "      <th></th>\n",
       "      <th>title</th>\n",
       "      <th>stats</th>\n",
       "      <th>tags</th>\n",
       "      <th>votes</th>\n",
       "      <th>answers</th>\n",
       "      <th>views</th>\n",
       "    </tr>\n",
       "  </thead>\n",
       "  <tbody>\n",
       "    <tr>\n",
       "      <th>0</th>\n",
       "      <td>Creating xr.DataArray with dask.delayed coordi...</td>\n",
       "      <td>[0, 0, 10]</td>\n",
       "      <td>[python, dask, python-xarray]</td>\n",
       "      <td>0</td>\n",
       "      <td>0</td>\n",
       "      <td>10</td>\n",
       "    </tr>\n",
       "    <tr>\n",
       "      <th>1</th>\n",
       "      <td>Insert data to mssql in partitions</td>\n",
       "      <td>[0, 0, 20]</td>\n",
       "      <td>[python, sql-server, dataframe, sqlalchemy, dask]</td>\n",
       "      <td>0</td>\n",
       "      <td>0</td>\n",
       "      <td>20</td>\n",
       "    </tr>\n",
       "    <tr>\n",
       "      <th>2</th>\n",
       "      <td>How to check if file is empty in dask python w...</td>\n",
       "      <td>[0, 0, 24]</td>\n",
       "      <td>[python, dask]</td>\n",
       "      <td>0</td>\n",
       "      <td>0</td>\n",
       "      <td>24</td>\n",
       "    </tr>\n",
       "  </tbody>\n",
       "</table>\n",
       "</div>"
      ],
      "text/plain": [
       "                                               title       stats  \\\n",
       "0  Creating xr.DataArray with dask.delayed coordi...  [0, 0, 10]   \n",
       "1                 Insert data to mssql in partitions  [0, 0, 20]   \n",
       "2  How to check if file is empty in dask python w...  [0, 0, 24]   \n",
       "\n",
       "                                                tags  votes  answers  views  \n",
       "0                      [python, dask, python-xarray]      0        0     10  \n",
       "1  [python, sql-server, dataframe, sqlalchemy, dask]      0        0     20  \n",
       "2                                     [python, dask]      0        0     24  "
      ]
     },
     "execution_count": 148,
     "metadata": {},
     "output_type": "execute_result"
    }
   ],
   "source": [
    "res[0].head(3)"
   ]
  },
  {
   "cell_type": "markdown",
   "id": "05f5c160-8af2-4299-91a0-ddd98a7b93b7",
   "metadata": {},
   "source": [
    "### `client.map()`\n",
    "\n",
    "We can do this in a different way using `client.map()`, and in fewer lines of code. We first will delete the futures in `fut` as dask is smart enough to realize we already computed this."
   ]
  },
  {
   "cell_type": "code",
   "execution_count": 149,
   "id": "4f24b006-7ffd-4d92-a18d-f815182dd2a2",
   "metadata": {},
   "outputs": [],
   "source": [
    "del fut"
   ]
  },
  {
   "cell_type": "code",
   "execution_count": 151,
   "id": "5605c352-289b-4da7-a9e7-6c150e0aac79",
   "metadata": {},
   "outputs": [
    {
     "name": "stdout",
     "output_type": "stream",
     "text": [
      "CPU times: user 250 ms, sys: 58 ms, total: 308 ms\n",
      "Wall time: 2.55 s\n"
     ]
    }
   ],
   "source": [
    "%%time\n",
    "fut_map = client.map(scrape_tag, range(1, 33)) #this returns a list of futures\n",
    "res_map = client.gather(fut_map)"
   ]
  },
  {
   "cell_type": "code",
   "execution_count": 152,
   "id": "1c90e623-df39-48fd-a9f1-3ae00fdfd5be",
   "metadata": {},
   "outputs": [
    {
     "data": {
      "text/html": [
       "<div>\n",
       "<style scoped>\n",
       "    .dataframe tbody tr th:only-of-type {\n",
       "        vertical-align: middle;\n",
       "    }\n",
       "\n",
       "    .dataframe tbody tr th {\n",
       "        vertical-align: top;\n",
       "    }\n",
       "\n",
       "    .dataframe thead th {\n",
       "        text-align: right;\n",
       "    }\n",
       "</style>\n",
       "<table border=\"1\" class=\"dataframe\">\n",
       "  <thead>\n",
       "    <tr style=\"text-align: right;\">\n",
       "      <th></th>\n",
       "      <th>title</th>\n",
       "      <th>stats</th>\n",
       "      <th>tags</th>\n",
       "      <th>votes</th>\n",
       "      <th>answers</th>\n",
       "      <th>views</th>\n",
       "    </tr>\n",
       "  </thead>\n",
       "  <tbody>\n",
       "    <tr>\n",
       "      <th>0</th>\n",
       "      <td>Creating xr.DataArray with dask.delayed coordi...</td>\n",
       "      <td>[0, 0, 10]</td>\n",
       "      <td>[python, dask, python-xarray]</td>\n",
       "      <td>0</td>\n",
       "      <td>0</td>\n",
       "      <td>10</td>\n",
       "    </tr>\n",
       "    <tr>\n",
       "      <th>1</th>\n",
       "      <td>Insert data to mssql in partitions</td>\n",
       "      <td>[0, 0, 20]</td>\n",
       "      <td>[python, sql-server, dataframe, sqlalchemy, dask]</td>\n",
       "      <td>0</td>\n",
       "      <td>0</td>\n",
       "      <td>20</td>\n",
       "    </tr>\n",
       "    <tr>\n",
       "      <th>2</th>\n",
       "      <td>How to check if file is empty in dask python w...</td>\n",
       "      <td>[0, 0, 24]</td>\n",
       "      <td>[python, dask]</td>\n",
       "      <td>0</td>\n",
       "      <td>0</td>\n",
       "      <td>24</td>\n",
       "    </tr>\n",
       "  </tbody>\n",
       "</table>\n",
       "</div>"
      ],
      "text/plain": [
       "                                               title       stats  \\\n",
       "0  Creating xr.DataArray with dask.delayed coordi...  [0, 0, 10]   \n",
       "1                 Insert data to mssql in partitions  [0, 0, 20]   \n",
       "2  How to check if file is empty in dask python w...  [0, 0, 24]   \n",
       "\n",
       "                                                tags  votes  answers  views  \n",
       "0                      [python, dask, python-xarray]      0        0     10  \n",
       "1  [python, sql-server, dataframe, sqlalchemy, dask]      0        0     20  \n",
       "2                                     [python, dask]      0        0     24  "
      ]
     },
     "execution_count": 152,
     "metadata": {},
     "output_type": "execute_result"
    }
   ],
   "source": [
    "res_map[0].head(3)"
   ]
  },
  {
   "cell_type": "markdown",
   "id": "57f28d2f-2b44-428c-afca-402b7988a6ea",
   "metadata": {},
   "source": [
    "### `client.map()` with lambda functions\n",
    "\n",
    "Let's suppose that we want to explore a different `tag`. We can use `client.map` along with a `lambda` function to pass the variable along. "
   ]
  },
  {
   "cell_type": "code",
   "execution_count": 153,
   "id": "06fb0191-32a9-4061-b459-a7c4de95bf77",
   "metadata": {},
   "outputs": [
    {
     "name": "stdout",
     "output_type": "stream",
     "text": [
      "CPU times: user 282 ms, sys: 60.8 ms, total: 342 ms\n",
      "Wall time: 2.58 s\n"
     ]
    }
   ],
   "source": [
    "%%time\n",
    "fut_py = client.map(lambda p: scrape_tag(p, tag=\"python\"), range(1, 33))\n",
    "res_py = client.gather(fut_py)"
   ]
  },
  {
   "cell_type": "code",
   "execution_count": 154,
   "id": "fadbd3cf-3956-42b3-94b8-76737fcd5ab5",
   "metadata": {},
   "outputs": [
    {
     "data": {
      "text/html": [
       "<div>\n",
       "<style scoped>\n",
       "    .dataframe tbody tr th:only-of-type {\n",
       "        vertical-align: middle;\n",
       "    }\n",
       "\n",
       "    .dataframe tbody tr th {\n",
       "        vertical-align: top;\n",
       "    }\n",
       "\n",
       "    .dataframe thead th {\n",
       "        text-align: right;\n",
       "    }\n",
       "</style>\n",
       "<table border=\"1\" class=\"dataframe\">\n",
       "  <thead>\n",
       "    <tr style=\"text-align: right;\">\n",
       "      <th></th>\n",
       "      <th>title</th>\n",
       "      <th>stats</th>\n",
       "      <th>tags</th>\n",
       "      <th>votes</th>\n",
       "      <th>answers</th>\n",
       "      <th>views</th>\n",
       "    </tr>\n",
       "  </thead>\n",
       "  <tbody>\n",
       "    <tr>\n",
       "      <th>0</th>\n",
       "      <td>What does 1.(x = y or z ) &amp; 2.(x=y and z) assi...</td>\n",
       "      <td>[0, 0, 2]</td>\n",
       "      <td>[python]</td>\n",
       "      <td>0</td>\n",
       "      <td>0</td>\n",
       "      <td>2</td>\n",
       "    </tr>\n",
       "    <tr>\n",
       "      <th>1</th>\n",
       "      <td>factorial calculation by user defining functio...</td>\n",
       "      <td>[0, 0, 2]</td>\n",
       "      <td>[python, python-3.x, python-2.7]</td>\n",
       "      <td>0</td>\n",
       "      <td>0</td>\n",
       "      <td>2</td>\n",
       "    </tr>\n",
       "    <tr>\n",
       "      <th>2</th>\n",
       "      <td>Extracting minimum/maximum/average value from ...</td>\n",
       "      <td>[0, 0, 2]</td>\n",
       "      <td>[python, numpy]</td>\n",
       "      <td>0</td>\n",
       "      <td>0</td>\n",
       "      <td>2</td>\n",
       "    </tr>\n",
       "  </tbody>\n",
       "</table>\n",
       "</div>"
      ],
      "text/plain": [
       "                                               title      stats  \\\n",
       "0  What does 1.(x = y or z ) & 2.(x=y and z) assi...  [0, 0, 2]   \n",
       "1  factorial calculation by user defining functio...  [0, 0, 2]   \n",
       "2  Extracting minimum/maximum/average value from ...  [0, 0, 2]   \n",
       "\n",
       "                               tags  votes  answers  views  \n",
       "0                          [python]      0        0      2  \n",
       "1  [python, python-3.x, python-2.7]      0        0      2  \n",
       "2                   [python, numpy]      0        0      2  "
      ]
     },
     "execution_count": 154,
     "metadata": {},
     "output_type": "execute_result"
    }
   ],
   "source": [
    "res_py[0].head(3)"
   ]
  },
  {
   "cell_type": "markdown",
   "id": "1c6bdbf0-c04a-4a7c-9f44-e6883165c171",
   "metadata": {},
   "source": [
    "## `delayed` \n",
    "\n",
    "Another approach to this problem is to use delayed. Let's create a separate function which is the **exact same** as `scrap_tag` but we will use now the `@dask.delayed` decorator. \n",
    "\n",
    "For simplicity, I will rename the function, but keep in mind that nothing has changed"
   ]
  },
  {
   "cell_type": "code",
   "execution_count": 155,
   "id": "755b7aa2-0b08-42e0-b3f9-bd9cf7992f49",
   "metadata": {},
   "outputs": [],
   "source": [
    "@dask.delayed\n",
    "def scrape_tag_delayed(page_num, tag=\"dask\", query_filter=\"Newest\", pagesize=50):\n",
    "    \n",
    "    base_url = \"https://stackoverflow.com/questions/tagged/\"\n",
    "    url = f\"{base_url}{tag}?tab={query_filter}&page={page_num}&pagesize={pagesize}\"\n",
    "    \n",
    "    datas_page = extract_url_and_parse_html(url)\n",
    "\n",
    "    return pd.DataFrame(datas_page)"
   ]
  },
  {
   "cell_type": "code",
   "execution_count": 160,
   "id": "2a04db8e-a5f6-4077-9cc0-c3be80a7c6de",
   "metadata": {},
   "outputs": [
    {
     "name": "stdout",
     "output_type": "stream",
     "text": [
      "CPU times: user 2.97 ms, sys: 800 µs, total: 3.77 ms\n",
      "Wall time: 4.03 ms\n"
     ]
    }
   ],
   "source": [
    "%%time\n",
    "res = []\n",
    "for page in range(1, 33):\n",
    "    res.append(scrape_tag_delayed(page))"
   ]
  },
  {
   "cell_type": "markdown",
   "id": "89b038cc-f155-4c1d-aaea-b0ad86e0e54a",
   "metadata": {},
   "source": [
    "Notice that nothing happened in the dashboard, and thing run very fast. This is because no computation has happened yet. Remember, `delayed` is **lazy**"
   ]
  },
  {
   "cell_type": "code",
   "execution_count": 163,
   "id": "f772bf99-a14a-40c0-b7bd-1da131f6dff0",
   "metadata": {},
   "outputs": [
    {
     "data": {
      "text/plain": [
       "[Delayed('scrape_tag_delayed-834741ab-246e-4e86-b256-7a76660c971d'),\n",
       " Delayed('scrape_tag_delayed-2582c001-84ec-4f59-ba0e-b275ee47290d'),\n",
       " Delayed('scrape_tag_delayed-1e6e3e34-a55e-4fe9-b7b0-87f0915af4a1')]"
      ]
     },
     "execution_count": 163,
     "metadata": {},
     "output_type": "execute_result"
    }
   ],
   "source": [
    "res[:3]"
   ]
  },
  {
   "cell_type": "code",
   "execution_count": 164,
   "id": "6d37347b-8f8b-459e-be1a-e3a0da5169e0",
   "metadata": {},
   "outputs": [
    {
     "name": "stdout",
     "output_type": "stream",
     "text": [
      "CPU times: user 266 ms, sys: 55.3 ms, total: 322 ms\n",
      "Wall time: 2.46 s\n"
     ]
    }
   ],
   "source": [
    "%%time\n",
    "r = dask.compute(res)"
   ]
  },
  {
   "cell_type": "code",
   "execution_count": null,
   "id": "8c572b59-118a-4d11-8137-36662d16a847",
   "metadata": {},
   "outputs": [],
   "source": []
  },
  {
   "cell_type": "markdown",
   "id": "6b91a94b-40f1-4312-88ea-1506b405dee8",
   "metadata": {},
   "source": [
    "# wait as_completed and do things"
   ]
  },
  {
   "cell_type": "code",
   "execution_count": 169,
   "id": "a50089dc-20ca-44d7-9c45-c3fd2a7814d3",
   "metadata": {},
   "outputs": [],
   "source": [
    "from dask.distributed import as_completed"
   ]
  },
  {
   "cell_type": "markdown",
   "id": "0143c29a-b4f3-4a1f-b62f-2b3c1474747b",
   "metadata": {},
   "source": [
    "## NOTE\n",
    "HERE DO EXAMPLE BELOW WITH WAIT AND TIME IT "
   ]
  },
  {
   "cell_type": "code",
   "execution_count": null,
   "id": "b8f1937c-2d27-4c3a-9c1b-d0a32404bb88",
   "metadata": {},
   "outputs": [],
   "source": []
  },
  {
   "cell_type": "code",
   "execution_count": null,
   "id": "5f7d5c19-5fde-4474-866c-b7d1b3711592",
   "metadata": {},
   "outputs": [],
   "source": []
  },
  {
   "cell_type": "code",
   "execution_count": 189,
   "id": "e1d08e82-47eb-4b55-9a40-a5cd11dddf5b",
   "metadata": {},
   "outputs": [
    {
     "name": "stdout",
     "output_type": "stream",
     "text": [
      "CPU times: user 35.5 ms, sys: 7.28 ms, total: 42.8 ms\n",
      "Wall time: 51.7 ms\n"
     ]
    },
    {
     "data": {
      "text/plain": [
       "105874"
      ]
     },
     "execution_count": 189,
     "metadata": {},
     "output_type": "execute_result"
    }
   ],
   "source": [
    "%%time\n",
    "t15 = client.map(scrape_tag, range(15))\n",
    "\n",
    "tot_views= 0 \n",
    "\n",
    "for future in as_completed(t15):\n",
    "    test = future.result()['view']\n",
    "    tot_views += test.sum()\n",
    "\n",
    "tot_views"
   ]
  },
  {
   "cell_type": "code",
   "execution_count": 118,
   "id": "7ff6e847-03df-4c7c-9be7-cc2ad8ff698e",
   "metadata": {},
   "outputs": [],
   "source": [
    "import dask.dataframe as dd"
   ]
  },
  {
   "cell_type": "code",
   "execution_count": 183,
   "id": "1e92d0ea-339b-4651-9aeb-57fc274cba8b",
   "metadata": {},
   "outputs": [],
   "source": [
    "test_del = dd.from_delayed(t15)"
   ]
  },
  {
   "cell_type": "code",
   "execution_count": 184,
   "id": "e53622c1-95dd-4018-aba1-8025fb61dd3e",
   "metadata": {},
   "outputs": [
    {
     "data": {
      "text/html": [
       "<div><strong>Dask DataFrame Structure:</strong></div>\n",
       "<div>\n",
       "<style scoped>\n",
       "    .dataframe tbody tr th:only-of-type {\n",
       "        vertical-align: middle;\n",
       "    }\n",
       "\n",
       "    .dataframe tbody tr th {\n",
       "        vertical-align: top;\n",
       "    }\n",
       "\n",
       "    .dataframe thead th {\n",
       "        text-align: right;\n",
       "    }\n",
       "</style>\n",
       "<table border=\"1\" class=\"dataframe\">\n",
       "  <thead>\n",
       "    <tr style=\"text-align: right;\">\n",
       "      <th></th>\n",
       "      <th>title</th>\n",
       "      <th>stats</th>\n",
       "      <th>tags</th>\n",
       "      <th>vote</th>\n",
       "      <th>answer</th>\n",
       "      <th>view</th>\n",
       "    </tr>\n",
       "    <tr>\n",
       "      <th>npartitions=15</th>\n",
       "      <th></th>\n",
       "      <th></th>\n",
       "      <th></th>\n",
       "      <th></th>\n",
       "      <th></th>\n",
       "      <th></th>\n",
       "    </tr>\n",
       "  </thead>\n",
       "  <tbody>\n",
       "    <tr>\n",
       "      <th></th>\n",
       "      <td>object</td>\n",
       "      <td>object</td>\n",
       "      <td>object</td>\n",
       "      <td>int64</td>\n",
       "      <td>int64</td>\n",
       "      <td>int64</td>\n",
       "    </tr>\n",
       "    <tr>\n",
       "      <th></th>\n",
       "      <td>...</td>\n",
       "      <td>...</td>\n",
       "      <td>...</td>\n",
       "      <td>...</td>\n",
       "      <td>...</td>\n",
       "      <td>...</td>\n",
       "    </tr>\n",
       "    <tr>\n",
       "      <th>...</th>\n",
       "      <td>...</td>\n",
       "      <td>...</td>\n",
       "      <td>...</td>\n",
       "      <td>...</td>\n",
       "      <td>...</td>\n",
       "      <td>...</td>\n",
       "    </tr>\n",
       "    <tr>\n",
       "      <th></th>\n",
       "      <td>...</td>\n",
       "      <td>...</td>\n",
       "      <td>...</td>\n",
       "      <td>...</td>\n",
       "      <td>...</td>\n",
       "      <td>...</td>\n",
       "    </tr>\n",
       "    <tr>\n",
       "      <th></th>\n",
       "      <td>...</td>\n",
       "      <td>...</td>\n",
       "      <td>...</td>\n",
       "      <td>...</td>\n",
       "      <td>...</td>\n",
       "      <td>...</td>\n",
       "    </tr>\n",
       "  </tbody>\n",
       "</table>\n",
       "</div>\n",
       "<div>Dask Name: from-delayed, 16 graph layers</div>"
      ],
      "text/plain": [
       "Dask DataFrame Structure:\n",
       "                 title   stats    tags   vote answer   view\n",
       "npartitions=15                                             \n",
       "                object  object  object  int64  int64  int64\n",
       "                   ...     ...     ...    ...    ...    ...\n",
       "...                ...     ...     ...    ...    ...    ...\n",
       "                   ...     ...     ...    ...    ...    ...\n",
       "                   ...     ...     ...    ...    ...    ...\n",
       "Dask Name: from-delayed, 16 graph layers"
      ]
     },
     "execution_count": 184,
     "metadata": {},
     "output_type": "execute_result"
    }
   ],
   "source": [
    "test_del"
   ]
  },
  {
   "cell_type": "code",
   "execution_count": 185,
   "id": "0e25d438-200b-4291-ba4e-470f32596ce1",
   "metadata": {},
   "outputs": [
    {
     "data": {
      "text/plain": [
       "dd.Scalar<series-..., dtype=int64>"
      ]
     },
     "execution_count": 185,
     "metadata": {},
     "output_type": "execute_result"
    }
   ],
   "source": [
    "test_del['view'].sum()"
   ]
  },
  {
   "cell_type": "code",
   "execution_count": 186,
   "id": "9f0e5f6f-c3e2-4a44-9199-fc95bf26a512",
   "metadata": {},
   "outputs": [
    {
     "name": "stdout",
     "output_type": "stream",
     "text": [
      "CPU times: user 37.5 ms, sys: 4.54 ms, total: 42.1 ms\n",
      "Wall time: 49 ms\n"
     ]
    },
    {
     "data": {
      "text/plain": [
       "105874"
      ]
     },
     "execution_count": 186,
     "metadata": {},
     "output_type": "execute_result"
    }
   ],
   "source": [
    "%%time\n",
    "test_del['view'].sum().compute()"
   ]
  },
  {
   "cell_type": "code",
   "execution_count": 191,
   "id": "607f9a04-349a-41b2-bf67-c378dbd03de4",
   "metadata": {},
   "outputs": [],
   "source": [
    "client.shutdown()"
   ]
  }
 ],
 "metadata": {
  "kernelspec": {
   "display_name": "Python 3 (ipykernel)",
   "language": "python",
   "name": "python3"
  },
  "language_info": {
   "codemirror_mode": {
    "name": "ipython",
    "version": 3
   },
   "file_extension": ".py",
   "mimetype": "text/x-python",
   "name": "python",
   "nbconvert_exporter": "python",
   "pygments_lexer": "ipython3",
   "version": "3.10.8"
  }
 },
 "nbformat": 4,
 "nbformat_minor": 5
}
