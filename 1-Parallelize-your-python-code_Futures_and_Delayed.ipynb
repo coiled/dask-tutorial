{
 "cells": [
  {
   "cell_type": "markdown",
   "id": "8e414d3a-fd82-4af5-9a4e-d43a254d1d63",
   "metadata": {},
   "source": [
    "# Parallelize your python code\n",
    "\n",
    "In this lesson you will learn how to paralellize custom python code using Dask. You will learn about the Futures and Delayed APIs, and how to use them to parallelize customs functions.\n",
    "\n",
    "The example we will be tackling consist of scrapping and cleaning some data from Stack Overflow website. But first let's do a quick recap on Futures and Delayed objects.\n",
    "\n",
    "## Futures and Delayed: low-level collections\n",
    "\n",
    "Dask low-level collections are the best tools when you need to have fine control control to build custom parallel and distributed computations.\n",
    "\n",
    "**NOTE:** For an introductory lesson on futures and delayed revisit:\n",
    "- https://tutorial.dask.org/03_dask.delayed.html\n",
    "- https://tutorial.dask.org/05_futures.html\n",
    "\n",
    "\n",
    "## Recap the Basics\n",
    "### Futures\n",
    "\n",
    "Submit arbitrary functions for computation in a parallelized, eager, and non-blocking way. \n",
    "\n",
    "The `futures` interface (derived from the built-in `concurrent.futures`) provide fine-grained real-time execution for custom situations. We can submit individual functions for evaluation with one set of inputs, or evaluated over a sequence of inputs with `submit()` and `map()`. The call returns immediately, giving one or more *futures*, whose status begins as \"pending\" and later becomes \"finished\". There is no blocking of the local Python session. With futures, as soon as the inputs are available and there is compute available, the computation starts. "
   ]
  },
  {
   "cell_type": "code",
   "execution_count": null,
   "id": "3e4fc278-3c14-4955-8b58-07524426b579",
   "metadata": {},
   "outputs": [],
   "source": [
    "import dask\n",
    "from dask.distributed import Client"
   ]
  },
  {
   "cell_type": "code",
   "execution_count": null,
   "id": "a0e9e13b-0ec7-4f18-a70e-eab2ea377ddf",
   "metadata": {},
   "outputs": [],
   "source": [
    "client = Client(n_workers=4)\n",
    "client"
   ]
  },
  {
   "cell_type": "markdown",
   "id": "ff8bf6e6-ff5a-49a9-b231-557155ceefa6",
   "metadata": {},
   "source": [
    "Let's make a toy functions, `inc`  that sleep for a while to simulate work. We'll then time running these functions normally."
   ]
  },
  {
   "cell_type": "code",
   "execution_count": null,
   "id": "037c298e-296b-4070-88bc-a4caaf432f88",
   "metadata": {},
   "outputs": [],
   "source": [
    "from time import sleep\n",
    "\n",
    "def inc(x):\n",
    "    sleep(1)\n",
    "    return x + 1"
   ]
  },
  {
   "cell_type": "markdown",
   "id": "d111477d-d1c0-4735-a0ff-6cd596ae28a7",
   "metadata": {},
   "source": [
    "We can run these locally"
   ]
  },
  {
   "cell_type": "code",
   "execution_count": null,
   "id": "e4581be1-68d1-4be9-aacf-62104e7bcb53",
   "metadata": {},
   "outputs": [],
   "source": [
    "inc(1)"
   ]
  },
  {
   "cell_type": "markdown",
   "id": "3f4f77ef-fb42-4ab2-acc9-a1785b88672e",
   "metadata": {},
   "source": [
    "**`client.submit()`**"
   ]
  },
  {
   "cell_type": "markdown",
   "id": "1b692833-4618-406e-8914-f44e8270fb7d",
   "metadata": {},
   "source": [
    "Or we can submit them to run remotely with Dask. This immediately returns a future that points to the ongoing computation, and eventually to the stored result."
   ]
  },
  {
   "cell_type": "code",
   "execution_count": null,
   "id": "94211742-96bf-4862-a41b-069447115afc",
   "metadata": {},
   "outputs": [],
   "source": [
    "future = client.submit(inc, 1)  # returns immediately with pending future\n",
    "future"
   ]
  },
  {
   "cell_type": "markdown",
   "id": "c45ce68e-e9a9-4f0c-bfd5-68d3853a5e02",
   "metadata": {},
   "source": [
    "If you wait a second, and then check on the future again, you’ll see that it has finished."
   ]
  },
  {
   "cell_type": "code",
   "execution_count": null,
   "id": "95e01e2b-46c1-4822-8aa5-eb8bb782ace2",
   "metadata": {},
   "outputs": [],
   "source": [
    "future"
   ]
  },
  {
   "cell_type": "markdown",
   "id": "72bf4e6a-8553-4383-b15a-c9f249bd71df",
   "metadata": {},
   "source": [
    "You can block on the computation and gather the result with the `.result()` method."
   ]
  },
  {
   "cell_type": "code",
   "execution_count": null,
   "id": "7f9bf670-2d56-4a7a-bdb4-36791b91de05",
   "metadata": {},
   "outputs": [],
   "source": [
    "future.result()"
   ]
  },
  {
   "cell_type": "markdown",
   "id": "202e4b5d-b1c3-49f2-b5e7-5cc02602a4e4",
   "metadata": {},
   "source": [
    "**`client.map()`**"
   ]
  },
  {
   "cell_type": "code",
   "execution_count": null,
   "id": "4c5576bf-3fdd-4fed-9419-a28ca323c850",
   "metadata": {},
   "outputs": [],
   "source": [
    "futures = client.map(inc, range(8))  # returns immediately with pending list of futures\n",
    "futures"
   ]
  },
  {
   "cell_type": "code",
   "execution_count": null,
   "id": "f94b34a6-fbd4-4ede-a9c0-9b90e71f4e1b",
   "metadata": {},
   "outputs": [],
   "source": [
    "future_sum = client.submit(sum, futures)\n",
    "future_sum.result()"
   ]
  },
  {
   "cell_type": "markdown",
   "id": "d7be9fac-d3a0-4150-9d45-4e2bb787abf8",
   "metadata": {},
   "source": [
    "**NOTE:** For an introductory lesson on futures revisit:\n",
    "- https://tutorial.dask.org/05_futures.html\n",
    "\n",
    "**Useful links: futures**\n",
    "* [Futures documentation](https://docs.dask.org/en/latest/futures.html)\n",
    "* [Futures screencast](https://www.youtube.com/watch?v=07EiCpdhtDE)\n",
    "* [Futures examples](https://examples.dask.org/futures.html)"
   ]
  },
  {
   "cell_type": "markdown",
   "id": "b1cd2a83-1ef5-4bf5-ab6d-d3bf14c4de8b",
   "metadata": {},
   "source": [
    "### Delayed \n",
    "\n",
    "Similarly to `futures`, `delayed` can be used to support arbitrary task scheduling, but in the case of `delayed` this happens **lazily**. This is the important difference between futures and delayed, `delayed` constructs a graph while `futures` are eager.\n"
   ]
  },
  {
   "cell_type": "code",
   "execution_count": null,
   "id": "5cd4ab43-87d0-4e0f-984b-569c2716cad9",
   "metadata": {},
   "outputs": [],
   "source": [
    "@dask.delayed\n",
    "def inc(x):\n",
    "    sleep(1)\n",
    "    return x + 1"
   ]
  },
  {
   "cell_type": "code",
   "execution_count": null,
   "id": "91afd8d6-3f7a-4857-bb51-ba86ae34a341",
   "metadata": {},
   "outputs": [],
   "source": [
    "%%time\n",
    "x = inc(1)\n",
    "x"
   ]
  },
  {
   "cell_type": "markdown",
   "id": "312dc42e-3795-402b-ab38-0584f6d45891",
   "metadata": {},
   "source": [
    "This run immediately, since nothing has really happened yet.\n",
    "\n",
    "To get the result, call `compute`. Notice that this runs faster than the original code."
   ]
  },
  {
   "cell_type": "code",
   "execution_count": null,
   "id": "9bdfc2d6-212f-48f6-a224-f3a6b6f3d0d4",
   "metadata": {},
   "outputs": [],
   "source": [
    "x.compute()"
   ]
  },
  {
   "cell_type": "markdown",
   "id": "ec8b689c-a070-4faf-9bc9-8a0f702a403d",
   "metadata": {},
   "source": [
    "The same example we did with `client.map()`, using `delayed` would be"
   ]
  },
  {
   "cell_type": "code",
   "execution_count": null,
   "id": "3f104ffe-c778-4ee5-91a6-14fb0bbded50",
   "metadata": {},
   "outputs": [],
   "source": [
    "%%time\n",
    "results = []\n",
    "for x in range(8):\n",
    "    y = inc(x)\n",
    "    results.append(y)\n",
    "    \n",
    "total = sum(results)"
   ]
  },
  {
   "cell_type": "code",
   "execution_count": null,
   "id": "6027cba4-39b2-46d2-b3ef-76d012f4d544",
   "metadata": {},
   "outputs": [],
   "source": [
    "total.compute()"
   ]
  },
  {
   "cell_type": "markdown",
   "id": "bb0ffe5d-6453-43f8-b92a-4b81edde93e6",
   "metadata": {},
   "source": [
    "**NOTE:** For an introductory lesson on delayed revisit:\n",
    "- https://tutorial.dask.org/03_dask.delayed.html\n",
    "\n",
    "**Useful links: delayed**\n",
    "\n",
    "* [Delayed documentation](https://docs.dask.org/en/latest/delayed.html)\n",
    "* [Delayed screencast](https://www.youtube.com/watch?v=SHqFmynRxVU)\n",
    "* [Delayed API](https://docs.dask.org/en/latest/delayed-api.html)\n",
    "* [Delayed examples](https://examples.dask.org/delayed.html)\n",
    "* [Delayed best practices](https://docs.dask.org/en/latest/delayed-best-practices.html)"
   ]
  },
  {
   "cell_type": "markdown",
   "id": "16467916-008c-4a21-bb1e-d374c530ee57",
   "metadata": {},
   "source": [
    "## Grown-up example: Scrapping and cleaning SO data\n",
    "\n",
    "In the re-cap as well as in plenty of introductory tutorials we use toy examples. In this section, we graduate to a grownup example. You will learn how to parallelize a scrapping and cleaning workflow.\n",
    "\n",
    "You'll be scraping multiple pages from https://stackoverflow.com/questions/ , cleaning the data you are receiving and doing some computations with it. You'll first see how the sequential code works, and then you'll use `futures` and `delayed` to do this in parallel\n",
    "\n",
    "Note about throttling: \n",
    "\n",
    "Stack exchange has a throttling limit.\n",
    "\n",
    "> If an application does not have an access_token, then the application shares an IP based quota with all other applications on that IP. This quota is based on the key being passed by the applications; it is the max of the daily request limit for the applications involved, which by default is 10,000. This quota scheme is essentially unchanged from earlier versions of the API.\n",
    "\n",
    "In the following code we will be working well within those limits, but if you want to explore more, keep in mind that limitations you'll run into. https://api.stackexchange.com/docs/throttle"
   ]
  },
  {
   "cell_type": "code",
   "execution_count": null,
   "id": "5a749874-4920-4b70-b709-832043039c33",
   "metadata": {},
   "outputs": [],
   "source": [
    "import pandas as pd\n",
    "import re\n",
    "import requests\n",
    "from requests_html import HTML"
   ]
  },
  {
   "cell_type": "markdown",
   "id": "27fbd2ba-ada6-4da9-9aef-7e817f8e953b",
   "metadata": {},
   "source": [
    "### Stack Overflow walk around\n",
    "\n",
    "Before we start let's quickly see what kind of data are we going to be retrieving."
   ]
  },
  {
   "cell_type": "code",
   "execution_count": null,
   "id": "bbcb49e1-f380-4982-8d72-dfe581a9714f",
   "metadata": {},
   "outputs": [],
   "source": [
    "#Example url\n",
    "base_url = \"https://stackoverflow.com/questions/tagged/\"\n",
    "tag = \"dask\"\n",
    "query_filter = \"Newest\"\n",
    "url = f\"{base_url}{tag}?tab={query_filter}\"\n",
    "url"
   ]
  },
  {
   "cell_type": "code",
   "execution_count": null,
   "id": "c19431d0-8e9a-42f2-8ed7-30994ed6986a",
   "metadata": {},
   "outputs": [],
   "source": [
    "r = requests.get(url)\n",
    "html_str = r.text\n",
    "html = HTML(html=html_str)\n"
   ]
  },
  {
   "cell_type": "markdown",
   "id": "eea631c7-76b1-4b26-aaee-ef42f2f472ba",
   "metadata": {},
   "source": [
    "`.s-post-summary`: Base parent container for a post summary\n",
    "\n",
    "https://stackoverflow.design/product/components/post-summary/\n",
    "\n",
    "`html.find(\".s-post-summary\")` returns list of 50 elements, let's explore one of them."
   ]
  },
  {
   "cell_type": "code",
   "execution_count": null,
   "id": "7dc749f0-c7ea-44bf-aa9c-a8569d742b12",
   "metadata": {},
   "outputs": [],
   "source": [
    "html.find(\".s-post-summary\")[0].text"
   ]
  },
  {
   "cell_type": "code",
   "execution_count": null,
   "id": "ecb88c30-e6ea-426b-9322-bf9470de05ea",
   "metadata": {},
   "outputs": [],
   "source": [
    "print(html.find(\".s-post-summary\")[0].text)"
   ]
  },
  {
   "cell_type": "code",
   "execution_count": null,
   "id": "a514c55c-40ba-496c-8211-a99e01832221",
   "metadata": {},
   "outputs": [],
   "source": [
    "question = html.find(\".s-post-summary\")[0]"
   ]
  },
  {
   "cell_type": "code",
   "execution_count": null,
   "id": "39b1a8aa-9f23-4f3e-b3db-5396ed72c9ff",
   "metadata": {},
   "outputs": [],
   "source": [
    "question.text"
   ]
  },
  {
   "cell_type": "code",
   "execution_count": null,
   "id": "e5d96971-7404-49c8-9d10-b5659e36badd",
   "metadata": {
    "tags": []
   },
   "outputs": [],
   "source": [
    "question.find(\".s-post-summary--content-title\", first=True).text"
   ]
  },
  {
   "cell_type": "code",
   "execution_count": null,
   "id": "e523217d-7ff3-4d47-9f24-d5c2ac461c1b",
   "metadata": {},
   "outputs": [],
   "source": [
    "question.find(\".s-post-summary--stats\", first=True).text"
   ]
  },
  {
   "cell_type": "code",
   "execution_count": null,
   "id": "e848e39a-7daf-4c20-ac0d-feae561b7c89",
   "metadata": {},
   "outputs": [],
   "source": [
    "question.find(\".s-post-summary--meta-tags\", first=True).text"
   ]
  },
  {
   "cell_type": "markdown",
   "id": "d22c3321-d821-4c89-b90d-a1620312db0b",
   "metadata": {},
   "source": [
    "## Scrape and clean \n",
    "\n",
    "With this information, we wrote some functions, that get a page and clean the data from all the posts in that page and returns it as a list of dictionaries."
   ]
  },
  {
   "cell_type": "code",
   "execution_count": null,
   "id": "26ea6fc0-74da-4c51-ab04-975ac51aed31",
   "metadata": {},
   "outputs": [],
   "source": [
    "def extract_url_and_parse_html(url):\n",
    "    \"\"\"\n",
    "    Given a SO url gets questions summary and cleans data.\n",
    "    Returns a list of dictionaries with the clean data.\n",
    "    \n",
    "    see also: clean_scraped_data\n",
    "    \"\"\"\n",
    "    # function that will parse a single page\n",
    "    r = requests.get(url)\n",
    "    \n",
    "    if r.status_code not in range(200, 299):\n",
    "        return []\n",
    "    \n",
    "    #get html\n",
    "    html = HTML(html=r.text)\n",
    "        \n",
    "    questions = html.find(\".s-post-summary\")\n",
    "    \n",
    "    key_class_dict = {\"title\": \".s-post-summary--content-title\" ,\n",
    "                  \"stats\": \".s-post-summary--stats\",\n",
    "                  \"tags\": \".s-post-summary--meta-tags\"}\n",
    "\n",
    "    datas = []\n",
    "\n",
    "    for q_el in questions:\n",
    "        q_data = {}\n",
    "        for k, v in key_class_dict.items():\n",
    "            q_data[k] = clean_scraped_data(q_el.find(v, first=True).text, k)\n",
    "        \n",
    "        q_data[\"votes\"] = q_data[\"stats\"][0]\n",
    "        q_data[\"answers\"] = q_data[\"stats\"][1]\n",
    "        q_data[\"views\"] = q_data[\"stats\"][2]\n",
    "        datas.append(q_data)\n",
    "    return datas"
   ]
  },
  {
   "cell_type": "code",
   "execution_count": null,
   "id": "edb0251e-0f03-4cb5-a2f2-b7aada3f9a08",
   "metadata": {},
   "outputs": [],
   "source": [
    "def clean_scraped_data(text, keyname=None):\n",
    "    \"\"\"\n",
    "    Cleans the scraped data once in text format\n",
    "    \"\"\"\n",
    "    if keyname == \"stats\":\n",
    "        # '12415 votes\\n51 answers\\n3.1m views' -> ['12415 votes', '51 answers', '3.1m views']\n",
    "        # t.split()[0] grabs what is before the space and we apply the str_to_num func\n",
    "        \n",
    "        text = [str_to_num(t.split()[0]) for t in text.split(\"\\n\")]\n",
    "\n",
    "    elif keyname == \"tags\":\n",
    "        text  = text.split(\"\\n\")\n",
    "        \n",
    "    return text"
   ]
  },
  {
   "cell_type": "code",
   "execution_count": null,
   "id": "04b280a0-cd8c-44f5-a60e-59737fde06f0",
   "metadata": {
    "tags": []
   },
   "outputs": [],
   "source": [
    "def str_to_num(x):\n",
    "    \"\"\"\n",
    "    Converts strings of the form '1.5k' or '3.1m' into numbers\n",
    "    \"\"\"\n",
    "    \n",
    "    mult = {'k': 1e3, 'm': 1e6}\n",
    "\n",
    "    if ('k' in x) or ('m' in x):\n",
    "        num =int(float(x[:-1])*mult[x[-1]])\n",
    "    else:\n",
    "        num = int(float(x))\n",
    "        \n",
    "    return num"
   ]
  },
  {
   "cell_type": "markdown",
   "id": "724ba7a7-cfd0-4d8f-ab95-d1cd9741a6e1",
   "metadata": {},
   "source": [
    "## Let's scrape \n",
    "\n",
    "The following function will scrape a page with a specific `tag` and `query_filter` and return a `pandas.Dataframe`"
   ]
  },
  {
   "cell_type": "code",
   "execution_count": null,
   "id": "ba78c46b-12ed-4999-9439-9421cbea9dcc",
   "metadata": {},
   "outputs": [],
   "source": [
    "def scrape_tag(page_num, tag=\"dask\", query_filter=\"Newest\", pagesize=50):\n",
    "    \n",
    "    base_url = \"https://stackoverflow.com/questions/tagged/\"\n",
    "    url = f\"{base_url}{tag}?tab={query_filter}&page={page_num}&pagesize={pagesize}\"\n",
    "    \n",
    "    datas_page = extract_url_and_parse_html(url)\n",
    "\n",
    "    return pd.DataFrame(datas_page)"
   ]
  },
  {
   "cell_type": "markdown",
   "id": "1f068969-e119-412a-9f17-98a2e2b642e9",
   "metadata": {},
   "source": [
    "## Sequential\n",
    "\n",
    "Let's get some data for the first 32 pages, where we have 50 posts per page. "
   ]
  },
  {
   "cell_type": "code",
   "execution_count": null,
   "id": "da12ab6c-941c-470a-bbe5-9308a9db51a5",
   "metadata": {},
   "outputs": [],
   "source": [
    "%%time\n",
    "pd_res = []\n",
    "for page in range(1, 33):\n",
    "    pd_res.append(scrape_tag(page))\n",
    "\n",
    "##pd_res"
   ]
  },
  {
   "cell_type": "code",
   "execution_count": null,
   "id": "5a37b2ee-5d3b-47b2-9552-3def0e355f5f",
   "metadata": {},
   "outputs": [],
   "source": [
    "len(pd_res)"
   ]
  },
  {
   "cell_type": "code",
   "execution_count": null,
   "id": "b1ff6a6b-c96e-457b-a000-a6fd59b7d16e",
   "metadata": {},
   "outputs": [],
   "source": [
    "pd_res[0].head()"
   ]
  },
  {
   "cell_type": "markdown",
   "id": "d2579d7f-a614-48f5-824b-e57d5b159460",
   "metadata": {},
   "source": [
    "## Parallel\n",
    "This took ~12 s, let's see how long it takes if we do it in parallel using futures and delayed."
   ]
  },
  {
   "cell_type": "markdown",
   "id": "7eda0d13-9896-4c59-827c-fa06264aaae9",
   "metadata": {},
   "source": [
    "### `client.submit`\n",
    "\n",
    "Notice that the code changes are minimal compare to the sequential version"
   ]
  },
  {
   "cell_type": "code",
   "execution_count": null,
   "id": "c73a67bd-eb37-4453-a7a2-41e13aa22912",
   "metadata": {},
   "outputs": [],
   "source": [
    "%%time\n",
    "fut = []\n",
    "for page_num in range(1, 33):\n",
    "    future = client.submit(scrape_tag, page_num)\n",
    "    fut.append(future)\n",
    "\n",
    "res = client.gather(fut)"
   ]
  },
  {
   "cell_type": "code",
   "execution_count": null,
   "id": "6234ad38-f3ea-4cb2-a12f-0b57e24b2204",
   "metadata": {},
   "outputs": [],
   "source": [
    "fut[0]"
   ]
  },
  {
   "cell_type": "code",
   "execution_count": null,
   "id": "3f84e829-da1c-4f54-a568-b11a6aa67cac",
   "metadata": {},
   "outputs": [],
   "source": [
    "res[0].head(3)"
   ]
  },
  {
   "cell_type": "markdown",
   "id": "05f5c160-8af2-4299-91a0-ddd98a7b93b7",
   "metadata": {},
   "source": [
    "### `client.map()`\n",
    "\n",
    "We can do this in a different way using `client.map()`, and in fewer lines of code. We first will delete the futures in `fut` as dask is smart enough to realize we already computed this."
   ]
  },
  {
   "cell_type": "code",
   "execution_count": null,
   "id": "4f24b006-7ffd-4d92-a18d-f815182dd2a2",
   "metadata": {},
   "outputs": [],
   "source": [
    "del fut"
   ]
  },
  {
   "cell_type": "code",
   "execution_count": null,
   "id": "5605c352-289b-4da7-a9e7-6c150e0aac79",
   "metadata": {},
   "outputs": [],
   "source": [
    "%%time\n",
    "fut_map = client.map(scrape_tag, range(1, 33)) #this returns a list of futures\n",
    "res_map = client.gather(fut_map)"
   ]
  },
  {
   "cell_type": "code",
   "execution_count": null,
   "id": "1c90e623-df39-48fd-a9f1-3ae00fdfd5be",
   "metadata": {},
   "outputs": [],
   "source": [
    "res_map[0].head(3)"
   ]
  },
  {
   "cell_type": "markdown",
   "id": "57f28d2f-2b44-428c-afca-402b7988a6ea",
   "metadata": {},
   "source": [
    "### `client.map()` with lambda functions\n",
    "\n",
    "Let's suppose that we want to explore a different `tag`. We can use `client.map` along with a `lambda` function to pass the variable along. "
   ]
  },
  {
   "cell_type": "code",
   "execution_count": null,
   "id": "06fb0191-32a9-4061-b459-a7c4de95bf77",
   "metadata": {},
   "outputs": [],
   "source": [
    "%%time\n",
    "fut_py = client.map(lambda p: scrape_tag(p, tag=\"python\"), range(1, 33))\n",
    "res_py = client.gather(fut_py)"
   ]
  },
  {
   "cell_type": "code",
   "execution_count": null,
   "id": "fadbd3cf-3956-42b3-94b8-76737fcd5ab5",
   "metadata": {},
   "outputs": [],
   "source": [
    "res_py[0].head(3)"
   ]
  },
  {
   "cell_type": "markdown",
   "id": "1c6bdbf0-c04a-4a7c-9f44-e6883165c171",
   "metadata": {},
   "source": [
    "## `delayed` \n",
    "\n",
    "Another approach to this problem is to use delayed. Let's create a separate function which is the **exact same** as `scrap_tag` but we will use now the `@dask.delayed` decorator. \n",
    "\n",
    "For simplicity, I will rename the function, but keep in mind that nothing has changed"
   ]
  },
  {
   "cell_type": "code",
   "execution_count": null,
   "id": "755b7aa2-0b08-42e0-b3f9-bd9cf7992f49",
   "metadata": {},
   "outputs": [],
   "source": [
    "@dask.delayed\n",
    "def scrape_tag_delayed(page_num, tag=\"dask\", query_filter=\"Newest\", pagesize=50):\n",
    "    \n",
    "    base_url = \"https://stackoverflow.com/questions/tagged/\"\n",
    "    url = f\"{base_url}{tag}?tab={query_filter}&page={page_num}&pagesize={pagesize}\"\n",
    "    \n",
    "    datas_page = extract_url_and_parse_html(url)\n",
    "\n",
    "    return pd.DataFrame(datas_page)"
   ]
  },
  {
   "cell_type": "code",
   "execution_count": null,
   "id": "2a04db8e-a5f6-4077-9cc0-c3be80a7c6de",
   "metadata": {},
   "outputs": [],
   "source": [
    "%%time\n",
    "res = []\n",
    "for page in range(1, 33):\n",
    "    res.append(scrape_tag_delayed(page))"
   ]
  },
  {
   "cell_type": "markdown",
   "id": "89b038cc-f155-4c1d-aaea-b0ad86e0e54a",
   "metadata": {},
   "source": [
    "Notice that nothing happened in the dashboard, and thing run very fast. This is because no computation has happened yet. Remember, `delayed` is **lazy**"
   ]
  },
  {
   "cell_type": "code",
   "execution_count": null,
   "id": "f772bf99-a14a-40c0-b7bd-1da131f6dff0",
   "metadata": {},
   "outputs": [],
   "source": [
    "res[:3]"
   ]
  },
  {
   "cell_type": "code",
   "execution_count": null,
   "id": "6d37347b-8f8b-459e-be1a-e3a0da5169e0",
   "metadata": {},
   "outputs": [],
   "source": [
    "%%time\n",
    "r = dask.compute(res)"
   ]
  },
  {
   "cell_type": "markdown",
   "id": "6b91a94b-40f1-4312-88ea-1506b405dee8",
   "metadata": {},
   "source": [
    "## Waiting on Futures: `wait` and `as_completed` \n",
    "\n",
    "You can wait on a future or collection of futures using the `wait` function, which blocks until all futures are finished or have erred. This is useful when you need the all the futures to be completed to proceed with your computations. \n",
    "\n",
    "In other situations you might need to iterate over the futures as they complete, to do so you will use the `as_completed` function.\n"
   ]
  },
  {
   "cell_type": "code",
   "execution_count": null,
   "id": "a50089dc-20ca-44d7-9c45-c3fd2a7814d3",
   "metadata": {},
   "outputs": [],
   "source": [
    "from dask.distributed import as_completed, wait"
   ]
  },
  {
   "cell_type": "markdown",
   "id": "3bd0d65c-eac1-45c2-b487-8574cc34c777",
   "metadata": {},
   "source": [
    "### `wait()`\n",
    "\n",
    "Notice that the cell below will not block until the futures end, it will trigger the computation and let you proceed."
   ]
  },
  {
   "cell_type": "code",
   "execution_count": null,
   "id": "f4878a23-143d-4c30-aadd-6a535c0bcf97",
   "metadata": {},
   "outputs": [],
   "source": [
    "fut_example = client.submit(scrape_tag, 100)\n",
    "fut_example"
   ]
  },
  {
   "cell_type": "markdown",
   "id": "6715063a-a499-4496-ba3d-dd22e16a0042",
   "metadata": {},
   "source": [
    "If you want to wait:"
   ]
  },
  {
   "cell_type": "code",
   "execution_count": null,
   "id": "5f7d5c19-5fde-4474-866c-b7d1b3711592",
   "metadata": {},
   "outputs": [],
   "source": [
    "%%time\n",
    "some_futures = client.map(scrape_tag, range(50, 90))\n",
    "wait(some_futures)\n",
    "some_futures[-1]"
   ]
  },
  {
   "cell_type": "code",
   "execution_count": null,
   "id": "7717095f-5169-4ba3-9dc4-8acd25e2ebaf",
   "metadata": {},
   "outputs": [],
   "source": [
    "#clear all the futures that are around\n",
    "client.restart()"
   ]
  },
  {
   "cell_type": "code",
   "execution_count": null,
   "id": "e1d08e82-47eb-4b55-9a40-a5cd11dddf5b",
   "metadata": {},
   "outputs": [],
   "source": [
    "%%time\n",
    "futures = client.map(scrape_tag, range(1, 33))\n",
    "\n",
    "tot_views= 0 \n",
    "\n",
    "for future in as_completed(futures):\n",
    "    views = future.result()['views']\n",
    "    tot_views += views.sum()\n",
    "\n",
    "tot_views"
   ]
  },
  {
   "cell_type": "markdown",
   "id": "08d437e7-22ec-4d02-a490-afef1d8cd68b",
   "metadata": {},
   "source": [
    "### `from_delayed`\n",
    "\n",
    "In our example we have a list of `futures` or `delayed`, where each element of the of the list is a `pandas.Dataframe`. This looks like a great opportunity to move from a list of `pandas.Dataframes` to a `dask.Dataframe`, and exploit the advantages of the dataframe API. \n"
   ]
  },
  {
   "cell_type": "code",
   "execution_count": null,
   "id": "7ff6e847-03df-4c7c-9be7-cc2ad8ff698e",
   "metadata": {},
   "outputs": [],
   "source": [
    "import dask.dataframe as dd"
   ]
  },
  {
   "cell_type": "code",
   "execution_count": null,
   "id": "1e92d0ea-339b-4651-9aeb-57fc274cba8b",
   "metadata": {},
   "outputs": [],
   "source": [
    "my_ddf = dd.from_delayed(futures)"
   ]
  },
  {
   "cell_type": "code",
   "execution_count": null,
   "id": "e53622c1-95dd-4018-aba1-8025fb61dd3e",
   "metadata": {},
   "outputs": [],
   "source": [
    "my_ddf"
   ]
  },
  {
   "cell_type": "code",
   "execution_count": null,
   "id": "0e25d438-200b-4291-ba4e-470f32596ce1",
   "metadata": {},
   "outputs": [],
   "source": [
    "my_ddf['views'].sum()"
   ]
  },
  {
   "cell_type": "code",
   "execution_count": null,
   "id": "9f0e5f6f-c3e2-4a44-9199-fc95bf26a512",
   "metadata": {},
   "outputs": [],
   "source": [
    "%%time\n",
    "my_ddf['views'].sum().compute()"
   ]
  },
  {
   "cell_type": "code",
   "execution_count": null,
   "id": "1b82dae4-fa5b-4712-97e9-7539ae7679fb",
   "metadata": {},
   "outputs": [],
   "source": [
    "%%time\n",
    "my_ddf.groupby('votes').views.sum().compute()"
   ]
  },
  {
   "cell_type": "code",
   "execution_count": null,
   "id": "607f9a04-349a-41b2-bf67-c378dbd03de4",
   "metadata": {},
   "outputs": [],
   "source": [
    "client.shutdown()"
   ]
  },
  {
   "cell_type": "markdown",
   "id": "62a7a6ef-b94b-46f8-af23-1a7ef27725f4",
   "metadata": {},
   "source": [
    "### Useful links\n",
    "\n",
    "- https://tutorial.dask.org/05_futures.html\n",
    "- https://tutorial.dask.org/03_dask.delayed.html\n",
    "\n",
    "**Useful links**\n",
    "\n",
    "* [Futures documentation](https://docs.dask.org/en/latest/futures.html)\n",
    "* [Futures screencast](https://www.youtube.com/watch?v=07EiCpdhtDE)\n",
    "* [Futures examples](https://examples.dask.org/futures.html)\n",
    "* [Delayed documentation](https://docs.dask.org/en/latest/delayed.html)\n",
    "* [Delayed screencast](https://www.youtube.com/watch?v=SHqFmynRxVU)\n",
    "* [Delayed API](https://docs.dask.org/en/latest/delayed-api.html)\n",
    "* [Delayed examples](https://examples.dask.org/delayed.html)\n",
    "* [Delayed best practices](https://docs.dask.org/en/latest/delayed-best-practices.html)\n",
    "\n",
    "### Next lesson\n",
    "\n",
    "In the next lesson, you will get better at `dask.Dataframes`. We will re-cap the basics, but dive deeper into data formats (csv vs parquet),  learn about `pyarrow-strings`, shuffle operations, and other useful content that is not usually covered in the introductory material\n"
   ]
  }
 ],
 "metadata": {
  "kernelspec": {
   "display_name": "Python 3 (ipykernel)",
   "language": "python",
   "name": "python3"
  },
  "language_info": {
   "codemirror_mode": {
    "name": "ipython",
    "version": 3
   },
   "file_extension": ".py",
   "mimetype": "text/x-python",
   "name": "python",
   "nbconvert_exporter": "python",
   "pygments_lexer": "ipython3",
   "version": "3.10.8"
  }
 },
 "nbformat": 4,
 "nbformat_minor": 5
}
