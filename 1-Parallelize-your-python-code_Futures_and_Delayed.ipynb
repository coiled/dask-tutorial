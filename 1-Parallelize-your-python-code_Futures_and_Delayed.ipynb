{
 "cells": [
  {
   "cell_type": "markdown",
   "id": "8e414d3a-fd82-4af5-9a4e-d43a254d1d63",
   "metadata": {},
   "source": [
    "# Parallelize your python code\n",
    "\n",
    "In this lesson you will learn how to paralellize custom python code using Dask. You will learn about the Futures and Delayed APIs, and how to use them to parallelize customs functions.\n",
    "\n",
    "The example we will be tackling consist of scrapping and cleaning some data from Stack Overflow website. BUt first let's do a quick recap on Futures and Delayed objects.\n",
    "\n",
    "## Futures and Delayed: low-level collections\n",
    "\n",
    "Dask low-level collections are the best tools when you need to have fine control control to build custom parallel and distributed computations.\n",
    "\n",
    "**NOTE:** For an introductory lesson on futures and delayed revisit:\n",
    "- https://tutorial.dask.org/03_dask.delayed.html\n",
    "- https://tutorial.dask.org/05_futures.html\n",
    "\n",
    "\n",
    "## Recap Basics\n",
    "### Futures\n",
    "\n",
    "Submit arbitrary functions for computation in a parallelized, eager, and non-blocking way. \n",
    "\n",
    "The `futures` interface (derived from the built-in `concurrent.futures`) provide fine-grained real-time execution for custom situations. We can submit individual functions for evaluation with one set of inputs, or evaluated over a sequence of inputs with `submit()` and `map()`. The call returns immediately, giving one or more *futures*, whose status begins as \"pending\" and later becomes \"finished\". There is no blocking of the local Python session. With futures, as soon as the inputs are available and there is compute available, the computation starts. "
   ]
  },
  {
   "cell_type": "code",
   "execution_count": null,
   "id": "3e4fc278-3c14-4955-8b58-07524426b579",
   "metadata": {},
   "outputs": [],
   "source": [
    "import dask\n",
    "from dask.distributed import Client"
   ]
  },
  {
   "cell_type": "code",
   "execution_count": null,
   "id": "a0e9e13b-0ec7-4f18-a70e-eab2ea377ddf",
   "metadata": {},
   "outputs": [],
   "source": [
    "client = Client(n_workers=4)\n",
    "client"
   ]
  },
  {
   "cell_type": "markdown",
   "id": "ff8bf6e6-ff5a-49a9-b231-557155ceefa6",
   "metadata": {},
   "source": [
    "Let's make a toy functions, `inc`  that sleep for a while to simulate work. We'll then time running these functions normally."
   ]
  },
  {
   "cell_type": "code",
   "execution_count": null,
   "id": "037c298e-296b-4070-88bc-a4caaf432f88",
   "metadata": {},
   "outputs": [],
   "source": [
    "from time import sleep\n",
    "\n",
    "def inc(x):\n",
    "    sleep(1)\n",
    "    return x + 1"
   ]
  },
  {
   "cell_type": "markdown",
   "id": "d111477d-d1c0-4735-a0ff-6cd596ae28a7",
   "metadata": {},
   "source": [
    "We can run these locally"
   ]
  },
  {
   "cell_type": "code",
   "execution_count": null,
   "id": "e4581be1-68d1-4be9-aacf-62104e7bcb53",
   "metadata": {},
   "outputs": [],
   "source": [
    "inc(1)"
   ]
  },
  {
   "cell_type": "markdown",
   "id": "3f4f77ef-fb42-4ab2-acc9-a1785b88672e",
   "metadata": {},
   "source": [
    "**`client.submit()`**"
   ]
  },
  {
   "cell_type": "markdown",
   "id": "1b692833-4618-406e-8914-f44e8270fb7d",
   "metadata": {},
   "source": [
    "Or we can submit them to run remotely with Dask. This immediately returns a future that points to the ongoing computation, and eventually to the stored result."
   ]
  },
  {
   "cell_type": "code",
   "execution_count": null,
   "id": "94211742-96bf-4862-a41b-069447115afc",
   "metadata": {},
   "outputs": [],
   "source": [
    "future = client.submit(inc, 1)  # returns immediately with pending future\n",
    "future"
   ]
  },
  {
   "cell_type": "markdown",
   "id": "c45ce68e-e9a9-4f0c-bfd5-68d3853a5e02",
   "metadata": {},
   "source": [
    "If you wait a second, and then check on the future again, you’ll see that it has finished."
   ]
  },
  {
   "cell_type": "code",
   "execution_count": null,
   "id": "95e01e2b-46c1-4822-8aa5-eb8bb782ace2",
   "metadata": {},
   "outputs": [],
   "source": [
    "future"
   ]
  },
  {
   "cell_type": "markdown",
   "id": "72bf4e6a-8553-4383-b15a-c9f249bd71df",
   "metadata": {},
   "source": [
    "You can block on the computation and gather the result with the `.result()` method."
   ]
  },
  {
   "cell_type": "code",
   "execution_count": null,
   "id": "7f9bf670-2d56-4a7a-bdb4-36791b91de05",
   "metadata": {},
   "outputs": [],
   "source": [
    "future.result()"
   ]
  },
  {
   "cell_type": "markdown",
   "id": "202e4b5d-b1c3-49f2-b5e7-5cc02602a4e4",
   "metadata": {},
   "source": [
    "**`client.map()`**"
   ]
  },
  {
   "cell_type": "code",
   "execution_count": null,
   "id": "4c5576bf-3fdd-4fed-9419-a28ca323c850",
   "metadata": {},
   "outputs": [],
   "source": [
    "futures = client.map(inc, range(8))  # returns immediately with pending list of futures\n",
    "futures"
   ]
  },
  {
   "cell_type": "code",
   "execution_count": null,
   "id": "f94b34a6-fbd4-4ede-a9c0-9b90e71f4e1b",
   "metadata": {},
   "outputs": [],
   "source": [
    "future_sum = client.submit(sum, futures)\n",
    "future_sum.result()"
   ]
  },
  {
   "cell_type": "markdown",
   "id": "d7be9fac-d3a0-4150-9d45-4e2bb787abf8",
   "metadata": {},
   "source": [
    "**NOTE:** For an introductory lesson on futures revisit:\n",
    "- https://tutorial.dask.org/05_futures.html\n",
    "\n",
    "**Useful links**\n",
    "* [Futures documentation](https://docs.dask.org/en/latest/futures.html)\n",
    "* [Futures screencast](https://www.youtube.com/watch?v=07EiCpdhtDE)\n",
    "* [Futures examples](https://examples.dask.org/futures.html)"
   ]
  },
  {
   "cell_type": "markdown",
   "id": "b1cd2a83-1ef5-4bf5-ab6d-d3bf14c4de8b",
   "metadata": {},
   "source": [
    "### Delayed \n",
    "\n",
    "Similarly to `futures`, `delayed` can be used to support arbitrary task scheduling, but in the case of `delayed` this happens **lazily**. This is the important difference between futures and delayed, `delayed` constructs a graph while `futures` are eager.\n"
   ]
  },
  {
   "cell_type": "code",
   "execution_count": null,
   "id": "5cd4ab43-87d0-4e0f-984b-569c2716cad9",
   "metadata": {},
   "outputs": [],
   "source": [
    "@dask.delayed\n",
    "def inc(x):\n",
    "    sleep(1)\n",
    "    return x + 1"
   ]
  },
  {
   "cell_type": "code",
   "execution_count": null,
   "id": "91afd8d6-3f7a-4857-bb51-ba86ae34a341",
   "metadata": {},
   "outputs": [],
   "source": [
    "x = inc(1)\n",
    "x"
   ]
  },
  {
   "cell_type": "markdown",
   "id": "312dc42e-3795-402b-ab38-0584f6d45891",
   "metadata": {},
   "source": [
    "This ran immediately, since nothing has really happened yet.\n",
    "\n",
    "To get the result, call `compute`. Notice that this runs faster than the original code."
   ]
  },
  {
   "cell_type": "code",
   "execution_count": null,
   "id": "9bdfc2d6-212f-48f6-a224-f3a6b6f3d0d4",
   "metadata": {},
   "outputs": [],
   "source": [
    "x.compute()"
   ]
  },
  {
   "cell_type": "markdown",
   "id": "ec8b689c-a070-4faf-9bc9-8a0f702a403d",
   "metadata": {},
   "source": [
    "The same example we did with `client.map()`, using delayed would be"
   ]
  },
  {
   "cell_type": "code",
   "execution_count": null,
   "id": "3f104ffe-c778-4ee5-91a6-14fb0bbded50",
   "metadata": {},
   "outputs": [],
   "source": [
    "results = []\n",
    "for x in range(8):\n",
    "    y = inc(x)\n",
    "    results.append(y)\n",
    "    \n",
    "total = sum(results)"
   ]
  },
  {
   "cell_type": "code",
   "execution_count": null,
   "id": "6027cba4-39b2-46d2-b3ef-76d012f4d544",
   "metadata": {},
   "outputs": [],
   "source": [
    "total.compute()"
   ]
  },
  {
   "cell_type": "markdown",
   "id": "bb0ffe5d-6453-43f8-b92a-4b81edde93e6",
   "metadata": {},
   "source": [
    "**NOTE:** For an introductory lesson on delayed revisit:\n",
    "- https://tutorial.dask.org/03_dask.delayed.html\n",
    "\n",
    "**Useful links**\n",
    "\n",
    "* [Delayed documentation](https://docs.dask.org/en/latest/delayed.html)\n",
    "* [Delayed screencast](https://www.youtube.com/watch?v=SHqFmynRxVU)\n",
    "* [Delayed API](https://docs.dask.org/en/latest/delayed-api.html)\n",
    "* [Delayed examples](https://examples.dask.org/delayed.html)\n",
    "* [Delayed best practices](https://docs.dask.org/en/latest/delayed-best-practices.html)"
   ]
  },
  {
   "cell_type": "code",
   "execution_count": null,
   "id": "334ff73d-65dd-4175-a312-43dadc2cf12c",
   "metadata": {},
   "outputs": [],
   "source": []
  },
  {
   "cell_type": "markdown",
   "id": "16467916-008c-4a21-bb1e-d374c530ee57",
   "metadata": {},
   "source": [
    "## Grown-up example: Scrapping and cleaning SO data\n",
    "\n",
    "In the re-cap as well as in plenty of introductory tutorials we use toy examples. In this section, we graduate to a grownup example. You will learn how to parallelize a scrapping and cleaning workflow.\n",
    "\n",
    "\n",
    "EXAMPLAIN EXAMPLE HERE SIMPLY: https://stackoverflow.com/questions/\n",
    "\n",
    "\n",
    "\n",
    "Note about throttling: \n",
    "\n",
    "Stack exchange has a throttling limit.\n",
    "\n",
    "> If an application does not have an access_token, then the application shares an IP based quota with all other applications on that IP. This quota is based on the key being passed by the applications; it is the max of the daily request limit for the applications involved, which by default is 10,000. This quota scheme is essentially unchanged from earlier versions of the API.\n",
    "\n",
    "In the following code we will be working well within those limits, but if you want to explore more, keep in mind that limitations you'll run into. https://api.stackexchange.com/docs/throttle"
   ]
  },
  {
   "cell_type": "code",
   "execution_count": 1,
   "id": "5a749874-4920-4b70-b709-832043039c33",
   "metadata": {},
   "outputs": [],
   "source": [
    "import re\n",
    "import time\n",
    "\n",
    "import pandas as pd\n",
    "import requests\n",
    "from requests_html import HTML"
   ]
  },
  {
   "cell_type": "markdown",
   "id": "838fb5da-a9ee-4235-84f4-c92258b78154",
   "metadata": {},
   "source": [
    "Except for the number of pages to scrape and the size of them. The code is pretty much ready, we need to polish \n",
    "it and write the narrative around the examples. \n",
    "\n",
    "TODO:\n",
    "\n",
    "    - Introduce the \"SO problem\"\n",
    "    - Write text around how to solve it serialy\n",
    "    - Write text around multiple ways to parallelize the workflow\n",
    "    - Write text around as_completed, vs dask dataframe example\n",
    "    - Select some parts to be exercises. \n",
    "     "
   ]
  },
  {
   "cell_type": "code",
   "execution_count": null,
   "id": "023fadf1-3c8a-4b90-a007-f9a5fb337537",
   "metadata": {},
   "outputs": [],
   "source": []
  },
  {
   "cell_type": "code",
   "execution_count": null,
   "id": "c19431d0-8e9a-42f2-8ed7-30994ed6986a",
   "metadata": {},
   "outputs": [],
   "source": []
  },
  {
   "cell_type": "code",
   "execution_count": null,
   "id": "7dc749f0-c7ea-44bf-aa9c-a8569d742b12",
   "metadata": {},
   "outputs": [],
   "source": []
  },
  {
   "cell_type": "code",
   "execution_count": null,
   "id": "ecb88c30-e6ea-426b-9322-bf9470de05ea",
   "metadata": {},
   "outputs": [],
   "source": []
  },
  {
   "cell_type": "code",
   "execution_count": 4,
   "id": "45c8a6a7-e49f-4d93-83b6-3e312271e0c4",
   "metadata": {},
   "outputs": [],
   "source": [
    "# r = requests.get(url)\n",
    "# html_str = r.text\n",
    "# html = HTML(html=html_str)"
   ]
  },
  {
   "cell_type": "markdown",
   "id": "eea631c7-76b1-4b26-aaee-ef42f2f472ba",
   "metadata": {},
   "source": [
    "`.s-post-summary`: Base parent container for a post summary\n",
    "\n",
    "https://stackoverflow.design/product/components/post-summary/"
   ]
  },
  {
   "cell_type": "code",
   "execution_count": 5,
   "id": "edb0251e-0f03-4cb5-a2f2-b7aada3f9a08",
   "metadata": {},
   "outputs": [],
   "source": [
    "def clean_scraped_data(text, keyname=None):\n",
    "    \"\"\"\n",
    "    Cleans the scraped data once in text format\n",
    "    \"\"\"\n",
    "    if keyname == \"stats\":\n",
    "        text_strings = re.findall(r\"\\d+\", text)\n",
    "        \n",
    "        try:\n",
    "            text =[int(s) for s in text_strings]\n",
    "        except ValueError:\n",
    "            text =[int(re.sub(\"k\", \"000\", s)) for s in text_strings]\n",
    "\n",
    "    elif keyname == \"tags\":\n",
    "        return text.split(\"\\n\")\n",
    "    return text"
   ]
  },
  {
   "cell_type": "code",
   "execution_count": null,
   "id": "f4cf3bb5-97c7-47ba-affd-6e4e46033467",
   "metadata": {},
   "outputs": [],
   "source": []
  },
  {
   "cell_type": "code",
   "execution_count": 6,
   "id": "26ea6fc0-74da-4c51-ab04-975ac51aed31",
   "metadata": {},
   "outputs": [],
   "source": [
    "def extract_url_and_parse_html(url):\n",
    "    \"\"\"\n",
    "    Given a SO url gets questions summary and cleans data.\n",
    "    \n",
    "    see also: clean_scraped_data\n",
    "    \"\"\"\n",
    "    # function that will parse a single page\n",
    "    r = requests.get(url)\n",
    "    \n",
    "    if r.status_code not in range(200, 299):\n",
    "        return []\n",
    "    \n",
    "    #get html\n",
    "    html = HTML(html=r.text)\n",
    "        \n",
    "    questions = html.find(\".s-post-summary\")\n",
    "    \n",
    "    key_class_dict = {\"title\": \".s-post-summary--content-title\" ,\n",
    "                  \"stats\": \".s-post-summary--stats\",\n",
    "                  \"tags\": \".s-post-summary--meta-tags\"}\n",
    "\n",
    "    datas = []\n",
    "\n",
    "    for q_el in questions:\n",
    "        q_data = {}\n",
    "        for k, v in key_class_dict.items():\n",
    "            q_data[k] = clean_scraped_data(q_el.find(v, first=True).text, k)\n",
    "        \n",
    "        q_data[\"vote\"] = q_data[\"stats\"][0]\n",
    "        q_data[\"answer\"] = q_data[\"stats\"][1]\n",
    "        q_data[\"view\"] = q_data[\"stats\"][2]\n",
    "        datas.append(q_data)\n",
    "    return datas"
   ]
  },
  {
   "cell_type": "code",
   "execution_count": null,
   "id": "93ffc8f7-93ac-4d07-b49c-6b86b3eaf667",
   "metadata": {},
   "outputs": [],
   "source": []
  },
  {
   "cell_type": "code",
   "execution_count": 7,
   "id": "ba78c46b-12ed-4999-9439-9421cbea9dcc",
   "metadata": {},
   "outputs": [],
   "source": [
    "def scrape_tag(page_num, tag=\"python\", query_filter=\"Newest\", pagesize=50):\n",
    "    \n",
    "    base_url = \"https://stackoverflow.com/questions/tagged/\"\n",
    "    url = f\"{base_url}{tag}?tab={query_filter}&page={page_num}&pagesize={pagesize}\"\n",
    "    \n",
    "    datas_page = extract_url_and_parse_html(url)\n",
    "\n",
    "    return pd.DataFrame(datas_page)"
   ]
  },
  {
   "cell_type": "markdown",
   "id": "1f068969-e119-412a-9f17-98a2e2b642e9",
   "metadata": {},
   "source": [
    "## Sequential"
   ]
  },
  {
   "cell_type": "code",
   "execution_count": 9,
   "id": "da12ab6c-941c-470a-bbe5-9308a9db51a5",
   "metadata": {},
   "outputs": [
    {
     "name": "stdout",
     "output_type": "stream",
     "text": [
      "CPU times: user 2.2 s, sys: 36.6 ms, total: 2.24 s\n",
      "Wall time: 3.94 s\n"
     ]
    }
   ],
   "source": [
    "%%time\n",
    "pd_res = []\n",
    "for page in range(1, 11):\n",
    "    pd_res.append(scrape_tag(page))\n",
    "\n",
    "##pd_res"
   ]
  },
  {
   "cell_type": "markdown",
   "id": "7eda0d13-9896-4c59-827c-fa06264aaae9",
   "metadata": {},
   "source": [
    "## client.submit\n",
    "\n",
    "### NOTE: ADD SOMETHING WITH wait. "
   ]
  },
  {
   "cell_type": "code",
   "execution_count": 14,
   "id": "c73a67bd-eb37-4453-a7a2-41e13aa22912",
   "metadata": {},
   "outputs": [
    {
     "name": "stdout",
     "output_type": "stream",
     "text": [
      "CPU times: user 209 ms, sys: 77.1 ms, total: 286 ms\n",
      "Wall time: 1.46 s\n"
     ]
    }
   ],
   "source": [
    "%%time\n",
    "fut = []\n",
    "for page_num in range(1, 11):\n",
    "    future = client.submit(scrape_tag, page_num)\n",
    "    fut.append(future)\n",
    "\n",
    "res = client.gather(fut)"
   ]
  },
  {
   "cell_type": "code",
   "execution_count": 15,
   "id": "6234ad38-f3ea-4cb2-a12f-0b57e24b2204",
   "metadata": {},
   "outputs": [
    {
     "data": {
      "text/html": [
       "<strong>Future: scrape_tag</strong>\n",
       "<span style=\"color: var(--jp-ui-font-color2, gray)\"> status: </span>\n",
       "\n",
       "\n",
       "<span style=\"color: var(--jp-error-color0, black)\">finished</span>,\n",
       "\n",
       "\n",
       "\n",
       "<span style=\"color: var(--jp-ui-font-color2, gray)\"> type:</span> pandas.core.frame.DataFrame,\n",
       "\n",
       "\n",
       "<span style=\"color: var(--jp-ui-font-color2, gray)\"> key:</span> scrape_tag-e83a617288abc03472fe398fc09cd480"
      ],
      "text/plain": [
       "<Future: finished, type: pandas.core.frame.DataFrame, key: scrape_tag-e83a617288abc03472fe398fc09cd480>"
      ]
     },
     "execution_count": 15,
     "metadata": {},
     "output_type": "execute_result"
    }
   ],
   "source": [
    "fut[0]"
   ]
  },
  {
   "cell_type": "code",
   "execution_count": 18,
   "id": "3f84e829-da1c-4f54-a568-b11a6aa67cac",
   "metadata": {},
   "outputs": [
    {
     "data": {
      "text/html": [
       "<div>\n",
       "<style scoped>\n",
       "    .dataframe tbody tr th:only-of-type {\n",
       "        vertical-align: middle;\n",
       "    }\n",
       "\n",
       "    .dataframe tbody tr th {\n",
       "        vertical-align: top;\n",
       "    }\n",
       "\n",
       "    .dataframe thead th {\n",
       "        text-align: right;\n",
       "    }\n",
       "</style>\n",
       "<table border=\"1\" class=\"dataframe\">\n",
       "  <thead>\n",
       "    <tr style=\"text-align: right;\">\n",
       "      <th></th>\n",
       "      <th>title</th>\n",
       "      <th>stats</th>\n",
       "      <th>tags</th>\n",
       "      <th>vote</th>\n",
       "      <th>answer</th>\n",
       "      <th>view</th>\n",
       "    </tr>\n",
       "  </thead>\n",
       "  <tbody>\n",
       "    <tr>\n",
       "      <th>0</th>\n",
       "      <td>Python errors in command prompt</td>\n",
       "      <td>[0, 0, 4]</td>\n",
       "      <td>[python, python-3.x, python-2.7]</td>\n",
       "      <td>0</td>\n",
       "      <td>0</td>\n",
       "      <td>4</td>\n",
       "    </tr>\n",
       "    <tr>\n",
       "      <th>1</th>\n",
       "      <td>How to use KinematicTrajectoryOptimization in ...</td>\n",
       "      <td>[1, 0, 3]</td>\n",
       "      <td>[python, optimization, drake]</td>\n",
       "      <td>1</td>\n",
       "      <td>0</td>\n",
       "      <td>3</td>\n",
       "    </tr>\n",
       "    <tr>\n",
       "      <th>2</th>\n",
       "      <td>Python Selenium &amp; Browserstack - Connect to proxy</td>\n",
       "      <td>[0, 0, 6]</td>\n",
       "      <td>[python, selenium, browserstack]</td>\n",
       "      <td>0</td>\n",
       "      <td>0</td>\n",
       "      <td>6</td>\n",
       "    </tr>\n",
       "  </tbody>\n",
       "</table>\n",
       "</div>"
      ],
      "text/plain": [
       "                                               title      stats  \\\n",
       "0                    Python errors in command prompt  [0, 0, 4]   \n",
       "1  How to use KinematicTrajectoryOptimization in ...  [1, 0, 3]   \n",
       "2  Python Selenium & Browserstack - Connect to proxy  [0, 0, 6]   \n",
       "\n",
       "                               tags  vote  answer  view  \n",
       "0  [python, python-3.x, python-2.7]     0       0     4  \n",
       "1     [python, optimization, drake]     1       0     3  \n",
       "2  [python, selenium, browserstack]     0       0     6  "
      ]
     },
     "execution_count": 18,
     "metadata": {},
     "output_type": "execute_result"
    }
   ],
   "source": [
    "res[0].head(3)"
   ]
  },
  {
   "cell_type": "markdown",
   "id": "05f5c160-8af2-4299-91a0-ddd98a7b93b7",
   "metadata": {},
   "source": [
    "### client.map\n",
    "lambda version or none lambda version"
   ]
  },
  {
   "cell_type": "code",
   "execution_count": 21,
   "id": "ebf2699c-b8f1-4986-b40f-3dbd8b64ea76",
   "metadata": {},
   "outputs": [],
   "source": [
    "del fut"
   ]
  },
  {
   "cell_type": "code",
   "execution_count": 28,
   "id": "5605c352-289b-4da7-a9e7-6c150e0aac79",
   "metadata": {},
   "outputs": [
    {
     "name": "stdout",
     "output_type": "stream",
     "text": [
      "CPU times: user 76 ms, sys: 15.4 ms, total: 91.4 ms\n",
      "Wall time: 831 ms\n"
     ]
    }
   ],
   "source": [
    "%%time\n",
    "t = client.map(scrape_tag, range(1, 11))\n",
    "test = client.gather(t)\n",
    "#wait(t)"
   ]
  },
  {
   "cell_type": "code",
   "execution_count": 30,
   "id": "1c90e623-df39-48fd-a9f1-3ae00fdfd5be",
   "metadata": {},
   "outputs": [
    {
     "data": {
      "text/html": [
       "<div>\n",
       "<style scoped>\n",
       "    .dataframe tbody tr th:only-of-type {\n",
       "        vertical-align: middle;\n",
       "    }\n",
       "\n",
       "    .dataframe tbody tr th {\n",
       "        vertical-align: top;\n",
       "    }\n",
       "\n",
       "    .dataframe thead th {\n",
       "        text-align: right;\n",
       "    }\n",
       "</style>\n",
       "<table border=\"1\" class=\"dataframe\">\n",
       "  <thead>\n",
       "    <tr style=\"text-align: right;\">\n",
       "      <th></th>\n",
       "      <th>title</th>\n",
       "      <th>stats</th>\n",
       "      <th>tags</th>\n",
       "      <th>vote</th>\n",
       "      <th>answer</th>\n",
       "      <th>view</th>\n",
       "    </tr>\n",
       "  </thead>\n",
       "  <tbody>\n",
       "    <tr>\n",
       "      <th>0</th>\n",
       "      <td>Python errors in command prompt</td>\n",
       "      <td>[0, 0, 4]</td>\n",
       "      <td>[python, python-3.x, python-2.7]</td>\n",
       "      <td>0</td>\n",
       "      <td>0</td>\n",
       "      <td>4</td>\n",
       "    </tr>\n",
       "    <tr>\n",
       "      <th>1</th>\n",
       "      <td>How to use KinematicTrajectoryOptimization in ...</td>\n",
       "      <td>[1, 0, 3]</td>\n",
       "      <td>[python, optimization, drake]</td>\n",
       "      <td>1</td>\n",
       "      <td>0</td>\n",
       "      <td>3</td>\n",
       "    </tr>\n",
       "    <tr>\n",
       "      <th>2</th>\n",
       "      <td>Python Selenium &amp; Browserstack - Connect to proxy</td>\n",
       "      <td>[0, 0, 6]</td>\n",
       "      <td>[python, selenium, browserstack]</td>\n",
       "      <td>0</td>\n",
       "      <td>0</td>\n",
       "      <td>6</td>\n",
       "    </tr>\n",
       "  </tbody>\n",
       "</table>\n",
       "</div>"
      ],
      "text/plain": [
       "                                               title      stats  \\\n",
       "0                    Python errors in command prompt  [0, 0, 4]   \n",
       "1  How to use KinematicTrajectoryOptimization in ...  [1, 0, 3]   \n",
       "2  Python Selenium & Browserstack - Connect to proxy  [0, 0, 6]   \n",
       "\n",
       "                               tags  vote  answer  view  \n",
       "0  [python, python-3.x, python-2.7]     0       0     4  \n",
       "1     [python, optimization, drake]     1       0     3  \n",
       "2  [python, selenium, browserstack]     0       0     6  "
      ]
     },
     "execution_count": 30,
     "metadata": {},
     "output_type": "execute_result"
    }
   ],
   "source": [
    "test[0].head(3)"
   ]
  },
  {
   "cell_type": "code",
   "execution_count": null,
   "id": "eb78d31b-d646-4709-9f0d-4a4a7358ef95",
   "metadata": {},
   "outputs": [],
   "source": []
  },
  {
   "cell_type": "code",
   "execution_count": 31,
   "id": "06fb0191-32a9-4061-b459-a7c4de95bf77",
   "metadata": {},
   "outputs": [
    {
     "name": "stdout",
     "output_type": "stream",
     "text": [
      "CPU times: user 104 ms, sys: 31.6 ms, total: 136 ms\n",
      "Wall time: 1.23 s\n"
     ]
    }
   ],
   "source": [
    "%%time\n",
    "t_d = client.map(lambda p: scrape_tag(p, tag=\"dask\"), range(1, 11))\n",
    "t_d_res = client.gather(t_d)"
   ]
  },
  {
   "cell_type": "code",
   "execution_count": 33,
   "id": "fadbd3cf-3956-42b3-94b8-76737fcd5ab5",
   "metadata": {},
   "outputs": [
    {
     "data": {
      "text/html": [
       "<div>\n",
       "<style scoped>\n",
       "    .dataframe tbody tr th:only-of-type {\n",
       "        vertical-align: middle;\n",
       "    }\n",
       "\n",
       "    .dataframe tbody tr th {\n",
       "        vertical-align: top;\n",
       "    }\n",
       "\n",
       "    .dataframe thead th {\n",
       "        text-align: right;\n",
       "    }\n",
       "</style>\n",
       "<table border=\"1\" class=\"dataframe\">\n",
       "  <thead>\n",
       "    <tr style=\"text-align: right;\">\n",
       "      <th></th>\n",
       "      <th>title</th>\n",
       "      <th>stats</th>\n",
       "      <th>tags</th>\n",
       "      <th>vote</th>\n",
       "      <th>answer</th>\n",
       "      <th>view</th>\n",
       "    </tr>\n",
       "  </thead>\n",
       "  <tbody>\n",
       "    <tr>\n",
       "      <th>0</th>\n",
       "      <td>Load data with chunks</td>\n",
       "      <td>[0, 1, 20]</td>\n",
       "      <td>[python, pandas, sqlalchemy, dask, chunks]</td>\n",
       "      <td>0</td>\n",
       "      <td>1</td>\n",
       "      <td>20</td>\n",
       "    </tr>\n",
       "    <tr>\n",
       "      <th>1</th>\n",
       "      <td>Apply a function over the columns of a Dask array</td>\n",
       "      <td>[2, 0, 23]</td>\n",
       "      <td>[dask, dask-distributed, dask-dataframe, dask-...</td>\n",
       "      <td>2</td>\n",
       "      <td>0</td>\n",
       "      <td>23</td>\n",
       "    </tr>\n",
       "    <tr>\n",
       "      <th>2</th>\n",
       "      <td>Is py-datatable compatible with Dask?</td>\n",
       "      <td>[0, 0, 18]</td>\n",
       "      <td>[dask, py-datatable]</td>\n",
       "      <td>0</td>\n",
       "      <td>0</td>\n",
       "      <td>18</td>\n",
       "    </tr>\n",
       "  </tbody>\n",
       "</table>\n",
       "</div>"
      ],
      "text/plain": [
       "                                               title       stats  \\\n",
       "0                              Load data with chunks  [0, 1, 20]   \n",
       "1  Apply a function over the columns of a Dask array  [2, 0, 23]   \n",
       "2              Is py-datatable compatible with Dask?  [0, 0, 18]   \n",
       "\n",
       "                                                tags  vote  answer  view  \n",
       "0         [python, pandas, sqlalchemy, dask, chunks]     0       1    20  \n",
       "1  [dask, dask-distributed, dask-dataframe, dask-...     2       0    23  \n",
       "2                               [dask, py-datatable]     0       0    18  "
      ]
     },
     "execution_count": 33,
     "metadata": {},
     "output_type": "execute_result"
    }
   ],
   "source": [
    "t_d_res[0].head(3)"
   ]
  },
  {
   "cell_type": "markdown",
   "id": "1c6bdbf0-c04a-4a7c-9f44-e6883165c171",
   "metadata": {},
   "source": [
    "## use delayed"
   ]
  },
  {
   "cell_type": "code",
   "execution_count": 28,
   "id": "a4906f13-5291-454e-81db-45b60827ec20",
   "metadata": {},
   "outputs": [],
   "source": [
    "import dask"
   ]
  },
  {
   "cell_type": "code",
   "execution_count": 39,
   "id": "755b7aa2-0b08-42e0-b3f9-bd9cf7992f49",
   "metadata": {},
   "outputs": [],
   "source": [
    "@dask.delayed\n",
    "def scrape_tag_delayed(page_num, tag=\"python\", query_filter=\"Newest\", pagesize=50):\n",
    "    base_url = \"https://stackoverflow.com/questions/tagged/\"\n",
    "    url = f\"{base_url}{tag}?tab={query_filter}&page={page_num}&pagesize={pagesize}\"\n",
    "    datas_page = extract_url_and_parse_html(url)\n",
    "        #time.sleep(1.2) #need between requests.\n",
    "    return pd.DataFrame(datas_page)"
   ]
  },
  {
   "cell_type": "code",
   "execution_count": 40,
   "id": "2a04db8e-a5f6-4077-9cc0-c3be80a7c6de",
   "metadata": {},
   "outputs": [],
   "source": [
    "res = []\n",
    "for page in range(1, 11):\n",
    "    res.append(scrape_tag_delayed(page))"
   ]
  },
  {
   "cell_type": "code",
   "execution_count": 41,
   "id": "f772bf99-a14a-40c0-b7bd-1da131f6dff0",
   "metadata": {},
   "outputs": [
    {
     "data": {
      "text/plain": [
       "[Delayed('scrape_tag_delayed-2cc531c7-c50d-40af-bf65-d3a1909de259'),\n",
       " Delayed('scrape_tag_delayed-7980fbe0-dbc5-46f6-b79b-379617bead4b'),\n",
       " Delayed('scrape_tag_delayed-ca4684a0-a78d-4241-ab0f-c0bea51900e5'),\n",
       " Delayed('scrape_tag_delayed-e8a95c0e-e2ad-432e-929a-c4267b7fda68'),\n",
       " Delayed('scrape_tag_delayed-6df82447-fc5f-49f9-8f8a-84f2addade57'),\n",
       " Delayed('scrape_tag_delayed-fce202db-e24c-42c0-99bf-ca28040f48fc'),\n",
       " Delayed('scrape_tag_delayed-812e0f2d-558b-4262-a56c-fa5a6c05680a'),\n",
       " Delayed('scrape_tag_delayed-18e7de00-63e9-471b-a921-dbb9c7080fe2'),\n",
       " Delayed('scrape_tag_delayed-2c163ab4-4732-49a1-b093-b443499c3428'),\n",
       " Delayed('scrape_tag_delayed-b17adc02-e4c2-42a9-909f-b3f0d6a16c6f')]"
      ]
     },
     "execution_count": 41,
     "metadata": {},
     "output_type": "execute_result"
    }
   ],
   "source": [
    "res"
   ]
  },
  {
   "cell_type": "code",
   "execution_count": 33,
   "id": "6d37347b-8f8b-459e-be1a-e3a0da5169e0",
   "metadata": {},
   "outputs": [
    {
     "name": "stdout",
     "output_type": "stream",
     "text": [
      "CPU times: user 99.9 ms, sys: 30.3 ms, total: 130 ms\n",
      "Wall time: 1.21 s\n"
     ]
    }
   ],
   "source": [
    "%%time\n",
    "r = dask.compute(res)"
   ]
  },
  {
   "cell_type": "code",
   "execution_count": 169,
   "id": "a50089dc-20ca-44d7-9c45-c3fd2a7814d3",
   "metadata": {},
   "outputs": [],
   "source": [
    "from dask.distributed import as_completed"
   ]
  },
  {
   "cell_type": "markdown",
   "id": "0143c29a-b4f3-4a1f-b62f-2b3c1474747b",
   "metadata": {},
   "source": [
    "## NOTE\n",
    "HERE DO EXAMPLE BELOW WITH WAIT AND TIME IT "
   ]
  },
  {
   "cell_type": "code",
   "execution_count": null,
   "id": "b8f1937c-2d27-4c3a-9c1b-d0a32404bb88",
   "metadata": {},
   "outputs": [],
   "source": []
  },
  {
   "cell_type": "code",
   "execution_count": null,
   "id": "5f7d5c19-5fde-4474-866c-b7d1b3711592",
   "metadata": {},
   "outputs": [],
   "source": []
  },
  {
   "cell_type": "code",
   "execution_count": 189,
   "id": "e1d08e82-47eb-4b55-9a40-a5cd11dddf5b",
   "metadata": {},
   "outputs": [
    {
     "name": "stdout",
     "output_type": "stream",
     "text": [
      "CPU times: user 35.5 ms, sys: 7.28 ms, total: 42.8 ms\n",
      "Wall time: 51.7 ms\n"
     ]
    },
    {
     "data": {
      "text/plain": [
       "105874"
      ]
     },
     "execution_count": 189,
     "metadata": {},
     "output_type": "execute_result"
    }
   ],
   "source": [
    "%%time\n",
    "t15 = client.map(scrape_tag, range(15))\n",
    "\n",
    "tot_views= 0 \n",
    "\n",
    "for future in as_completed(t15):\n",
    "    test = future.result()['view']\n",
    "    tot_views += test.sum()\n",
    "\n",
    "tot_views"
   ]
  },
  {
   "cell_type": "code",
   "execution_count": 118,
   "id": "7ff6e847-03df-4c7c-9be7-cc2ad8ff698e",
   "metadata": {},
   "outputs": [],
   "source": [
    "import dask.dataframe as dd"
   ]
  },
  {
   "cell_type": "code",
   "execution_count": 183,
   "id": "1e92d0ea-339b-4651-9aeb-57fc274cba8b",
   "metadata": {},
   "outputs": [],
   "source": [
    "test_del = dd.from_delayed(t15)"
   ]
  },
  {
   "cell_type": "code",
   "execution_count": 184,
   "id": "e53622c1-95dd-4018-aba1-8025fb61dd3e",
   "metadata": {},
   "outputs": [
    {
     "data": {
      "text/html": [
       "<div><strong>Dask DataFrame Structure:</strong></div>\n",
       "<div>\n",
       "<style scoped>\n",
       "    .dataframe tbody tr th:only-of-type {\n",
       "        vertical-align: middle;\n",
       "    }\n",
       "\n",
       "    .dataframe tbody tr th {\n",
       "        vertical-align: top;\n",
       "    }\n",
       "\n",
       "    .dataframe thead th {\n",
       "        text-align: right;\n",
       "    }\n",
       "</style>\n",
       "<table border=\"1\" class=\"dataframe\">\n",
       "  <thead>\n",
       "    <tr style=\"text-align: right;\">\n",
       "      <th></th>\n",
       "      <th>title</th>\n",
       "      <th>stats</th>\n",
       "      <th>tags</th>\n",
       "      <th>vote</th>\n",
       "      <th>answer</th>\n",
       "      <th>view</th>\n",
       "    </tr>\n",
       "    <tr>\n",
       "      <th>npartitions=15</th>\n",
       "      <th></th>\n",
       "      <th></th>\n",
       "      <th></th>\n",
       "      <th></th>\n",
       "      <th></th>\n",
       "      <th></th>\n",
       "    </tr>\n",
       "  </thead>\n",
       "  <tbody>\n",
       "    <tr>\n",
       "      <th></th>\n",
       "      <td>object</td>\n",
       "      <td>object</td>\n",
       "      <td>object</td>\n",
       "      <td>int64</td>\n",
       "      <td>int64</td>\n",
       "      <td>int64</td>\n",
       "    </tr>\n",
       "    <tr>\n",
       "      <th></th>\n",
       "      <td>...</td>\n",
       "      <td>...</td>\n",
       "      <td>...</td>\n",
       "      <td>...</td>\n",
       "      <td>...</td>\n",
       "      <td>...</td>\n",
       "    </tr>\n",
       "    <tr>\n",
       "      <th>...</th>\n",
       "      <td>...</td>\n",
       "      <td>...</td>\n",
       "      <td>...</td>\n",
       "      <td>...</td>\n",
       "      <td>...</td>\n",
       "      <td>...</td>\n",
       "    </tr>\n",
       "    <tr>\n",
       "      <th></th>\n",
       "      <td>...</td>\n",
       "      <td>...</td>\n",
       "      <td>...</td>\n",
       "      <td>...</td>\n",
       "      <td>...</td>\n",
       "      <td>...</td>\n",
       "    </tr>\n",
       "    <tr>\n",
       "      <th></th>\n",
       "      <td>...</td>\n",
       "      <td>...</td>\n",
       "      <td>...</td>\n",
       "      <td>...</td>\n",
       "      <td>...</td>\n",
       "      <td>...</td>\n",
       "    </tr>\n",
       "  </tbody>\n",
       "</table>\n",
       "</div>\n",
       "<div>Dask Name: from-delayed, 16 graph layers</div>"
      ],
      "text/plain": [
       "Dask DataFrame Structure:\n",
       "                 title   stats    tags   vote answer   view\n",
       "npartitions=15                                             \n",
       "                object  object  object  int64  int64  int64\n",
       "                   ...     ...     ...    ...    ...    ...\n",
       "...                ...     ...     ...    ...    ...    ...\n",
       "                   ...     ...     ...    ...    ...    ...\n",
       "                   ...     ...     ...    ...    ...    ...\n",
       "Dask Name: from-delayed, 16 graph layers"
      ]
     },
     "execution_count": 184,
     "metadata": {},
     "output_type": "execute_result"
    }
   ],
   "source": [
    "test_del"
   ]
  },
  {
   "cell_type": "code",
   "execution_count": 185,
   "id": "0e25d438-200b-4291-ba4e-470f32596ce1",
   "metadata": {},
   "outputs": [
    {
     "data": {
      "text/plain": [
       "dd.Scalar<series-..., dtype=int64>"
      ]
     },
     "execution_count": 185,
     "metadata": {},
     "output_type": "execute_result"
    }
   ],
   "source": [
    "test_del['view'].sum()"
   ]
  },
  {
   "cell_type": "code",
   "execution_count": 186,
   "id": "9f0e5f6f-c3e2-4a44-9199-fc95bf26a512",
   "metadata": {},
   "outputs": [
    {
     "name": "stdout",
     "output_type": "stream",
     "text": [
      "CPU times: user 37.5 ms, sys: 4.54 ms, total: 42.1 ms\n",
      "Wall time: 49 ms\n"
     ]
    },
    {
     "data": {
      "text/plain": [
       "105874"
      ]
     },
     "execution_count": 186,
     "metadata": {},
     "output_type": "execute_result"
    }
   ],
   "source": [
    "%%time\n",
    "test_del['view'].sum().compute()"
   ]
  },
  {
   "cell_type": "code",
   "execution_count": 191,
   "id": "607f9a04-349a-41b2-bf67-c378dbd03de4",
   "metadata": {},
   "outputs": [],
   "source": [
    "client.shutdown()"
   ]
  }
 ],
 "metadata": {
  "kernelspec": {
   "display_name": "Python 3 (ipykernel)",
   "language": "python",
   "name": "python3"
  },
  "language_info": {
   "codemirror_mode": {
    "name": "ipython",
    "version": 3
   },
   "file_extension": ".py",
   "mimetype": "text/x-python",
   "name": "python",
   "nbconvert_exporter": "python",
   "pygments_lexer": "ipython3",
   "version": "3.10.8"
  }
 },
 "nbformat": 4,
 "nbformat_minor": 5
}
