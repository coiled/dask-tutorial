{
 "cells": [
  {
   "cell_type": "markdown",
   "id": "036478b0-c89d-4051-a513-f4436f48968f",
   "metadata": {},
   "source": [
    "## Get better at dask dataframes\n",
    "\n",
    "In this lesson you will learn some good practices for dask dataframes and dealing with data in general.\n",
    "\n",
    "## Parquet is where is at!!\n",
    "\n",
    "You will learn the advantages of working with the parquet data format, and using the Uber/Lyft dataset you will learn to troubleshoot the nuances of working with real data. \n"
   ]
  },
  {
   "cell_type": "markdown",
   "id": "4307fa56-f051-467b-bf1f-e3acae08e3a8",
   "metadata": {},
   "source": [
    "### Work close to your data\n",
    "\n",
    "To get started when you are working with data that is in the cloud it's always better to work close to your data, to minimize the impact of IO networking. \n",
    "\n",
    "In this lesson, we will use coiled clusters that will be created on the same region that our datasets are stored. (the region is `\"us-east-2\"`)\n",
    "\n",
    "**NOTE:**\n",
    "If you do not have access to a coiled cluster you, can follow along just make sure you use the smaller dataset (use the `\"0.5GB-\"` ones). "
   ]
  },
  {
   "cell_type": "markdown",
   "id": "7a52c65b-f0bc-4341-9841-4de07f710dce",
   "metadata": {},
   "source": [
    "## Parquet vs CSV\n",
    "\n",
    "Most people are familiarized with csv files, but when it comes to working with data, working with parquet can make a big difference. The Parquet file format is column-oriented and it's designed to efficiently store and retrieve data. \n",
    "\n",
    "### Small motivation example: \n",
    "Let's see an example where we compare reading the same data but in one case it is stored as `csv` files, while the other as `parquet` files. "
   ]
  },
  {
   "cell_type": "code",
   "execution_count": null,
   "id": "a2104467-31be-4f61-ad22-fc9ceea8cb69",
   "metadata": {},
   "outputs": [],
   "source": [
    "data ={\"0.5GB-csv\": \"s3://coiled-datasets/h2o-benchmark/N_1e7_K_1e2/*.csv\",\n",
    "       \"0.5GB-pq\": \"s3://coiled-datasets/h2o-benchmark/N_1e7_K_1e2_parquet/*.parquet\",\n",
    "       \"5GB-csv\": \"s3://coiled-datasets/h2o-benchmark/N_1e8_K_1e2/*.csv\",\n",
    "       \"5GB-pq\": \"s3://coiled-datasets/h2o-benchmark/N_1e8_K_1e2_parquet/*.parquet\",}"
   ]
  },
  {
   "cell_type": "code",
   "execution_count": 1,
   "id": "bea1905f-09aa-4865-844e-d752639e29c2",
   "metadata": {},
   "outputs": [],
   "source": [
    "import coiled\n",
    "from dask.distributed import Client\n",
    "import dask.dataframe as dd\n",
    "import uuid #to create unique cluster names"
   ]
  },
  {
   "cell_type": "code",
   "execution_count": 2,
   "id": "05d32167-d6fb-4534-92b3-9cbc5f7391a6",
   "metadata": {},
   "outputs": [
    {
     "data": {
      "text/plain": [
       "'2022.12.0'"
      ]
     },
     "execution_count": 2,
     "metadata": {},
     "output_type": "execute_result"
    }
   ],
   "source": [
    "import dask\n",
    "dask.__version__"
   ]
  },
  {
   "cell_type": "code",
   "execution_count": 3,
   "id": "f1162a7b-969a-46c7-a6b2-bfef92cade59",
   "metadata": {},
   "outputs": [],
   "source": [
    "id_cluster = uuid.uuid4().hex[:4]"
   ]
  },
  {
   "cell_type": "code",
   "execution_count": null,
   "id": "e0ac86a4-5336-4c28-98e9-64323e450863",
   "metadata": {},
   "outputs": [],
   "source": [
    "%%time\n",
    "cluster = coiled.Cluster(name=f\"dask-tutorial-{id_cluster}\",\n",
    "                        n_workers=10,\n",
    "                        package_sync=True,\n",
    "                        backend_options={\"region_name\": \"us-east-2\"},\n",
    "                        );\n",
    "\n",
    "## maybe use mi6 instead, the default ones are slower..."
   ]
  },
  {
   "cell_type": "code",
   "execution_count": null,
   "id": "254390a1-e055-446c-ab44-c8d76121928d",
   "metadata": {},
   "outputs": [],
   "source": [
    "client = Client(cluster)\n",
    "client"
   ]
  },
  {
   "cell_type": "code",
   "execution_count": null,
   "id": "d6829081-0fe8-432b-a126-254ba8139f82",
   "metadata": {},
   "outputs": [],
   "source": [
    "ddf_csv = dd.read_csv(data[\"5GB-csv\"], storage_options={\"anon\": True})\n",
    "ddf_pq = dd.read_parquet(data[\"5GB-pq\"], storage_options={\"anon\": True})\n"
   ]
  },
  {
   "cell_type": "code",
   "execution_count": null,
   "id": "78de69de-fe56-46e4-b8b7-63936c7de7f1",
   "metadata": {},
   "outputs": [],
   "source": [
    "ddf_csv"
   ]
  },
  {
   "cell_type": "code",
   "execution_count": null,
   "id": "d1a9742b-a915-4e7f-8d81-59a127bf9e9c",
   "metadata": {},
   "outputs": [],
   "source": [
    "ddf_pq"
   ]
  },
  {
   "cell_type": "code",
   "execution_count": null,
   "id": "f938ab3c-30da-416c-87a4-58128c7973b7",
   "metadata": {},
   "outputs": [],
   "source": [
    "%%time\n",
    "ddf_csv.groupby(\"id1\").agg({\"v1\": \"sum\"}).compute()"
   ]
  },
  {
   "cell_type": "code",
   "execution_count": null,
   "id": "84a6f2fb-b1ba-4b8d-ade5-be1c2c6f4a93",
   "metadata": {},
   "outputs": [],
   "source": [
    "%%time\n",
    "ddf_pq.groupby(\"id1\").agg({\"v1\": \"sum\"}).compute()"
   ]
  },
  {
   "cell_type": "markdown",
   "id": "0530b707-cad2-4b43-8921-1eb821616822",
   "metadata": {},
   "source": [
    "Notice that the `parquet` version without doing much it is already ~5X faster. \n",
    "\n",
    "Let's take a look at the memory usage as well as the `dtypes` in both cases."
   ]
  },
  {
   "cell_type": "code",
   "execution_count": null,
   "id": "4be1cc4f-4656-4565-bd83-dfec45e613fe",
   "metadata": {},
   "outputs": [],
   "source": [
    "## memory usage for 1 partition\n",
    "ddf_csv.partitions[0].memory_usage(deep=True).compute()"
   ]
  },
  {
   "cell_type": "code",
   "execution_count": null,
   "id": "011266f8-b9d7-46c4-b88d-574582f5528b",
   "metadata": {},
   "outputs": [],
   "source": [
    "ddf_pq.partitions[0].memory_usage(deep=True).compute()"
   ]
  },
  {
   "cell_type": "code",
   "execution_count": null,
   "id": "d5aa3b67-328d-409a-8b9a-8930ca0da53a",
   "metadata": {},
   "outputs": [],
   "source": [
    "client.shutdown()"
   ]
  },
  {
   "cell_type": "markdown",
   "id": "8e323f48-9bbb-46bd-af08-7d6ded1ccead",
   "metadata": {},
   "source": [
    "### Uber/Lyft data transformation\n",
    "\n",
    "In the example above we quickly saw that the format in which the data is saved already makes a big difference. But there so much to exploit about the parquet file format. \n",
    "\n",
    "Let's work with the data from [High-Volume For-Hire Services](https://www.nyc.gov/site/tlc/businesses/high-volume-for-hire-services.page)\n",
    "\n",
    "Data dictionary: https://www.nyc.gov/assets/tlc/downloads/pdf/data_dictionary_trip_records_hvfhs.pdf"
   ]
  },
  {
   "cell_type": "code",
   "execution_count": null,
   "id": "fda99d96-4b61-4bd8-882b-d7b457279276",
   "metadata": {},
   "outputs": [],
   "source": [
    "import s3fs\n",
    "\n",
    "s3 = s3fs.S3FileSystem()\n",
    "files = s3.glob(\"nyc-tlc/trip data/fhvhv_tripdata_*.parquet\")\n",
    "files[:3]"
   ]
  },
  {
   "cell_type": "code",
   "execution_count": null,
   "id": "3af054b4-894c-4ff0-b5f2-e1dd9d117066",
   "metadata": {},
   "outputs": [],
   "source": [
    "len(files)"
   ]
  },
  {
   "cell_type": "code",
   "execution_count": null,
   "id": "d64ee00a-f2e8-4aee-b587-0b807801d78e",
   "metadata": {},
   "outputs": [],
   "source": [
    "#not sure where the data is but I will write to a bucket in us-east-2\n",
    "cluster = coiled.Cluster(\n",
    "    n_workers=10,\n",
    "    name=f\"nyc-uber-lyft-{id_cluster}\",\n",
    "    package_sync=True,\n",
    "    backend_options={\"region\": \"us-east-2\"}, \n",
    "    worker_memory=\"64 GiB\", #we know we need a lot of memory from experience\n",
    ")"
   ]
  },
  {
   "cell_type": "code",
   "execution_count": null,
   "id": "183c584b-bf15-4808-9dcb-a76a105e9c8b",
   "metadata": {},
   "outputs": [],
   "source": [
    "client = Client(cluster)\n",
    "client"
   ]
  },
  {
   "cell_type": "markdown",
   "id": "2b48f56f-2937-4b6d-8477-7c07721981c9",
   "metadata": {},
   "source": [
    "## Inspect the data"
   ]
  },
  {
   "cell_type": "code",
   "execution_count": null,
   "id": "e56cecd1-7af5-4f6a-bd9f-7cb188e09030",
   "metadata": {},
   "outputs": [],
   "source": [
    "client.restart()"
   ]
  },
  {
   "cell_type": "code",
   "execution_count": null,
   "id": "419eefb7-767e-402f-b8c6-fa80b8aa1c14",
   "metadata": {},
   "outputs": [],
   "source": [
    "import dask"
   ]
  },
  {
   "cell_type": "code",
   "execution_count": null,
   "id": "882652d4-cc6b-454a-be90-d6b8111186ef",
   "metadata": {},
   "outputs": [],
   "source": [
    "ddf = dd.read_parquet(\n",
    "    \"s3://nyc-tlc/trip data/fhvhv_tripdata_*.parquet\",\n",
    ")\n",
    "ddf"
   ]
  },
  {
   "cell_type": "code",
   "execution_count": null,
   "id": "70ea4e9a-d812-4d50-9f73-c34054b34007",
   "metadata": {},
   "outputs": [],
   "source": [
    "#inspect memory usage of 1 partition\n",
    "ddf.partitions[0].memory_usage(deep=True).compute().apply(dask.utils.format_bytes)"
   ]
  },
  {
   "cell_type": "code",
   "execution_count": null,
   "id": "3727d3f4-3544-4889-8499-d4ea867bbf85",
   "metadata": {},
   "outputs": [],
   "source": [
    "#inspect dtypes\n",
    "ddf.dtypes"
   ]
  },
  {
   "cell_type": "markdown",
   "id": "0547a9bf-436a-4a49-8cdd-7d79f4c281f0",
   "metadata": {},
   "source": [
    "## Challenges\n",
    "\n",
    "As you can see, the partitions are very big, and the data types are inefficient.\n",
    "\n",
    "## Recommendations and best practices:\n",
    "**Partition size**\n",
    "\n",
    "In general we aim for ~100MB (in memory) per partition. \n",
    "\n",
    "\n",
    "Repartition [docs](https://docs.dask.org/en/stable/generated/dask.dataframe.DataFrame.repartition.html):\n",
    "\n",
    "- Exactly one of divisions, npartitions, partition_size, or freq should be specified.\n",
    "- \"You should aim for partitions that have around 100MB of data each.\" https://docs.dask.org/en/stable/dataframe-best-practices.html  but Why?\n",
    "\n",
    "https://docs.dask.org/en/stable/dataframe-best-practices.html#repartition-to-reduce-overhead\n",
    "\n",
    "\n",
    "**dtypes**\n",
    "\n",
    "- Avoid object types for strings: use `\"string[pyarrow]\"`\n",
    "- Reduce int/float representation if possible\n",
    "- Use categorical dtypes when possible.\n",
    "\n",
    "### Create conversions dictionary"
   ]
  },
  {
   "cell_type": "code",
   "execution_count": 27,
   "id": "ac85d0af-b961-4fff-be71-b14b60cd52bd",
   "metadata": {},
   "outputs": [],
   "source": [
    "import pandas as pd"
   ]
  },
  {
   "cell_type": "code",
   "execution_count": null,
   "id": "a9bccadb-6f7a-4dba-a4fd-113bd96fbbc9",
   "metadata": {},
   "outputs": [],
   "source": [
    "conversions = {}\n",
    "for column, dtype in ddf.dtypes.items():\n",
    "    if dtype == \"object\":\n",
    "        conversions[column] = \"string[pyarrow]\"\n",
    "    if dtype == \"float64\":\n",
    "        conversions[column] = \"float32\"\n",
    "    if dtype == \"int64\": \n",
    "        conversions[column] = \"int32\"\n",
    "    if \"flag\" in column:\n",
    "        conversions[column] = pd.CategoricalDtype(categories=[\"Y\", \"N\"])\n",
    "    if column == \"airport_fee\":\n",
    "        conversions[column] = \"float32\"  #noticed that this has floats and the <NA> is making it an object\n",
    "conversions"
   ]
  },
  {
   "cell_type": "code",
   "execution_count": null,
   "id": "53645d0d-8cd9-4fe8-892a-b4c11f2b787d",
   "metadata": {},
   "outputs": [],
   "source": [
    "ddf = ddf.astype(conversions)\n",
    "ddf = ddf.persist()"
   ]
  },
  {
   "cell_type": "code",
   "execution_count": null,
   "id": "eed8a8ed-abb8-4fa4-8686-3a7a68bd28df",
   "metadata": {},
   "outputs": [],
   "source": [
    "ddf.partitions[0].memory_usage(deep=True).compute().apply(dask.utils.format_bytes)"
   ]
  },
  {
   "cell_type": "code",
   "execution_count": null,
   "id": "f5970a21-6c8c-40dd-869e-07d998e7c2e3",
   "metadata": {},
   "outputs": [],
   "source": [
    "dask.utils.format_bytes(\n",
    "    ddf.partitions[0].memory_usage(deep=True).compute().sum()\n",
    ")"
   ]
  },
  {
   "cell_type": "markdown",
   "id": "ec42ac57-72fd-4ff3-8416-dcdb287e25b7",
   "metadata": {},
   "source": [
    "### Repartition"
   ]
  },
  {
   "cell_type": "code",
   "execution_count": null,
   "id": "4815f73c-0ae4-4b8b-84f2-1750cbaa969a",
   "metadata": {},
   "outputs": [],
   "source": [
    "ddf = ddf.repartition(partition_size=\"128MB\").persist()"
   ]
  },
  {
   "cell_type": "code",
   "execution_count": null,
   "id": "d6c13761-4906-47a6-b138-1ec5875e1242",
   "metadata": {},
   "outputs": [],
   "source": [
    "dask.utils.format_bytes(\n",
    "    ddf.memory_usage(deep=True).compute().sum()\n",
    ")"
   ]
  },
  {
   "cell_type": "code",
   "execution_count": null,
   "id": "329c807b-1dfe-4173-9d34-73bc8fc38695",
   "metadata": {},
   "outputs": [],
   "source": [
    "ddf.npartitions"
   ]
  },
  {
   "cell_type": "markdown",
   "id": "d214655b-2850-49bd-8e6b-70f51ef761b7",
   "metadata": {},
   "source": [
    "## Sort and one-day partitioning"
   ]
  },
  {
   "cell_type": "code",
   "execution_count": null,
   "id": "7b208ec5-4c1e-45e7-921e-04a90b60f37e",
   "metadata": {},
   "outputs": [],
   "source": [
    "ddf = ddf.set_index(\"request_datetime\").persist()"
   ]
  },
  {
   "cell_type": "code",
   "execution_count": null,
   "id": "b056e6e8-f393-4bae-906a-bdc411c9afb0",
   "metadata": {},
   "outputs": [],
   "source": [
    "ddf.divisions[:5]"
   ]
  },
  {
   "cell_type": "markdown",
   "id": "cf67360c-83b8-4dbb-ac2c-340a51e329e6",
   "metadata": {},
   "source": [
    "Look like they are a bit longer than a day, we might as well repartition them witha  1-day frequency."
   ]
  },
  {
   "cell_type": "code",
   "execution_count": null,
   "id": "58c66047-19cc-4348-a58f-2a7e1b10330a",
   "metadata": {},
   "outputs": [],
   "source": [
    "ddf = ddf.repartition(freq=\"1d\")"
   ]
  },
  {
   "cell_type": "code",
   "execution_count": null,
   "id": "37c174e7-9022-4afc-8fd4-571d17245c6c",
   "metadata": {},
   "outputs": [],
   "source": [
    "ddf.divisions[:5]"
   ]
  },
  {
   "cell_type": "code",
   "execution_count": null,
   "id": "c2ca0e10-fc36-476f-8721-54efb6c51370",
   "metadata": {},
   "outputs": [],
   "source": [
    "ddf.npartitions"
   ]
  },
  {
   "cell_type": "code",
   "execution_count": null,
   "id": "3de701dd-2f55-418f-908a-3ae8839f2352",
   "metadata": {},
   "outputs": [],
   "source": [
    "#Clever name for files when to_parquet\n",
    "divisions = ddf.divisions\n",
    "\n",
    "def name_file(index: int) -> str:\n",
    "    return str(divisions[index].date()) + \".parquet\"\n",
    "\n",
    "name_file(0)"
   ]
  },
  {
   "cell_type": "code",
   "execution_count": null,
   "id": "7b0d899c-2155-4872-ade7-d80a19f5190e",
   "metadata": {},
   "outputs": [],
   "source": [
    "ddf.to_parquet(\n",
    "    \"s3://coiled-datasets/uber-lyft-tlc/\", \n",
    "    name_function=name_file,\n",
    ")"
   ]
  },
  {
   "cell_type": "markdown",
   "id": "287e76d2-04ce-4f5c-a620-39017f8b05a0",
   "metadata": {},
   "source": [
    "## Read data back\n",
    "\n",
    "use_nullable_dtypes"
   ]
  },
  {
   "cell_type": "code",
   "execution_count": null,
   "id": "eab0e94b-0725-40b2-bc04-52773608edf8",
   "metadata": {},
   "outputs": [],
   "source": [
    "#client.restart()"
   ]
  },
  {
   "cell_type": "code",
   "execution_count": null,
   "id": "71a340ae-4f3b-4714-bce4-2534a65c3b9d",
   "metadata": {},
   "outputs": [],
   "source": [
    "df = dd.read_parquet(\n",
    "    \"s3://coiled-datasets/uber-lyft-tlc/\", \n",
    "    use_nullable_dtypes=True\n",
    ").astype({\"hvfhs_license_num\": \"string[pyarrow]\", \n",
    "         \"dispatching_base_num\": \"string[pyarrow]\",\n",
    "         \"originating_base_num\": \"string[pyarrow]\",\n",
    "         }).persist()\n",
    "#df.dtypes"
   ]
  },
  {
   "cell_type": "code",
   "execution_count": null,
   "id": "f9a28eda-ee5f-452f-9941-6bbbc8f9aa99",
   "metadata": {},
   "outputs": [],
   "source": [
    "df.dtypes"
   ]
  },
  {
   "cell_type": "code",
   "execution_count": null,
   "id": "0001de44-e6fd-4f45-aa3b-3d51531e48d5",
   "metadata": {},
   "outputs": [],
   "source": [
    "df.hvfhs_license_num.dtype"
   ]
  },
  {
   "cell_type": "code",
   "execution_count": null,
   "id": "1264d50b-8d5f-461c-9927-de62ef16978f",
   "metadata": {},
   "outputs": [],
   "source": [
    "dask.utils.format_bytes(\n",
    "    df.memory_usage(deep=True).sum().compute()\n",
    ")"
   ]
  },
  {
   "cell_type": "code",
   "execution_count": null,
   "id": "f11baab3-052b-43d5-bf46-ece1e020ab9a",
   "metadata": {},
   "outputs": [],
   "source": [
    "Note:\n",
    "\n",
    "Without pyarrow strings we get '~200GB'"
   ]
  },
  {
   "cell_type": "code",
   "execution_count": null,
   "id": "1c4291e8-0dce-467b-95ce-badd2513b10c",
   "metadata": {},
   "outputs": [],
   "source": [
    "client.shutdown()"
   ]
  },
  {
   "cell_type": "markdown",
   "id": "beeff184-6c3d-44bb-86f3-f071c1ab5781",
   "metadata": {},
   "source": [
    "# Let's do data analysis\n",
    "\n",
    "Now we are at a stage that our whole dataset is ~75GB in memory. When it comes to exploring data we do not necessarily need the whole data set, we can work with a sample, as well as only select a subset of columns. One of the beauties of the parquet file format is **column pruning**\n",
    "\n",
    "\n",
    "Note: Keep in mind, that if you will do feature engineering, your data size will increase and having extra memory can help."
   ]
  },
  {
   "cell_type": "code",
   "execution_count": 7,
   "id": "3476887b-5643-4e4a-9cdb-d2488692cdf7",
   "metadata": {},
   "outputs": [
    {
     "data": {
      "text/html": [
       "<pre style=\"white-space:pre;overflow-x:auto;line-height:normal;font-family:Menlo,'DejaVu Sans Mono',consolas,'Courier New',monospace\">╭─────────────────────────────────────── <span style=\"color: #008000; text-decoration-color: #008000; font-weight: bold\">Package Sync Notes</span> ───────────────────────────────────────╮\n",
       "│                                      ╷                                                           │\n",
       "│  <span style=\"font-weight: bold\"> Package                            </span>│<span style=\"font-weight: bold\"> Note                                                    </span>  │\n",
       "│ ╶────────────────────────────────────┼─────────────────────────────────────────────────────────╴ │\n",
       "│   coiled-runtime                     │ Package ignored, no risk                                  │\n",
       "│   icu                                │ Package ignored, no risk                                  │\n",
       "│   libabseil                          │ Package ignored, no risk                                  │\n",
       "│   openssl                            │ Package ignored, no risk                                  │\n",
       "│                                      ╵                                                           │\n",
       "╰──────────────────────────────────────────────────────────────────────────────────────────────────╯\n",
       "</pre>\n"
      ],
      "text/plain": [
       "╭─────────────────────────────────────── \u001b[1;32mPackage Sync Notes\u001b[0m ───────────────────────────────────────╮\n",
       "│                                      ╷                                                           │\n",
       "│  \u001b[1m \u001b[0m\u001b[1mPackage                           \u001b[0m\u001b[1m \u001b[0m│\u001b[1m \u001b[0m\u001b[1mNote                                                   \u001b[0m\u001b[1m \u001b[0m  │\n",
       "│ ╶────────────────────────────────────┼─────────────────────────────────────────────────────────╴ │\n",
       "│   coiled-runtime                     │ Package ignored, no risk                                  │\n",
       "│   icu                                │ Package ignored, no risk                                  │\n",
       "│   libabseil                          │ Package ignored, no risk                                  │\n",
       "│   openssl                            │ Package ignored, no risk                                  │\n",
       "│                                      ╵                                                           │\n",
       "╰──────────────────────────────────────────────────────────────────────────────────────────────────╯\n"
      ]
     },
     "metadata": {},
     "output_type": "display_data"
    },
    {
     "data": {
      "application/vnd.jupyter.widget-view+json": {
       "model_id": "7fe08f43028a47228dd23ad6e6783289",
       "version_major": 2,
       "version_minor": 0
      },
      "text/plain": [
       "Output()"
      ]
     },
     "metadata": {},
     "output_type": "display_data"
    },
    {
     "data": {
      "text/html": [
       "<pre style=\"white-space:pre;overflow-x:auto;line-height:normal;font-family:Menlo,'DejaVu Sans Mono',consolas,'Courier New',monospace\"></pre>\n"
      ],
      "text/plain": []
     },
     "metadata": {},
     "output_type": "display_data"
    }
   ],
   "source": [
    "cluster = coiled.Cluster(name=f\"uber-lyft-small-{id_cluster}\", \n",
    "                         n_workers=20, \n",
    "                         package_sync=True,\n",
    "                         backend_options={\"region_name\": \"us-east-2\"},\n",
    "                         worker_memory=\"32GB\",\n",
    ")"
   ]
  },
  {
   "cell_type": "code",
   "execution_count": 8,
   "id": "304ba45b-5604-4bdd-8a33-7433cd9df26d",
   "metadata": {},
   "outputs": [],
   "source": [
    "client = Client(cluster)"
   ]
  },
  {
   "cell_type": "code",
   "execution_count": 9,
   "id": "c5a715c5-b809-4305-93d1-466a1008326c",
   "metadata": {},
   "outputs": [
    {
     "data": {
      "text/html": [
       "<div>\n",
       "    <div style=\"width: 24px; height: 24px; background-color: #e1e1e1; border: 3px solid #9D9D9D; border-radius: 5px; position: absolute;\"> </div>\n",
       "    <div style=\"margin-left: 48px;\">\n",
       "        <h3 style=\"margin-bottom: 0px;\">Client</h3>\n",
       "        <p style=\"color: #9D9D9D; margin-bottom: 0px;\">Client-32791070-7d8a-11ed-93d3-9eae289ce629</p>\n",
       "        <table style=\"width: 100%; text-align: left;\">\n",
       "\n",
       "        <tr>\n",
       "        \n",
       "            <td style=\"text-align: left;\"><strong>Connection method:</strong> Cluster object</td>\n",
       "            <td style=\"text-align: left;\"><strong>Cluster type:</strong> coiled.ClusterBeta</td>\n",
       "        \n",
       "        </tr>\n",
       "\n",
       "        \n",
       "            <tr>\n",
       "                <td style=\"text-align: left;\">\n",
       "                    <strong>Dashboard: </strong> <a href=\"http://18.219.226.117:8787\" target=\"_blank\">http://18.219.226.117:8787</a>\n",
       "                </td>\n",
       "                <td style=\"text-align: left;\"></td>\n",
       "            </tr>\n",
       "        \n",
       "\n",
       "        </table>\n",
       "\n",
       "        \n",
       "            <button style=\"margin-bottom: 12px;\" data-commandlinker-command=\"dask:populate-and-launch-layout\" data-commandlinker-args='{\"url\": \"http://18.219.226.117:8787\" }'>\n",
       "                Launch dashboard in JupyterLab\n",
       "            </button>\n",
       "        \n",
       "\n",
       "        \n",
       "            <details>\n",
       "            <summary style=\"margin-bottom: 20px;\"><h3 style=\"display: inline;\">Cluster Info</h3></summary>\n",
       "            <div class=\"jp-RenderedHTMLCommon jp-RenderedHTML jp-mod-trusted jp-OutputArea-output\">\n",
       "    <div style=\"width: 24px; height: 24px; background-color: #e1e1e1; border: 3px solid #9D9D9D; border-radius: 5px; position: absolute;\">\n",
       "    </div>\n",
       "    <div style=\"margin-left: 48px;\">\n",
       "        <h3 style=\"margin-bottom: 0px; margin-top: 0px;\">ClusterBeta</h3>\n",
       "        <p style=\"color: #9D9D9D; margin-bottom: 0px;\">uber-lyft-small-9c67</p>\n",
       "        <table style=\"width: 100%; text-align: left;\">\n",
       "            <tr>\n",
       "                <td style=\"text-align: left;\">\n",
       "                    <strong>Dashboard:</strong> <a href=\"http://18.219.226.117:8787\" target=\"_blank\">http://18.219.226.117:8787</a>\n",
       "                </td>\n",
       "                <td style=\"text-align: left;\">\n",
       "                    <strong>Workers:</strong> 20\n",
       "                </td>\n",
       "            </tr>\n",
       "            <tr>\n",
       "                <td style=\"text-align: left;\">\n",
       "                    <strong>Total threads:</strong> 160\n",
       "                </td>\n",
       "                <td style=\"text-align: left;\">\n",
       "                    <strong>Total memory:</strong> 606.96 GiB\n",
       "                </td>\n",
       "            </tr>\n",
       "            \n",
       "        </table>\n",
       "\n",
       "        <details>\n",
       "            <summary style=\"margin-bottom: 20px;\">\n",
       "                <h3 style=\"display: inline;\">Scheduler Info</h3>\n",
       "            </summary>\n",
       "\n",
       "            <div style=\"\">\n",
       "    <div>\n",
       "        <div style=\"width: 24px; height: 24px; background-color: #FFF7E5; border: 3px solid #FF6132; border-radius: 5px; position: absolute;\"> </div>\n",
       "        <div style=\"margin-left: 48px;\">\n",
       "            <h3 style=\"margin-bottom: 0px;\">Scheduler</h3>\n",
       "            <p style=\"color: #9D9D9D; margin-bottom: 0px;\">Scheduler-51b7e1e9-f56a-412c-9001-999548256aa5</p>\n",
       "            <table style=\"width: 100%; text-align: left;\">\n",
       "                <tr>\n",
       "                    <td style=\"text-align: left;\">\n",
       "                        <strong>Comm:</strong> tls://10.0.19.215:8786\n",
       "                    </td>\n",
       "                    <td style=\"text-align: left;\">\n",
       "                        <strong>Workers:</strong> 20\n",
       "                    </td>\n",
       "                </tr>\n",
       "                <tr>\n",
       "                    <td style=\"text-align: left;\">\n",
       "                        <strong>Dashboard:</strong> <a href=\"http://10.0.19.215:8787/status\" target=\"_blank\">http://10.0.19.215:8787/status</a>\n",
       "                    </td>\n",
       "                    <td style=\"text-align: left;\">\n",
       "                        <strong>Total threads:</strong> 160\n",
       "                    </td>\n",
       "                </tr>\n",
       "                <tr>\n",
       "                    <td style=\"text-align: left;\">\n",
       "                        <strong>Started:</strong> 2 minutes ago\n",
       "                    </td>\n",
       "                    <td style=\"text-align: left;\">\n",
       "                        <strong>Total memory:</strong> 606.96 GiB\n",
       "                    </td>\n",
       "                </tr>\n",
       "            </table>\n",
       "        </div>\n",
       "    </div>\n",
       "\n",
       "    <details style=\"margin-left: 48px;\">\n",
       "        <summary style=\"margin-bottom: 20px;\">\n",
       "            <h3 style=\"display: inline;\">Workers</h3>\n",
       "        </summary>\n",
       "\n",
       "        \n",
       "        <div style=\"margin-bottom: 20px;\">\n",
       "            <div style=\"width: 24px; height: 24px; background-color: #DBF5FF; border: 3px solid #4CC9FF; border-radius: 5px; position: absolute;\"> </div>\n",
       "            <div style=\"margin-left: 48px;\">\n",
       "            <details>\n",
       "                <summary>\n",
       "                    <h4 style=\"margin-bottom: 0px; display: inline;\">Worker: uber-lyft-small-9c67-worker-010bab0e6a</h4>\n",
       "                </summary>\n",
       "                <table style=\"width: 100%; text-align: left;\">\n",
       "                    <tr>\n",
       "                        <td style=\"text-align: left;\">\n",
       "                            <strong>Comm: </strong> tls://10.0.3.4:36279\n",
       "                        </td>\n",
       "                        <td style=\"text-align: left;\">\n",
       "                            <strong>Total threads: </strong> 8\n",
       "                        </td>\n",
       "                    </tr>\n",
       "                    <tr>\n",
       "                        <td style=\"text-align: left;\">\n",
       "                            <strong>Dashboard: </strong> <a href=\"http://10.0.3.4:8787/status\" target=\"_blank\">http://10.0.3.4:8787/status</a>\n",
       "                        </td>\n",
       "                        <td style=\"text-align: left;\">\n",
       "                            <strong>Memory: </strong> 30.34 GiB\n",
       "                        </td>\n",
       "                    </tr>\n",
       "                    <tr>\n",
       "                        <td style=\"text-align: left;\">\n",
       "                            <strong>Nanny: </strong> tls://10.0.3.4:46167\n",
       "                        </td>\n",
       "                        <td style=\"text-align: left;\"></td>\n",
       "                    </tr>\n",
       "                    <tr>\n",
       "                        <td colspan=\"2\" style=\"text-align: left;\">\n",
       "                            <strong>Local directory: </strong> /scratch/dask-worker-space/worker-0ob5qf4j\n",
       "                        </td>\n",
       "                    </tr>\n",
       "\n",
       "                    \n",
       "\n",
       "                    \n",
       "\n",
       "                </table>\n",
       "            </details>\n",
       "            </div>\n",
       "        </div>\n",
       "        \n",
       "        <div style=\"margin-bottom: 20px;\">\n",
       "            <div style=\"width: 24px; height: 24px; background-color: #DBF5FF; border: 3px solid #4CC9FF; border-radius: 5px; position: absolute;\"> </div>\n",
       "            <div style=\"margin-left: 48px;\">\n",
       "            <details>\n",
       "                <summary>\n",
       "                    <h4 style=\"margin-bottom: 0px; display: inline;\">Worker: uber-lyft-small-9c67-worker-177cd74c87</h4>\n",
       "                </summary>\n",
       "                <table style=\"width: 100%; text-align: left;\">\n",
       "                    <tr>\n",
       "                        <td style=\"text-align: left;\">\n",
       "                            <strong>Comm: </strong> tls://10.0.8.131:38437\n",
       "                        </td>\n",
       "                        <td style=\"text-align: left;\">\n",
       "                            <strong>Total threads: </strong> 8\n",
       "                        </td>\n",
       "                    </tr>\n",
       "                    <tr>\n",
       "                        <td style=\"text-align: left;\">\n",
       "                            <strong>Dashboard: </strong> <a href=\"http://10.0.8.131:8787/status\" target=\"_blank\">http://10.0.8.131:8787/status</a>\n",
       "                        </td>\n",
       "                        <td style=\"text-align: left;\">\n",
       "                            <strong>Memory: </strong> 30.34 GiB\n",
       "                        </td>\n",
       "                    </tr>\n",
       "                    <tr>\n",
       "                        <td style=\"text-align: left;\">\n",
       "                            <strong>Nanny: </strong> tls://10.0.8.131:36375\n",
       "                        </td>\n",
       "                        <td style=\"text-align: left;\"></td>\n",
       "                    </tr>\n",
       "                    <tr>\n",
       "                        <td colspan=\"2\" style=\"text-align: left;\">\n",
       "                            <strong>Local directory: </strong> /scratch/dask-worker-space/worker-m0phfdgm\n",
       "                        </td>\n",
       "                    </tr>\n",
       "\n",
       "                    \n",
       "\n",
       "                    \n",
       "\n",
       "                </table>\n",
       "            </details>\n",
       "            </div>\n",
       "        </div>\n",
       "        \n",
       "        <div style=\"margin-bottom: 20px;\">\n",
       "            <div style=\"width: 24px; height: 24px; background-color: #DBF5FF; border: 3px solid #4CC9FF; border-radius: 5px; position: absolute;\"> </div>\n",
       "            <div style=\"margin-left: 48px;\">\n",
       "            <details>\n",
       "                <summary>\n",
       "                    <h4 style=\"margin-bottom: 0px; display: inline;\">Worker: uber-lyft-small-9c67-worker-1e3028fa80</h4>\n",
       "                </summary>\n",
       "                <table style=\"width: 100%; text-align: left;\">\n",
       "                    <tr>\n",
       "                        <td style=\"text-align: left;\">\n",
       "                            <strong>Comm: </strong> tls://10.0.4.181:36135\n",
       "                        </td>\n",
       "                        <td style=\"text-align: left;\">\n",
       "                            <strong>Total threads: </strong> 8\n",
       "                        </td>\n",
       "                    </tr>\n",
       "                    <tr>\n",
       "                        <td style=\"text-align: left;\">\n",
       "                            <strong>Dashboard: </strong> <a href=\"http://10.0.4.181:8787/status\" target=\"_blank\">http://10.0.4.181:8787/status</a>\n",
       "                        </td>\n",
       "                        <td style=\"text-align: left;\">\n",
       "                            <strong>Memory: </strong> 30.34 GiB\n",
       "                        </td>\n",
       "                    </tr>\n",
       "                    <tr>\n",
       "                        <td style=\"text-align: left;\">\n",
       "                            <strong>Nanny: </strong> tls://10.0.4.181:34285\n",
       "                        </td>\n",
       "                        <td style=\"text-align: left;\"></td>\n",
       "                    </tr>\n",
       "                    <tr>\n",
       "                        <td colspan=\"2\" style=\"text-align: left;\">\n",
       "                            <strong>Local directory: </strong> /scratch/dask-worker-space/worker-md3hthrj\n",
       "                        </td>\n",
       "                    </tr>\n",
       "\n",
       "                    \n",
       "\n",
       "                    \n",
       "\n",
       "                </table>\n",
       "            </details>\n",
       "            </div>\n",
       "        </div>\n",
       "        \n",
       "        <div style=\"margin-bottom: 20px;\">\n",
       "            <div style=\"width: 24px; height: 24px; background-color: #DBF5FF; border: 3px solid #4CC9FF; border-radius: 5px; position: absolute;\"> </div>\n",
       "            <div style=\"margin-left: 48px;\">\n",
       "            <details>\n",
       "                <summary>\n",
       "                    <h4 style=\"margin-bottom: 0px; display: inline;\">Worker: uber-lyft-small-9c67-worker-25fe56f7b9</h4>\n",
       "                </summary>\n",
       "                <table style=\"width: 100%; text-align: left;\">\n",
       "                    <tr>\n",
       "                        <td style=\"text-align: left;\">\n",
       "                            <strong>Comm: </strong> tls://10.0.1.13:35815\n",
       "                        </td>\n",
       "                        <td style=\"text-align: left;\">\n",
       "                            <strong>Total threads: </strong> 8\n",
       "                        </td>\n",
       "                    </tr>\n",
       "                    <tr>\n",
       "                        <td style=\"text-align: left;\">\n",
       "                            <strong>Dashboard: </strong> <a href=\"http://10.0.1.13:8787/status\" target=\"_blank\">http://10.0.1.13:8787/status</a>\n",
       "                        </td>\n",
       "                        <td style=\"text-align: left;\">\n",
       "                            <strong>Memory: </strong> 30.34 GiB\n",
       "                        </td>\n",
       "                    </tr>\n",
       "                    <tr>\n",
       "                        <td style=\"text-align: left;\">\n",
       "                            <strong>Nanny: </strong> tls://10.0.1.13:40813\n",
       "                        </td>\n",
       "                        <td style=\"text-align: left;\"></td>\n",
       "                    </tr>\n",
       "                    <tr>\n",
       "                        <td colspan=\"2\" style=\"text-align: left;\">\n",
       "                            <strong>Local directory: </strong> /scratch/dask-worker-space/worker-ulp3wa1g\n",
       "                        </td>\n",
       "                    </tr>\n",
       "\n",
       "                    \n",
       "\n",
       "                    \n",
       "\n",
       "                </table>\n",
       "            </details>\n",
       "            </div>\n",
       "        </div>\n",
       "        \n",
       "        <div style=\"margin-bottom: 20px;\">\n",
       "            <div style=\"width: 24px; height: 24px; background-color: #DBF5FF; border: 3px solid #4CC9FF; border-radius: 5px; position: absolute;\"> </div>\n",
       "            <div style=\"margin-left: 48px;\">\n",
       "            <details>\n",
       "                <summary>\n",
       "                    <h4 style=\"margin-bottom: 0px; display: inline;\">Worker: uber-lyft-small-9c67-worker-35ae1da3a9</h4>\n",
       "                </summary>\n",
       "                <table style=\"width: 100%; text-align: left;\">\n",
       "                    <tr>\n",
       "                        <td style=\"text-align: left;\">\n",
       "                            <strong>Comm: </strong> tls://10.0.8.56:46275\n",
       "                        </td>\n",
       "                        <td style=\"text-align: left;\">\n",
       "                            <strong>Total threads: </strong> 8\n",
       "                        </td>\n",
       "                    </tr>\n",
       "                    <tr>\n",
       "                        <td style=\"text-align: left;\">\n",
       "                            <strong>Dashboard: </strong> <a href=\"http://10.0.8.56:8787/status\" target=\"_blank\">http://10.0.8.56:8787/status</a>\n",
       "                        </td>\n",
       "                        <td style=\"text-align: left;\">\n",
       "                            <strong>Memory: </strong> 30.35 GiB\n",
       "                        </td>\n",
       "                    </tr>\n",
       "                    <tr>\n",
       "                        <td style=\"text-align: left;\">\n",
       "                            <strong>Nanny: </strong> tls://10.0.8.56:41067\n",
       "                        </td>\n",
       "                        <td style=\"text-align: left;\"></td>\n",
       "                    </tr>\n",
       "                    <tr>\n",
       "                        <td colspan=\"2\" style=\"text-align: left;\">\n",
       "                            <strong>Local directory: </strong> /scratch/dask-worker-space/worker-u1y3jo_4\n",
       "                        </td>\n",
       "                    </tr>\n",
       "\n",
       "                    \n",
       "\n",
       "                    \n",
       "\n",
       "                </table>\n",
       "            </details>\n",
       "            </div>\n",
       "        </div>\n",
       "        \n",
       "        <div style=\"margin-bottom: 20px;\">\n",
       "            <div style=\"width: 24px; height: 24px; background-color: #DBF5FF; border: 3px solid #4CC9FF; border-radius: 5px; position: absolute;\"> </div>\n",
       "            <div style=\"margin-left: 48px;\">\n",
       "            <details>\n",
       "                <summary>\n",
       "                    <h4 style=\"margin-bottom: 0px; display: inline;\">Worker: uber-lyft-small-9c67-worker-4618d7256a</h4>\n",
       "                </summary>\n",
       "                <table style=\"width: 100%; text-align: left;\">\n",
       "                    <tr>\n",
       "                        <td style=\"text-align: left;\">\n",
       "                            <strong>Comm: </strong> tls://10.0.5.75:34963\n",
       "                        </td>\n",
       "                        <td style=\"text-align: left;\">\n",
       "                            <strong>Total threads: </strong> 8\n",
       "                        </td>\n",
       "                    </tr>\n",
       "                    <tr>\n",
       "                        <td style=\"text-align: left;\">\n",
       "                            <strong>Dashboard: </strong> <a href=\"http://10.0.5.75:8787/status\" target=\"_blank\">http://10.0.5.75:8787/status</a>\n",
       "                        </td>\n",
       "                        <td style=\"text-align: left;\">\n",
       "                            <strong>Memory: </strong> 30.35 GiB\n",
       "                        </td>\n",
       "                    </tr>\n",
       "                    <tr>\n",
       "                        <td style=\"text-align: left;\">\n",
       "                            <strong>Nanny: </strong> tls://10.0.5.75:44673\n",
       "                        </td>\n",
       "                        <td style=\"text-align: left;\"></td>\n",
       "                    </tr>\n",
       "                    <tr>\n",
       "                        <td colspan=\"2\" style=\"text-align: left;\">\n",
       "                            <strong>Local directory: </strong> /scratch/dask-worker-space/worker-82t2aori\n",
       "                        </td>\n",
       "                    </tr>\n",
       "\n",
       "                    \n",
       "\n",
       "                    \n",
       "\n",
       "                </table>\n",
       "            </details>\n",
       "            </div>\n",
       "        </div>\n",
       "        \n",
       "        <div style=\"margin-bottom: 20px;\">\n",
       "            <div style=\"width: 24px; height: 24px; background-color: #DBF5FF; border: 3px solid #4CC9FF; border-radius: 5px; position: absolute;\"> </div>\n",
       "            <div style=\"margin-left: 48px;\">\n",
       "            <details>\n",
       "                <summary>\n",
       "                    <h4 style=\"margin-bottom: 0px; display: inline;\">Worker: uber-lyft-small-9c67-worker-4b2c87b608</h4>\n",
       "                </summary>\n",
       "                <table style=\"width: 100%; text-align: left;\">\n",
       "                    <tr>\n",
       "                        <td style=\"text-align: left;\">\n",
       "                            <strong>Comm: </strong> tls://10.0.0.130:46531\n",
       "                        </td>\n",
       "                        <td style=\"text-align: left;\">\n",
       "                            <strong>Total threads: </strong> 8\n",
       "                        </td>\n",
       "                    </tr>\n",
       "                    <tr>\n",
       "                        <td style=\"text-align: left;\">\n",
       "                            <strong>Dashboard: </strong> <a href=\"http://10.0.0.130:8787/status\" target=\"_blank\">http://10.0.0.130:8787/status</a>\n",
       "                        </td>\n",
       "                        <td style=\"text-align: left;\">\n",
       "                            <strong>Memory: </strong> 30.35 GiB\n",
       "                        </td>\n",
       "                    </tr>\n",
       "                    <tr>\n",
       "                        <td style=\"text-align: left;\">\n",
       "                            <strong>Nanny: </strong> tls://10.0.0.130:38873\n",
       "                        </td>\n",
       "                        <td style=\"text-align: left;\"></td>\n",
       "                    </tr>\n",
       "                    <tr>\n",
       "                        <td colspan=\"2\" style=\"text-align: left;\">\n",
       "                            <strong>Local directory: </strong> /scratch/dask-worker-space/worker-y1i16cvb\n",
       "                        </td>\n",
       "                    </tr>\n",
       "\n",
       "                    \n",
       "\n",
       "                    \n",
       "\n",
       "                </table>\n",
       "            </details>\n",
       "            </div>\n",
       "        </div>\n",
       "        \n",
       "        <div style=\"margin-bottom: 20px;\">\n",
       "            <div style=\"width: 24px; height: 24px; background-color: #DBF5FF; border: 3px solid #4CC9FF; border-radius: 5px; position: absolute;\"> </div>\n",
       "            <div style=\"margin-left: 48px;\">\n",
       "            <details>\n",
       "                <summary>\n",
       "                    <h4 style=\"margin-bottom: 0px; display: inline;\">Worker: uber-lyft-small-9c67-worker-57956f89e5</h4>\n",
       "                </summary>\n",
       "                <table style=\"width: 100%; text-align: left;\">\n",
       "                    <tr>\n",
       "                        <td style=\"text-align: left;\">\n",
       "                            <strong>Comm: </strong> tls://10.0.13.78:36283\n",
       "                        </td>\n",
       "                        <td style=\"text-align: left;\">\n",
       "                            <strong>Total threads: </strong> 8\n",
       "                        </td>\n",
       "                    </tr>\n",
       "                    <tr>\n",
       "                        <td style=\"text-align: left;\">\n",
       "                            <strong>Dashboard: </strong> <a href=\"http://10.0.13.78:8787/status\" target=\"_blank\">http://10.0.13.78:8787/status</a>\n",
       "                        </td>\n",
       "                        <td style=\"text-align: left;\">\n",
       "                            <strong>Memory: </strong> 30.35 GiB\n",
       "                        </td>\n",
       "                    </tr>\n",
       "                    <tr>\n",
       "                        <td style=\"text-align: left;\">\n",
       "                            <strong>Nanny: </strong> tls://10.0.13.78:33837\n",
       "                        </td>\n",
       "                        <td style=\"text-align: left;\"></td>\n",
       "                    </tr>\n",
       "                    <tr>\n",
       "                        <td colspan=\"2\" style=\"text-align: left;\">\n",
       "                            <strong>Local directory: </strong> /scratch/dask-worker-space/worker-uoifl056\n",
       "                        </td>\n",
       "                    </tr>\n",
       "\n",
       "                    \n",
       "\n",
       "                    \n",
       "\n",
       "                </table>\n",
       "            </details>\n",
       "            </div>\n",
       "        </div>\n",
       "        \n",
       "        <div style=\"margin-bottom: 20px;\">\n",
       "            <div style=\"width: 24px; height: 24px; background-color: #DBF5FF; border: 3px solid #4CC9FF; border-radius: 5px; position: absolute;\"> </div>\n",
       "            <div style=\"margin-left: 48px;\">\n",
       "            <details>\n",
       "                <summary>\n",
       "                    <h4 style=\"margin-bottom: 0px; display: inline;\">Worker: uber-lyft-small-9c67-worker-587b65129a</h4>\n",
       "                </summary>\n",
       "                <table style=\"width: 100%; text-align: left;\">\n",
       "                    <tr>\n",
       "                        <td style=\"text-align: left;\">\n",
       "                            <strong>Comm: </strong> tls://10.0.3.94:39497\n",
       "                        </td>\n",
       "                        <td style=\"text-align: left;\">\n",
       "                            <strong>Total threads: </strong> 8\n",
       "                        </td>\n",
       "                    </tr>\n",
       "                    <tr>\n",
       "                        <td style=\"text-align: left;\">\n",
       "                            <strong>Dashboard: </strong> <a href=\"http://10.0.3.94:8787/status\" target=\"_blank\">http://10.0.3.94:8787/status</a>\n",
       "                        </td>\n",
       "                        <td style=\"text-align: left;\">\n",
       "                            <strong>Memory: </strong> 30.35 GiB\n",
       "                        </td>\n",
       "                    </tr>\n",
       "                    <tr>\n",
       "                        <td style=\"text-align: left;\">\n",
       "                            <strong>Nanny: </strong> tls://10.0.3.94:33513\n",
       "                        </td>\n",
       "                        <td style=\"text-align: left;\"></td>\n",
       "                    </tr>\n",
       "                    <tr>\n",
       "                        <td colspan=\"2\" style=\"text-align: left;\">\n",
       "                            <strong>Local directory: </strong> /scratch/dask-worker-space/worker-57t74h3x\n",
       "                        </td>\n",
       "                    </tr>\n",
       "\n",
       "                    \n",
       "\n",
       "                    \n",
       "\n",
       "                </table>\n",
       "            </details>\n",
       "            </div>\n",
       "        </div>\n",
       "        \n",
       "        <div style=\"margin-bottom: 20px;\">\n",
       "            <div style=\"width: 24px; height: 24px; background-color: #DBF5FF; border: 3px solid #4CC9FF; border-radius: 5px; position: absolute;\"> </div>\n",
       "            <div style=\"margin-left: 48px;\">\n",
       "            <details>\n",
       "                <summary>\n",
       "                    <h4 style=\"margin-bottom: 0px; display: inline;\">Worker: uber-lyft-small-9c67-worker-5ef02f0961</h4>\n",
       "                </summary>\n",
       "                <table style=\"width: 100%; text-align: left;\">\n",
       "                    <tr>\n",
       "                        <td style=\"text-align: left;\">\n",
       "                            <strong>Comm: </strong> tls://10.0.7.34:39709\n",
       "                        </td>\n",
       "                        <td style=\"text-align: left;\">\n",
       "                            <strong>Total threads: </strong> 8\n",
       "                        </td>\n",
       "                    </tr>\n",
       "                    <tr>\n",
       "                        <td style=\"text-align: left;\">\n",
       "                            <strong>Dashboard: </strong> <a href=\"http://10.0.7.34:8787/status\" target=\"_blank\">http://10.0.7.34:8787/status</a>\n",
       "                        </td>\n",
       "                        <td style=\"text-align: left;\">\n",
       "                            <strong>Memory: </strong> 30.35 GiB\n",
       "                        </td>\n",
       "                    </tr>\n",
       "                    <tr>\n",
       "                        <td style=\"text-align: left;\">\n",
       "                            <strong>Nanny: </strong> tls://10.0.7.34:34347\n",
       "                        </td>\n",
       "                        <td style=\"text-align: left;\"></td>\n",
       "                    </tr>\n",
       "                    <tr>\n",
       "                        <td colspan=\"2\" style=\"text-align: left;\">\n",
       "                            <strong>Local directory: </strong> /scratch/dask-worker-space/worker-bi7_e5t5\n",
       "                        </td>\n",
       "                    </tr>\n",
       "\n",
       "                    \n",
       "\n",
       "                    \n",
       "\n",
       "                </table>\n",
       "            </details>\n",
       "            </div>\n",
       "        </div>\n",
       "        \n",
       "        <div style=\"margin-bottom: 20px;\">\n",
       "            <div style=\"width: 24px; height: 24px; background-color: #DBF5FF; border: 3px solid #4CC9FF; border-radius: 5px; position: absolute;\"> </div>\n",
       "            <div style=\"margin-left: 48px;\">\n",
       "            <details>\n",
       "                <summary>\n",
       "                    <h4 style=\"margin-bottom: 0px; display: inline;\">Worker: uber-lyft-small-9c67-worker-75a14f442c</h4>\n",
       "                </summary>\n",
       "                <table style=\"width: 100%; text-align: left;\">\n",
       "                    <tr>\n",
       "                        <td style=\"text-align: left;\">\n",
       "                            <strong>Comm: </strong> tls://10.0.3.215:34393\n",
       "                        </td>\n",
       "                        <td style=\"text-align: left;\">\n",
       "                            <strong>Total threads: </strong> 8\n",
       "                        </td>\n",
       "                    </tr>\n",
       "                    <tr>\n",
       "                        <td style=\"text-align: left;\">\n",
       "                            <strong>Dashboard: </strong> <a href=\"http://10.0.3.215:8787/status\" target=\"_blank\">http://10.0.3.215:8787/status</a>\n",
       "                        </td>\n",
       "                        <td style=\"text-align: left;\">\n",
       "                            <strong>Memory: </strong> 30.35 GiB\n",
       "                        </td>\n",
       "                    </tr>\n",
       "                    <tr>\n",
       "                        <td style=\"text-align: left;\">\n",
       "                            <strong>Nanny: </strong> tls://10.0.3.215:38157\n",
       "                        </td>\n",
       "                        <td style=\"text-align: left;\"></td>\n",
       "                    </tr>\n",
       "                    <tr>\n",
       "                        <td colspan=\"2\" style=\"text-align: left;\">\n",
       "                            <strong>Local directory: </strong> /scratch/dask-worker-space/worker-ca74o1e0\n",
       "                        </td>\n",
       "                    </tr>\n",
       "\n",
       "                    \n",
       "\n",
       "                    \n",
       "\n",
       "                </table>\n",
       "            </details>\n",
       "            </div>\n",
       "        </div>\n",
       "        \n",
       "        <div style=\"margin-bottom: 20px;\">\n",
       "            <div style=\"width: 24px; height: 24px; background-color: #DBF5FF; border: 3px solid #4CC9FF; border-radius: 5px; position: absolute;\"> </div>\n",
       "            <div style=\"margin-left: 48px;\">\n",
       "            <details>\n",
       "                <summary>\n",
       "                    <h4 style=\"margin-bottom: 0px; display: inline;\">Worker: uber-lyft-small-9c67-worker-7703074b73</h4>\n",
       "                </summary>\n",
       "                <table style=\"width: 100%; text-align: left;\">\n",
       "                    <tr>\n",
       "                        <td style=\"text-align: left;\">\n",
       "                            <strong>Comm: </strong> tls://10.0.9.177:38929\n",
       "                        </td>\n",
       "                        <td style=\"text-align: left;\">\n",
       "                            <strong>Total threads: </strong> 8\n",
       "                        </td>\n",
       "                    </tr>\n",
       "                    <tr>\n",
       "                        <td style=\"text-align: left;\">\n",
       "                            <strong>Dashboard: </strong> <a href=\"http://10.0.9.177:8787/status\" target=\"_blank\">http://10.0.9.177:8787/status</a>\n",
       "                        </td>\n",
       "                        <td style=\"text-align: left;\">\n",
       "                            <strong>Memory: </strong> 30.35 GiB\n",
       "                        </td>\n",
       "                    </tr>\n",
       "                    <tr>\n",
       "                        <td style=\"text-align: left;\">\n",
       "                            <strong>Nanny: </strong> tls://10.0.9.177:46657\n",
       "                        </td>\n",
       "                        <td style=\"text-align: left;\"></td>\n",
       "                    </tr>\n",
       "                    <tr>\n",
       "                        <td colspan=\"2\" style=\"text-align: left;\">\n",
       "                            <strong>Local directory: </strong> /scratch/dask-worker-space/worker-q3fqr3_w\n",
       "                        </td>\n",
       "                    </tr>\n",
       "\n",
       "                    \n",
       "\n",
       "                    \n",
       "\n",
       "                </table>\n",
       "            </details>\n",
       "            </div>\n",
       "        </div>\n",
       "        \n",
       "        <div style=\"margin-bottom: 20px;\">\n",
       "            <div style=\"width: 24px; height: 24px; background-color: #DBF5FF; border: 3px solid #4CC9FF; border-radius: 5px; position: absolute;\"> </div>\n",
       "            <div style=\"margin-left: 48px;\">\n",
       "            <details>\n",
       "                <summary>\n",
       "                    <h4 style=\"margin-bottom: 0px; display: inline;\">Worker: uber-lyft-small-9c67-worker-7e21cf853a</h4>\n",
       "                </summary>\n",
       "                <table style=\"width: 100%; text-align: left;\">\n",
       "                    <tr>\n",
       "                        <td style=\"text-align: left;\">\n",
       "                            <strong>Comm: </strong> tls://10.0.5.68:38121\n",
       "                        </td>\n",
       "                        <td style=\"text-align: left;\">\n",
       "                            <strong>Total threads: </strong> 8\n",
       "                        </td>\n",
       "                    </tr>\n",
       "                    <tr>\n",
       "                        <td style=\"text-align: left;\">\n",
       "                            <strong>Dashboard: </strong> <a href=\"http://10.0.5.68:8787/status\" target=\"_blank\">http://10.0.5.68:8787/status</a>\n",
       "                        </td>\n",
       "                        <td style=\"text-align: left;\">\n",
       "                            <strong>Memory: </strong> 30.35 GiB\n",
       "                        </td>\n",
       "                    </tr>\n",
       "                    <tr>\n",
       "                        <td style=\"text-align: left;\">\n",
       "                            <strong>Nanny: </strong> tls://10.0.5.68:35079\n",
       "                        </td>\n",
       "                        <td style=\"text-align: left;\"></td>\n",
       "                    </tr>\n",
       "                    <tr>\n",
       "                        <td colspan=\"2\" style=\"text-align: left;\">\n",
       "                            <strong>Local directory: </strong> /scratch/dask-worker-space/worker-ru5s8yvg\n",
       "                        </td>\n",
       "                    </tr>\n",
       "\n",
       "                    \n",
       "\n",
       "                    \n",
       "\n",
       "                </table>\n",
       "            </details>\n",
       "            </div>\n",
       "        </div>\n",
       "        \n",
       "        <div style=\"margin-bottom: 20px;\">\n",
       "            <div style=\"width: 24px; height: 24px; background-color: #DBF5FF; border: 3px solid #4CC9FF; border-radius: 5px; position: absolute;\"> </div>\n",
       "            <div style=\"margin-left: 48px;\">\n",
       "            <details>\n",
       "                <summary>\n",
       "                    <h4 style=\"margin-bottom: 0px; display: inline;\">Worker: uber-lyft-small-9c67-worker-ae7e7f63f7</h4>\n",
       "                </summary>\n",
       "                <table style=\"width: 100%; text-align: left;\">\n",
       "                    <tr>\n",
       "                        <td style=\"text-align: left;\">\n",
       "                            <strong>Comm: </strong> tls://10.0.15.177:46485\n",
       "                        </td>\n",
       "                        <td style=\"text-align: left;\">\n",
       "                            <strong>Total threads: </strong> 8\n",
       "                        </td>\n",
       "                    </tr>\n",
       "                    <tr>\n",
       "                        <td style=\"text-align: left;\">\n",
       "                            <strong>Dashboard: </strong> <a href=\"http://10.0.15.177:8787/status\" target=\"_blank\">http://10.0.15.177:8787/status</a>\n",
       "                        </td>\n",
       "                        <td style=\"text-align: left;\">\n",
       "                            <strong>Memory: </strong> 30.36 GiB\n",
       "                        </td>\n",
       "                    </tr>\n",
       "                    <tr>\n",
       "                        <td style=\"text-align: left;\">\n",
       "                            <strong>Nanny: </strong> tls://10.0.15.177:43997\n",
       "                        </td>\n",
       "                        <td style=\"text-align: left;\"></td>\n",
       "                    </tr>\n",
       "                    <tr>\n",
       "                        <td colspan=\"2\" style=\"text-align: left;\">\n",
       "                            <strong>Local directory: </strong> /scratch/dask-worker-space/worker-te_rk_fx\n",
       "                        </td>\n",
       "                    </tr>\n",
       "\n",
       "                    \n",
       "\n",
       "                    \n",
       "\n",
       "                </table>\n",
       "            </details>\n",
       "            </div>\n",
       "        </div>\n",
       "        \n",
       "        <div style=\"margin-bottom: 20px;\">\n",
       "            <div style=\"width: 24px; height: 24px; background-color: #DBF5FF; border: 3px solid #4CC9FF; border-radius: 5px; position: absolute;\"> </div>\n",
       "            <div style=\"margin-left: 48px;\">\n",
       "            <details>\n",
       "                <summary>\n",
       "                    <h4 style=\"margin-bottom: 0px; display: inline;\">Worker: uber-lyft-small-9c67-worker-c4ee79e514</h4>\n",
       "                </summary>\n",
       "                <table style=\"width: 100%; text-align: left;\">\n",
       "                    <tr>\n",
       "                        <td style=\"text-align: left;\">\n",
       "                            <strong>Comm: </strong> tls://10.0.14.131:35699\n",
       "                        </td>\n",
       "                        <td style=\"text-align: left;\">\n",
       "                            <strong>Total threads: </strong> 8\n",
       "                        </td>\n",
       "                    </tr>\n",
       "                    <tr>\n",
       "                        <td style=\"text-align: left;\">\n",
       "                            <strong>Dashboard: </strong> <a href=\"http://10.0.14.131:8787/status\" target=\"_blank\">http://10.0.14.131:8787/status</a>\n",
       "                        </td>\n",
       "                        <td style=\"text-align: left;\">\n",
       "                            <strong>Memory: </strong> 30.35 GiB\n",
       "                        </td>\n",
       "                    </tr>\n",
       "                    <tr>\n",
       "                        <td style=\"text-align: left;\">\n",
       "                            <strong>Nanny: </strong> tls://10.0.14.131:45355\n",
       "                        </td>\n",
       "                        <td style=\"text-align: left;\"></td>\n",
       "                    </tr>\n",
       "                    <tr>\n",
       "                        <td colspan=\"2\" style=\"text-align: left;\">\n",
       "                            <strong>Local directory: </strong> /scratch/dask-worker-space/worker-7pnks7ni\n",
       "                        </td>\n",
       "                    </tr>\n",
       "\n",
       "                    \n",
       "\n",
       "                    \n",
       "\n",
       "                </table>\n",
       "            </details>\n",
       "            </div>\n",
       "        </div>\n",
       "        \n",
       "        <div style=\"margin-bottom: 20px;\">\n",
       "            <div style=\"width: 24px; height: 24px; background-color: #DBF5FF; border: 3px solid #4CC9FF; border-radius: 5px; position: absolute;\"> </div>\n",
       "            <div style=\"margin-left: 48px;\">\n",
       "            <details>\n",
       "                <summary>\n",
       "                    <h4 style=\"margin-bottom: 0px; display: inline;\">Worker: uber-lyft-small-9c67-worker-d6e4621a1b</h4>\n",
       "                </summary>\n",
       "                <table style=\"width: 100%; text-align: left;\">\n",
       "                    <tr>\n",
       "                        <td style=\"text-align: left;\">\n",
       "                            <strong>Comm: </strong> tls://10.0.10.187:37181\n",
       "                        </td>\n",
       "                        <td style=\"text-align: left;\">\n",
       "                            <strong>Total threads: </strong> 8\n",
       "                        </td>\n",
       "                    </tr>\n",
       "                    <tr>\n",
       "                        <td style=\"text-align: left;\">\n",
       "                            <strong>Dashboard: </strong> <a href=\"http://10.0.10.187:8787/status\" target=\"_blank\">http://10.0.10.187:8787/status</a>\n",
       "                        </td>\n",
       "                        <td style=\"text-align: left;\">\n",
       "                            <strong>Memory: </strong> 30.35 GiB\n",
       "                        </td>\n",
       "                    </tr>\n",
       "                    <tr>\n",
       "                        <td style=\"text-align: left;\">\n",
       "                            <strong>Nanny: </strong> tls://10.0.10.187:44663\n",
       "                        </td>\n",
       "                        <td style=\"text-align: left;\"></td>\n",
       "                    </tr>\n",
       "                    <tr>\n",
       "                        <td colspan=\"2\" style=\"text-align: left;\">\n",
       "                            <strong>Local directory: </strong> /scratch/dask-worker-space/worker-380is19h\n",
       "                        </td>\n",
       "                    </tr>\n",
       "\n",
       "                    \n",
       "\n",
       "                    \n",
       "\n",
       "                </table>\n",
       "            </details>\n",
       "            </div>\n",
       "        </div>\n",
       "        \n",
       "        <div style=\"margin-bottom: 20px;\">\n",
       "            <div style=\"width: 24px; height: 24px; background-color: #DBF5FF; border: 3px solid #4CC9FF; border-radius: 5px; position: absolute;\"> </div>\n",
       "            <div style=\"margin-left: 48px;\">\n",
       "            <details>\n",
       "                <summary>\n",
       "                    <h4 style=\"margin-bottom: 0px; display: inline;\">Worker: uber-lyft-small-9c67-worker-d74f03461a</h4>\n",
       "                </summary>\n",
       "                <table style=\"width: 100%; text-align: left;\">\n",
       "                    <tr>\n",
       "                        <td style=\"text-align: left;\">\n",
       "                            <strong>Comm: </strong> tls://10.0.2.227:45077\n",
       "                        </td>\n",
       "                        <td style=\"text-align: left;\">\n",
       "                            <strong>Total threads: </strong> 8\n",
       "                        </td>\n",
       "                    </tr>\n",
       "                    <tr>\n",
       "                        <td style=\"text-align: left;\">\n",
       "                            <strong>Dashboard: </strong> <a href=\"http://10.0.2.227:8787/status\" target=\"_blank\">http://10.0.2.227:8787/status</a>\n",
       "                        </td>\n",
       "                        <td style=\"text-align: left;\">\n",
       "                            <strong>Memory: </strong> 30.34 GiB\n",
       "                        </td>\n",
       "                    </tr>\n",
       "                    <tr>\n",
       "                        <td style=\"text-align: left;\">\n",
       "                            <strong>Nanny: </strong> tls://10.0.2.227:41493\n",
       "                        </td>\n",
       "                        <td style=\"text-align: left;\"></td>\n",
       "                    </tr>\n",
       "                    <tr>\n",
       "                        <td colspan=\"2\" style=\"text-align: left;\">\n",
       "                            <strong>Local directory: </strong> /scratch/dask-worker-space/worker-3uumsoj6\n",
       "                        </td>\n",
       "                    </tr>\n",
       "\n",
       "                    \n",
       "\n",
       "                    \n",
       "\n",
       "                </table>\n",
       "            </details>\n",
       "            </div>\n",
       "        </div>\n",
       "        \n",
       "        <div style=\"margin-bottom: 20px;\">\n",
       "            <div style=\"width: 24px; height: 24px; background-color: #DBF5FF; border: 3px solid #4CC9FF; border-radius: 5px; position: absolute;\"> </div>\n",
       "            <div style=\"margin-left: 48px;\">\n",
       "            <details>\n",
       "                <summary>\n",
       "                    <h4 style=\"margin-bottom: 0px; display: inline;\">Worker: uber-lyft-small-9c67-worker-ea92157cf6</h4>\n",
       "                </summary>\n",
       "                <table style=\"width: 100%; text-align: left;\">\n",
       "                    <tr>\n",
       "                        <td style=\"text-align: left;\">\n",
       "                            <strong>Comm: </strong> tls://10.0.1.35:40157\n",
       "                        </td>\n",
       "                        <td style=\"text-align: left;\">\n",
       "                            <strong>Total threads: </strong> 8\n",
       "                        </td>\n",
       "                    </tr>\n",
       "                    <tr>\n",
       "                        <td style=\"text-align: left;\">\n",
       "                            <strong>Dashboard: </strong> <a href=\"http://10.0.1.35:8787/status\" target=\"_blank\">http://10.0.1.35:8787/status</a>\n",
       "                        </td>\n",
       "                        <td style=\"text-align: left;\">\n",
       "                            <strong>Memory: </strong> 30.34 GiB\n",
       "                        </td>\n",
       "                    </tr>\n",
       "                    <tr>\n",
       "                        <td style=\"text-align: left;\">\n",
       "                            <strong>Nanny: </strong> tls://10.0.1.35:38889\n",
       "                        </td>\n",
       "                        <td style=\"text-align: left;\"></td>\n",
       "                    </tr>\n",
       "                    <tr>\n",
       "                        <td colspan=\"2\" style=\"text-align: left;\">\n",
       "                            <strong>Local directory: </strong> /scratch/dask-worker-space/worker-8h5ksvv0\n",
       "                        </td>\n",
       "                    </tr>\n",
       "\n",
       "                    \n",
       "\n",
       "                    \n",
       "\n",
       "                </table>\n",
       "            </details>\n",
       "            </div>\n",
       "        </div>\n",
       "        \n",
       "        <div style=\"margin-bottom: 20px;\">\n",
       "            <div style=\"width: 24px; height: 24px; background-color: #DBF5FF; border: 3px solid #4CC9FF; border-radius: 5px; position: absolute;\"> </div>\n",
       "            <div style=\"margin-left: 48px;\">\n",
       "            <details>\n",
       "                <summary>\n",
       "                    <h4 style=\"margin-bottom: 0px; display: inline;\">Worker: uber-lyft-small-9c67-worker-eb0239970c</h4>\n",
       "                </summary>\n",
       "                <table style=\"width: 100%; text-align: left;\">\n",
       "                    <tr>\n",
       "                        <td style=\"text-align: left;\">\n",
       "                            <strong>Comm: </strong> tls://10.0.2.88:38493\n",
       "                        </td>\n",
       "                        <td style=\"text-align: left;\">\n",
       "                            <strong>Total threads: </strong> 8\n",
       "                        </td>\n",
       "                    </tr>\n",
       "                    <tr>\n",
       "                        <td style=\"text-align: left;\">\n",
       "                            <strong>Dashboard: </strong> <a href=\"http://10.0.2.88:8787/status\" target=\"_blank\">http://10.0.2.88:8787/status</a>\n",
       "                        </td>\n",
       "                        <td style=\"text-align: left;\">\n",
       "                            <strong>Memory: </strong> 30.36 GiB\n",
       "                        </td>\n",
       "                    </tr>\n",
       "                    <tr>\n",
       "                        <td style=\"text-align: left;\">\n",
       "                            <strong>Nanny: </strong> tls://10.0.2.88:39441\n",
       "                        </td>\n",
       "                        <td style=\"text-align: left;\"></td>\n",
       "                    </tr>\n",
       "                    <tr>\n",
       "                        <td colspan=\"2\" style=\"text-align: left;\">\n",
       "                            <strong>Local directory: </strong> /scratch/dask-worker-space/worker-fmot1dwg\n",
       "                        </td>\n",
       "                    </tr>\n",
       "\n",
       "                    \n",
       "\n",
       "                    \n",
       "\n",
       "                </table>\n",
       "            </details>\n",
       "            </div>\n",
       "        </div>\n",
       "        \n",
       "        <div style=\"margin-bottom: 20px;\">\n",
       "            <div style=\"width: 24px; height: 24px; background-color: #DBF5FF; border: 3px solid #4CC9FF; border-radius: 5px; position: absolute;\"> </div>\n",
       "            <div style=\"margin-left: 48px;\">\n",
       "            <details>\n",
       "                <summary>\n",
       "                    <h4 style=\"margin-bottom: 0px; display: inline;\">Worker: uber-lyft-small-9c67-worker-fcd1c1c0de</h4>\n",
       "                </summary>\n",
       "                <table style=\"width: 100%; text-align: left;\">\n",
       "                    <tr>\n",
       "                        <td style=\"text-align: left;\">\n",
       "                            <strong>Comm: </strong> tls://10.0.2.95:34455\n",
       "                        </td>\n",
       "                        <td style=\"text-align: left;\">\n",
       "                            <strong>Total threads: </strong> 8\n",
       "                        </td>\n",
       "                    </tr>\n",
       "                    <tr>\n",
       "                        <td style=\"text-align: left;\">\n",
       "                            <strong>Dashboard: </strong> <a href=\"http://10.0.2.95:8787/status\" target=\"_blank\">http://10.0.2.95:8787/status</a>\n",
       "                        </td>\n",
       "                        <td style=\"text-align: left;\">\n",
       "                            <strong>Memory: </strong> 30.34 GiB\n",
       "                        </td>\n",
       "                    </tr>\n",
       "                    <tr>\n",
       "                        <td style=\"text-align: left;\">\n",
       "                            <strong>Nanny: </strong> tls://10.0.2.95:34543\n",
       "                        </td>\n",
       "                        <td style=\"text-align: left;\"></td>\n",
       "                    </tr>\n",
       "                    <tr>\n",
       "                        <td colspan=\"2\" style=\"text-align: left;\">\n",
       "                            <strong>Local directory: </strong> /scratch/dask-worker-space/worker-8_0os1gi\n",
       "                        </td>\n",
       "                    </tr>\n",
       "\n",
       "                    \n",
       "\n",
       "                    \n",
       "\n",
       "                </table>\n",
       "            </details>\n",
       "            </div>\n",
       "        </div>\n",
       "        \n",
       "\n",
       "    </details>\n",
       "</div>\n",
       "\n",
       "        </details>\n",
       "    </div>\n",
       "</div>\n",
       "            </details>\n",
       "        \n",
       "\n",
       "    </div>\n",
       "</div>"
      ],
      "text/plain": [
       "<Client: 'tls://10.0.19.215:8786' processes=20 threads=160, memory=606.96 GiB>"
      ]
     },
     "execution_count": 9,
     "metadata": {},
     "output_type": "execute_result"
    }
   ],
   "source": [
    "client"
   ]
  },
  {
   "cell_type": "code",
   "execution_count": 16,
   "id": "15530dc1-703e-4491-9eec-c391cd663a34",
   "metadata": {},
   "outputs": [],
   "source": [
    "df = dd.read_parquet(\n",
    "    \"s3://coiled-datasets/uber-lyft-tlc/\", \n",
    "    use_nullable_dtypes=True              #this is working on 2022.12.0 update dask\n",
    ").astype({\"hvfhs_license_num\": \"string[pyarrow]\", \n",
    "         \"dispatching_base_num\": \"string[pyarrow]\",\n",
    "         \"originating_base_num\": \"string[pyarrow]\",\n",
    "         })"
   ]
  },
  {
   "cell_type": "markdown",
   "id": "248e62d5-2d06-43fc-968c-bcff36f21d2b",
   "metadata": {},
   "source": [
    "## Comment on nullable dtypes\n",
    "\n",
    "Write something about nullable dtypes here.\n",
    "\n",
    "- Mention portability\n",
    "https://pandas.pydata.org/pandas-docs/stable/user_guide/missing_data.html#missing-data"
   ]
  },
  {
   "cell_type": "code",
   "execution_count": 14,
   "id": "ce2fe4cb-8884-4364-9522-f72fba6829ee",
   "metadata": {},
   "outputs": [
    {
     "data": {
      "text/plain": [
       "'2022.12.0'"
      ]
     },
     "execution_count": 14,
     "metadata": {},
     "output_type": "execute_result"
    }
   ],
   "source": [
    "import dask\n",
    "dask.__version__"
   ]
  },
  {
   "cell_type": "code",
   "execution_count": 17,
   "id": "2e2900ba-cbdf-46fc-9ee4-9fbc69ea881c",
   "metadata": {},
   "outputs": [
    {
     "data": {
      "text/plain": [
       "hvfhs_license_num               string\n",
       "dispatching_base_num            string\n",
       "originating_base_num            string\n",
       "on_scene_datetime       datetime64[ns]\n",
       "pickup_datetime         datetime64[ns]\n",
       "dropoff_datetime        datetime64[ns]\n",
       "PULocationID                     int32\n",
       "DOLocationID                     int32\n",
       "trip_miles                     float32\n",
       "trip_time                        int32\n",
       "base_passenger_fare            float32\n",
       "tolls                          float32\n",
       "bcf                            float32\n",
       "sales_tax                      float32\n",
       "congestion_surcharge           float32\n",
       "airport_fee                    float32\n",
       "tips                           float32\n",
       "driver_pay                     float32\n",
       "shared_request_flag           category\n",
       "shared_match_flag             category\n",
       "access_a_ride_flag            category\n",
       "wav_request_flag              category\n",
       "wav_match_flag                category\n",
       "dtype: object"
      ]
     },
     "execution_count": 17,
     "metadata": {},
     "output_type": "execute_result"
    }
   ],
   "source": [
    "df.dtypes"
   ]
  },
  {
   "cell_type": "markdown",
   "id": "80eb7dc4-e84e-40b9-9842-dad6670dad3b",
   "metadata": {},
   "source": [
    "```python\n",
    "#with nullable dtypes\n",
    "dask.utils.format_bytes(\n",
    "    df.memory_usage(deep=True).sum().compute()\n",
    ")\n",
    "```\n",
    "'82.73 GiB' "
   ]
  },
  {
   "cell_type": "markdown",
   "id": "bdf1c8c1-03e7-42aa-8a6d-96dec787a755",
   "metadata": {},
   "source": [
    "```python\n",
    "# no nullable dtypes\n",
    "dask.utils.format_bytes(\n",
    "    df.memory_usage(deep=True).sum().compute()\n",
    ")\n",
    "```\n",
    "'74.82 GiB'"
   ]
  },
  {
   "cell_type": "code",
   "execution_count": 11,
   "id": "cca096d8-dcc5-492a-872c-c36b2e579311",
   "metadata": {},
   "outputs": [
    {
     "data": {
      "text/plain": [
       "string[pyarrow]"
      ]
     },
     "execution_count": 11,
     "metadata": {},
     "output_type": "execute_result"
    }
   ],
   "source": [
    "df.hvfhs_license_num.dtype"
   ]
  },
  {
   "cell_type": "code",
   "execution_count": 16,
   "id": "dff7b58b-97c5-4e06-9fdf-f2fe4fc979a3",
   "metadata": {},
   "outputs": [
    {
     "data": {
      "text/plain": [
       "Index(['hvfhs_license_num', 'dispatching_base_num', 'originating_base_num',\n",
       "       'on_scene_datetime', 'pickup_datetime', 'dropoff_datetime',\n",
       "       'PULocationID', 'DOLocationID', 'trip_miles', 'trip_time',\n",
       "       'base_passenger_fare', 'tolls', 'bcf', 'sales_tax',\n",
       "       'congestion_surcharge', 'airport_fee', 'tips', 'driver_pay',\n",
       "       'shared_request_flag', 'shared_match_flag', 'access_a_ride_flag',\n",
       "       'wav_request_flag', 'wav_match_flag'],\n",
       "      dtype='object')"
      ]
     },
     "execution_count": 16,
     "metadata": {},
     "output_type": "execute_result"
    }
   ],
   "source": [
    "df.columns"
   ]
  },
  {
   "cell_type": "code",
   "execution_count": 17,
   "id": "834816b0-5899-43a8-853e-ffc91a0a7da8",
   "metadata": {},
   "outputs": [
    {
     "data": {
      "text/html": [
       "<div>\n",
       "<style scoped>\n",
       "    .dataframe tbody tr th:only-of-type {\n",
       "        vertical-align: middle;\n",
       "    }\n",
       "\n",
       "    .dataframe tbody tr th {\n",
       "        vertical-align: top;\n",
       "    }\n",
       "\n",
       "    .dataframe thead th {\n",
       "        text-align: right;\n",
       "    }\n",
       "</style>\n",
       "<table border=\"1\" class=\"dataframe\">\n",
       "  <thead>\n",
       "    <tr style=\"text-align: right;\">\n",
       "      <th></th>\n",
       "      <th>hvfhs_license_num</th>\n",
       "      <th>dispatching_base_num</th>\n",
       "      <th>originating_base_num</th>\n",
       "      <th>on_scene_datetime</th>\n",
       "      <th>pickup_datetime</th>\n",
       "      <th>dropoff_datetime</th>\n",
       "      <th>PULocationID</th>\n",
       "      <th>DOLocationID</th>\n",
       "      <th>trip_miles</th>\n",
       "      <th>trip_time</th>\n",
       "      <th>...</th>\n",
       "      <th>sales_tax</th>\n",
       "      <th>congestion_surcharge</th>\n",
       "      <th>airport_fee</th>\n",
       "      <th>tips</th>\n",
       "      <th>driver_pay</th>\n",
       "      <th>shared_request_flag</th>\n",
       "      <th>shared_match_flag</th>\n",
       "      <th>access_a_ride_flag</th>\n",
       "      <th>wav_request_flag</th>\n",
       "      <th>wav_match_flag</th>\n",
       "    </tr>\n",
       "    <tr>\n",
       "      <th>request_datetime</th>\n",
       "      <th></th>\n",
       "      <th></th>\n",
       "      <th></th>\n",
       "      <th></th>\n",
       "      <th></th>\n",
       "      <th></th>\n",
       "      <th></th>\n",
       "      <th></th>\n",
       "      <th></th>\n",
       "      <th></th>\n",
       "      <th></th>\n",
       "      <th></th>\n",
       "      <th></th>\n",
       "      <th></th>\n",
       "      <th></th>\n",
       "      <th></th>\n",
       "      <th></th>\n",
       "      <th></th>\n",
       "      <th></th>\n",
       "      <th></th>\n",
       "      <th></th>\n",
       "    </tr>\n",
       "  </thead>\n",
       "  <tbody>\n",
       "    <tr>\n",
       "      <th>2019-01-31 23:19:44</th>\n",
       "      <td>HV0003</td>\n",
       "      <td>B02887</td>\n",
       "      <td>B02887</td>\n",
       "      <td>2019-01-31 23:57:51</td>\n",
       "      <td>2019-02-01 00:00:25</td>\n",
       "      <td>2019-02-01 01:17:06</td>\n",
       "      <td>68</td>\n",
       "      <td>265</td>\n",
       "      <td>57.380001</td>\n",
       "      <td>4601</td>\n",
       "      <td>...</td>\n",
       "      <td>14.12</td>\n",
       "      <td>0.0</td>\n",
       "      <td>NaN</td>\n",
       "      <td>0.0</td>\n",
       "      <td>131.330002</td>\n",
       "      <td>N</td>\n",
       "      <td>N</td>\n",
       "      <td>N</td>\n",
       "      <td>N</td>\n",
       "      <td>NaN</td>\n",
       "    </tr>\n",
       "    <tr>\n",
       "      <th>2019-01-31 23:33:26</th>\n",
       "      <td>HV0003</td>\n",
       "      <td>B02682</td>\n",
       "      <td>B02682</td>\n",
       "      <td>2019-01-31 23:58:53</td>\n",
       "      <td>2019-02-01 00:01:23</td>\n",
       "      <td>2019-02-01 00:42:33</td>\n",
       "      <td>90</td>\n",
       "      <td>188</td>\n",
       "      <td>8.740000</td>\n",
       "      <td>2471</td>\n",
       "      <td>...</td>\n",
       "      <td>0.60</td>\n",
       "      <td>0.0</td>\n",
       "      <td>NaN</td>\n",
       "      <td>0.0</td>\n",
       "      <td>16.040001</td>\n",
       "      <td>Y</td>\n",
       "      <td>Y</td>\n",
       "      <td>N</td>\n",
       "      <td>N</td>\n",
       "      <td>NaN</td>\n",
       "    </tr>\n",
       "    <tr>\n",
       "      <th>2019-01-31 23:33:41</th>\n",
       "      <td>HV0003</td>\n",
       "      <td>B02887</td>\n",
       "      <td>B02887</td>\n",
       "      <td>2019-02-01 00:00:52</td>\n",
       "      <td>2019-02-01 00:03:36</td>\n",
       "      <td>2019-02-01 00:23:29</td>\n",
       "      <td>186</td>\n",
       "      <td>151</td>\n",
       "      <td>4.580000</td>\n",
       "      <td>1193</td>\n",
       "      <td>...</td>\n",
       "      <td>0.55</td>\n",
       "      <td>0.0</td>\n",
       "      <td>NaN</td>\n",
       "      <td>0.0</td>\n",
       "      <td>5.330000</td>\n",
       "      <td>Y</td>\n",
       "      <td>Y</td>\n",
       "      <td>N</td>\n",
       "      <td>N</td>\n",
       "      <td>NaN</td>\n",
       "    </tr>\n",
       "    <tr>\n",
       "      <th>2019-01-31 23:34:00</th>\n",
       "      <td>HV0003</td>\n",
       "      <td>B02878</td>\n",
       "      <td>B02878</td>\n",
       "      <td>2019-01-31 23:57:06</td>\n",
       "      <td>2019-02-01 00:01:33</td>\n",
       "      <td>2019-02-01 00:11:58</td>\n",
       "      <td>186</td>\n",
       "      <td>125</td>\n",
       "      <td>2.230000</td>\n",
       "      <td>624</td>\n",
       "      <td>...</td>\n",
       "      <td>1.21</td>\n",
       "      <td>0.0</td>\n",
       "      <td>NaN</td>\n",
       "      <td>1.0</td>\n",
       "      <td>8.280000</td>\n",
       "      <td>N</td>\n",
       "      <td>N</td>\n",
       "      <td>N</td>\n",
       "      <td>N</td>\n",
       "      <td>NaN</td>\n",
       "    </tr>\n",
       "    <tr>\n",
       "      <th>2019-01-31 23:35:01</th>\n",
       "      <td>HV0003</td>\n",
       "      <td>B02764</td>\n",
       "      <td>B02764</td>\n",
       "      <td>2019-02-01 00:05:11</td>\n",
       "      <td>2019-02-01 00:05:11</td>\n",
       "      <td>2019-02-01 00:06:10</td>\n",
       "      <td>231</td>\n",
       "      <td>231</td>\n",
       "      <td>0.090000</td>\n",
       "      <td>59</td>\n",
       "      <td>...</td>\n",
       "      <td>0.64</td>\n",
       "      <td>0.0</td>\n",
       "      <td>NaN</td>\n",
       "      <td>0.0</td>\n",
       "      <td>5.550000</td>\n",
       "      <td>N</td>\n",
       "      <td>N</td>\n",
       "      <td>N</td>\n",
       "      <td>N</td>\n",
       "      <td>NaN</td>\n",
       "    </tr>\n",
       "  </tbody>\n",
       "</table>\n",
       "<p>5 rows × 23 columns</p>\n",
       "</div>"
      ],
      "text/plain": [
       "                    hvfhs_license_num dispatching_base_num  \\\n",
       "request_datetime                                             \n",
       "2019-01-31 23:19:44            HV0003               B02887   \n",
       "2019-01-31 23:33:26            HV0003               B02682   \n",
       "2019-01-31 23:33:41            HV0003               B02887   \n",
       "2019-01-31 23:34:00            HV0003               B02878   \n",
       "2019-01-31 23:35:01            HV0003               B02764   \n",
       "\n",
       "                    originating_base_num   on_scene_datetime  \\\n",
       "request_datetime                                               \n",
       "2019-01-31 23:19:44               B02887 2019-01-31 23:57:51   \n",
       "2019-01-31 23:33:26               B02682 2019-01-31 23:58:53   \n",
       "2019-01-31 23:33:41               B02887 2019-02-01 00:00:52   \n",
       "2019-01-31 23:34:00               B02878 2019-01-31 23:57:06   \n",
       "2019-01-31 23:35:01               B02764 2019-02-01 00:05:11   \n",
       "\n",
       "                        pickup_datetime    dropoff_datetime  PULocationID  \\\n",
       "request_datetime                                                            \n",
       "2019-01-31 23:19:44 2019-02-01 00:00:25 2019-02-01 01:17:06            68   \n",
       "2019-01-31 23:33:26 2019-02-01 00:01:23 2019-02-01 00:42:33            90   \n",
       "2019-01-31 23:33:41 2019-02-01 00:03:36 2019-02-01 00:23:29           186   \n",
       "2019-01-31 23:34:00 2019-02-01 00:01:33 2019-02-01 00:11:58           186   \n",
       "2019-01-31 23:35:01 2019-02-01 00:05:11 2019-02-01 00:06:10           231   \n",
       "\n",
       "                     DOLocationID  trip_miles  trip_time  ...  sales_tax  \\\n",
       "request_datetime                                          ...              \n",
       "2019-01-31 23:19:44           265   57.380001       4601  ...      14.12   \n",
       "2019-01-31 23:33:26           188    8.740000       2471  ...       0.60   \n",
       "2019-01-31 23:33:41           151    4.580000       1193  ...       0.55   \n",
       "2019-01-31 23:34:00           125    2.230000        624  ...       1.21   \n",
       "2019-01-31 23:35:01           231    0.090000         59  ...       0.64   \n",
       "\n",
       "                     congestion_surcharge  airport_fee  tips  driver_pay  \\\n",
       "request_datetime                                                           \n",
       "2019-01-31 23:19:44                   0.0          NaN   0.0  131.330002   \n",
       "2019-01-31 23:33:26                   0.0          NaN   0.0   16.040001   \n",
       "2019-01-31 23:33:41                   0.0          NaN   0.0    5.330000   \n",
       "2019-01-31 23:34:00                   0.0          NaN   1.0    8.280000   \n",
       "2019-01-31 23:35:01                   0.0          NaN   0.0    5.550000   \n",
       "\n",
       "                     shared_request_flag  shared_match_flag  \\\n",
       "request_datetime                                              \n",
       "2019-01-31 23:19:44                    N                  N   \n",
       "2019-01-31 23:33:26                    Y                  Y   \n",
       "2019-01-31 23:33:41                    Y                  Y   \n",
       "2019-01-31 23:34:00                    N                  N   \n",
       "2019-01-31 23:35:01                    N                  N   \n",
       "\n",
       "                     access_a_ride_flag wav_request_flag wav_match_flag  \n",
       "request_datetime                                                         \n",
       "2019-01-31 23:19:44                   N                N            NaN  \n",
       "2019-01-31 23:33:26                   N                N            NaN  \n",
       "2019-01-31 23:33:41                   N                N            NaN  \n",
       "2019-01-31 23:34:00                   N                N            NaN  \n",
       "2019-01-31 23:35:01                   N                N            NaN  \n",
       "\n",
       "[5 rows x 23 columns]"
      ]
     },
     "execution_count": 17,
     "metadata": {},
     "output_type": "execute_result"
    }
   ],
   "source": [
    "df.head()"
   ]
  },
  {
   "cell_type": "code",
   "execution_count": null,
   "id": "d52ca6d7-4030-4103-b128-4263f95044c7",
   "metadata": {},
   "outputs": [],
   "source": [
    "## 707_786_079\n",
    "len(df)"
   ]
  },
  {
   "cell_type": "code",
   "execution_count": 23,
   "id": "b1262fb9-adaa-4e23-9b5f-7e50e62128ce",
   "metadata": {},
   "outputs": [
    {
     "data": {
      "text/plain": [
       "hvfhs_license_num       707786079\n",
       "dispatching_base_num    707783994\n",
       "originating_base_num    513907655\n",
       "on_scene_datetime       510471672\n",
       "pickup_datetime         707786079\n",
       "dropoff_datetime        707786079\n",
       "PULocationID            707786079\n",
       "DOLocationID            707786079\n",
       "trip_miles              707786079\n",
       "trip_time               707786079\n",
       "base_passenger_fare     707786079\n",
       "tolls                   707786079\n",
       "bcf                     707786079\n",
       "sales_tax               707786079\n",
       "congestion_surcharge    707273038\n",
       "airport_fee             293459983\n",
       "tips                    707786079\n",
       "driver_pay              707786079\n",
       "shared_request_flag     707786078\n",
       "shared_match_flag       707786078\n",
       "access_a_ride_flag      255362136\n",
       "wav_request_flag        707786078\n",
       "wav_match_flag          597236160\n",
       "tip_flag                707786079\n",
       "dtype: int64"
      ]
     },
     "execution_count": 23,
     "metadata": {},
     "output_type": "execute_result"
    }
   ],
   "source": [
    "##let's count to see NaN\n",
    "df.count().compute()"
   ]
  },
  {
   "cell_type": "code",
   "execution_count": 18,
   "id": "eb55c7c8-bb9b-4fe5-9729-6b91f263a3ac",
   "metadata": {
    "tags": []
   },
   "outputs": [],
   "source": [
    "#Create a column tip > 0 = True \n",
    "df[\"tip_flag\"] = df.tips > 0\n",
    "\n",
    "df_small = df[[\"hvfhs_license_num\", \"tips\", \"base_passenger_fare\", \n",
    "               \"driver_pay\", \"trip_miles\", \"trip_time\", \"pickup_datetime\",\n",
    "               \"dropoff_datetime\", \"tip_flag\"]].persist()\n"
   ]
  },
  {
   "cell_type": "markdown",
   "id": "90101c64-354b-49e3-9d14-2c795edc2c67",
   "metadata": {},
   "source": [
    "The columns we just selected do not have NaN, if you know this ahead of time, when you read your data you can avoid using nullable dtypes, otherwise you should consider using them."
   ]
  },
  {
   "cell_type": "code",
   "execution_count": 22,
   "id": "54707176-6ddf-4c3c-9870-7cdfd03f8335",
   "metadata": {},
   "outputs": [
    {
     "data": {
      "text/html": [
       "<div>\n",
       "<style scoped>\n",
       "    .dataframe tbody tr th:only-of-type {\n",
       "        vertical-align: middle;\n",
       "    }\n",
       "\n",
       "    .dataframe tbody tr th {\n",
       "        vertical-align: top;\n",
       "    }\n",
       "\n",
       "    .dataframe thead th {\n",
       "        text-align: right;\n",
       "    }\n",
       "</style>\n",
       "<table border=\"1\" class=\"dataframe\">\n",
       "  <thead>\n",
       "    <tr style=\"text-align: right;\">\n",
       "      <th></th>\n",
       "      <th>hvfhs_license_num</th>\n",
       "      <th>tips</th>\n",
       "      <th>base_passenger_fare</th>\n",
       "      <th>driver_pay</th>\n",
       "      <th>trip_miles</th>\n",
       "      <th>trip_time</th>\n",
       "      <th>pickup_datetime</th>\n",
       "      <th>dropoff_datetime</th>\n",
       "      <th>tip_flag</th>\n",
       "    </tr>\n",
       "    <tr>\n",
       "      <th>request_datetime</th>\n",
       "      <th></th>\n",
       "      <th></th>\n",
       "      <th></th>\n",
       "      <th></th>\n",
       "      <th></th>\n",
       "      <th></th>\n",
       "      <th></th>\n",
       "      <th></th>\n",
       "      <th></th>\n",
       "    </tr>\n",
       "  </thead>\n",
       "  <tbody>\n",
       "    <tr>\n",
       "      <th>2019-01-31 23:19:44</th>\n",
       "      <td>HV0003</td>\n",
       "      <td>0.0</td>\n",
       "      <td>159.059998</td>\n",
       "      <td>131.330002</td>\n",
       "      <td>57.380001</td>\n",
       "      <td>4601</td>\n",
       "      <td>2019-02-01 00:00:25</td>\n",
       "      <td>2019-02-01 01:17:06</td>\n",
       "      <td>False</td>\n",
       "    </tr>\n",
       "    <tr>\n",
       "      <th>2019-01-31 23:33:26</th>\n",
       "      <td>HV0003</td>\n",
       "      <td>0.0</td>\n",
       "      <td>6.720000</td>\n",
       "      <td>16.040001</td>\n",
       "      <td>8.740000</td>\n",
       "      <td>2471</td>\n",
       "      <td>2019-02-01 00:01:23</td>\n",
       "      <td>2019-02-01 00:42:33</td>\n",
       "      <td>False</td>\n",
       "    </tr>\n",
       "    <tr>\n",
       "      <th>2019-01-31 23:33:41</th>\n",
       "      <td>HV0003</td>\n",
       "      <td>0.0</td>\n",
       "      <td>6.210000</td>\n",
       "      <td>5.330000</td>\n",
       "      <td>4.580000</td>\n",
       "      <td>1193</td>\n",
       "      <td>2019-02-01 00:03:36</td>\n",
       "      <td>2019-02-01 00:23:29</td>\n",
       "      <td>False</td>\n",
       "    </tr>\n",
       "    <tr>\n",
       "      <th>2019-01-31 23:34:00</th>\n",
       "      <td>HV0003</td>\n",
       "      <td>1.0</td>\n",
       "      <td>13.620000</td>\n",
       "      <td>8.280000</td>\n",
       "      <td>2.230000</td>\n",
       "      <td>624</td>\n",
       "      <td>2019-02-01 00:01:33</td>\n",
       "      <td>2019-02-01 00:11:58</td>\n",
       "      <td>True</td>\n",
       "    </tr>\n",
       "    <tr>\n",
       "      <th>2019-01-31 23:35:01</th>\n",
       "      <td>HV0003</td>\n",
       "      <td>0.0</td>\n",
       "      <td>7.180000</td>\n",
       "      <td>5.550000</td>\n",
       "      <td>0.090000</td>\n",
       "      <td>59</td>\n",
       "      <td>2019-02-01 00:05:11</td>\n",
       "      <td>2019-02-01 00:06:10</td>\n",
       "      <td>False</td>\n",
       "    </tr>\n",
       "  </tbody>\n",
       "</table>\n",
       "</div>"
      ],
      "text/plain": [
       "                    hvfhs_license_num  tips  base_passenger_fare  driver_pay  \\\n",
       "request_datetime                                                               \n",
       "2019-01-31 23:19:44            HV0003   0.0           159.059998  131.330002   \n",
       "2019-01-31 23:33:26            HV0003   0.0             6.720000   16.040001   \n",
       "2019-01-31 23:33:41            HV0003   0.0             6.210000    5.330000   \n",
       "2019-01-31 23:34:00            HV0003   1.0            13.620000    8.280000   \n",
       "2019-01-31 23:35:01            HV0003   0.0             7.180000    5.550000   \n",
       "\n",
       "                     trip_miles  trip_time     pickup_datetime  \\\n",
       "request_datetime                                                 \n",
       "2019-01-31 23:19:44   57.380001       4601 2019-02-01 00:00:25   \n",
       "2019-01-31 23:33:26    8.740000       2471 2019-02-01 00:01:23   \n",
       "2019-01-31 23:33:41    4.580000       1193 2019-02-01 00:03:36   \n",
       "2019-01-31 23:34:00    2.230000        624 2019-02-01 00:01:33   \n",
       "2019-01-31 23:35:01    0.090000         59 2019-02-01 00:05:11   \n",
       "\n",
       "                       dropoff_datetime  tip_flag  \n",
       "request_datetime                                   \n",
       "2019-01-31 23:19:44 2019-02-01 01:17:06     False  \n",
       "2019-01-31 23:33:26 2019-02-01 00:42:33     False  \n",
       "2019-01-31 23:33:41 2019-02-01 00:23:29     False  \n",
       "2019-01-31 23:34:00 2019-02-01 00:11:58      True  \n",
       "2019-01-31 23:35:01 2019-02-01 00:06:10     False  "
      ]
     },
     "execution_count": 22,
     "metadata": {},
     "output_type": "execute_result"
    }
   ],
   "source": [
    "df_small.head()"
   ]
  },
  {
   "cell_type": "markdown",
   "id": "3d58359d-ac67-412b-b981-def85083395b",
   "metadata": {},
   "source": [
    "## Let's look into the data"
   ]
  },
  {
   "cell_type": "code",
   "execution_count": 24,
   "id": "fb809b7b-9cdf-4d54-b191-305a3c89eb97",
   "metadata": {},
   "outputs": [
    {
     "data": {
      "text/plain": [
       "14.04137472"
      ]
     },
     "execution_count": 24,
     "metadata": {},
     "output_type": "execute_result"
    }
   ],
   "source": [
    "df_small.base_passenger_fare.sum().compute() / 1e9"
   ]
  },
  {
   "cell_type": "code",
   "execution_count": 25,
   "id": "286fc4f5-003b-47a9-8a56-fc227141e670",
   "metadata": {},
   "outputs": [
    {
     "data": {
      "text/plain": [
       "11.404737536"
      ]
     },
     "execution_count": 25,
     "metadata": {},
     "output_type": "execute_result"
    }
   ],
   "source": [
    "df_small.driver_pay.sum().compute() / 1e9"
   ]
  },
  {
   "cell_type": "code",
   "execution_count": 26,
   "id": "0ca23fa1-ab0c-4426-8165-7742bcae7891",
   "metadata": {},
   "outputs": [
    {
     "data": {
      "text/plain": [
       "525.279552"
      ]
     },
     "execution_count": 26,
     "metadata": {},
     "output_type": "execute_result"
    }
   ],
   "source": [
    "df_small.tips.sum().compute() / 1e6"
   ]
  },
  {
   "cell_type": "markdown",
   "id": "fc2110ff-d2fe-4a57-8556-f8381cd12d48",
   "metadata": {},
   "source": [
    "### Are New Yorker's tippers? \n",
    "\n",
    "Let's see how many trips have tip by provider using a pivot table. \n",
    "\n",
    "https://docs.dask.org/en/stable/generated/dask.dataframe.DataFrame.pivot_table.html"
   ]
  },
  {
   "cell_type": "code",
   "execution_count": 28,
   "id": "b142ab87-c5ea-4cd4-bfdc-e7aefa08cc0b",
   "metadata": {},
   "outputs": [
    {
     "ename": "ValueError",
     "evalue": "'index' must be the name of an existing column",
     "output_type": "error",
     "traceback": [
      "\u001b[0;31m---------------------------------------------------------------------------\u001b[0m",
      "\u001b[0;31mValueError\u001b[0m                                Traceback (most recent call last)",
      "Cell \u001b[0;32mIn[28], line 1\u001b[0m\n\u001b[0;32m----> 1\u001b[0m tips_per_provider \u001b[38;5;241m=\u001b[39m \u001b[43mdd\u001b[49m\u001b[38;5;241;43m.\u001b[39;49m\u001b[43mpivot_table\u001b[49m\u001b[43m(\u001b[49m\u001b[43mdf_small\u001b[49m\u001b[43m,\u001b[49m\u001b[43m \u001b[49m\u001b[43mindex\u001b[49m\u001b[38;5;241;43m=\u001b[39;49m\u001b[43m[\u001b[49m\u001b[38;5;124;43m'\u001b[39;49m\u001b[38;5;124;43mhvfhs_license_num\u001b[39;49m\u001b[38;5;124;43m'\u001b[39;49m\u001b[43m,\u001b[49m\u001b[43m \u001b[49m\u001b[38;5;124;43m'\u001b[39;49m\u001b[38;5;124;43mtip_flag\u001b[39;49m\u001b[38;5;124;43m'\u001b[39;49m\u001b[43m]\u001b[49m\u001b[43m,\u001b[49m\u001b[43m \u001b[49m\u001b[43mvalues\u001b[49m\u001b[38;5;241;43m=\u001b[39;49m\u001b[38;5;124;43m'\u001b[39;49m\u001b[38;5;124;43mtips\u001b[39;49m\u001b[38;5;124;43m'\u001b[39;49m\u001b[43m,\u001b[49m\u001b[43m \u001b[49m\u001b[43maggfunc\u001b[49m\u001b[38;5;241;43m=\u001b[39;49m\u001b[38;5;124;43m'\u001b[39;49m\u001b[38;5;124;43mcount\u001b[39;49m\u001b[38;5;124;43m'\u001b[39;49m\u001b[43m)\u001b[49m\u001b[38;5;241m.\u001b[39mcompute()\n\u001b[1;32m      2\u001b[0m tips_per_provider\n",
      "File \u001b[0;32m~/mambaforge/envs/dask-tutorial/lib/python3.10/site-packages/dask/dataframe/reshape.py:200\u001b[0m, in \u001b[0;36mpivot_table\u001b[0;34m(df, index, columns, values, aggfunc)\u001b[0m\n\u001b[1;32m    173\u001b[0m \u001b[38;5;124;03m\"\"\"\u001b[39;00m\n\u001b[1;32m    174\u001b[0m \u001b[38;5;124;03mCreate a spreadsheet-style pivot table as a DataFrame. Target ``columns``\u001b[39;00m\n\u001b[1;32m    175\u001b[0m \u001b[38;5;124;03mmust have category dtype to infer result's ``columns``.\u001b[39;00m\n\u001b[0;32m   (...)\u001b[0m\n\u001b[1;32m    196\u001b[0m \u001b[38;5;124;03mpandas.DataFrame.pivot_table\u001b[39;00m\n\u001b[1;32m    197\u001b[0m \u001b[38;5;124;03m\"\"\"\u001b[39;00m\n\u001b[1;32m    199\u001b[0m \u001b[38;5;28;01mif\u001b[39;00m \u001b[38;5;129;01mnot\u001b[39;00m is_scalar(index) \u001b[38;5;129;01mor\u001b[39;00m index \u001b[38;5;129;01mis\u001b[39;00m \u001b[38;5;28;01mNone\u001b[39;00m:\n\u001b[0;32m--> 200\u001b[0m     \u001b[38;5;28;01mraise\u001b[39;00m \u001b[38;5;167;01mValueError\u001b[39;00m(\u001b[38;5;124m\"\u001b[39m\u001b[38;5;124m'\u001b[39m\u001b[38;5;124mindex\u001b[39m\u001b[38;5;124m'\u001b[39m\u001b[38;5;124m must be the name of an existing column\u001b[39m\u001b[38;5;124m\"\u001b[39m)\n\u001b[1;32m    201\u001b[0m \u001b[38;5;28;01mif\u001b[39;00m \u001b[38;5;129;01mnot\u001b[39;00m is_scalar(columns) \u001b[38;5;129;01mor\u001b[39;00m columns \u001b[38;5;129;01mis\u001b[39;00m \u001b[38;5;28;01mNone\u001b[39;00m:\n\u001b[1;32m    202\u001b[0m     \u001b[38;5;28;01mraise\u001b[39;00m \u001b[38;5;167;01mValueError\u001b[39;00m(\u001b[38;5;124m\"\u001b[39m\u001b[38;5;124m'\u001b[39m\u001b[38;5;124mcolumns\u001b[39m\u001b[38;5;124m'\u001b[39m\u001b[38;5;124m must be the name of an existing column\u001b[39m\u001b[38;5;124m\"\u001b[39m)\n",
      "\u001b[0;31mValueError\u001b[0m: 'index' must be the name of an existing column"
     ]
    }
   ],
   "source": [
    "tips_count = dd.pivot_table(df_small, index=['hvfhs_license_num', 'tip_flag'], values='tips', aggfunc='count').compute()\n",
    "tips_count"
   ]
  },
  {
   "cell_type": "markdown",
   "id": "b5eef1ba-092c-4eac-a7fe-19242c35e099",
   "metadata": {},
   "source": [
    "### Gotcha!\n",
    "Dask can only deal with one index, not a list of them. You can do this exact operation by doing the following:"
   ]
  },
  {
   "cell_type": "code",
   "execution_count": 35,
   "id": "ac3192f3-7913-41e6-9b7b-ed01bb8a96c5",
   "metadata": {},
   "outputs": [],
   "source": [
    "tip_counts = df_small.groupby(['hvfhs_license_num']).tip_flag.value_counts().compute()"
   ]
  },
  {
   "cell_type": "code",
   "execution_count": 36,
   "id": "13062d36-4168-41b7-b2c5-d6c8e62de44e",
   "metadata": {},
   "outputs": [
    {
     "data": {
      "text/plain": [
       "hvfhs_license_num  tip_flag\n",
       "HV0002             False         5849705\n",
       "                   True           539229\n",
       "HV0003             False       434076699\n",
       "                   True         72850568\n",
       "HV0004             False        12497572\n",
       "                   True          1278427\n",
       "HV0005             False       146269645\n",
       "                   True         34424234\n",
       "Name: tip_flag, dtype: int64"
      ]
     },
     "execution_count": 36,
     "metadata": {},
     "output_type": "execute_result"
    }
   ],
   "source": [
    "tip_counts"
   ]
  },
  {
   "cell_type": "markdown",
   "id": "fac3870d-0b82-47e9-856b-e15e77cf3425",
   "metadata": {
    "tags": []
   },
   "source": [
    "## From the data dictionary we know:\n",
    "\n",
    "The TLC license number of the HVFHS base or business\n",
    "As of September 2019, the HVFHS licensees are the following:\n",
    "\n",
    "• HV0002: Juno  \n",
    "• HV0003: Uber  \n",
    "• HV0004: Via  \n",
    "• HV0005: Lyft  "
   ]
  },
  {
   "cell_type": "code",
   "execution_count": 40,
   "id": "28c54f0e-0526-447e-8f5c-19fc6e6b1962",
   "metadata": {},
   "outputs": [
    {
     "data": {
      "text/plain": [
       "pandas.core.series.Series"
      ]
     },
     "execution_count": 40,
     "metadata": {},
     "output_type": "execute_result"
    }
   ],
   "source": [
    "type(tip_counts)"
   ]
  },
  {
   "cell_type": "code",
   "execution_count": 44,
   "id": "fd1d5b68-5e2e-487d-9db7-b1bc0c5b8e2d",
   "metadata": {},
   "outputs": [
    {
     "data": {
      "text/html": [
       "<div>\n",
       "<style scoped>\n",
       "    .dataframe tbody tr th:only-of-type {\n",
       "        vertical-align: middle;\n",
       "    }\n",
       "\n",
       "    .dataframe tbody tr th {\n",
       "        vertical-align: top;\n",
       "    }\n",
       "\n",
       "    .dataframe thead th {\n",
       "        text-align: right;\n",
       "    }\n",
       "</style>\n",
       "<table border=\"1\" class=\"dataframe\">\n",
       "  <thead>\n",
       "    <tr style=\"text-align: right;\">\n",
       "      <th>tip_flag</th>\n",
       "      <th>False</th>\n",
       "      <th>True</th>\n",
       "    </tr>\n",
       "    <tr>\n",
       "      <th>hvfhs_license_num</th>\n",
       "      <th></th>\n",
       "      <th></th>\n",
       "    </tr>\n",
       "  </thead>\n",
       "  <tbody>\n",
       "    <tr>\n",
       "      <th>HV0002</th>\n",
       "      <td>5.849705</td>\n",
       "      <td>0.539229</td>\n",
       "    </tr>\n",
       "    <tr>\n",
       "      <th>HV0003</th>\n",
       "      <td>434.076699</td>\n",
       "      <td>72.850568</td>\n",
       "    </tr>\n",
       "    <tr>\n",
       "      <th>HV0004</th>\n",
       "      <td>12.497572</td>\n",
       "      <td>1.278427</td>\n",
       "    </tr>\n",
       "    <tr>\n",
       "      <th>HV0005</th>\n",
       "      <td>146.269645</td>\n",
       "      <td>34.424234</td>\n",
       "    </tr>\n",
       "  </tbody>\n",
       "</table>\n",
       "</div>"
      ],
      "text/plain": [
       "tip_flag                False      True \n",
       "hvfhs_license_num                       \n",
       "HV0002               5.849705   0.539229\n",
       "HV0003             434.076699  72.850568\n",
       "HV0004              12.497572   1.278427\n",
       "HV0005             146.269645  34.424234"
      ]
     },
     "execution_count": 44,
     "metadata": {},
     "output_type": "execute_result"
    }
   ],
   "source": [
    "## this is a pandas \n",
    "tip_counts = tip_counts.unstack(level=\"tip_flag\")\n",
    "tip_counts/1e6"
   ]
  },
  {
   "cell_type": "code",
   "execution_count": null,
   "id": "a1fb0a6d-146d-4ad0-ac5d-6ab87ce7a6ce",
   "metadata": {},
   "outputs": [],
   "source": [
    "### Percentage of total rides that tip"
   ]
  },
  {
   "cell_type": "code",
   "execution_count": 49,
   "id": "554de773-2424-44c5-b711-d1d4e4a6bad6",
   "metadata": {},
   "outputs": [
    {
     "data": {
      "text/plain": [
       "hvfhs_license_num\n",
       "HV0002     8.440046\n",
       "HV0003    14.371010\n",
       "HV0004     9.280104\n",
       "HV0005    19.051135\n",
       "dtype: float64"
      ]
     },
     "execution_count": 49,
     "metadata": {},
     "output_type": "execute_result"
    }
   ],
   "source": [
    "tip_counts[True] * 100 / (tip_counts[True]+tip_counts[False])"
   ]
  },
  {
   "cell_type": "code",
   "execution_count": 50,
   "id": "9b10f437-ba9d-41d3-bc43-0d4e96e9dcdb",
   "metadata": {},
   "outputs": [
    {
     "data": {
      "text/html": [
       "<div>\n",
       "<style scoped>\n",
       "    .dataframe tbody tr th:only-of-type {\n",
       "        vertical-align: middle;\n",
       "    }\n",
       "\n",
       "    .dataframe tbody tr th {\n",
       "        vertical-align: top;\n",
       "    }\n",
       "\n",
       "    .dataframe thead th {\n",
       "        text-align: right;\n",
       "    }\n",
       "</style>\n",
       "<table border=\"1\" class=\"dataframe\">\n",
       "  <thead>\n",
       "    <tr style=\"text-align: right;\">\n",
       "      <th></th>\n",
       "      <th>sum</th>\n",
       "      <th>mean</th>\n",
       "    </tr>\n",
       "    <tr>\n",
       "      <th>hvfhs_license_num</th>\n",
       "      <th></th>\n",
       "      <th></th>\n",
       "    </tr>\n",
       "  </thead>\n",
       "  <tbody>\n",
       "    <tr>\n",
       "      <th>HV0003</th>\n",
       "      <td>351948992.0</td>\n",
       "      <td>4.831108</td>\n",
       "    </tr>\n",
       "    <tr>\n",
       "      <th>HV0002</th>\n",
       "      <td>2162384.5</td>\n",
       "      <td>4.010141</td>\n",
       "    </tr>\n",
       "    <tr>\n",
       "      <th>HV0005</th>\n",
       "      <td>168172736.0</td>\n",
       "      <td>4.885301</td>\n",
       "    </tr>\n",
       "    <tr>\n",
       "      <th>HV0004</th>\n",
       "      <td>2995445.5</td>\n",
       "      <td>2.343071</td>\n",
       "    </tr>\n",
       "  </tbody>\n",
       "</table>\n",
       "</div>"
      ],
      "text/plain": [
       "                           sum      mean\n",
       "hvfhs_license_num                       \n",
       "HV0003             351948992.0  4.831108\n",
       "HV0002               2162384.5  4.010141\n",
       "HV0005             168172736.0  4.885301\n",
       "HV0004               2995445.5  2.343071"
      ]
     },
     "execution_count": 50,
     "metadata": {},
     "output_type": "execute_result"
    }
   ],
   "source": [
    "##sum and mean of tips by provider \n",
    "tips_total = df_small.loc[lambda x: x.tip_flag].groupby('hvfhs_license_num').tips.agg([\"sum\", \"mean\"]).compute()\n",
    "tips_total"
   ]
  },
  {
   "cell_type": "code",
   "execution_count": 51,
   "id": "ef8c80f8-0d20-4bf4-a4ee-fa4a5325ce26",
   "metadata": {},
   "outputs": [],
   "source": [
    "provider = {\"HV0002\":\"Juno\", \n",
    "            \"HV0005\":\"Lyft\" ,\n",
    "            \"HV0003\":\"Uber\" ,\n",
    "           \"HV0004\":\"Via\"}"
   ]
  },
  {
   "cell_type": "code",
   "execution_count": 52,
   "id": "776e2689-133d-4cfb-bd08-0ca34ee05f31",
   "metadata": {},
   "outputs": [
    {
     "data": {
      "text/html": [
       "<div>\n",
       "<style scoped>\n",
       "    .dataframe tbody tr th:only-of-type {\n",
       "        vertical-align: middle;\n",
       "    }\n",
       "\n",
       "    .dataframe tbody tr th {\n",
       "        vertical-align: top;\n",
       "    }\n",
       "\n",
       "    .dataframe thead th {\n",
       "        text-align: right;\n",
       "    }\n",
       "</style>\n",
       "<table border=\"1\" class=\"dataframe\">\n",
       "  <thead>\n",
       "    <tr style=\"text-align: right;\">\n",
       "      <th></th>\n",
       "      <th>sum</th>\n",
       "      <th>mean</th>\n",
       "    </tr>\n",
       "    <tr>\n",
       "      <th>provider</th>\n",
       "      <th></th>\n",
       "      <th></th>\n",
       "    </tr>\n",
       "  </thead>\n",
       "  <tbody>\n",
       "    <tr>\n",
       "      <th>Uber</th>\n",
       "      <td>351948992.0</td>\n",
       "      <td>4.831108</td>\n",
       "    </tr>\n",
       "    <tr>\n",
       "      <th>Juno</th>\n",
       "      <td>2162384.5</td>\n",
       "      <td>4.010141</td>\n",
       "    </tr>\n",
       "    <tr>\n",
       "      <th>Lyft</th>\n",
       "      <td>168172736.0</td>\n",
       "      <td>4.885301</td>\n",
       "    </tr>\n",
       "    <tr>\n",
       "      <th>Via</th>\n",
       "      <td>2995445.5</td>\n",
       "      <td>2.343071</td>\n",
       "    </tr>\n",
       "  </tbody>\n",
       "</table>\n",
       "</div>"
      ],
      "text/plain": [
       "                  sum      mean\n",
       "provider                       \n",
       "Uber      351948992.0  4.831108\n",
       "Juno        2162384.5  4.010141\n",
       "Lyft      168172736.0  4.885301\n",
       "Via         2995445.5  2.343071"
      ]
     },
     "execution_count": 52,
     "metadata": {},
     "output_type": "execute_result"
    }
   ],
   "source": [
    "tips_total = tips_total.assign(provider=lambda df: df.index.map(provider)).set_index(\"provider\")\n",
    "tips_total"
   ]
  },
  {
   "cell_type": "code",
   "execution_count": 53,
   "id": "cec9faaf-f329-4ebb-8e60-d1fe95d22f2c",
   "metadata": {},
   "outputs": [],
   "source": [
    "#What percentage of the basepassanger_fare is the tip\n",
    "tip_percentage = df_small.tips / df_small.base_passenger_fare \n",
    "df_small[\"tip_percentage\"] = tip_percentage"
   ]
  },
  {
   "cell_type": "code",
   "execution_count": 54,
   "id": "5b14e09d-7a4b-454f-ab39-12cbcd5d7ef4",
   "metadata": {},
   "outputs": [],
   "source": [
    "df_small = df_small.persist()"
   ]
  },
  {
   "cell_type": "code",
   "execution_count": 55,
   "id": "b4a4ac3a-7b15-489e-9502-1c5372d7ecbc",
   "metadata": {},
   "outputs": [
    {
     "data": {
      "text/plain": [
       "hvfhs_license_num\n",
       "HV0002    0.230597\n",
       "HV0003    0.039490\n",
       "HV0005    0.224473\n",
       "HV0004    0.165701\n",
       "Name: tip_percentage, dtype: float64"
      ]
     },
     "execution_count": 55,
     "metadata": {},
     "output_type": "execute_result"
    }
   ],
   "source": [
    "tips_perc_mean = df_small.loc[lambda x: x.tip_flag].groupby('hvfhs_license_num').tip_percentage.mean().compute()\n",
    "tips_perc_mean"
   ]
  },
  {
   "cell_type": "code",
   "execution_count": 56,
   "id": "c16d4260-46a4-4a5a-842d-b80f3e0cc76b",
   "metadata": {},
   "outputs": [
    {
     "data": {
      "text/html": [
       "<div>\n",
       "<style scoped>\n",
       "    .dataframe tbody tr th:only-of-type {\n",
       "        vertical-align: middle;\n",
       "    }\n",
       "\n",
       "    .dataframe tbody tr th {\n",
       "        vertical-align: top;\n",
       "    }\n",
       "\n",
       "    .dataframe thead th {\n",
       "        text-align: right;\n",
       "    }\n",
       "</style>\n",
       "<table border=\"1\" class=\"dataframe\">\n",
       "  <thead>\n",
       "    <tr style=\"text-align: right;\">\n",
       "      <th></th>\n",
       "      <th>tip_percentage</th>\n",
       "    </tr>\n",
       "    <tr>\n",
       "      <th>hvfhs_license_num</th>\n",
       "      <th></th>\n",
       "    </tr>\n",
       "  </thead>\n",
       "  <tbody>\n",
       "    <tr>\n",
       "      <th>Juno</th>\n",
       "      <td>0.230597</td>\n",
       "    </tr>\n",
       "    <tr>\n",
       "      <th>Uber</th>\n",
       "      <td>0.039490</td>\n",
       "    </tr>\n",
       "    <tr>\n",
       "      <th>Lyft</th>\n",
       "      <td>0.224473</td>\n",
       "    </tr>\n",
       "    <tr>\n",
       "      <th>Via</th>\n",
       "      <td>0.165701</td>\n",
       "    </tr>\n",
       "  </tbody>\n",
       "</table>\n",
       "</div>"
      ],
      "text/plain": [
       "                   tip_percentage\n",
       "hvfhs_license_num                \n",
       "Juno                     0.230597\n",
       "Uber                     0.039490\n",
       "Lyft                     0.224473\n",
       "Via                      0.165701"
      ]
     },
     "execution_count": 56,
     "metadata": {},
     "output_type": "execute_result"
    }
   ],
   "source": [
    "tips_perc_mean.to_frame().set_index(tips_perc_mean.index.map(provider))"
   ]
  },
  {
   "cell_type": "code",
   "execution_count": 57,
   "id": "70eaed48-4b26-48ce-8036-fc26f4e13bad",
   "metadata": {},
   "outputs": [],
   "source": [
    "## Base pay per mile per - by provider\n",
    "dolars_per_mile = df_small.base_passenger_fare / df_small.trip_miles\n",
    "df_small[\"dolars_per_mile\"] = dolars_per_mile\n",
    "df_small = df_small.persist()"
   ]
  },
  {
   "cell_type": "code",
   "execution_count": 58,
   "id": "fb6f2544-c41f-45dc-8f8a-f3863f369044",
   "metadata": {},
   "outputs": [
    {
     "data": {
      "text/html": [
       "<div>\n",
       "<style scoped>\n",
       "    .dataframe tbody tr th:only-of-type {\n",
       "        vertical-align: middle;\n",
       "    }\n",
       "\n",
       "    .dataframe tbody tr th {\n",
       "        vertical-align: top;\n",
       "    }\n",
       "\n",
       "    .dataframe thead th {\n",
       "        text-align: right;\n",
       "    }\n",
       "</style>\n",
       "<table border=\"1\" class=\"dataframe\">\n",
       "  <thead>\n",
       "    <tr style=\"text-align: right;\">\n",
       "      <th></th>\n",
       "      <th>min</th>\n",
       "      <th>max</th>\n",
       "      <th>mean</th>\n",
       "      <th>std</th>\n",
       "    </tr>\n",
       "    <tr>\n",
       "      <th>hvfhs_license_num</th>\n",
       "      <th></th>\n",
       "      <th></th>\n",
       "      <th></th>\n",
       "      <th></th>\n",
       "    </tr>\n",
       "  </thead>\n",
       "  <tbody>\n",
       "    <tr>\n",
       "      <th>HV0003</th>\n",
       "      <td>-inf</td>\n",
       "      <td>inf</td>\n",
       "      <td>0.000053</td>\n",
       "      <td>0.047217</td>\n",
       "    </tr>\n",
       "    <tr>\n",
       "      <th>HV0002</th>\n",
       "      <td>-inf</td>\n",
       "      <td>inf</td>\n",
       "      <td>1.045045</td>\n",
       "      <td>4.245099</td>\n",
       "    </tr>\n",
       "    <tr>\n",
       "      <th>HV0005</th>\n",
       "      <td>-inf</td>\n",
       "      <td>inf</td>\n",
       "      <td>0.066468</td>\n",
       "      <td>4.882487</td>\n",
       "    </tr>\n",
       "    <tr>\n",
       "      <th>HV0004</th>\n",
       "      <td>0.0</td>\n",
       "      <td>inf</td>\n",
       "      <td>0.000064</td>\n",
       "      <td>0.129280</td>\n",
       "    </tr>\n",
       "  </tbody>\n",
       "</table>\n",
       "</div>"
      ],
      "text/plain": [
       "                   min  max      mean       std\n",
       "hvfhs_license_num                              \n",
       "HV0003            -inf  inf  0.000053  0.047217\n",
       "HV0002            -inf  inf  1.045045  4.245099\n",
       "HV0005            -inf  inf  0.066468  4.882487\n",
       "HV0004             0.0  inf  0.000064  0.129280"
      ]
     },
     "execution_count": 58,
     "metadata": {},
     "output_type": "execute_result"
    }
   ],
   "source": [
    "df_small.groupby('hvfhs_license_num').dolars_per_mile.agg([\"min\", \"max\", \"mean\", \"std\"]).compute()"
   ]
  },
  {
   "cell_type": "code",
   "execution_count": 59,
   "id": "910754f2-478c-4eeb-99a5-8ba4b2cf5d75",
   "metadata": {},
   "outputs": [
    {
     "data": {
      "text/html": [
       "<div>\n",
       "<style scoped>\n",
       "    .dataframe tbody tr th:only-of-type {\n",
       "        vertical-align: middle;\n",
       "    }\n",
       "\n",
       "    .dataframe tbody tr th {\n",
       "        vertical-align: top;\n",
       "    }\n",
       "\n",
       "    .dataframe thead th {\n",
       "        text-align: right;\n",
       "    }\n",
       "</style>\n",
       "<table border=\"1\" class=\"dataframe\">\n",
       "  <thead>\n",
       "    <tr style=\"text-align: right;\">\n",
       "      <th></th>\n",
       "      <th>min</th>\n",
       "      <th>max</th>\n",
       "      <th>mean</th>\n",
       "      <th>std</th>\n",
       "    </tr>\n",
       "    <tr>\n",
       "      <th>hvfhs_license_num</th>\n",
       "      <th></th>\n",
       "      <th></th>\n",
       "      <th></th>\n",
       "      <th></th>\n",
       "    </tr>\n",
       "  </thead>\n",
       "  <tbody>\n",
       "    <tr>\n",
       "      <th>HV0003</th>\n",
       "      <td>-inf</td>\n",
       "      <td>inf</td>\n",
       "      <td>0.244394</td>\n",
       "      <td>2.259485</td>\n",
       "    </tr>\n",
       "    <tr>\n",
       "      <th>HV0002</th>\n",
       "      <td>-0.018182</td>\n",
       "      <td>inf</td>\n",
       "      <td>4.439550</td>\n",
       "      <td>7.055813</td>\n",
       "    </tr>\n",
       "    <tr>\n",
       "      <th>HV0005</th>\n",
       "      <td>-92.500000</td>\n",
       "      <td>inf</td>\n",
       "      <td>1.817102</td>\n",
       "      <td>72.354233</td>\n",
       "    </tr>\n",
       "    <tr>\n",
       "      <th>HV0004</th>\n",
       "      <td>0.000000</td>\n",
       "      <td>inf</td>\n",
       "      <td>0.364527</td>\n",
       "      <td>2.902641</td>\n",
       "    </tr>\n",
       "  </tbody>\n",
       "</table>\n",
       "</div>"
      ],
      "text/plain": [
       "                         min  max      mean        std\n",
       "hvfhs_license_num                                     \n",
       "HV0003                  -inf  inf  0.244394   2.259485\n",
       "HV0002             -0.018182  inf  4.439550   7.055813\n",
       "HV0005            -92.500000  inf  1.817102  72.354233\n",
       "HV0004              0.000000  inf  0.364527   2.902641"
      ]
     },
     "execution_count": 59,
     "metadata": {},
     "output_type": "execute_result"
    }
   ],
   "source": [
    "df_small.loc[lambda x: x.tip_flag].groupby('hvfhs_license_num').dolars_per_mile.agg([\"min\", \"max\", \"mean\", \"std\"]).compute()"
   ]
  },
  {
   "cell_type": "code",
   "execution_count": 60,
   "id": "e1831c64-86dc-46cb-bbdd-5ffa415da91d",
   "metadata": {},
   "outputs": [
    {
     "data": {
      "text/html": [
       "<div>\n",
       "<style scoped>\n",
       "    .dataframe tbody tr th:only-of-type {\n",
       "        vertical-align: middle;\n",
       "    }\n",
       "\n",
       "    .dataframe tbody tr th {\n",
       "        vertical-align: top;\n",
       "    }\n",
       "\n",
       "    .dataframe thead th {\n",
       "        text-align: right;\n",
       "    }\n",
       "</style>\n",
       "<table border=\"1\" class=\"dataframe\">\n",
       "  <thead>\n",
       "    <tr style=\"text-align: right;\">\n",
       "      <th></th>\n",
       "      <th>trip_miles</th>\n",
       "      <th>base_passenger_fare</th>\n",
       "      <th>tips</th>\n",
       "    </tr>\n",
       "  </thead>\n",
       "  <tbody>\n",
       "    <tr>\n",
       "      <th>count</th>\n",
       "      <td>7.077861e+08</td>\n",
       "      <td>7.077861e+08</td>\n",
       "      <td>7.077861e+08</td>\n",
       "    </tr>\n",
       "    <tr>\n",
       "      <th>mean</th>\n",
       "      <td>4.800601e+00</td>\n",
       "      <td>1.983844e+01</td>\n",
       "      <td>7.421445e-01</td>\n",
       "    </tr>\n",
       "    <tr>\n",
       "      <th>std</th>\n",
       "      <td>5.533510e+00</td>\n",
       "      <td>1.768238e+01</td>\n",
       "      <td>2.484122e+00</td>\n",
       "    </tr>\n",
       "    <tr>\n",
       "      <th>min</th>\n",
       "      <td>0.000000e+00</td>\n",
       "      <td>-1.969590e+03</td>\n",
       "      <td>0.000000e+00</td>\n",
       "    </tr>\n",
       "    <tr>\n",
       "      <th>25%</th>\n",
       "      <td>1.892500e+00</td>\n",
       "      <td>1.167000e+01</td>\n",
       "      <td>0.000000e+00</td>\n",
       "    </tr>\n",
       "    <tr>\n",
       "      <th>50%</th>\n",
       "      <td>3.890000e+00</td>\n",
       "      <td>1.943000e+01</td>\n",
       "      <td>0.000000e+00</td>\n",
       "    </tr>\n",
       "    <tr>\n",
       "      <th>75%</th>\n",
       "      <td>9.677500e+00</td>\n",
       "      <td>4.208000e+01</td>\n",
       "      <td>0.000000e+00</td>\n",
       "    </tr>\n",
       "    <tr>\n",
       "      <th>max</th>\n",
       "      <td>1.310510e+03</td>\n",
       "      <td>8.157740e+03</td>\n",
       "      <td>1.000000e+03</td>\n",
       "    </tr>\n",
       "  </tbody>\n",
       "</table>\n",
       "</div>"
      ],
      "text/plain": [
       "         trip_miles  base_passenger_fare          tips\n",
       "count  7.077861e+08         7.077861e+08  7.077861e+08\n",
       "mean   4.800601e+00         1.983844e+01  7.421445e-01\n",
       "std    5.533510e+00         1.768238e+01  2.484122e+00\n",
       "min    0.000000e+00        -1.969590e+03  0.000000e+00\n",
       "25%    1.892500e+00         1.167000e+01  0.000000e+00\n",
       "50%    3.890000e+00         1.943000e+01  0.000000e+00\n",
       "75%    9.677500e+00         4.208000e+01  0.000000e+00\n",
       "max    1.310510e+03         8.157740e+03  1.000000e+03"
      ]
     },
     "execution_count": 60,
     "metadata": {},
     "output_type": "execute_result"
    }
   ],
   "source": [
    "#get insight on the data\n",
    "df_small[[\"trip_miles\", \"base_passenger_fare\", \"tips\"]].describe().compute()"
   ]
  },
  {
   "cell_type": "markdown",
   "id": "78f9d49e-89a9-43d6-af77-89920defcddf",
   "metadata": {},
   "source": [
    "## Exercise:\n",
    "Get stats on the columns we just analyzed but only for the trips that tipped."
   ]
  },
  {
   "cell_type": "code",
   "execution_count": 62,
   "id": "15df0aab-84fb-45bc-af6d-d2f9892b38be",
   "metadata": {},
   "outputs": [
    {
     "data": {
      "text/html": [
       "<div>\n",
       "<style scoped>\n",
       "    .dataframe tbody tr th:only-of-type {\n",
       "        vertical-align: middle;\n",
       "    }\n",
       "\n",
       "    .dataframe tbody tr th {\n",
       "        vertical-align: top;\n",
       "    }\n",
       "\n",
       "    .dataframe thead th {\n",
       "        text-align: right;\n",
       "    }\n",
       "</style>\n",
       "<table border=\"1\" class=\"dataframe\">\n",
       "  <thead>\n",
       "    <tr style=\"text-align: right;\">\n",
       "      <th></th>\n",
       "      <th>trip_miles</th>\n",
       "      <th>base_passenger_fare</th>\n",
       "      <th>tips</th>\n",
       "    </tr>\n",
       "  </thead>\n",
       "  <tbody>\n",
       "    <tr>\n",
       "      <th>count</th>\n",
       "      <td>1.090925e+08</td>\n",
       "      <td>1.090925e+08</td>\n",
       "      <td>1.090925e+08</td>\n",
       "    </tr>\n",
       "    <tr>\n",
       "      <th>mean</th>\n",
       "      <td>5.558792e+00</td>\n",
       "      <td>2.386814e+01</td>\n",
       "      <td>4.814994e+00</td>\n",
       "    </tr>\n",
       "    <tr>\n",
       "      <th>std</th>\n",
       "      <td>6.475407e+00</td>\n",
       "      <td>2.102771e+01</td>\n",
       "      <td>4.519454e+00</td>\n",
       "    </tr>\n",
       "    <tr>\n",
       "      <th>min</th>\n",
       "      <td>0.000000e+00</td>\n",
       "      <td>-3.252800e+02</td>\n",
       "      <td>1.000000e-02</td>\n",
       "    </tr>\n",
       "    <tr>\n",
       "      <th>25%</th>\n",
       "      <td>2.147000e+00</td>\n",
       "      <td>1.398000e+01</td>\n",
       "      <td>3.000000e+00</td>\n",
       "    </tr>\n",
       "    <tr>\n",
       "      <th>50%</th>\n",
       "      <td>4.300000e+00</td>\n",
       "      <td>2.315000e+01</td>\n",
       "      <td>4.820000e+00</td>\n",
       "    </tr>\n",
       "    <tr>\n",
       "      <th>75%</th>\n",
       "      <td>9.411500e+00</td>\n",
       "      <td>4.517750e+01</td>\n",
       "      <td>8.180000e+00</td>\n",
       "    </tr>\n",
       "    <tr>\n",
       "      <th>max</th>\n",
       "      <td>5.650600e+02</td>\n",
       "      <td>2.672680e+03</td>\n",
       "      <td>1.000000e+03</td>\n",
       "    </tr>\n",
       "  </tbody>\n",
       "</table>\n",
       "</div>"
      ],
      "text/plain": [
       "         trip_miles  base_passenger_fare          tips\n",
       "count  1.090925e+08         1.090925e+08  1.090925e+08\n",
       "mean   5.558792e+00         2.386814e+01  4.814994e+00\n",
       "std    6.475407e+00         2.102771e+01  4.519454e+00\n",
       "min    0.000000e+00        -3.252800e+02  1.000000e-02\n",
       "25%    2.147000e+00         1.398000e+01  3.000000e+00\n",
       "50%    4.300000e+00         2.315000e+01  4.820000e+00\n",
       "75%    9.411500e+00         4.517750e+01  8.180000e+00\n",
       "max    5.650600e+02         2.672680e+03  1.000000e+03"
      ]
     },
     "execution_count": 62,
     "metadata": {},
     "output_type": "execute_result"
    }
   ],
   "source": [
    "## Solution\n",
    "df_small[[\"trip_miles\", \"base_passenger_fare\", \"tips\", \"tip_flag\"]].loc[lambda x: x.tip_flag].describe().compute()"
   ]
  },
  {
   "cell_type": "code",
   "execution_count": 63,
   "id": "18a9ed92-3d78-4e6b-9538-e03801c48b00",
   "metadata": {},
   "outputs": [
    {
     "data": {
      "text/plain": [
       "unique            2\n",
       "count     707786079\n",
       "top           False\n",
       "freq      598693621\n",
       "Name: tip_flag, dtype: object"
      ]
     },
     "execution_count": 63,
     "metadata": {},
     "output_type": "execute_result"
    }
   ],
   "source": [
    "#df_small[\"tip_flag\"].describe().compute()"
   ]
  },
  {
   "cell_type": "markdown",
   "id": "5e970925-c96d-40e5-a906-176a6f69a44c",
   "metadata": {},
   "source": [
    "## Exercise\n",
    "\n",
    "- How would you get more insights on the data?\n",
    "- Can you visualize it?"
   ]
  },
  {
   "cell_type": "code",
   "execution_count": 67,
   "id": "f1abd1c5-8d60-4772-b1a9-4a180790c0d8",
   "metadata": {},
   "outputs": [],
   "source": [
    "## Solution, take a sample \n",
    "#let's get 0.1% of the data to plot ~700_000 rows (go smaller if needed depending on your machine)\n",
    "df_tiny = df_small.loc[lambda x: x.tip_flag][[\"trip_miles\", \"base_passenger_fare\", \"tips\"]].sample(frac=0.001).compute() "
   ]
  },
  {
   "cell_type": "code",
   "execution_count": 69,
   "id": "21a73002-ab6b-4627-b5af-7ecdeedd0d78",
   "metadata": {},
   "outputs": [],
   "source": [
    "%matplotlib inline"
   ]
  },
  {
   "cell_type": "code",
   "execution_count": 70,
   "id": "a46b9993-3009-4e5d-a0e4-2c8368ec0613",
   "metadata": {},
   "outputs": [
    {
     "data": {
      "text/plain": [
       "<AxesSubplot: >"
      ]
     },
     "execution_count": 70,
     "metadata": {},
     "output_type": "execute_result"
    },
    {
     "data": {
      "image/png": "[encoded data removed]",
      "text/plain": [
       "<Figure size 640x480 with 1 Axes>"
      ]
     },
     "metadata": {},
     "output_type": "display_data"
    }
   ],
   "source": [
    "#Solution: box plot\n",
    "df_tiny.boxplot()"
   ]
  },
  {
   "cell_type": "markdown",
   "id": "500530b7-0f24-4566-b234-1f1a5acc2cc3",
   "metadata": {},
   "source": [
    "## Exercise:\n",
    "\n",
    "- Play with the pandas dataframe `df_tiny`to get insights on good filters for the bigger dataframe. \n",
    "\n",
    "Hint: think about quantiles"
   ]
  },
  {
   "cell_type": "code",
   "execution_count": 86,
   "id": "0d674a25-104a-4506-8602-25e214023954",
   "metadata": {},
   "outputs": [
    {
     "data": {
      "text/plain": [
       "0.25    2.00\n",
       "0.75    5.66\n",
       "Name: tips, dtype: float64"
      ]
     },
     "execution_count": 86,
     "metadata": {},
     "output_type": "execute_result"
    }
   ],
   "source": [
    "#soultion\n",
    "df_tiny.tips.quantile([0.25, 0.75])"
   ]
  },
  {
   "cell_type": "code",
   "execution_count": 87,
   "id": "905ed15c-106a-42eb-bfee-59f6d12b84d6",
   "metadata": {},
   "outputs": [
    {
     "data": {
      "text/plain": [
       "0.25    10.740000\n",
       "0.75    29.809999\n",
       "Name: base_passenger_fare, dtype: float64"
      ]
     },
     "execution_count": 87,
     "metadata": {},
     "output_type": "execute_result"
    }
   ],
   "source": [
    "df_tiny.base_passenger_fare.quantile([0.25, 0.75])"
   ]
  },
  {
   "cell_type": "code",
   "execution_count": 85,
   "id": "f08228ab-5f07-460a-b268-d176e77aef94",
   "metadata": {},
   "outputs": [
    {
     "data": {
      "text/plain": [
       "0.25    1.719\n",
       "0.75    7.090\n",
       "Name: trip_miles, dtype: float64"
      ]
     },
     "execution_count": 85,
     "metadata": {},
     "output_type": "execute_result"
    }
   ],
   "source": [
    "df_tiny.trip_miles.quantile([0.25, 0.75])"
   ]
  },
  {
   "cell_type": "code",
   "execution_count": null,
   "id": "469ccd8f-b119-40ae-9f89-7a087eb64dec",
   "metadata": {},
   "outputs": [],
   "source": [
    "tips_condition = (df_tiny.tips.between(*df_tiny.tips.quantile([0.25, 0.75]).values))"
   ]
  },
  {
   "cell_type": "code",
   "execution_count": 80,
   "id": "1133eddf-b478-4f61-9889-3f41e9050689",
   "metadata": {},
   "outputs": [
    {
     "data": {
      "text/plain": [
       "request_datetime\n",
       "2019-02-01 10:18:21     True\n",
       "2019-02-01 17:44:25     True\n",
       "2019-02-01 21:57:00     True\n",
       "2019-02-01 10:28:55     True\n",
       "2019-02-01 21:00:15     True\n",
       "                       ...  \n",
       "2022-09-30 17:44:07    False\n",
       "2022-09-30 16:06:26    False\n",
       "2022-09-30 23:07:40     True\n",
       "2022-09-30 16:03:44     True\n",
       "2022-09-30 20:30:22     True\n",
       "Name: tips, Length: 109096, dtype: bool"
      ]
     },
     "execution_count": 80,
     "metadata": {},
     "output_type": "execute_result"
    }
   ],
   "source": [
    "tips_condition"
   ]
  },
  {
   "cell_type": "code",
   "execution_count": 95,
   "id": "89d5bdc4-1685-471d-898e-9ed239ad281b",
   "metadata": {},
   "outputs": [],
   "source": [
    "## Solution\n",
    "tips_condition = (df_tiny.tips.between(*df_tiny.tips.quantile([0.25, 0.75]).values))\n",
    "\n",
    "fares_condition = (df_tiny.base_passenger_fare.between(*df_tiny.base_passenger_fare.quantile([0.25, 0.75]).values))\n",
    "\n",
    "trips_condition = (df_tiny.trip_miles.between(*df_tiny.trip_miles.quantile([0.25, 0.75]).values))"
   ]
  },
  {
   "cell_type": "code",
   "execution_count": 96,
   "id": "6a82012b-ee3a-4df9-b24b-877f114a207a",
   "metadata": {},
   "outputs": [
    {
     "data": {
      "text/plain": [
       "<AxesSubplot: >"
      ]
     },
     "execution_count": 96,
     "metadata": {},
     "output_type": "execute_result"
    },
    {
     "data": {
      "image/png": "[encoded data removed]",
      "text/plain": [
       "<Figure size 640x480 with 1 Axes>"
      ]
     },
     "metadata": {},
     "output_type": "display_data"
    }
   ],
   "source": [
    "#solution\n",
    "df_tiny.loc[(tips_condition & fares_condition) & trips_condition].boxplot()"
   ]
  },
  {
   "cell_type": "markdown",
   "id": "d1337177-5c12-4f73-bc68-f9156c1bbc6c",
   "metadata": {},
   "source": [
    "## Filtering our big dataset based on the insights\n",
    "\n",
    "Based on these numbers let's go back to our `df_small` dataset and try to filter it.\n",
    "\n",
    "**Note: **\n",
    "\n",
    "Sometimes when you are trying to filter and you have been doing feature engineering, you might get a divisions not known error.\n",
    "If that's the case you can do \n",
    "\n",
    "```python\n",
    "df_small = df_small.reset_index()\n",
    "df_small = df_small.set_index(\"column_to_be_the_index\").persist()\n",
    "```"
   ]
  },
  {
   "cell_type": "code",
   "execution_count": 91,
   "id": "6db09194-2001-4887-9623-39e31d022330",
   "metadata": {},
   "outputs": [],
   "source": [
    "tips_q1q3 = (2, 5.66)\n",
    "trips_q1q3 = (1.71 , 7.09)\n",
    "fares_q1q3 = (10.74, 29.80)"
   ]
  },
  {
   "cell_type": "code",
   "execution_count": 99,
   "id": "75a5a9be-5e13-4f0d-8c76-13ab7caea857",
   "metadata": {},
   "outputs": [],
   "source": [
    "tips_condition = df_small.tips.between(*tips_q1q3)\n",
    "trips_condition = df_small.trip_miles.between(*trips_q1q3)\n",
    "fares_condition = df_small.base_passenger_fare.between(*fares_q1q3)"
   ]
  },
  {
   "cell_type": "code",
   "execution_count": 100,
   "id": "879314c1-b9de-483f-af5d-59347db07f61",
   "metadata": {},
   "outputs": [],
   "source": [
    "df_small = df_small.loc[(tips_condition & fares_condition) & trips_condition].persist()"
   ]
  },
  {
   "cell_type": "code",
   "execution_count": 101,
   "id": "e33c8db5-e8f1-4559-bc02-deb716e19fcc",
   "metadata": {},
   "outputs": [
    {
     "data": {
      "text/html": [
       "<div>\n",
       "<style scoped>\n",
       "    .dataframe tbody tr th:only-of-type {\n",
       "        vertical-align: middle;\n",
       "    }\n",
       "\n",
       "    .dataframe tbody tr th {\n",
       "        vertical-align: top;\n",
       "    }\n",
       "\n",
       "    .dataframe thead th {\n",
       "        text-align: right;\n",
       "    }\n",
       "</style>\n",
       "<table border=\"1\" class=\"dataframe\">\n",
       "  <thead>\n",
       "    <tr style=\"text-align: right;\">\n",
       "      <th></th>\n",
       "      <th>min</th>\n",
       "      <th>max</th>\n",
       "      <th>mean</th>\n",
       "      <th>std</th>\n",
       "    </tr>\n",
       "    <tr>\n",
       "      <th>hvfhs_license_num</th>\n",
       "      <th></th>\n",
       "      <th></th>\n",
       "      <th></th>\n",
       "      <th></th>\n",
       "    </tr>\n",
       "  </thead>\n",
       "  <tbody>\n",
       "    <tr>\n",
       "      <th>HV0003</th>\n",
       "      <td>1.516220</td>\n",
       "      <td>17.426899</td>\n",
       "      <td>5.590027</td>\n",
       "      <td>1.988093</td>\n",
       "    </tr>\n",
       "    <tr>\n",
       "      <th>HV0002</th>\n",
       "      <td>1.607649</td>\n",
       "      <td>17.362574</td>\n",
       "      <td>4.903812</td>\n",
       "      <td>1.683105</td>\n",
       "    </tr>\n",
       "    <tr>\n",
       "      <th>HV0005</th>\n",
       "      <td>1.517163</td>\n",
       "      <td>17.400702</td>\n",
       "      <td>5.313314</td>\n",
       "      <td>1.673097</td>\n",
       "    </tr>\n",
       "    <tr>\n",
       "      <th>HV0004</th>\n",
       "      <td>1.517630</td>\n",
       "      <td>17.409357</td>\n",
       "      <td>4.763032</td>\n",
       "      <td>2.037534</td>\n",
       "    </tr>\n",
       "  </tbody>\n",
       "</table>\n",
       "</div>"
      ],
      "text/plain": [
       "                        min        max      mean       std\n",
       "hvfhs_license_num                                         \n",
       "HV0003             1.516220  17.426899  5.590027  1.988093\n",
       "HV0002             1.607649  17.362574  4.903812  1.683105\n",
       "HV0005             1.517163  17.400702  5.313314  1.673097\n",
       "HV0004             1.517630  17.409357  4.763032  2.037534"
      ]
     },
     "execution_count": 101,
     "metadata": {},
     "output_type": "execute_result"
    }
   ],
   "source": [
    "df_small.groupby('hvfhs_license_num').dolars_per_mile.agg([\"min\", \"max\", \"mean\", \"std\"]).compute()"
   ]
  },
  {
   "cell_type": "code",
   "execution_count": 102,
   "id": "9e745175-5725-4b92-a58d-4f870a3d3ace",
   "metadata": {},
   "outputs": [],
   "source": [
    "tips_perc_avg = df_small.groupby('hvfhs_license_num').tip_percentage.mean().compute()"
   ]
  },
  {
   "cell_type": "code",
   "execution_count": 103,
   "id": "46be3c7a-8128-4ab1-b8f1-3b398faa4238",
   "metadata": {},
   "outputs": [
    {
     "data": {
      "text/html": [
       "<div>\n",
       "<style scoped>\n",
       "    .dataframe tbody tr th:only-of-type {\n",
       "        vertical-align: middle;\n",
       "    }\n",
       "\n",
       "    .dataframe tbody tr th {\n",
       "        vertical-align: top;\n",
       "    }\n",
       "\n",
       "    .dataframe thead th {\n",
       "        text-align: right;\n",
       "    }\n",
       "</style>\n",
       "<table border=\"1\" class=\"dataframe\">\n",
       "  <thead>\n",
       "    <tr style=\"text-align: right;\">\n",
       "      <th></th>\n",
       "      <th>tip_percentage</th>\n",
       "    </tr>\n",
       "    <tr>\n",
       "      <th>hvfhs_license_num</th>\n",
       "      <th></th>\n",
       "    </tr>\n",
       "  </thead>\n",
       "  <tbody>\n",
       "    <tr>\n",
       "      <th>Juno</th>\n",
       "      <td>0.203971</td>\n",
       "    </tr>\n",
       "    <tr>\n",
       "      <th>Uber</th>\n",
       "      <td>0.206005</td>\n",
       "    </tr>\n",
       "    <tr>\n",
       "      <th>Lyft</th>\n",
       "      <td>0.206566</td>\n",
       "    </tr>\n",
       "    <tr>\n",
       "      <th>Via</th>\n",
       "      <td>0.177475</td>\n",
       "    </tr>\n",
       "  </tbody>\n",
       "</table>\n",
       "</div>"
      ],
      "text/plain": [
       "                   tip_percentage\n",
       "hvfhs_license_num                \n",
       "Juno                     0.203971\n",
       "Uber                     0.206005\n",
       "Lyft                     0.206566\n",
       "Via                      0.177475"
      ]
     },
     "execution_count": 103,
     "metadata": {},
     "output_type": "execute_result"
    }
   ],
   "source": [
    "tips_perc_avg.to_frame().set_index(tips_perc_mean.index.map(provider))"
   ]
  },
  {
   "cell_type": "code",
   "execution_count": 104,
   "id": "1538a243-8de1-4dde-82f0-dd5434b21f11",
   "metadata": {},
   "outputs": [
    {
     "data": {
      "text/plain": [
       "32159241"
      ]
     },
     "execution_count": 104,
     "metadata": {},
     "output_type": "execute_result"
    }
   ],
   "source": [
    "len(df_small)"
   ]
  },
  {
   "cell_type": "markdown",
   "id": "bf7fdf77-320b-4d87-802c-1f260867a141",
   "metadata": {},
   "source": [
    "## What we've learn\n",
    "- Most New Yorkers do not tip\n",
    "- But it looks like of those who tip, it is common to tip around 20% regardless of the provider. Unless it's Via, they tend to tip slightly less."
   ]
  },
  {
   "cell_type": "markdown",
   "id": "1c58e70a-3dde-42a1-ad8c-d89fbdf09369",
   "metadata": {},
   "source": [
    "NOTES to include in text:\n",
    "\n",
    "\n",
    "\n",
    "\n",
    "note: on pandas efficent creating columns \n",
    "https://stackoverflow.com/questions/52289488/efficient-way-to-add-new-column-to-pandas-dataframe"
   ]
  },
  {
   "cell_type": "code",
   "execution_count": null,
   "id": "451a0ec9-fc40-4f23-bd8a-69803f0a6fe2",
   "metadata": {},
   "outputs": [],
   "source": []
  }
 ],
 "metadata": {
  "kernelspec": {
   "display_name": "Python 3 (ipykernel)",
   "language": "python",
   "name": "python3"
  },
  "language_info": {
   "codemirror_mode": {
    "name": "ipython",
    "version": 3
   },
   "file_extension": ".py",
   "mimetype": "text/x-python",
   "name": "python",
   "nbconvert_exporter": "python",
   "pygments_lexer": "ipython3",
   "version": "3.10.8"
  }
 },
 "nbformat": 4,
 "nbformat_minor": 5
}
