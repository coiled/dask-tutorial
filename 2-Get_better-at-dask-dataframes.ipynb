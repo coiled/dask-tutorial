{
 "cells": [
  {
   "cell_type": "markdown",
   "id": "036478b0-c89d-4051-a513-f4436f48968f",
   "metadata": {},
   "source": [
    "## Get better at dask dataframes\n",
    "\n",
    "In this lesson you will learn some good practices for dask dataframes and dealing with data in general.\n",
    "\n",
    "## Parquet is where is at!!\n",
    "\n",
    "You will learn the advantages of working with the parquet data format, and using the Uber/Lyft dataset you will learn to troubleshoot the nuances of working with real data. \n"
   ]
  },
  {
   "cell_type": "markdown",
   "id": "4307fa56-f051-467b-bf1f-e3acae08e3a8",
   "metadata": {},
   "source": [
    "### Work close to your data\n",
    "\n",
    "To get started when you are working with data that is in the cloud it's always better to work close to your data, to minimize the impact of IO networking. \n",
    "\n",
    "In this lesson, we will use coiled clusters that will be created on the same region that our datasets are stored. (the region is `\"us-east-2\"`)\n",
    "\n",
    "**NOTE:**\n",
    "If you do not have access to a coiled cluster you, can follow along just make sure you use the smaller dataset (use the `\"0.5GB-\"` ones). "
   ]
  },
  {
   "cell_type": "markdown",
   "id": "7a52c65b-f0bc-4341-9841-4de07f710dce",
   "metadata": {},
   "source": [
    "## Parquet vs CSV\n",
    "\n",
    "Most people are familiarized with csv files, but when it comes to working with data, working with parquet can make a big difference. The Parquet file format is column-oriented and it's designed to efficiently store and retrieve data. \n",
    "\n",
    "### Small motivation example: \n",
    "Let's see an example where we compare reading the same data but in one case it is stored as `csv` files, while the other as `parquet` files. "
   ]
  },
  {
   "cell_type": "code",
   "execution_count": null,
   "id": "a2104467-31be-4f61-ad22-fc9ceea8cb69",
   "metadata": {},
   "outputs": [],
   "source": [
    "data ={\"0.5GB-csv\": \"s3://coiled-datasets/h2o-benchmark/N_1e7_K_1e2/*.csv\",\n",
    "       \"0.5GB-pq\": \"s3://coiled-datasets/h2o-benchmark/N_1e7_K_1e2_parquet/*.parquet\",\n",
    "       \"5GB-csv\": \"s3://coiled-datasets/h2o-benchmark/N_1e8_K_1e2/*.csv\",\n",
    "       \"5GB-pq\": \"s3://coiled-datasets/h2o-benchmark/N_1e8_K_1e2_parquet/*.parquet\",}"
   ]
  },
  {
   "cell_type": "code",
   "execution_count": 1,
   "id": "bea1905f-09aa-4865-844e-d752639e29c2",
   "metadata": {},
   "outputs": [],
   "source": [
    "import coiled\n",
    "from dask.distributed import Client\n",
    "import dask.dataframe as dd\n",
    "import uuid #to create unique cluster names"
   ]
  },
  {
   "cell_type": "code",
   "execution_count": 2,
   "id": "05d32167-d6fb-4534-92b3-9cbc5f7391a6",
   "metadata": {},
   "outputs": [
    {
     "data": {
      "text/plain": [
       "'2022.12.0'"
      ]
     },
     "execution_count": 2,
     "metadata": {},
     "output_type": "execute_result"
    }
   ],
   "source": [
    "import dask\n",
    "dask.__version__"
   ]
  },
  {
   "cell_type": "code",
   "execution_count": 3,
   "id": "f1162a7b-969a-46c7-a6b2-bfef92cade59",
   "metadata": {},
   "outputs": [],
   "source": [
    "id_cluster = uuid.uuid4().hex[:4]"
   ]
  },
  {
   "cell_type": "code",
   "execution_count": null,
   "id": "e0ac86a4-5336-4c28-98e9-64323e450863",
   "metadata": {},
   "outputs": [],
   "source": [
    "%%time\n",
    "cluster = coiled.Cluster(name=f\"dask-tutorial-{id_cluster}\",\n",
    "                        n_workers=10,\n",
    "                        package_sync=True,\n",
    "                        backend_options={\"region_name\": \"us-east-2\"},\n",
    "                        );\n",
    "\n",
    "## maybe use mi6 instead, the default ones are slower..."
   ]
  },
  {
   "cell_type": "code",
   "execution_count": null,
   "id": "254390a1-e055-446c-ab44-c8d76121928d",
   "metadata": {},
   "outputs": [],
   "source": [
    "client = Client(cluster)\n",
    "client"
   ]
  },
  {
   "cell_type": "code",
   "execution_count": null,
   "id": "d6829081-0fe8-432b-a126-254ba8139f82",
   "metadata": {},
   "outputs": [],
   "source": [
    "ddf_csv = dd.read_csv(data[\"5GB-csv\"], storage_options={\"anon\": True})\n",
    "ddf_pq = dd.read_parquet(data[\"5GB-pq\"], storage_options={\"anon\": True})\n",
    "#dd.read_parquet(data[\"5GB-pq\"], storage_options={\"anon\": True})"
   ]
  },
  {
   "cell_type": "code",
   "execution_count": null,
   "id": "78de69de-fe56-46e4-b8b7-63936c7de7f1",
   "metadata": {},
   "outputs": [],
   "source": [
    "ddf_csv"
   ]
  },
  {
   "cell_type": "code",
   "execution_count": null,
   "id": "d1a9742b-a915-4e7f-8d81-59a127bf9e9c",
   "metadata": {},
   "outputs": [],
   "source": [
    "ddf_pq"
   ]
  },
  {
   "cell_type": "code",
   "execution_count": null,
   "id": "f938ab3c-30da-416c-87a4-58128c7973b7",
   "metadata": {},
   "outputs": [],
   "source": [
    "%%time\n",
    "ddf_csv.groupby(\"id1\").agg({\"v1\": \"sum\"}).compute()"
   ]
  },
  {
   "cell_type": "code",
   "execution_count": null,
   "id": "84a6f2fb-b1ba-4b8d-ade5-be1c2c6f4a93",
   "metadata": {},
   "outputs": [],
   "source": [
    "%%time\n",
    "ddf_pq.groupby(\"id1\").agg({\"v1\": \"sum\"}).compute()"
   ]
  },
  {
   "cell_type": "markdown",
   "id": "0530b707-cad2-4b43-8921-1eb821616822",
   "metadata": {},
   "source": [
    "Notice that the `parquet` version without doing much it is already ~5X faster. \n",
    "\n",
    "Let's take a look at the memory usage as well as the `dtypes` in both cases."
   ]
  },
  {
   "cell_type": "code",
   "execution_count": null,
   "id": "4be1cc4f-4656-4565-bd83-dfec45e613fe",
   "metadata": {},
   "outputs": [],
   "source": [
    "## memory usage for 1 partition\n",
    "ddf_csv.partitions[0].memory_usage(deep=True).compute()"
   ]
  },
  {
   "cell_type": "code",
   "execution_count": null,
   "id": "011266f8-b9d7-46c4-b88d-574582f5528b",
   "metadata": {},
   "outputs": [],
   "source": [
    "ddf_pq.partitions[0].memory_usage(deep=True).compute()"
   ]
  },
  {
   "cell_type": "code",
   "execution_count": null,
   "id": "d5aa3b67-328d-409a-8b9a-8930ca0da53a",
   "metadata": {},
   "outputs": [],
   "source": [
    "client.shutdown()"
   ]
  },
  {
   "cell_type": "markdown",
   "id": "8e323f48-9bbb-46bd-af08-7d6ded1ccead",
   "metadata": {},
   "source": [
    "### Uber/Lyft data transformation\n",
    "\n",
    "In the example above we quickly saw that the format in which the data is saved already makes a big difference. But there so much to exploit about the parquet file format. \n",
    "\n",
    "Let's work with the data from [High-Volume For-Hire Services](https://www.nyc.gov/site/tlc/businesses/high-volume-for-hire-services.page)\n",
    "\n",
    "Data dictionary: https://www.nyc.gov/assets/tlc/downloads/pdf/data_dictionary_trip_records_hvfhs.pdf"
   ]
  },
  {
   "cell_type": "code",
   "execution_count": null,
   "id": "fda99d96-4b61-4bd8-882b-d7b457279276",
   "metadata": {},
   "outputs": [],
   "source": [
    "import s3fs\n",
    "\n",
    "s3 = s3fs.S3FileSystem()\n",
    "files = s3.glob(\"nyc-tlc/trip data/fhvhv_tripdata_*.parquet\")\n",
    "files[:3]"
   ]
  },
  {
   "cell_type": "code",
   "execution_count": null,
   "id": "3af054b4-894c-4ff0-b5f2-e1dd9d117066",
   "metadata": {},
   "outputs": [],
   "source": [
    "len(files)"
   ]
  },
  {
   "cell_type": "code",
   "execution_count": null,
   "id": "d64ee00a-f2e8-4aee-b587-0b807801d78e",
   "metadata": {},
   "outputs": [],
   "source": [
    "#not sure where the data is but I will write to a bucket in us-east-2\n",
    "cluster = coiled.Cluster(\n",
    "    n_workers=10,\n",
    "    name=f\"nyc-uber-lyft-{id_cluster}\",\n",
    "    package_sync=True,\n",
    "    backend_options={\"region\": \"us-east-2\"}, \n",
    "    worker_memory=\"64 GiB\", #we know we need a lot of memory from experience\n",
    ")"
   ]
  },
  {
   "cell_type": "code",
   "execution_count": null,
   "id": "183c584b-bf15-4808-9dcb-a76a105e9c8b",
   "metadata": {},
   "outputs": [],
   "source": [
    "client = Client(cluster)\n",
    "client"
   ]
  },
  {
   "cell_type": "markdown",
   "id": "2b48f56f-2937-4b6d-8477-7c07721981c9",
   "metadata": {},
   "source": [
    "## Inspect the data"
   ]
  },
  {
   "cell_type": "code",
   "execution_count": null,
   "id": "e56cecd1-7af5-4f6a-bd9f-7cb188e09030",
   "metadata": {},
   "outputs": [],
   "source": [
    "client.restart()"
   ]
  },
  {
   "cell_type": "code",
   "execution_count": null,
   "id": "419eefb7-767e-402f-b8c6-fa80b8aa1c14",
   "metadata": {},
   "outputs": [],
   "source": [
    "import dask"
   ]
  },
  {
   "cell_type": "code",
   "execution_count": null,
   "id": "882652d4-cc6b-454a-be90-d6b8111186ef",
   "metadata": {},
   "outputs": [],
   "source": [
    "ddf = dd.read_parquet(\n",
    "    \"s3://nyc-tlc/trip data/fhvhv_tripdata_*.parquet\",\n",
    ")\n",
    "ddf"
   ]
  },
  {
   "cell_type": "code",
   "execution_count": null,
   "id": "70ea4e9a-d812-4d50-9f73-c34054b34007",
   "metadata": {},
   "outputs": [],
   "source": [
    "#inspect memory usage of 1 partition\n",
    "ddf.partitions[0].memory_usage(deep=True).compute().apply(dask.utils.format_bytes)"
   ]
  },
  {
   "cell_type": "code",
   "execution_count": null,
   "id": "3727d3f4-3544-4889-8499-d4ea867bbf85",
   "metadata": {},
   "outputs": [],
   "source": [
    "#inspect dtypes\n",
    "ddf.dtypes"
   ]
  },
  {
   "cell_type": "markdown",
   "id": "0547a9bf-436a-4a49-8cdd-7d79f4c281f0",
   "metadata": {},
   "source": [
    "## Challenges\n",
    "\n",
    "As you can see, the partitions are very big, and the data types are inefficient.\n",
    "\n",
    "## Recommendations and best practices:\n",
    "**Partition size**\n",
    "\n",
    "In general we aim for ~100MB (in memory) per partition. \n",
    "\n",
    "**dtypes**\n",
    "\n",
    "- Avoid object types for strings: use `\"string[pyarrow]\"`\n",
    "- Reduce int/float representation if possible\n",
    "- Use categorical dtypes when possible.\n",
    "\n",
    "### Create conversions dictionary"
   ]
  },
  {
   "cell_type": "code",
   "execution_count": 27,
   "id": "ac85d0af-b961-4fff-be71-b14b60cd52bd",
   "metadata": {},
   "outputs": [],
   "source": [
    "import pandas as pd"
   ]
  },
  {
   "cell_type": "code",
   "execution_count": null,
   "id": "a9bccadb-6f7a-4dba-a4fd-113bd96fbbc9",
   "metadata": {},
   "outputs": [],
   "source": [
    "conversions = {}\n",
    "for column, dtype in ddf.dtypes.items():\n",
    "    if dtype == \"object\":\n",
    "        conversions[column] = \"string[pyarrow]\"\n",
    "    if dtype == \"float64\":\n",
    "        conversions[column] = \"float32\"\n",
    "    if dtype == \"int64\": \n",
    "        conversions[column] = \"int32\"\n",
    "    if \"flag\" in column:\n",
    "        conversions[column] = pd.CategoricalDtype(categories=[\"Y\", \"N\"])\n",
    "    if column == \"airport_fee\":\n",
    "        conversions[column] = \"float32\"  #noticed that this has floats and the <NA> is making it an object\n",
    "conversions"
   ]
  },
  {
   "cell_type": "code",
   "execution_count": null,
   "id": "53645d0d-8cd9-4fe8-892a-b4c11f2b787d",
   "metadata": {},
   "outputs": [],
   "source": [
    "ddf = ddf.astype(conversions)\n",
    "ddf = ddf.persist()"
   ]
  },
  {
   "cell_type": "code",
   "execution_count": null,
   "id": "eed8a8ed-abb8-4fa4-8686-3a7a68bd28df",
   "metadata": {},
   "outputs": [],
   "source": [
    "ddf.partitions[0].memory_usage(deep=True).compute().apply(dask.utils.format_bytes)"
   ]
  },
  {
   "cell_type": "code",
   "execution_count": null,
   "id": "f5970a21-6c8c-40dd-869e-07d998e7c2e3",
   "metadata": {},
   "outputs": [],
   "source": [
    "dask.utils.format_bytes(\n",
    "    ddf.partitions[0].memory_usage(deep=True).compute().sum()\n",
    ")"
   ]
  },
  {
   "cell_type": "markdown",
   "id": "ec42ac57-72fd-4ff3-8416-dcdb287e25b7",
   "metadata": {},
   "source": [
    "### Repartition"
   ]
  },
  {
   "cell_type": "code",
   "execution_count": null,
   "id": "4815f73c-0ae4-4b8b-84f2-1750cbaa969a",
   "metadata": {},
   "outputs": [],
   "source": [
    "ddf = ddf.repartition(partition_size=\"128MB\").persist()"
   ]
  },
  {
   "cell_type": "code",
   "execution_count": null,
   "id": "d6c13761-4906-47a6-b138-1ec5875e1242",
   "metadata": {},
   "outputs": [],
   "source": [
    "dask.utils.format_bytes(\n",
    "    ddf.memory_usage(deep=True).compute().sum()\n",
    ")"
   ]
  },
  {
   "cell_type": "code",
   "execution_count": null,
   "id": "329c807b-1dfe-4173-9d34-73bc8fc38695",
   "metadata": {},
   "outputs": [],
   "source": [
    "ddf.npartitions"
   ]
  },
  {
   "cell_type": "markdown",
   "id": "d214655b-2850-49bd-8e6b-70f51ef761b7",
   "metadata": {},
   "source": [
    "## Sort and one-day partitioning"
   ]
  },
  {
   "cell_type": "code",
   "execution_count": null,
   "id": "7b208ec5-4c1e-45e7-921e-04a90b60f37e",
   "metadata": {},
   "outputs": [],
   "source": [
    "ddf = ddf.set_index(\"request_datetime\").persist()"
   ]
  },
  {
   "cell_type": "code",
   "execution_count": null,
   "id": "b056e6e8-f393-4bae-906a-bdc411c9afb0",
   "metadata": {},
   "outputs": [],
   "source": [
    "ddf.divisions[:5]"
   ]
  },
  {
   "cell_type": "markdown",
   "id": "cf67360c-83b8-4dbb-ac2c-340a51e329e6",
   "metadata": {},
   "source": [
    "Look like they are a bit longer than a day, we might as well repartition them witha  1-day frequency."
   ]
  },
  {
   "cell_type": "code",
   "execution_count": null,
   "id": "58c66047-19cc-4348-a58f-2a7e1b10330a",
   "metadata": {},
   "outputs": [],
   "source": [
    "ddf = ddf.repartition(freq=\"1d\")"
   ]
  },
  {
   "cell_type": "code",
   "execution_count": null,
   "id": "37c174e7-9022-4afc-8fd4-571d17245c6c",
   "metadata": {},
   "outputs": [],
   "source": [
    "ddf.divisions[:5]"
   ]
  },
  {
   "cell_type": "code",
   "execution_count": null,
   "id": "c2ca0e10-fc36-476f-8721-54efb6c51370",
   "metadata": {},
   "outputs": [],
   "source": [
    "ddf.npartitions"
   ]
  },
  {
   "cell_type": "code",
   "execution_count": null,
   "id": "3de701dd-2f55-418f-908a-3ae8839f2352",
   "metadata": {},
   "outputs": [],
   "source": [
    "#Clever name for files when to_parquet\n",
    "divisions = ddf.divisions\n",
    "\n",
    "def name_file(index: int) -> str:\n",
    "    return str(divisions[index].date()) + \".parquet\"\n",
    "\n",
    "name_file(0)"
   ]
  },
  {
   "cell_type": "code",
   "execution_count": null,
   "id": "7b0d899c-2155-4872-ade7-d80a19f5190e",
   "metadata": {},
   "outputs": [],
   "source": [
    "ddf.to_parquet(\n",
    "    \"s3://coiled-datasets/uber-lyft-tlc/\", \n",
    "    name_function=name_file,\n",
    ")"
   ]
  },
  {
   "cell_type": "markdown",
   "id": "287e76d2-04ce-4f5c-a620-39017f8b05a0",
   "metadata": {},
   "source": [
    "## Read data back\n",
    "\n",
    "use_nullable_dtypes"
   ]
  },
  {
   "cell_type": "code",
   "execution_count": null,
   "id": "eab0e94b-0725-40b2-bc04-52773608edf8",
   "metadata": {},
   "outputs": [],
   "source": [
    "#client.restart()"
   ]
  },
  {
   "cell_type": "code",
   "execution_count": null,
   "id": "71a340ae-4f3b-4714-bce4-2534a65c3b9d",
   "metadata": {},
   "outputs": [],
   "source": [
    "df = dd.read_parquet(\n",
    "    \"s3://coiled-datasets/uber-lyft-tlc/\", \n",
    "    use_nullable_dtypes=True\n",
    ").astype({\"hvfhs_license_num\": \"string[pyarrow]\", \n",
    "         \"dispatching_base_num\": \"string[pyarrow]\",\n",
    "         \"originating_base_num\": \"string[pyarrow]\",\n",
    "         }).persist()\n",
    "#df.dtypes"
   ]
  },
  {
   "cell_type": "code",
   "execution_count": null,
   "id": "f9a28eda-ee5f-452f-9941-6bbbc8f9aa99",
   "metadata": {},
   "outputs": [],
   "source": [
    "df.dtypes"
   ]
  },
  {
   "cell_type": "code",
   "execution_count": null,
   "id": "0001de44-e6fd-4f45-aa3b-3d51531e48d5",
   "metadata": {},
   "outputs": [],
   "source": [
    "df.hvfhs_license_num.dtype"
   ]
  },
  {
   "cell_type": "code",
   "execution_count": null,
   "id": "1264d50b-8d5f-461c-9927-de62ef16978f",
   "metadata": {},
   "outputs": [],
   "source": [
    "dask.utils.format_bytes(\n",
    "    df.memory_usage(deep=True).sum().compute()\n",
    ")"
   ]
  },
  {
   "cell_type": "code",
   "execution_count": null,
   "id": "f11baab3-052b-43d5-bf46-ece1e020ab9a",
   "metadata": {},
   "outputs": [],
   "source": [
    "Note:\n",
    "\n",
    "Without pyarrow strings we get '~200GB'"
   ]
  },
  {
   "cell_type": "code",
   "execution_count": null,
   "id": "1c4291e8-0dce-467b-95ce-badd2513b10c",
   "metadata": {},
   "outputs": [],
   "source": [
    "client.shutdown()"
   ]
  },
  {
   "cell_type": "markdown",
   "id": "beeff184-6c3d-44bb-86f3-f071c1ab5781",
   "metadata": {},
   "source": [
    "# On to a smaller cluster - let's do data analysis\n",
    "\n",
    "Now we are at a stage that our whole dataset is ~75GB in memory. This is something we can work with in a smaller cluster. But also, when it comes to exploring data we do not necessarily need the whole data set.\n",
    "\n",
    "One of the beauties of the parquet file format are:\n",
    "\n",
    "- Column pruning: Get only the data of the column. "
   ]
  },
  {
   "cell_type": "code",
   "execution_count": 36,
   "id": "3476887b-5643-4e4a-9cdb-d2488692cdf7",
   "metadata": {},
   "outputs": [
    {
     "data": {
      "text/html": [
       "<pre style=\"white-space:pre;overflow-x:auto;line-height:normal;font-family:Menlo,'DejaVu Sans Mono',consolas,'Courier New',monospace\">╭─────────────────────────────────────── <span style=\"color: #008000; text-decoration-color: #008000; font-weight: bold\">Package Sync Notes</span> ───────────────────────────────────────╮\n",
       "│                                      ╷                                                           │\n",
       "│  <span style=\"font-weight: bold\"> Package                            </span>│<span style=\"font-weight: bold\"> Note                                                    </span>  │\n",
       "│ ╶────────────────────────────────────┼─────────────────────────────────────────────────────────╴ │\n",
       "│   coiled-runtime                     │ Package ignored, no risk                                  │\n",
       "│   icu                                │ Package ignored, no risk                                  │\n",
       "│   libabseil                          │ Package ignored, no risk                                  │\n",
       "│   openssl                            │ Package ignored, no risk                                  │\n",
       "│                                      ╵                                                           │\n",
       "╰──────────────────────────────────────────────────────────────────────────────────────────────────╯\n",
       "</pre>\n"
      ],
      "text/plain": [
       "╭─────────────────────────────────────── \u001b[1;32mPackage Sync Notes\u001b[0m ───────────────────────────────────────╮\n",
       "│                                      ╷                                                           │\n",
       "│  \u001b[1m \u001b[0m\u001b[1mPackage                           \u001b[0m\u001b[1m \u001b[0m│\u001b[1m \u001b[0m\u001b[1mNote                                                   \u001b[0m\u001b[1m \u001b[0m  │\n",
       "│ ╶────────────────────────────────────┼─────────────────────────────────────────────────────────╴ │\n",
       "│   coiled-runtime                     │ Package ignored, no risk                                  │\n",
       "│   icu                                │ Package ignored, no risk                                  │\n",
       "│   libabseil                          │ Package ignored, no risk                                  │\n",
       "│   openssl                            │ Package ignored, no risk                                  │\n",
       "│                                      ╵                                                           │\n",
       "╰──────────────────────────────────────────────────────────────────────────────────────────────────╯\n"
      ]
     },
     "metadata": {},
     "output_type": "display_data"
    },
    {
     "data": {
      "application/vnd.jupyter.widget-view+json": {
       "model_id": "e4b233451a9347faa93c3d5091a432f0",
       "version_major": 2,
       "version_minor": 0
      },
      "text/plain": [
       "Output()"
      ]
     },
     "metadata": {},
     "output_type": "display_data"
    },
    {
     "data": {
      "text/html": [
       "<pre style=\"white-space:pre;overflow-x:auto;line-height:normal;font-family:Menlo,'DejaVu Sans Mono',consolas,'Courier New',monospace\"></pre>\n"
      ],
      "text/plain": []
     },
     "metadata": {},
     "output_type": "display_data"
    }
   ],
   "source": [
    "cluster = coiled.Cluster(name=f\"uber-lyft-small-{id_cluster}\", \n",
    "                         n_workers=10, \n",
    "                         package_sync=True,\n",
    "                         backend_options={\"region_name\": \"us-east-2\"},\n",
    "                         worker_memory=\"32GB\",\n",
    ")"
   ]
  },
  {
   "cell_type": "code",
   "execution_count": 39,
   "id": "304ba45b-5604-4bdd-8a33-7433cd9df26d",
   "metadata": {},
   "outputs": [],
   "source": [
    "client = Client(cluster)"
   ]
  },
  {
   "cell_type": "code",
   "execution_count": 40,
   "id": "c5a715c5-b809-4305-93d1-466a1008326c",
   "metadata": {},
   "outputs": [
    {
     "data": {
      "text/html": [
       "<div>\n",
       "    <div style=\"width: 24px; height: 24px; background-color: #e1e1e1; border: 3px solid #9D9D9D; border-radius: 5px; position: absolute;\"> </div>\n",
       "    <div style=\"margin-left: 48px;\">\n",
       "        <h3 style=\"margin-bottom: 0px;\">Client</h3>\n",
       "        <p style=\"color: #9D9D9D; margin-bottom: 0px;\">Client-3a40fea2-7cd2-11ed-9aa2-9eae289ce629</p>\n",
       "        <table style=\"width: 100%; text-align: left;\">\n",
       "\n",
       "        <tr>\n",
       "        \n",
       "            <td style=\"text-align: left;\"><strong>Connection method:</strong> Cluster object</td>\n",
       "            <td style=\"text-align: left;\"><strong>Cluster type:</strong> coiled.ClusterBeta</td>\n",
       "        \n",
       "        </tr>\n",
       "\n",
       "        \n",
       "            <tr>\n",
       "                <td style=\"text-align: left;\">\n",
       "                    <strong>Dashboard: </strong> <a href=\"http://52.14.236.252:8787\" target=\"_blank\">http://52.14.236.252:8787</a>\n",
       "                </td>\n",
       "                <td style=\"text-align: left;\"></td>\n",
       "            </tr>\n",
       "        \n",
       "\n",
       "        </table>\n",
       "\n",
       "        \n",
       "            <button style=\"margin-bottom: 12px;\" data-commandlinker-command=\"dask:populate-and-launch-layout\" data-commandlinker-args='{\"url\": \"http://52.14.236.252:8787\" }'>\n",
       "                Launch dashboard in JupyterLab\n",
       "            </button>\n",
       "        \n",
       "\n",
       "        \n",
       "            <details>\n",
       "            <summary style=\"margin-bottom: 20px;\"><h3 style=\"display: inline;\">Cluster Info</h3></summary>\n",
       "            <div class=\"jp-RenderedHTMLCommon jp-RenderedHTML jp-mod-trusted jp-OutputArea-output\">\n",
       "    <div style=\"width: 24px; height: 24px; background-color: #e1e1e1; border: 3px solid #9D9D9D; border-radius: 5px; position: absolute;\">\n",
       "    </div>\n",
       "    <div style=\"margin-left: 48px;\">\n",
       "        <h3 style=\"margin-bottom: 0px; margin-top: 0px;\">ClusterBeta</h3>\n",
       "        <p style=\"color: #9D9D9D; margin-bottom: 0px;\">uber-lyft-small-4c38</p>\n",
       "        <table style=\"width: 100%; text-align: left;\">\n",
       "            <tr>\n",
       "                <td style=\"text-align: left;\">\n",
       "                    <strong>Dashboard:</strong> <a href=\"http://52.14.236.252:8787\" target=\"_blank\">http://52.14.236.252:8787</a>\n",
       "                </td>\n",
       "                <td style=\"text-align: left;\">\n",
       "                    <strong>Workers:</strong> 10\n",
       "                </td>\n",
       "            </tr>\n",
       "            <tr>\n",
       "                <td style=\"text-align: left;\">\n",
       "                    <strong>Total threads:</strong> 80\n",
       "                </td>\n",
       "                <td style=\"text-align: left;\">\n",
       "                    <strong>Total memory:</strong> 303.47 GiB\n",
       "                </td>\n",
       "            </tr>\n",
       "            \n",
       "        </table>\n",
       "\n",
       "        <details>\n",
       "            <summary style=\"margin-bottom: 20px;\">\n",
       "                <h3 style=\"display: inline;\">Scheduler Info</h3>\n",
       "            </summary>\n",
       "\n",
       "            <div style=\"\">\n",
       "    <div>\n",
       "        <div style=\"width: 24px; height: 24px; background-color: #FFF7E5; border: 3px solid #FF6132; border-radius: 5px; position: absolute;\"> </div>\n",
       "        <div style=\"margin-left: 48px;\">\n",
       "            <h3 style=\"margin-bottom: 0px;\">Scheduler</h3>\n",
       "            <p style=\"color: #9D9D9D; margin-bottom: 0px;\">Scheduler-b702da1d-5c02-4e96-8b42-28639b9114fa</p>\n",
       "            <table style=\"width: 100%; text-align: left;\">\n",
       "                <tr>\n",
       "                    <td style=\"text-align: left;\">\n",
       "                        <strong>Comm:</strong> tls://10.0.30.209:8786\n",
       "                    </td>\n",
       "                    <td style=\"text-align: left;\">\n",
       "                        <strong>Workers:</strong> 10\n",
       "                    </td>\n",
       "                </tr>\n",
       "                <tr>\n",
       "                    <td style=\"text-align: left;\">\n",
       "                        <strong>Dashboard:</strong> <a href=\"http://10.0.30.209:8787/status\" target=\"_blank\">http://10.0.30.209:8787/status</a>\n",
       "                    </td>\n",
       "                    <td style=\"text-align: left;\">\n",
       "                        <strong>Total threads:</strong> 80\n",
       "                    </td>\n",
       "                </tr>\n",
       "                <tr>\n",
       "                    <td style=\"text-align: left;\">\n",
       "                        <strong>Started:</strong> Just now\n",
       "                    </td>\n",
       "                    <td style=\"text-align: left;\">\n",
       "                        <strong>Total memory:</strong> 303.47 GiB\n",
       "                    </td>\n",
       "                </tr>\n",
       "            </table>\n",
       "        </div>\n",
       "    </div>\n",
       "\n",
       "    <details style=\"margin-left: 48px;\">\n",
       "        <summary style=\"margin-bottom: 20px;\">\n",
       "            <h3 style=\"display: inline;\">Workers</h3>\n",
       "        </summary>\n",
       "\n",
       "        \n",
       "        <div style=\"margin-bottom: 20px;\">\n",
       "            <div style=\"width: 24px; height: 24px; background-color: #DBF5FF; border: 3px solid #4CC9FF; border-radius: 5px; position: absolute;\"> </div>\n",
       "            <div style=\"margin-left: 48px;\">\n",
       "            <details>\n",
       "                <summary>\n",
       "                    <h4 style=\"margin-bottom: 0px; display: inline;\">Worker: uber-lyft-small-4c38-worker-1306f4dd1d</h4>\n",
       "                </summary>\n",
       "                <table style=\"width: 100%; text-align: left;\">\n",
       "                    <tr>\n",
       "                        <td style=\"text-align: left;\">\n",
       "                            <strong>Comm: </strong> tls://10.0.3.215:40183\n",
       "                        </td>\n",
       "                        <td style=\"text-align: left;\">\n",
       "                            <strong>Total threads: </strong> 8\n",
       "                        </td>\n",
       "                    </tr>\n",
       "                    <tr>\n",
       "                        <td style=\"text-align: left;\">\n",
       "                            <strong>Dashboard: </strong> <a href=\"http://10.0.3.215:8787/status\" target=\"_blank\">http://10.0.3.215:8787/status</a>\n",
       "                        </td>\n",
       "                        <td style=\"text-align: left;\">\n",
       "                            <strong>Memory: </strong> 30.35 GiB\n",
       "                        </td>\n",
       "                    </tr>\n",
       "                    <tr>\n",
       "                        <td style=\"text-align: left;\">\n",
       "                            <strong>Nanny: </strong> tls://10.0.3.215:36279\n",
       "                        </td>\n",
       "                        <td style=\"text-align: left;\"></td>\n",
       "                    </tr>\n",
       "                    <tr>\n",
       "                        <td colspan=\"2\" style=\"text-align: left;\">\n",
       "                            <strong>Local directory: </strong> /scratch/dask-worker-space/worker-f8jwa_7w\n",
       "                        </td>\n",
       "                    </tr>\n",
       "\n",
       "                    \n",
       "\n",
       "                    \n",
       "\n",
       "                </table>\n",
       "            </details>\n",
       "            </div>\n",
       "        </div>\n",
       "        \n",
       "        <div style=\"margin-bottom: 20px;\">\n",
       "            <div style=\"width: 24px; height: 24px; background-color: #DBF5FF; border: 3px solid #4CC9FF; border-radius: 5px; position: absolute;\"> </div>\n",
       "            <div style=\"margin-left: 48px;\">\n",
       "            <details>\n",
       "                <summary>\n",
       "                    <h4 style=\"margin-bottom: 0px; display: inline;\">Worker: uber-lyft-small-4c38-worker-138f0597a6</h4>\n",
       "                </summary>\n",
       "                <table style=\"width: 100%; text-align: left;\">\n",
       "                    <tr>\n",
       "                        <td style=\"text-align: left;\">\n",
       "                            <strong>Comm: </strong> tls://10.0.15.0:45691\n",
       "                        </td>\n",
       "                        <td style=\"text-align: left;\">\n",
       "                            <strong>Total threads: </strong> 8\n",
       "                        </td>\n",
       "                    </tr>\n",
       "                    <tr>\n",
       "                        <td style=\"text-align: left;\">\n",
       "                            <strong>Dashboard: </strong> <a href=\"http://10.0.15.0:8787/status\" target=\"_blank\">http://10.0.15.0:8787/status</a>\n",
       "                        </td>\n",
       "                        <td style=\"text-align: left;\">\n",
       "                            <strong>Memory: </strong> 30.35 GiB\n",
       "                        </td>\n",
       "                    </tr>\n",
       "                    <tr>\n",
       "                        <td style=\"text-align: left;\">\n",
       "                            <strong>Nanny: </strong> tls://10.0.15.0:45821\n",
       "                        </td>\n",
       "                        <td style=\"text-align: left;\"></td>\n",
       "                    </tr>\n",
       "                    <tr>\n",
       "                        <td colspan=\"2\" style=\"text-align: left;\">\n",
       "                            <strong>Local directory: </strong> /scratch/dask-worker-space/worker-5fd4smig\n",
       "                        </td>\n",
       "                    </tr>\n",
       "\n",
       "                    \n",
       "\n",
       "                    \n",
       "\n",
       "                </table>\n",
       "            </details>\n",
       "            </div>\n",
       "        </div>\n",
       "        \n",
       "        <div style=\"margin-bottom: 20px;\">\n",
       "            <div style=\"width: 24px; height: 24px; background-color: #DBF5FF; border: 3px solid #4CC9FF; border-radius: 5px; position: absolute;\"> </div>\n",
       "            <div style=\"margin-left: 48px;\">\n",
       "            <details>\n",
       "                <summary>\n",
       "                    <h4 style=\"margin-bottom: 0px; display: inline;\">Worker: uber-lyft-small-4c38-worker-1c011275cf</h4>\n",
       "                </summary>\n",
       "                <table style=\"width: 100%; text-align: left;\">\n",
       "                    <tr>\n",
       "                        <td style=\"text-align: left;\">\n",
       "                            <strong>Comm: </strong> tls://10.0.12.138:43035\n",
       "                        </td>\n",
       "                        <td style=\"text-align: left;\">\n",
       "                            <strong>Total threads: </strong> 8\n",
       "                        </td>\n",
       "                    </tr>\n",
       "                    <tr>\n",
       "                        <td style=\"text-align: left;\">\n",
       "                            <strong>Dashboard: </strong> <a href=\"http://10.0.12.138:8787/status\" target=\"_blank\">http://10.0.12.138:8787/status</a>\n",
       "                        </td>\n",
       "                        <td style=\"text-align: left;\">\n",
       "                            <strong>Memory: </strong> 30.35 GiB\n",
       "                        </td>\n",
       "                    </tr>\n",
       "                    <tr>\n",
       "                        <td style=\"text-align: left;\">\n",
       "                            <strong>Nanny: </strong> tls://10.0.12.138:41351\n",
       "                        </td>\n",
       "                        <td style=\"text-align: left;\"></td>\n",
       "                    </tr>\n",
       "                    <tr>\n",
       "                        <td colspan=\"2\" style=\"text-align: left;\">\n",
       "                            <strong>Local directory: </strong> /scratch/dask-worker-space/worker-rm3qwj0k\n",
       "                        </td>\n",
       "                    </tr>\n",
       "\n",
       "                    \n",
       "\n",
       "                    \n",
       "\n",
       "                </table>\n",
       "            </details>\n",
       "            </div>\n",
       "        </div>\n",
       "        \n",
       "        <div style=\"margin-bottom: 20px;\">\n",
       "            <div style=\"width: 24px; height: 24px; background-color: #DBF5FF; border: 3px solid #4CC9FF; border-radius: 5px; position: absolute;\"> </div>\n",
       "            <div style=\"margin-left: 48px;\">\n",
       "            <details>\n",
       "                <summary>\n",
       "                    <h4 style=\"margin-bottom: 0px; display: inline;\">Worker: uber-lyft-small-4c38-worker-2f530bce94</h4>\n",
       "                </summary>\n",
       "                <table style=\"width: 100%; text-align: left;\">\n",
       "                    <tr>\n",
       "                        <td style=\"text-align: left;\">\n",
       "                            <strong>Comm: </strong> tls://10.0.13.167:40861\n",
       "                        </td>\n",
       "                        <td style=\"text-align: left;\">\n",
       "                            <strong>Total threads: </strong> 8\n",
       "                        </td>\n",
       "                    </tr>\n",
       "                    <tr>\n",
       "                        <td style=\"text-align: left;\">\n",
       "                            <strong>Dashboard: </strong> <a href=\"http://10.0.13.167:8787/status\" target=\"_blank\">http://10.0.13.167:8787/status</a>\n",
       "                        </td>\n",
       "                        <td style=\"text-align: left;\">\n",
       "                            <strong>Memory: </strong> 30.35 GiB\n",
       "                        </td>\n",
       "                    </tr>\n",
       "                    <tr>\n",
       "                        <td style=\"text-align: left;\">\n",
       "                            <strong>Nanny: </strong> tls://10.0.13.167:36559\n",
       "                        </td>\n",
       "                        <td style=\"text-align: left;\"></td>\n",
       "                    </tr>\n",
       "                    <tr>\n",
       "                        <td colspan=\"2\" style=\"text-align: left;\">\n",
       "                            <strong>Local directory: </strong> /scratch/dask-worker-space/worker-bz1fus5z\n",
       "                        </td>\n",
       "                    </tr>\n",
       "\n",
       "                    \n",
       "\n",
       "                    \n",
       "\n",
       "                </table>\n",
       "            </details>\n",
       "            </div>\n",
       "        </div>\n",
       "        \n",
       "        <div style=\"margin-bottom: 20px;\">\n",
       "            <div style=\"width: 24px; height: 24px; background-color: #DBF5FF; border: 3px solid #4CC9FF; border-radius: 5px; position: absolute;\"> </div>\n",
       "            <div style=\"margin-left: 48px;\">\n",
       "            <details>\n",
       "                <summary>\n",
       "                    <h4 style=\"margin-bottom: 0px; display: inline;\">Worker: uber-lyft-small-4c38-worker-6e414d4f08</h4>\n",
       "                </summary>\n",
       "                <table style=\"width: 100%; text-align: left;\">\n",
       "                    <tr>\n",
       "                        <td style=\"text-align: left;\">\n",
       "                            <strong>Comm: </strong> tls://10.0.12.154:36301\n",
       "                        </td>\n",
       "                        <td style=\"text-align: left;\">\n",
       "                            <strong>Total threads: </strong> 8\n",
       "                        </td>\n",
       "                    </tr>\n",
       "                    <tr>\n",
       "                        <td style=\"text-align: left;\">\n",
       "                            <strong>Dashboard: </strong> <a href=\"http://10.0.12.154:8787/status\" target=\"_blank\">http://10.0.12.154:8787/status</a>\n",
       "                        </td>\n",
       "                        <td style=\"text-align: left;\">\n",
       "                            <strong>Memory: </strong> 30.34 GiB\n",
       "                        </td>\n",
       "                    </tr>\n",
       "                    <tr>\n",
       "                        <td style=\"text-align: left;\">\n",
       "                            <strong>Nanny: </strong> tls://10.0.12.154:34301\n",
       "                        </td>\n",
       "                        <td style=\"text-align: left;\"></td>\n",
       "                    </tr>\n",
       "                    <tr>\n",
       "                        <td colspan=\"2\" style=\"text-align: left;\">\n",
       "                            <strong>Local directory: </strong> /scratch/dask-worker-space/worker-67xjp9xe\n",
       "                        </td>\n",
       "                    </tr>\n",
       "\n",
       "                    \n",
       "\n",
       "                    \n",
       "\n",
       "                </table>\n",
       "            </details>\n",
       "            </div>\n",
       "        </div>\n",
       "        \n",
       "        <div style=\"margin-bottom: 20px;\">\n",
       "            <div style=\"width: 24px; height: 24px; background-color: #DBF5FF; border: 3px solid #4CC9FF; border-radius: 5px; position: absolute;\"> </div>\n",
       "            <div style=\"margin-left: 48px;\">\n",
       "            <details>\n",
       "                <summary>\n",
       "                    <h4 style=\"margin-bottom: 0px; display: inline;\">Worker: uber-lyft-small-4c38-worker-74e61c15f1</h4>\n",
       "                </summary>\n",
       "                <table style=\"width: 100%; text-align: left;\">\n",
       "                    <tr>\n",
       "                        <td style=\"text-align: left;\">\n",
       "                            <strong>Comm: </strong> tls://10.0.9.1:38699\n",
       "                        </td>\n",
       "                        <td style=\"text-align: left;\">\n",
       "                            <strong>Total threads: </strong> 8\n",
       "                        </td>\n",
       "                    </tr>\n",
       "                    <tr>\n",
       "                        <td style=\"text-align: left;\">\n",
       "                            <strong>Dashboard: </strong> <a href=\"http://10.0.9.1:8787/status\" target=\"_blank\">http://10.0.9.1:8787/status</a>\n",
       "                        </td>\n",
       "                        <td style=\"text-align: left;\">\n",
       "                            <strong>Memory: </strong> 30.34 GiB\n",
       "                        </td>\n",
       "                    </tr>\n",
       "                    <tr>\n",
       "                        <td style=\"text-align: left;\">\n",
       "                            <strong>Nanny: </strong> tls://10.0.9.1:35543\n",
       "                        </td>\n",
       "                        <td style=\"text-align: left;\"></td>\n",
       "                    </tr>\n",
       "                    <tr>\n",
       "                        <td colspan=\"2\" style=\"text-align: left;\">\n",
       "                            <strong>Local directory: </strong> /scratch/dask-worker-space/worker-q4z5sa8x\n",
       "                        </td>\n",
       "                    </tr>\n",
       "\n",
       "                    \n",
       "\n",
       "                    \n",
       "\n",
       "                </table>\n",
       "            </details>\n",
       "            </div>\n",
       "        </div>\n",
       "        \n",
       "        <div style=\"margin-bottom: 20px;\">\n",
       "            <div style=\"width: 24px; height: 24px; background-color: #DBF5FF; border: 3px solid #4CC9FF; border-radius: 5px; position: absolute;\"> </div>\n",
       "            <div style=\"margin-left: 48px;\">\n",
       "            <details>\n",
       "                <summary>\n",
       "                    <h4 style=\"margin-bottom: 0px; display: inline;\">Worker: uber-lyft-small-4c38-worker-75b5143cc5</h4>\n",
       "                </summary>\n",
       "                <table style=\"width: 100%; text-align: left;\">\n",
       "                    <tr>\n",
       "                        <td style=\"text-align: left;\">\n",
       "                            <strong>Comm: </strong> tls://10.0.11.169:44249\n",
       "                        </td>\n",
       "                        <td style=\"text-align: left;\">\n",
       "                            <strong>Total threads: </strong> 8\n",
       "                        </td>\n",
       "                    </tr>\n",
       "                    <tr>\n",
       "                        <td style=\"text-align: left;\">\n",
       "                            <strong>Dashboard: </strong> <a href=\"http://10.0.11.169:8787/status\" target=\"_blank\">http://10.0.11.169:8787/status</a>\n",
       "                        </td>\n",
       "                        <td style=\"text-align: left;\">\n",
       "                            <strong>Memory: </strong> 30.35 GiB\n",
       "                        </td>\n",
       "                    </tr>\n",
       "                    <tr>\n",
       "                        <td style=\"text-align: left;\">\n",
       "                            <strong>Nanny: </strong> tls://10.0.11.169:43399\n",
       "                        </td>\n",
       "                        <td style=\"text-align: left;\"></td>\n",
       "                    </tr>\n",
       "                    <tr>\n",
       "                        <td colspan=\"2\" style=\"text-align: left;\">\n",
       "                            <strong>Local directory: </strong> /scratch/dask-worker-space/worker-1cexzrpc\n",
       "                        </td>\n",
       "                    </tr>\n",
       "\n",
       "                    \n",
       "\n",
       "                    \n",
       "\n",
       "                </table>\n",
       "            </details>\n",
       "            </div>\n",
       "        </div>\n",
       "        \n",
       "        <div style=\"margin-bottom: 20px;\">\n",
       "            <div style=\"width: 24px; height: 24px; background-color: #DBF5FF; border: 3px solid #4CC9FF; border-radius: 5px; position: absolute;\"> </div>\n",
       "            <div style=\"margin-left: 48px;\">\n",
       "            <details>\n",
       "                <summary>\n",
       "                    <h4 style=\"margin-bottom: 0px; display: inline;\">Worker: uber-lyft-small-4c38-worker-902771ea31</h4>\n",
       "                </summary>\n",
       "                <table style=\"width: 100%; text-align: left;\">\n",
       "                    <tr>\n",
       "                        <td style=\"text-align: left;\">\n",
       "                            <strong>Comm: </strong> tls://10.0.8.135:38067\n",
       "                        </td>\n",
       "                        <td style=\"text-align: left;\">\n",
       "                            <strong>Total threads: </strong> 8\n",
       "                        </td>\n",
       "                    </tr>\n",
       "                    <tr>\n",
       "                        <td style=\"text-align: left;\">\n",
       "                            <strong>Dashboard: </strong> <a href=\"http://10.0.8.135:8787/status\" target=\"_blank\">http://10.0.8.135:8787/status</a>\n",
       "                        </td>\n",
       "                        <td style=\"text-align: left;\">\n",
       "                            <strong>Memory: </strong> 30.35 GiB\n",
       "                        </td>\n",
       "                    </tr>\n",
       "                    <tr>\n",
       "                        <td style=\"text-align: left;\">\n",
       "                            <strong>Nanny: </strong> tls://10.0.8.135:39319\n",
       "                        </td>\n",
       "                        <td style=\"text-align: left;\"></td>\n",
       "                    </tr>\n",
       "                    <tr>\n",
       "                        <td colspan=\"2\" style=\"text-align: left;\">\n",
       "                            <strong>Local directory: </strong> /scratch/dask-worker-space/worker-ovpcx3rl\n",
       "                        </td>\n",
       "                    </tr>\n",
       "\n",
       "                    \n",
       "\n",
       "                    \n",
       "\n",
       "                </table>\n",
       "            </details>\n",
       "            </div>\n",
       "        </div>\n",
       "        \n",
       "        <div style=\"margin-bottom: 20px;\">\n",
       "            <div style=\"width: 24px; height: 24px; background-color: #DBF5FF; border: 3px solid #4CC9FF; border-radius: 5px; position: absolute;\"> </div>\n",
       "            <div style=\"margin-left: 48px;\">\n",
       "            <details>\n",
       "                <summary>\n",
       "                    <h4 style=\"margin-bottom: 0px; display: inline;\">Worker: uber-lyft-small-4c38-worker-f9ba9d2a35</h4>\n",
       "                </summary>\n",
       "                <table style=\"width: 100%; text-align: left;\">\n",
       "                    <tr>\n",
       "                        <td style=\"text-align: left;\">\n",
       "                            <strong>Comm: </strong> tls://10.0.8.9:33385\n",
       "                        </td>\n",
       "                        <td style=\"text-align: left;\">\n",
       "                            <strong>Total threads: </strong> 8\n",
       "                        </td>\n",
       "                    </tr>\n",
       "                    <tr>\n",
       "                        <td style=\"text-align: left;\">\n",
       "                            <strong>Dashboard: </strong> <a href=\"http://10.0.8.9:8787/status\" target=\"_blank\">http://10.0.8.9:8787/status</a>\n",
       "                        </td>\n",
       "                        <td style=\"text-align: left;\">\n",
       "                            <strong>Memory: </strong> 30.34 GiB\n",
       "                        </td>\n",
       "                    </tr>\n",
       "                    <tr>\n",
       "                        <td style=\"text-align: left;\">\n",
       "                            <strong>Nanny: </strong> tls://10.0.8.9:37157\n",
       "                        </td>\n",
       "                        <td style=\"text-align: left;\"></td>\n",
       "                    </tr>\n",
       "                    <tr>\n",
       "                        <td colspan=\"2\" style=\"text-align: left;\">\n",
       "                            <strong>Local directory: </strong> /scratch/dask-worker-space/worker-y5x890yr\n",
       "                        </td>\n",
       "                    </tr>\n",
       "\n",
       "                    \n",
       "\n",
       "                    \n",
       "\n",
       "                </table>\n",
       "            </details>\n",
       "            </div>\n",
       "        </div>\n",
       "        \n",
       "        <div style=\"margin-bottom: 20px;\">\n",
       "            <div style=\"width: 24px; height: 24px; background-color: #DBF5FF; border: 3px solid #4CC9FF; border-radius: 5px; position: absolute;\"> </div>\n",
       "            <div style=\"margin-left: 48px;\">\n",
       "            <details>\n",
       "                <summary>\n",
       "                    <h4 style=\"margin-bottom: 0px; display: inline;\">Worker: uber-lyft-small-4c38-worker-feb262dc81</h4>\n",
       "                </summary>\n",
       "                <table style=\"width: 100%; text-align: left;\">\n",
       "                    <tr>\n",
       "                        <td style=\"text-align: left;\">\n",
       "                            <strong>Comm: </strong> tls://10.0.4.103:33437\n",
       "                        </td>\n",
       "                        <td style=\"text-align: left;\">\n",
       "                            <strong>Total threads: </strong> 8\n",
       "                        </td>\n",
       "                    </tr>\n",
       "                    <tr>\n",
       "                        <td style=\"text-align: left;\">\n",
       "                            <strong>Dashboard: </strong> <a href=\"http://10.0.4.103:8787/status\" target=\"_blank\">http://10.0.4.103:8787/status</a>\n",
       "                        </td>\n",
       "                        <td style=\"text-align: left;\">\n",
       "                            <strong>Memory: </strong> 30.36 GiB\n",
       "                        </td>\n",
       "                    </tr>\n",
       "                    <tr>\n",
       "                        <td style=\"text-align: left;\">\n",
       "                            <strong>Nanny: </strong> tls://10.0.4.103:44585\n",
       "                        </td>\n",
       "                        <td style=\"text-align: left;\"></td>\n",
       "                    </tr>\n",
       "                    <tr>\n",
       "                        <td colspan=\"2\" style=\"text-align: left;\">\n",
       "                            <strong>Local directory: </strong> /scratch/dask-worker-space/worker-9xribcf5\n",
       "                        </td>\n",
       "                    </tr>\n",
       "\n",
       "                    \n",
       "\n",
       "                    \n",
       "\n",
       "                </table>\n",
       "            </details>\n",
       "            </div>\n",
       "        </div>\n",
       "        \n",
       "\n",
       "    </details>\n",
       "</div>\n",
       "\n",
       "        </details>\n",
       "    </div>\n",
       "</div>\n",
       "            </details>\n",
       "        \n",
       "\n",
       "    </div>\n",
       "</div>"
      ],
      "text/plain": [
       "<Client: 'tls://10.0.30.209:8786' processes=10 threads=80, memory=303.47 GiB>"
      ]
     },
     "execution_count": 40,
     "metadata": {},
     "output_type": "execute_result"
    }
   ],
   "source": [
    "client"
   ]
  },
  {
   "cell_type": "code",
   "execution_count": 41,
   "id": "15530dc1-703e-4491-9eec-c391cd663a34",
   "metadata": {},
   "outputs": [],
   "source": [
    "df = dd.read_parquet(\n",
    "    \"s3://coiled-datasets/uber-lyft-tlc/\", \n",
    "    #use_nullable_dtypes=True              #this is working on 2022.12.0 update dask\n",
    ").astype({\"hvfhs_license_num\": \"string[pyarrow]\", \n",
    "         \"dispatching_base_num\": \"string[pyarrow]\",\n",
    "         \"originating_base_num\": \"string[pyarrow]\",\n",
    "         })"
   ]
  },
  {
   "cell_type": "code",
   "execution_count": 14,
   "id": "ce2fe4cb-8884-4364-9522-f72fba6829ee",
   "metadata": {},
   "outputs": [
    {
     "data": {
      "text/plain": [
       "'2022.12.0'"
      ]
     },
     "execution_count": 14,
     "metadata": {},
     "output_type": "execute_result"
    }
   ],
   "source": [
    "import dask\n",
    "dask.__version__"
   ]
  },
  {
   "cell_type": "code",
   "execution_count": 15,
   "id": "2e2900ba-cbdf-46fc-9ee4-9fbc69ea881c",
   "metadata": {},
   "outputs": [
    {
     "data": {
      "text/plain": [
       "hvfhs_license_num               string\n",
       "dispatching_base_num            string\n",
       "originating_base_num            string\n",
       "on_scene_datetime       datetime64[ns]\n",
       "pickup_datetime         datetime64[ns]\n",
       "dropoff_datetime        datetime64[ns]\n",
       "PULocationID                     int32\n",
       "DOLocationID                     int32\n",
       "trip_miles                     float32\n",
       "trip_time                        int32\n",
       "base_passenger_fare            float32\n",
       "tolls                          float32\n",
       "bcf                            float32\n",
       "sales_tax                      float32\n",
       "congestion_surcharge           float32\n",
       "airport_fee                    float32\n",
       "tips                           float32\n",
       "driver_pay                     float32\n",
       "shared_request_flag           category\n",
       "shared_match_flag             category\n",
       "access_a_ride_flag            category\n",
       "wav_request_flag              category\n",
       "wav_match_flag                category\n",
       "dtype: object"
      ]
     },
     "execution_count": 15,
     "metadata": {},
     "output_type": "execute_result"
    }
   ],
   "source": [
    "df.dtypes"
   ]
  },
  {
   "cell_type": "markdown",
   "id": "80eb7dc4-e84e-40b9-9842-dad6670dad3b",
   "metadata": {},
   "source": [
    "```python\n",
    "dask.utils.format_bytes(\n",
    "    df.memory_usage(deep=True).sum().compute()\n",
    ")\n",
    "```\n",
    "'82.73 GiB' #with nullable dtypes"
   ]
  },
  {
   "cell_type": "code",
   "execution_count": 16,
   "id": "dd0c2a18-7254-447b-b6a8-768bf9c59c18",
   "metadata": {},
   "outputs": [
    {
     "data": {
      "text/plain": [
       "'74.82 GiB'"
      ]
     },
     "execution_count": 16,
     "metadata": {},
     "output_type": "execute_result"
    }
   ],
   "source": [
    "# no nullable dtypes\n",
    "dask.utils.format_bytes(\n",
    "    df.memory_usage(deep=True).sum().compute()\n",
    ")"
   ]
  },
  {
   "cell_type": "code",
   "execution_count": 11,
   "id": "cca096d8-dcc5-492a-872c-c36b2e579311",
   "metadata": {},
   "outputs": [
    {
     "data": {
      "text/plain": [
       "string[pyarrow]"
      ]
     },
     "execution_count": 11,
     "metadata": {},
     "output_type": "execute_result"
    }
   ],
   "source": [
    "df.hvfhs_license_num.dtype"
   ]
  },
  {
   "cell_type": "code",
   "execution_count": 19,
   "id": "dff7b58b-97c5-4e06-9fdf-f2fe4fc979a3",
   "metadata": {},
   "outputs": [
    {
     "data": {
      "text/plain": [
       "Index(['hvfhs_license_num', 'dispatching_base_num', 'originating_base_num',\n",
       "       'on_scene_datetime', 'pickup_datetime', 'dropoff_datetime',\n",
       "       'PULocationID', 'DOLocationID', 'trip_miles', 'trip_time',\n",
       "       'base_passenger_fare', 'tolls', 'bcf', 'sales_tax',\n",
       "       'congestion_surcharge', 'airport_fee', 'tips', 'driver_pay',\n",
       "       'shared_request_flag', 'shared_match_flag', 'access_a_ride_flag',\n",
       "       'wav_request_flag', 'wav_match_flag'],\n",
       "      dtype='object')"
      ]
     },
     "execution_count": 19,
     "metadata": {},
     "output_type": "execute_result"
    }
   ],
   "source": [
    "df.columns"
   ]
  },
  {
   "cell_type": "code",
   "execution_count": null,
   "id": "b6f52fc7-259f-46f4-935f-fe8d5160bc20",
   "metadata": {},
   "outputs": [],
   "source": [
    "#This is only bringing the 2 columns.\n",
    "df_small = df[[\"base_passenger_fare\", \"driver_pay\"]]"
   ]
  },
  {
   "cell_type": "markdown",
   "id": "430335d5-f7dd-4dee-a29a-74b1340cbd33",
   "metadata": {},
   "source": [
    "#test"
   ]
  },
  {
   "cell_type": "code",
   "execution_count": null,
   "id": "294d161c-16c3-44dd-be81-ea25a07879b5",
   "metadata": {},
   "outputs": [],
   "source": [
    "#df_small = df_small.persist()"
   ]
  },
  {
   "cell_type": "code",
   "execution_count": null,
   "id": "2a01b4af-f7c6-4446-aaa5-467fc7b8d0d2",
   "metadata": {},
   "outputs": [],
   "source": [
    "# dask.utils.format_bytes(\n",
    "#     df_small.memory_usage(deep=True).sum().compute()\n",
    "# )\n",
    "# #'10.55 GiB'"
   ]
  },
  {
   "cell_type": "code",
   "execution_count": null,
   "id": "bd7e563e-200f-4e53-aa55-58e06ca9ee49",
   "metadata": {},
   "outputs": [],
   "source": []
  },
  {
   "cell_type": "code",
   "execution_count": null,
   "id": "4667e110-979e-4782-9644-85f02e1ad2b2",
   "metadata": {},
   "outputs": [],
   "source": []
  },
  {
   "cell_type": "code",
   "execution_count": null,
   "id": "834816b0-5899-43a8-853e-ffc91a0a7da8",
   "metadata": {},
   "outputs": [],
   "source": [
    "#df.head()"
   ]
  },
  {
   "cell_type": "markdown",
   "id": "fac3870d-0b82-47e9-856b-e15e77cf3425",
   "metadata": {},
   "source": [
    "## From the data dictionary we know:\n",
    "\n",
    "The TLC license number of the HVFHS base or business\n",
    "As of September 2019, the HVFHS licensees are the following:\n",
    "\n",
    "• HV0002: Juno  \n",
    "• HV0003: Uber  \n",
    "• HV0004: Via  \n",
    "• HV0005: Lyft  "
   ]
  },
  {
   "cell_type": "code",
   "execution_count": 20,
   "id": "055f9a35-c4d7-410a-abce-4667609df00b",
   "metadata": {},
   "outputs": [],
   "source": [
    "# df =  df[['hvfhs_license_num', 'dispatching_base_num', 'originating_base_num',\n",
    "#      'pickup_datetime', 'dropoff_datetime','bcf',\n",
    "#      'PULocationID', 'DOLocationID', 'trip_miles', 'trip_time','base_passenger_fare',\n",
    "#      'congestion_surcharge', 'airport_fee', 'tips', 'driver_pay',]].persist()"
   ]
  },
  {
   "cell_type": "code",
   "execution_count": 43,
   "id": "3d9e17f2-28fa-4cdd-bf9f-37f45929853f",
   "metadata": {},
   "outputs": [],
   "source": [
    "df[\"tip_flag\"] = df.tips > 0"
   ]
  },
  {
   "cell_type": "code",
   "execution_count": 44,
   "id": "eb55c7c8-bb9b-4fe5-9729-6b91f263a3ac",
   "metadata": {
    "tags": []
   },
   "outputs": [],
   "source": [
    "df_small = df[[\"hvfhs_license_num\", \"tips\", 'base_passenger_fare', \n",
    "               'driver_pay', \"tip_flag\", \"trip_miles\", \"trip_time\", \"pickup_datetime\",\n",
    "               'dropoff_datetime']].persist()"
   ]
  },
  {
   "cell_type": "code",
   "execution_count": 45,
   "id": "fb809b7b-9cdf-4d54-b191-305a3c89eb97",
   "metadata": {},
   "outputs": [
    {
     "data": {
      "text/plain": [
       "14.04137472"
      ]
     },
     "execution_count": 45,
     "metadata": {},
     "output_type": "execute_result"
    }
   ],
   "source": [
    "df_small.base_passenger_fare.sum().compute() / 1e9"
   ]
  },
  {
   "cell_type": "code",
   "execution_count": 46,
   "id": "286fc4f5-003b-47a9-8a56-fc227141e670",
   "metadata": {},
   "outputs": [
    {
     "data": {
      "text/plain": [
       "11.404737536"
      ]
     },
     "execution_count": 46,
     "metadata": {},
     "output_type": "execute_result"
    }
   ],
   "source": [
    "df_small.driver_pay.sum().compute() / 1e9"
   ]
  },
  {
   "cell_type": "code",
   "execution_count": 47,
   "id": "0ca23fa1-ab0c-4426-8165-7742bcae7891",
   "metadata": {},
   "outputs": [
    {
     "data": {
      "text/plain": [
       "525.279552"
      ]
     },
     "execution_count": 47,
     "metadata": {},
     "output_type": "execute_result"
    }
   ],
   "source": [
    "df_small.tips.sum().compute() / 1e6"
   ]
  },
  {
   "cell_type": "markdown",
   "id": "fc2110ff-d2fe-4a57-8556-f8381cd12d48",
   "metadata": {},
   "source": [
    "note: on pandas efficent creating columns \n",
    "https://stackoverflow.com/questions/52289488/efficient-way-to-add-new-column-to-pandas-dataframe"
   ]
  },
  {
   "cell_type": "code",
   "execution_count": 48,
   "id": "ac3192f3-7913-41e6-9b7b-ed01bb8a96c5",
   "metadata": {},
   "outputs": [],
   "source": [
    "tip_counts = df_small.groupby(['hvfhs_license_num']).tip_flag.value_counts().compute()"
   ]
  },
  {
   "cell_type": "code",
   "execution_count": 49,
   "id": "13062d36-4168-41b7-b2c5-d6c8e62de44e",
   "metadata": {},
   "outputs": [
    {
     "data": {
      "text/plain": [
       "hvfhs_license_num  tip_flag\n",
       "HV0002             False         5849705\n",
       "                   True           539229\n",
       "HV0003             False       434076699\n",
       "                   True         72850568\n",
       "HV0004             False        12497572\n",
       "                   True          1278427\n",
       "HV0005             False       146269645\n",
       "                   True         34424234\n",
       "Name: tip_flag, dtype: int64"
      ]
     },
     "execution_count": 49,
     "metadata": {},
     "output_type": "execute_result"
    }
   ],
   "source": [
    "tip_counts"
   ]
  },
  {
   "cell_type": "code",
   "execution_count": 50,
   "id": "fd1d5b68-5e2e-487d-9db7-b1bc0c5b8e2d",
   "metadata": {},
   "outputs": [
    {
     "data": {
      "text/html": [
       "<div>\n",
       "<style scoped>\n",
       "    .dataframe tbody tr th:only-of-type {\n",
       "        vertical-align: middle;\n",
       "    }\n",
       "\n",
       "    .dataframe tbody tr th {\n",
       "        vertical-align: top;\n",
       "    }\n",
       "\n",
       "    .dataframe thead th {\n",
       "        text-align: right;\n",
       "    }\n",
       "</style>\n",
       "<table border=\"1\" class=\"dataframe\">\n",
       "  <thead>\n",
       "    <tr style=\"text-align: right;\">\n",
       "      <th>tip_flag</th>\n",
       "      <th>False</th>\n",
       "      <th>True</th>\n",
       "    </tr>\n",
       "    <tr>\n",
       "      <th>hvfhs_license_num</th>\n",
       "      <th></th>\n",
       "      <th></th>\n",
       "    </tr>\n",
       "  </thead>\n",
       "  <tbody>\n",
       "    <tr>\n",
       "      <th>HV0002</th>\n",
       "      <td>5.849705</td>\n",
       "      <td>0.539229</td>\n",
       "    </tr>\n",
       "    <tr>\n",
       "      <th>HV0003</th>\n",
       "      <td>434.076699</td>\n",
       "      <td>72.850568</td>\n",
       "    </tr>\n",
       "    <tr>\n",
       "      <th>HV0004</th>\n",
       "      <td>12.497572</td>\n",
       "      <td>1.278427</td>\n",
       "    </tr>\n",
       "    <tr>\n",
       "      <th>HV0005</th>\n",
       "      <td>146.269645</td>\n",
       "      <td>34.424234</td>\n",
       "    </tr>\n",
       "  </tbody>\n",
       "</table>\n",
       "</div>"
      ],
      "text/plain": [
       "tip_flag                False      True \n",
       "hvfhs_license_num                       \n",
       "HV0002               5.849705   0.539229\n",
       "HV0003             434.076699  72.850568\n",
       "HV0004              12.497572   1.278427\n",
       "HV0005             146.269645  34.424234"
      ]
     },
     "execution_count": 50,
     "metadata": {},
     "output_type": "execute_result"
    }
   ],
   "source": [
    "tip_counts.unstack(level=\"tip_flag\") / 1e6"
   ]
  },
  {
   "cell_type": "code",
   "execution_count": 51,
   "id": "9b10f437-ba9d-41d3-bc43-0d4e96e9dcdb",
   "metadata": {},
   "outputs": [
    {
     "data": {
      "text/html": [
       "<div>\n",
       "<style scoped>\n",
       "    .dataframe tbody tr th:only-of-type {\n",
       "        vertical-align: middle;\n",
       "    }\n",
       "\n",
       "    .dataframe tbody tr th {\n",
       "        vertical-align: top;\n",
       "    }\n",
       "\n",
       "    .dataframe thead th {\n",
       "        text-align: right;\n",
       "    }\n",
       "</style>\n",
       "<table border=\"1\" class=\"dataframe\">\n",
       "  <thead>\n",
       "    <tr style=\"text-align: right;\">\n",
       "      <th></th>\n",
       "      <th>sum</th>\n",
       "      <th>mean</th>\n",
       "    </tr>\n",
       "    <tr>\n",
       "      <th>hvfhs_license_num</th>\n",
       "      <th></th>\n",
       "      <th></th>\n",
       "    </tr>\n",
       "  </thead>\n",
       "  <tbody>\n",
       "    <tr>\n",
       "      <th>HV0003</th>\n",
       "      <td>351948992.0</td>\n",
       "      <td>4.831108</td>\n",
       "    </tr>\n",
       "    <tr>\n",
       "      <th>HV0002</th>\n",
       "      <td>2162384.5</td>\n",
       "      <td>4.010141</td>\n",
       "    </tr>\n",
       "    <tr>\n",
       "      <th>HV0005</th>\n",
       "      <td>168172736.0</td>\n",
       "      <td>4.885301</td>\n",
       "    </tr>\n",
       "    <tr>\n",
       "      <th>HV0004</th>\n",
       "      <td>2995445.5</td>\n",
       "      <td>2.343071</td>\n",
       "    </tr>\n",
       "  </tbody>\n",
       "</table>\n",
       "</div>"
      ],
      "text/plain": [
       "                           sum      mean\n",
       "hvfhs_license_num                       \n",
       "HV0003             351948992.0  4.831108\n",
       "HV0002               2162384.5  4.010141\n",
       "HV0005             168172736.0  4.885301\n",
       "HV0004               2995445.5  2.343071"
      ]
     },
     "execution_count": 51,
     "metadata": {},
     "output_type": "execute_result"
    }
   ],
   "source": [
    "tips_total = df_small.loc[lambda x: x.tip_flag].groupby('hvfhs_license_num').tips.agg([\"sum\", \"mean\"]).compute()\n",
    "tips_total"
   ]
  },
  {
   "cell_type": "code",
   "execution_count": 52,
   "id": "ef8c80f8-0d20-4bf4-a4ee-fa4a5325ce26",
   "metadata": {},
   "outputs": [],
   "source": [
    "provider = {\"HV0002\":\"Juno\", \n",
    "            \"HV0005\":\"Lyft\" ,\n",
    "            \"HV0003\":\"Uber\" ,\n",
    "           \"HV0004\":\"Via\"}"
   ]
  },
  {
   "cell_type": "code",
   "execution_count": 53,
   "id": "776e2689-133d-4cfb-bd08-0ca34ee05f31",
   "metadata": {},
   "outputs": [
    {
     "data": {
      "text/html": [
       "<div>\n",
       "<style scoped>\n",
       "    .dataframe tbody tr th:only-of-type {\n",
       "        vertical-align: middle;\n",
       "    }\n",
       "\n",
       "    .dataframe tbody tr th {\n",
       "        vertical-align: top;\n",
       "    }\n",
       "\n",
       "    .dataframe thead th {\n",
       "        text-align: right;\n",
       "    }\n",
       "</style>\n",
       "<table border=\"1\" class=\"dataframe\">\n",
       "  <thead>\n",
       "    <tr style=\"text-align: right;\">\n",
       "      <th></th>\n",
       "      <th>sum</th>\n",
       "      <th>mean</th>\n",
       "    </tr>\n",
       "    <tr>\n",
       "      <th>provider</th>\n",
       "      <th></th>\n",
       "      <th></th>\n",
       "    </tr>\n",
       "  </thead>\n",
       "  <tbody>\n",
       "    <tr>\n",
       "      <th>Uber</th>\n",
       "      <td>351948992.0</td>\n",
       "      <td>4.831108</td>\n",
       "    </tr>\n",
       "    <tr>\n",
       "      <th>Juno</th>\n",
       "      <td>2162384.5</td>\n",
       "      <td>4.010141</td>\n",
       "    </tr>\n",
       "    <tr>\n",
       "      <th>Lyft</th>\n",
       "      <td>168172736.0</td>\n",
       "      <td>4.885301</td>\n",
       "    </tr>\n",
       "    <tr>\n",
       "      <th>Via</th>\n",
       "      <td>2995445.5</td>\n",
       "      <td>2.343071</td>\n",
       "    </tr>\n",
       "  </tbody>\n",
       "</table>\n",
       "</div>"
      ],
      "text/plain": [
       "                  sum      mean\n",
       "provider                       \n",
       "Uber      351948992.0  4.831108\n",
       "Juno        2162384.5  4.010141\n",
       "Lyft      168172736.0  4.885301\n",
       "Via         2995445.5  2.343071"
      ]
     },
     "execution_count": 53,
     "metadata": {},
     "output_type": "execute_result"
    }
   ],
   "source": [
    "tips_total = tips_total.assign(provider=lambda df: df.index.map(provider)).set_index(\"provider\")\n",
    "tips_total"
   ]
  },
  {
   "cell_type": "code",
   "execution_count": 54,
   "id": "cec9faaf-f329-4ebb-8e60-d1fe95d22f2c",
   "metadata": {},
   "outputs": [],
   "source": [
    "tip_percentage = df_small.tips / df_small.base_passenger_fare \n",
    "df_small[\"tip_percentage\"] = tip_percentage"
   ]
  },
  {
   "cell_type": "code",
   "execution_count": 55,
   "id": "5b14e09d-7a4b-454f-ab39-12cbcd5d7ef4",
   "metadata": {},
   "outputs": [],
   "source": [
    "df_small = df_small.persist()"
   ]
  },
  {
   "cell_type": "code",
   "execution_count": 65,
   "id": "b4a4ac3a-7b15-489e-9502-1c5372d7ecbc",
   "metadata": {},
   "outputs": [
    {
     "data": {
      "text/plain": [
       "hvfhs_license_num\n",
       "HV0002    0.230597\n",
       "HV0003    0.039490\n",
       "HV0005    0.224473\n",
       "HV0004    0.165701\n",
       "Name: tip_percentage, dtype: float64"
      ]
     },
     "execution_count": 65,
     "metadata": {},
     "output_type": "execute_result"
    }
   ],
   "source": [
    "tips_perc_mean = df_small.loc[lambda x: x.tip_flag].groupby('hvfhs_license_num').tip_percentage.mean().compute()\n",
    "tips_perc_mean"
   ]
  },
  {
   "cell_type": "code",
   "execution_count": 66,
   "id": "c16d4260-46a4-4a5a-842d-b80f3e0cc76b",
   "metadata": {},
   "outputs": [
    {
     "data": {
      "text/html": [
       "<div>\n",
       "<style scoped>\n",
       "    .dataframe tbody tr th:only-of-type {\n",
       "        vertical-align: middle;\n",
       "    }\n",
       "\n",
       "    .dataframe tbody tr th {\n",
       "        vertical-align: top;\n",
       "    }\n",
       "\n",
       "    .dataframe thead th {\n",
       "        text-align: right;\n",
       "    }\n",
       "</style>\n",
       "<table border=\"1\" class=\"dataframe\">\n",
       "  <thead>\n",
       "    <tr style=\"text-align: right;\">\n",
       "      <th></th>\n",
       "      <th>tip_percentage</th>\n",
       "    </tr>\n",
       "    <tr>\n",
       "      <th>hvfhs_license_num</th>\n",
       "      <th></th>\n",
       "    </tr>\n",
       "  </thead>\n",
       "  <tbody>\n",
       "    <tr>\n",
       "      <th>Juno</th>\n",
       "      <td>0.230597</td>\n",
       "    </tr>\n",
       "    <tr>\n",
       "      <th>Uber</th>\n",
       "      <td>0.039490</td>\n",
       "    </tr>\n",
       "    <tr>\n",
       "      <th>Lyft</th>\n",
       "      <td>0.224473</td>\n",
       "    </tr>\n",
       "    <tr>\n",
       "      <th>Via</th>\n",
       "      <td>0.165701</td>\n",
       "    </tr>\n",
       "  </tbody>\n",
       "</table>\n",
       "</div>"
      ],
      "text/plain": [
       "                   tip_percentage\n",
       "hvfhs_license_num                \n",
       "Juno                     0.230597\n",
       "Uber                     0.039490\n",
       "Lyft                     0.224473\n",
       "Via                      0.165701"
      ]
     },
     "execution_count": 66,
     "metadata": {},
     "output_type": "execute_result"
    }
   ],
   "source": [
    "tips_perc_mean.to_frame().set_index(tips_perc_mean.index.map(provider))"
   ]
  },
  {
   "cell_type": "markdown",
   "id": "11598668-cbd5-4e72-a1ac-d804ee77302c",
   "metadata": {},
   "source": [
    "# Base pay per mile per - by provider"
   ]
  },
  {
   "cell_type": "code",
   "execution_count": 67,
   "id": "70eaed48-4b26-48ce-8036-fc26f4e13bad",
   "metadata": {},
   "outputs": [],
   "source": [
    "dolars_per_mile = df_small.base_passenger_fare / df_small.trip_miles\n",
    "df_small[\"dolars_per_mile\"] = dolars_per_mile\n",
    "df_small = df_small.persist()"
   ]
  },
  {
   "cell_type": "code",
   "execution_count": 68,
   "id": "fb6f2544-c41f-45dc-8f8a-f3863f369044",
   "metadata": {},
   "outputs": [
    {
     "data": {
      "text/html": [
       "<div>\n",
       "<style scoped>\n",
       "    .dataframe tbody tr th:only-of-type {\n",
       "        vertical-align: middle;\n",
       "    }\n",
       "\n",
       "    .dataframe tbody tr th {\n",
       "        vertical-align: top;\n",
       "    }\n",
       "\n",
       "    .dataframe thead th {\n",
       "        text-align: right;\n",
       "    }\n",
       "</style>\n",
       "<table border=\"1\" class=\"dataframe\">\n",
       "  <thead>\n",
       "    <tr style=\"text-align: right;\">\n",
       "      <th></th>\n",
       "      <th>min</th>\n",
       "      <th>max</th>\n",
       "      <th>mean</th>\n",
       "      <th>std</th>\n",
       "    </tr>\n",
       "    <tr>\n",
       "      <th>hvfhs_license_num</th>\n",
       "      <th></th>\n",
       "      <th></th>\n",
       "      <th></th>\n",
       "      <th></th>\n",
       "    </tr>\n",
       "  </thead>\n",
       "  <tbody>\n",
       "    <tr>\n",
       "      <th>HV0003</th>\n",
       "      <td>-inf</td>\n",
       "      <td>inf</td>\n",
       "      <td>0.000053</td>\n",
       "      <td>0.047217</td>\n",
       "    </tr>\n",
       "    <tr>\n",
       "      <th>HV0002</th>\n",
       "      <td>-inf</td>\n",
       "      <td>inf</td>\n",
       "      <td>1.045045</td>\n",
       "      <td>4.245099</td>\n",
       "    </tr>\n",
       "    <tr>\n",
       "      <th>HV0005</th>\n",
       "      <td>-inf</td>\n",
       "      <td>inf</td>\n",
       "      <td>0.066468</td>\n",
       "      <td>4.882487</td>\n",
       "    </tr>\n",
       "    <tr>\n",
       "      <th>HV0004</th>\n",
       "      <td>0.0</td>\n",
       "      <td>inf</td>\n",
       "      <td>0.000064</td>\n",
       "      <td>0.129280</td>\n",
       "    </tr>\n",
       "  </tbody>\n",
       "</table>\n",
       "</div>"
      ],
      "text/plain": [
       "                   min  max      mean       std\n",
       "hvfhs_license_num                              \n",
       "HV0003            -inf  inf  0.000053  0.047217\n",
       "HV0002            -inf  inf  1.045045  4.245099\n",
       "HV0005            -inf  inf  0.066468  4.882487\n",
       "HV0004             0.0  inf  0.000064  0.129280"
      ]
     },
     "execution_count": 68,
     "metadata": {},
     "output_type": "execute_result"
    }
   ],
   "source": [
    "df_small.groupby('hvfhs_license_num').dolars_per_mile.agg([\"min\", \"max\", \"mean\", \"std\"]).compute()"
   ]
  },
  {
   "cell_type": "code",
   "execution_count": 69,
   "id": "910754f2-478c-4eeb-99a5-8ba4b2cf5d75",
   "metadata": {},
   "outputs": [
    {
     "data": {
      "text/html": [
       "<div>\n",
       "<style scoped>\n",
       "    .dataframe tbody tr th:only-of-type {\n",
       "        vertical-align: middle;\n",
       "    }\n",
       "\n",
       "    .dataframe tbody tr th {\n",
       "        vertical-align: top;\n",
       "    }\n",
       "\n",
       "    .dataframe thead th {\n",
       "        text-align: right;\n",
       "    }\n",
       "</style>\n",
       "<table border=\"1\" class=\"dataframe\">\n",
       "  <thead>\n",
       "    <tr style=\"text-align: right;\">\n",
       "      <th></th>\n",
       "      <th>min</th>\n",
       "      <th>max</th>\n",
       "      <th>mean</th>\n",
       "      <th>std</th>\n",
       "    </tr>\n",
       "    <tr>\n",
       "      <th>hvfhs_license_num</th>\n",
       "      <th></th>\n",
       "      <th></th>\n",
       "      <th></th>\n",
       "      <th></th>\n",
       "    </tr>\n",
       "  </thead>\n",
       "  <tbody>\n",
       "    <tr>\n",
       "      <th>HV0003</th>\n",
       "      <td>-inf</td>\n",
       "      <td>inf</td>\n",
       "      <td>0.244394</td>\n",
       "      <td>2.259485</td>\n",
       "    </tr>\n",
       "    <tr>\n",
       "      <th>HV0002</th>\n",
       "      <td>-0.018182</td>\n",
       "      <td>inf</td>\n",
       "      <td>4.439550</td>\n",
       "      <td>7.055813</td>\n",
       "    </tr>\n",
       "    <tr>\n",
       "      <th>HV0005</th>\n",
       "      <td>-92.500000</td>\n",
       "      <td>inf</td>\n",
       "      <td>1.817102</td>\n",
       "      <td>72.354233</td>\n",
       "    </tr>\n",
       "    <tr>\n",
       "      <th>HV0004</th>\n",
       "      <td>0.000000</td>\n",
       "      <td>inf</td>\n",
       "      <td>0.364527</td>\n",
       "      <td>2.902641</td>\n",
       "    </tr>\n",
       "  </tbody>\n",
       "</table>\n",
       "</div>"
      ],
      "text/plain": [
       "                         min  max      mean        std\n",
       "hvfhs_license_num                                     \n",
       "HV0003                  -inf  inf  0.244394   2.259485\n",
       "HV0002             -0.018182  inf  4.439550   7.055813\n",
       "HV0005            -92.500000  inf  1.817102  72.354233\n",
       "HV0004              0.000000  inf  0.364527   2.902641"
      ]
     },
     "execution_count": 69,
     "metadata": {},
     "output_type": "execute_result"
    }
   ],
   "source": [
    "df_small.loc[lambda x: x.tip_flag].groupby('hvfhs_license_num').dolars_per_mile.agg([\"min\", \"max\", \"mean\", \"std\"]).compute()"
   ]
  },
  {
   "cell_type": "code",
   "execution_count": 75,
   "id": "c28d4002-eefe-46ab-acc8-59ce73c0670d",
   "metadata": {},
   "outputs": [
    {
     "data": {
      "text/plain": [
       "0.0"
      ]
     },
     "execution_count": 75,
     "metadata": {},
     "output_type": "execute_result"
    }
   ],
   "source": [
    "df_small.trip_miles.min().compute()"
   ]
  },
  {
   "cell_type": "code",
   "execution_count": 76,
   "id": "534c5853-3f36-41a7-b5eb-1128d36b7b92",
   "metadata": {},
   "outputs": [
    {
     "data": {
      "text/plain": [
       "1310.51"
      ]
     },
     "execution_count": 76,
     "metadata": {},
     "output_type": "execute_result"
    }
   ],
   "source": [
    "df_small.trip_miles.max().compute()"
   ]
  },
  {
   "cell_type": "code",
   "execution_count": 77,
   "id": "4a58132a-715b-4054-90e4-21fd41e0edeb",
   "metadata": {},
   "outputs": [
    {
     "data": {
      "text/plain": [
       "-1969.59"
      ]
     },
     "execution_count": 77,
     "metadata": {},
     "output_type": "execute_result"
    }
   ],
   "source": [
    "df_small.base_passenger_fare.min().compute()"
   ]
  },
  {
   "cell_type": "code",
   "execution_count": 78,
   "id": "c1a530e6-1e1d-4c18-8525-39c838c5b4ec",
   "metadata": {},
   "outputs": [
    {
     "data": {
      "text/plain": [
       "8157.74"
      ]
     },
     "execution_count": 78,
     "metadata": {},
     "output_type": "execute_result"
    }
   ],
   "source": [
    "df_small.base_passenger_fare.max().compute()"
   ]
  },
  {
   "cell_type": "code",
   "execution_count": 81,
   "id": "3e089756-951b-4379-ab25-351ab696c548",
   "metadata": {},
   "outputs": [
    {
     "data": {
      "text/plain": [
       "21.796000289917"
      ]
     },
     "execution_count": 81,
     "metadata": {},
     "output_type": "execute_result"
    }
   ],
   "source": [
    "df_small.trip_miles.quantile(0.95).compute()"
   ]
  },
  {
   "cell_type": "code",
   "execution_count": 82,
   "id": "da26e879-8ae6-47c0-93b7-80774ed819bb",
   "metadata": {},
   "outputs": [
    {
     "data": {
      "text/plain": [
       "86.375"
      ]
     },
     "execution_count": 82,
     "metadata": {},
     "output_type": "execute_result"
    }
   ],
   "source": [
    "df_small.base_passenger_fare.quantile(0.95).compute()"
   ]
  },
  {
   "cell_type": "markdown",
   "id": "e1210b01-3350-4892-aa0b-d0462d00029a",
   "metadata": {},
   "source": [
    "##FILTER\n",
    "\n",
    "0 < trip_mile <22 \n",
    "0 < base_fare <87 "
   ]
  },
  {
   "cell_type": "code",
   "execution_count": 87,
   "id": "440a7bc4-4460-4d10-909e-11fdbda9f56b",
   "metadata": {},
   "outputs": [
    {
     "data": {
      "text/plain": [
       "Dask Index Structure:\n",
       "npartitions=1340\n",
       "    datetime64[ns]\n",
       "               ...\n",
       "         ...      \n",
       "               ...\n",
       "               ...\n",
       "Name: request_datetime, dtype: datetime64[ns]\n",
       "Dask Name: assign-index, 2 graph layers"
      ]
     },
     "execution_count": 87,
     "metadata": {},
     "output_type": "execute_result"
    }
   ],
   "source": [
    "df_small.index"
   ]
  },
  {
   "cell_type": "code",
   "execution_count": 85,
   "id": "879314c1-b9de-483f-af5d-59347db07f61",
   "metadata": {},
   "outputs": [
    {
     "ename": "KeyError",
     "evalue": "'Cannot index with list against unknown division. Try setting divisions using ``ddf.set_index``'",
     "output_type": "error",
     "traceback": [
      "\u001b[0;31m---------------------------------------------------------------------------\u001b[0m",
      "\u001b[0;31mKeyError\u001b[0m                                  Traceback (most recent call last)",
      "Cell \u001b[0;32mIn[85], line 3\u001b[0m\n\u001b[1;32m      1\u001b[0m \u001b[38;5;66;03m###HOW TO FILTER WITH DASK ARRAYS\u001b[39;00m\n\u001b[1;32m      2\u001b[0m \u001b[38;5;66;03m## ddf.loc[ddf[\"nums\"] % 2 == 0]\u001b[39;00m\n\u001b[0;32m----> 3\u001b[0m df_small \u001b[38;5;241m=\u001b[39m \u001b[43mdf_small\u001b[49m\u001b[38;5;241;43m.\u001b[39;49m\u001b[43mloc\u001b[49m\u001b[43m[\u001b[49m\u001b[43m[\u001b[49m\u001b[43m(\u001b[49m\u001b[38;5;241;43m0\u001b[39;49m\u001b[43m \u001b[49m\u001b[38;5;241;43m<\u001b[39;49m\u001b[43m \u001b[49m\u001b[43mdf_small\u001b[49m\u001b[43m[\u001b[49m\u001b[38;5;124;43m\"\u001b[39;49m\u001b[38;5;124;43mtrip_miles\u001b[39;49m\u001b[38;5;124;43m\"\u001b[39;49m\u001b[43m]\u001b[49m\u001b[43m)\u001b[49m\u001b[43m \u001b[49m\u001b[38;5;241;43m&\u001b[39;49m\u001b[43m \u001b[49m\u001b[43m(\u001b[49m\u001b[43mdf_small\u001b[49m\u001b[43m[\u001b[49m\u001b[38;5;124;43m\"\u001b[39;49m\u001b[38;5;124;43mtrip_miles\u001b[39;49m\u001b[38;5;124;43m\"\u001b[39;49m\u001b[43m]\u001b[49m\u001b[43m \u001b[49m\u001b[38;5;241;43m<\u001b[39;49m\u001b[43m \u001b[49m\u001b[38;5;241;43m22\u001b[39;49m\u001b[43m)\u001b[49m\u001b[43m \u001b[49m\u001b[43m]\u001b[49m\u001b[43m]\u001b[49m\n\u001b[1;32m      4\u001b[0m df_small \u001b[38;5;241m=\u001b[39m df_small\u001b[38;5;241m.\u001b[39mpersist()\n",
      "File \u001b[0;32m~/mambaforge/envs/dask-tutorial/lib/python3.10/site-packages/dask/dataframe/indexing.py:104\u001b[0m, in \u001b[0;36m_LocIndexer.__getitem__\u001b[0;34m(self, key)\u001b[0m\n\u001b[1;32m    102\u001b[0m     iindexer \u001b[38;5;241m=\u001b[39m key\n\u001b[1;32m    103\u001b[0m     cindexer \u001b[38;5;241m=\u001b[39m \u001b[38;5;28;01mNone\u001b[39;00m\n\u001b[0;32m--> 104\u001b[0m \u001b[38;5;28;01mreturn\u001b[39;00m \u001b[38;5;28;43mself\u001b[39;49m\u001b[38;5;241;43m.\u001b[39;49m\u001b[43m_loc\u001b[49m\u001b[43m(\u001b[49m\u001b[43miindexer\u001b[49m\u001b[43m,\u001b[49m\u001b[43m \u001b[49m\u001b[43mcindexer\u001b[49m\u001b[43m)\u001b[49m\n",
      "File \u001b[0;32m~/mambaforge/envs/dask-tutorial/lib/python3.10/site-packages/dask/dataframe/indexing.py:137\u001b[0m, in \u001b[0;36m_LocIndexer._loc\u001b[0;34m(self, iindexer, cindexer)\u001b[0m\n\u001b[1;32m    128\u001b[0m \u001b[38;5;28;01mif\u001b[39;00m \u001b[38;5;28misinstance\u001b[39m(iindexer, (\u001b[38;5;28mlist\u001b[39m, np\u001b[38;5;241m.\u001b[39mndarray)) \u001b[38;5;129;01mor\u001b[39;00m (\n\u001b[1;32m    129\u001b[0m     is_series_like(iindexer) \u001b[38;5;129;01mand\u001b[39;00m \u001b[38;5;129;01mnot\u001b[39;00m is_bool_dtype(iindexer\u001b[38;5;241m.\u001b[39mdtype)\n\u001b[1;32m    130\u001b[0m ):\n\u001b[1;32m    131\u001b[0m     \u001b[38;5;66;03m# applying map_partitions to each partition\u001b[39;00m\n\u001b[1;32m    132\u001b[0m     \u001b[38;5;66;03m# results in duplicated NaN rows\u001b[39;00m\n\u001b[1;32m    133\u001b[0m     msg \u001b[38;5;241m=\u001b[39m (\n\u001b[1;32m    134\u001b[0m         \u001b[38;5;124m\"\u001b[39m\u001b[38;5;124mCannot index with list against unknown division. \u001b[39m\u001b[38;5;124m\"\u001b[39m\n\u001b[1;32m    135\u001b[0m         \u001b[38;5;124m\"\u001b[39m\u001b[38;5;124mTry setting divisions using ``ddf.set_index``\u001b[39m\u001b[38;5;124m\"\u001b[39m\n\u001b[1;32m    136\u001b[0m     )\n\u001b[0;32m--> 137\u001b[0m     \u001b[38;5;28;01mraise\u001b[39;00m \u001b[38;5;167;01mKeyError\u001b[39;00m(msg)\n\u001b[1;32m    138\u001b[0m \u001b[38;5;28;01melif\u001b[39;00m \u001b[38;5;129;01mnot\u001b[39;00m \u001b[38;5;28misinstance\u001b[39m(iindexer, \u001b[38;5;28mslice\u001b[39m):\n\u001b[1;32m    139\u001b[0m     iindexer \u001b[38;5;241m=\u001b[39m \u001b[38;5;28mslice\u001b[39m(iindexer, iindexer)\n",
      "\u001b[0;31mKeyError\u001b[0m: 'Cannot index with list against unknown division. Try setting divisions using ``ddf.set_index``'"
     ]
    }
   ],
   "source": [
    "###HOW TO FILTER WITH DASK ARRAYS\n",
    "df_small = df_small.loc[[(0 < df_small[\"trip_miles\"]) & (df_small[\"trip_miles\"] < 22) ]]\n",
    "df_small = df_small.persist()"
   ]
  },
  {
   "cell_type": "code",
   "execution_count": null,
   "id": "c1bba471-6d5a-45fa-b691-4ff678cbb000",
   "metadata": {},
   "outputs": [],
   "source": []
  },
  {
   "cell_type": "code",
   "execution_count": null,
   "id": "17c82141-47af-472d-8ee7-15847de85544",
   "metadata": {},
   "outputs": [],
   "source": [
    "df_small = df_small[[(0 < df_small[\"trip_miles\"]) & (df_small[\"trip_miles\"] < 22) ]]"
   ]
  },
  {
   "cell_type": "code",
   "execution_count": null,
   "id": "59e282bf-39a8-4bd1-893b-820f6440568c",
   "metadata": {},
   "outputs": [],
   "source": []
  },
  {
   "cell_type": "code",
   "execution_count": 72,
   "id": "e33c8db5-e8f1-4559-bc02-deb716e19fcc",
   "metadata": {},
   "outputs": [
    {
     "ename": "ValueError",
     "evalue": "The truth value of an array with more than one element is ambiguous. Use a.any() or a.all()",
     "output_type": "error",
     "traceback": [
      "\u001b[0;31m---------------------------------------------------------------------------\u001b[0m",
      "\u001b[0;31mValueError\u001b[0m                                Traceback (most recent call last)",
      "Cell \u001b[0;32mIn[72], line 1\u001b[0m\n\u001b[0;32m----> 1\u001b[0m \u001b[43mdf_small\u001b[49m\u001b[38;5;241;43m.\u001b[39;49m\u001b[43mloc\u001b[49m\u001b[43m[\u001b[49m\u001b[38;5;28;43;01mlambda\u001b[39;49;00m\u001b[43m \u001b[49m\u001b[43mx\u001b[49m\u001b[43m:\u001b[49m\u001b[43m \u001b[49m\u001b[38;5;241;43m0\u001b[39;49m\u001b[43m \u001b[49m\u001b[38;5;241;43m<\u001b[39;49m\u001b[38;5;241;43m=\u001b[39;49m\u001b[43m \u001b[49m\u001b[43mx\u001b[49m\u001b[38;5;241;43m.\u001b[39;49m\u001b[43mdolars_per_mile\u001b[49m\u001b[38;5;241;43m.\u001b[39;49m\u001b[43mvalues\u001b[49m\u001b[43m \u001b[49m\u001b[38;5;241;43m<\u001b[39;49m\u001b[43m \u001b[49m\u001b[38;5;241;43m100\u001b[39;49m\u001b[43m]\u001b[49m\u001b[38;5;241m.\u001b[39mdolars_per_mile\u001b[38;5;241m.\u001b[39magg([\u001b[38;5;124m\"\u001b[39m\u001b[38;5;124mmin\u001b[39m\u001b[38;5;124m\"\u001b[39m, \u001b[38;5;124m\"\u001b[39m\u001b[38;5;124mmax\u001b[39m\u001b[38;5;124m\"\u001b[39m, \u001b[38;5;124m\"\u001b[39m\u001b[38;5;124mmean\u001b[39m\u001b[38;5;124m\"\u001b[39m, \u001b[38;5;124m\"\u001b[39m\u001b[38;5;124mstd\u001b[39m\u001b[38;5;124m\"\u001b[39m])\u001b[38;5;241m.\u001b[39mcompute()\n",
      "File \u001b[0;32m~/mambaforge/envs/dask-tutorial/lib/python3.10/site-packages/dask/dataframe/indexing.py:104\u001b[0m, in \u001b[0;36m_LocIndexer.__getitem__\u001b[0;34m(self, key)\u001b[0m\n\u001b[1;32m    102\u001b[0m     iindexer \u001b[38;5;241m=\u001b[39m key\n\u001b[1;32m    103\u001b[0m     cindexer \u001b[38;5;241m=\u001b[39m \u001b[38;5;28;01mNone\u001b[39;00m\n\u001b[0;32m--> 104\u001b[0m \u001b[38;5;28;01mreturn\u001b[39;00m \u001b[38;5;28;43mself\u001b[39;49m\u001b[38;5;241;43m.\u001b[39;49m\u001b[43m_loc\u001b[49m\u001b[43m(\u001b[49m\u001b[43miindexer\u001b[49m\u001b[43m,\u001b[49m\u001b[43m \u001b[49m\u001b[43mcindexer\u001b[49m\u001b[43m)\u001b[49m\n",
      "File \u001b[0;32m~/mambaforge/envs/dask-tutorial/lib/python3.10/site-packages/dask/dataframe/indexing.py:113\u001b[0m, in \u001b[0;36m_LocIndexer._loc\u001b[0;34m(self, iindexer, cindexer)\u001b[0m\n\u001b[1;32m    111\u001b[0m     \u001b[38;5;28;01mreturn\u001b[39;00m \u001b[38;5;28mself\u001b[39m\u001b[38;5;241m.\u001b[39m_loc_array(iindexer, cindexer)\n\u001b[1;32m    112\u001b[0m \u001b[38;5;28;01melif\u001b[39;00m callable(iindexer):\n\u001b[0;32m--> 113\u001b[0m     \u001b[38;5;28;01mreturn\u001b[39;00m \u001b[38;5;28mself\u001b[39m\u001b[38;5;241m.\u001b[39m_loc(\u001b[43miindexer\u001b[49m\u001b[43m(\u001b[49m\u001b[38;5;28;43mself\u001b[39;49m\u001b[38;5;241;43m.\u001b[39;49m\u001b[43mobj\u001b[49m\u001b[43m)\u001b[49m, cindexer)\n\u001b[1;32m    115\u001b[0m \u001b[38;5;28;01mif\u001b[39;00m \u001b[38;5;28mself\u001b[39m\u001b[38;5;241m.\u001b[39mobj\u001b[38;5;241m.\u001b[39mknown_divisions:\n\u001b[1;32m    116\u001b[0m     iindexer \u001b[38;5;241m=\u001b[39m \u001b[38;5;28mself\u001b[39m\u001b[38;5;241m.\u001b[39m_maybe_partial_time_string(iindexer)\n",
      "Cell \u001b[0;32mIn[72], line 1\u001b[0m, in \u001b[0;36m<lambda>\u001b[0;34m(x)\u001b[0m\n\u001b[0;32m----> 1\u001b[0m df_small\u001b[38;5;241m.\u001b[39mloc[\u001b[38;5;28;01mlambda\u001b[39;00m x: \u001b[38;5;241m0\u001b[39m \u001b[38;5;241m<\u001b[39m\u001b[38;5;241m=\u001b[39m x\u001b[38;5;241m.\u001b[39mdolars_per_mile\u001b[38;5;241m.\u001b[39mvalues \u001b[38;5;241m<\u001b[39m \u001b[38;5;241m100\u001b[39m]\u001b[38;5;241m.\u001b[39mdolars_per_mile\u001b[38;5;241m.\u001b[39magg([\u001b[38;5;124m\"\u001b[39m\u001b[38;5;124mmin\u001b[39m\u001b[38;5;124m\"\u001b[39m, \u001b[38;5;124m\"\u001b[39m\u001b[38;5;124mmax\u001b[39m\u001b[38;5;124m\"\u001b[39m, \u001b[38;5;124m\"\u001b[39m\u001b[38;5;124mmean\u001b[39m\u001b[38;5;124m\"\u001b[39m, \u001b[38;5;124m\"\u001b[39m\u001b[38;5;124mstd\u001b[39m\u001b[38;5;124m\"\u001b[39m])\u001b[38;5;241m.\u001b[39mcompute()\n",
      "File \u001b[0;32m~/mambaforge/envs/dask-tutorial/lib/python3.10/site-packages/dask/array/core.py:1850\u001b[0m, in \u001b[0;36mArray.__bool__\u001b[0;34m(self)\u001b[0m\n\u001b[1;32m   1845\u001b[0m     \u001b[38;5;28;01mraise\u001b[39;00m \u001b[38;5;167;01mValueError\u001b[39;00m(\n\u001b[1;32m   1846\u001b[0m         \u001b[38;5;124mf\u001b[39m\u001b[38;5;124m\"\u001b[39m\u001b[38;5;124mThe truth value of a \u001b[39m\u001b[38;5;132;01m{\u001b[39;00m\u001b[38;5;28mself\u001b[39m\u001b[38;5;241m.\u001b[39m\u001b[38;5;18m__class__\u001b[39m\u001b[38;5;241m.\u001b[39m\u001b[38;5;18m__name__\u001b[39m\u001b[38;5;132;01m}\u001b[39;00m\u001b[38;5;124m is ambiguous. \u001b[39m\u001b[38;5;124m\"\u001b[39m\n\u001b[1;32m   1847\u001b[0m         \u001b[38;5;124m\"\u001b[39m\u001b[38;5;124mUse a.any() or a.all().\u001b[39m\u001b[38;5;124m\"\u001b[39m\n\u001b[1;32m   1848\u001b[0m     )\n\u001b[1;32m   1849\u001b[0m \u001b[38;5;28;01melse\u001b[39;00m:\n\u001b[0;32m-> 1850\u001b[0m     \u001b[38;5;28;01mreturn\u001b[39;00m \u001b[38;5;28;43mbool\u001b[39;49m\u001b[43m(\u001b[49m\u001b[38;5;28;43mself\u001b[39;49m\u001b[38;5;241;43m.\u001b[39;49m\u001b[43mcompute\u001b[49m\u001b[43m(\u001b[49m\u001b[43m)\u001b[49m\u001b[43m)\u001b[49m\n",
      "\u001b[0;31mValueError\u001b[0m: The truth value of an array with more than one element is ambiguous. Use a.any() or a.all()"
     ]
    }
   ],
   "source": [
    "\n",
    "##HOW TO FILTER THINGS\n",
    "df_small.loc[lambda x: 0 <= x.dolars_per_mile.values < 100].dolars_per_mile.agg([\"min\", \"max\", \"mean\", \"std\"]).compute()"
   ]
  },
  {
   "cell_type": "code",
   "execution_count": null,
   "id": "17ab2305-241f-47af-958c-ec04720bf29d",
   "metadata": {},
   "outputs": [],
   "source": []
  },
  {
   "cell_type": "code",
   "execution_count": null,
   "id": "aa50c558-9925-4169-866c-342205f1b52b",
   "metadata": {},
   "outputs": [],
   "source": []
  },
  {
   "cell_type": "markdown",
   "id": "1c58e70a-3dde-42a1-ad8c-d89fbdf09369",
   "metadata": {},
   "source": [
    "NOTES to include in text:\n",
    "\n",
    "Repartition [docs](https://docs.dask.org/en/stable/generated/dask.dataframe.DataFrame.repartition.html):\n",
    "\n",
    "- Exactly one of divisions, npartitions, partition_size, or freq should be specified.\n",
    "- \"You should aim for partitions that have around 100MB of data each.\" https://docs.dask.org/en/stable/dataframe-best-practices.html  but Why?\n",
    "\n",
    "https://docs.dask.org/en/stable/dataframe-best-practices.html#repartition-to-reduce-overhead"
   ]
  },
  {
   "cell_type": "code",
   "execution_count": null,
   "id": "451a0ec9-fc40-4f23-bd8a-69803f0a6fe2",
   "metadata": {},
   "outputs": [],
   "source": []
  }
 ],
 "metadata": {
  "kernelspec": {
   "display_name": "Python 3 (ipykernel)",
   "language": "python",
   "name": "python3"
  },
  "language_info": {
   "codemirror_mode": {
    "name": "ipython",
    "version": 3
   },
   "file_extension": ".py",
   "mimetype": "text/x-python",
   "name": "python",
   "nbconvert_exporter": "python",
   "pygments_lexer": "ipython3",
   "version": "3.10.8"
  }
 },
 "nbformat": 4,
 "nbformat_minor": 5
}
