{
 "cells": [
  {
   "cell_type": "markdown",
   "id": "d3f8ffbf-9dc9-42d4-9482-c7fb9e4333a9",
   "metadata": {},
   "source": [
    "<img src=\"images/coiled-logo.svg\"\n",
    "     align=\"right\"\n",
    "     width=\"5%\"\n",
    "     alt=\"Coiled logo\\\">\n",
    "\n",
    "### Sign up for the next live session https://www.coiled.io/tutorials"
   ]
  },
  {
   "cell_type": "markdown",
   "id": "036478b0-c89d-4051-a513-f4436f48968f",
   "metadata": {},
   "source": [
    "<img src=\"http://dask.readthedocs.io/en/latest/_images/dask_horizontal.svg\"\n",
    "     align=\"right\"\n",
    "     width=\"30%\"\n",
    "     alt=\"Dask logo\\\">\n",
    "\n",
    "# Get better at Dask Dataframes\n",
    "\n",
    "In this lesson, you will learn the advantages of working with the parquet data format and best practices when working with big data. You will learn how to manipulate inconvenient file sizes and datatypes, as well as how to make your data easier to manipulate. You will be exploring the Uber/Lyft dataset and learning some key practices of feature engineering with Dask Dataframes.\n",
    "\n",
    "## Dask Dataframes \n",
    "\n",
    "<img src=\"https://docs.dask.org/en/stable/_images/dask-dataframe.svg\"\n",
    "     align=\"right\"\n",
    "     width=\"30%\"\n",
    "     alt=\"Dask DataFrame is composed of pandas DataFrames\"/>\n",
    "\n",
    "At its core, the `dask.dataframe` module implements a \"blocked parallel\" `DataFrame` object that looks and feels like the `pandas` API, but for parallel and distributed workflows. One Dask `DataFrame` is comprised of many in-memory pandas `DataFrame`s separated along the index. One operation on a Dask `DataFrame` triggers many pandas operations on the constituent pandas `DataFrame`s in a way that is mindful of potential parallelism and memory constraints.\n",
    "\n",
    "Dask dataframes are very useful, but getting the most out of them can be tricky.  Where your data is stored, the format your data was saved in, the size of each file and the data types, are some examples of things you need to care when it comes to working with dataframes. "
   ]
  },
  {
   "cell_type": "markdown",
   "id": "4307fa56-f051-467b-bf1f-e3acae08e3a8",
   "metadata": {},
   "source": [
    "### Work close to your data\n",
    "\n",
    "To get started when you are working with data that is in the cloud it's always better to work close to your data to minimize the impact of IO networking. \n",
    "\n",
    "In this lesson, we will use Coiled Clusters that will be created on the same region that our datasets are stored. (the region is `\"us-east-2\"`)\n"
   ]
  },
  {
   "cell_type": "markdown",
   "id": "7a52c65b-f0bc-4341-9841-4de07f710dce",
   "metadata": {},
   "source": [
    "## Parquet vs CSV\n",
    "\n",
    "Most people are familiarized with **csv** files, but when it comes to working with data, working with **parquet** can make a big difference. \n",
    "\n",
    "### Parquet is where it's at!!\n",
    "\n",
    "The Parquet file format is column-oriented and it is designed to efficiently store and retrieve data. Columnar formats provide better compression and improved performance, and enable you to query data column by column. Consequently, aggregation queries are faster compared to row-oriented storage.\n",
    "\n",
    "<img src=\"https://raw.githubusercontent.com/coiled/dask-tutorial/main/images/storage-files.png\"\n",
    "     align=\"right\"\n",
    "     width=\"50%\"\n",
    "     alt=\"Dask DataFrame is composed of pandas DataFrames\"/>\n",
    "     \n",
    "     \n",
    "- **Column pruning:** Parquet lets you read specific columns from a dataset without reading the entire file.\n",
    "- **Better compression:**  Because in each column the data types are fairly similar, the compression of each column is quite straightforward. (saves on storage)\n",
    "- **Schema:** Parquet stores the file schema in the file metadata.\n",
    "- **Column metadata:** Parquet stores metadata statistics for each column, which can make certain types of queries a lot more efficient.\n",
    "\n",
    "    "
   ]
  },
  {
   "cell_type": "code",
   "execution_count": null,
   "id": "e205e7c7-1d13-4f16-9035-ade902f43fad",
   "metadata": {},
   "outputs": [],
   "source": [
    "### coiled login\n",
    "#!coiled login --token ### --account dask-tutorials"
   ]
  },
  {
   "cell_type": "code",
   "execution_count": null,
   "id": "bea1905f-09aa-4865-844e-d752639e29c2",
   "metadata": {},
   "outputs": [],
   "source": [
    "import coiled\n",
    "import dask\n",
    "import dask.dataframe as dd\n",
    "from dask.distributed import Client"
   ]
  },
  {
   "cell_type": "code",
   "execution_count": null,
   "id": "f1162a7b-969a-46c7-a6b2-bfef92cade59",
   "metadata": {},
   "outputs": [],
   "source": [
    "# we use this to avoid re-using clusters on a team\n",
    "import uuid\n",
    "\n",
    "id_cluster = uuid.uuid4().hex[:4]"
   ]
  },
  {
   "cell_type": "markdown",
   "id": "8e323f48-9bbb-46bd-af08-7d6ded1ccead",
   "metadata": {},
   "source": [
    "## Uber/Lyft data transformation\n",
    "\n",
    "The NYC Taxi dataset is a timeless classic.\n",
    "\n",
    "The NYC Taxi and Limousine Commission (TLC) has data from all ride-share services in the city of New York. This includes private limosine services, van services, and a new category \"High Volume For Hire Vehicle\" services, those that dispatch 10,000 rides per day or more. This is a special category defined for Uber and Lyft.\n",
    "\n",
    "Let's use the Uber/Lyft dataset, as an example of a `parquet` dataset to learn how to troubleshoot the nuances of working with real data. The data comes from [High-Volume For-Hire Services](https://www.nyc.gov/site/tlc/businesses/high-volume-for-hire-services.page)\n",
    "\n",
    "_Data dictionary:_\n",
    "\n",
    "https://www.nyc.gov/assets/tlc/downloads/pdf/data_dictionary_trip_records_hvfhs.pdf"
   ]
  },
  {
   "cell_type": "markdown",
   "id": "3c9ab02d-f58b-48a3-bd1e-f04ab40697b5",
   "metadata": {},
   "source": [
    "### Let's get a cluster"
   ]
  },
  {
   "cell_type": "code",
   "execution_count": null,
   "id": "3476887b-5643-4e4a-9cdb-d2488692cdf7",
   "metadata": {},
   "outputs": [],
   "source": [
    "%%time\n",
    "cluster = coiled.Cluster(\n",
    "    name=f\"uber-lyft-{id_cluster}\",\n",
    "    n_workers=20,\n",
    "    account=\"dask-tutorials\",\n",
    "    worker_vm_types=[\"m6i.xlarge\"],\n",
    "    backend_options={\"region_name\": \"us-east-2\"},\n",
    ")"
   ]
  },
  {
   "cell_type": "code",
   "execution_count": null,
   "id": "304ba45b-5604-4bdd-8a33-7433cd9df26d",
   "metadata": {},
   "outputs": [],
   "source": [
    "client = Client(cluster)\n",
    "client"
   ]
  },
  {
   "cell_type": "markdown",
   "id": "aed8c836-0a39-4219-b85c-ee63019af46c",
   "metadata": {},
   "source": [
    "### Explore the data\n",
    "\n",
    "We have a public version of this data set that is ready to use to get some insights, at\n",
    "`\"s3://coiled-datasets/uber-lyft-tlc/\"`"
   ]
  },
  {
   "cell_type": "code",
   "execution_count": null,
   "id": "b76f77fb-67bd-4c3e-a6aa-3698365a0dd7",
   "metadata": {},
   "outputs": [],
   "source": [
    "dask.config.set({\"dataframe.convert-string\": True}) #Use PyArrow strings"
   ]
  },
  {
   "cell_type": "code",
   "execution_count": null,
   "id": "15530dc1-703e-4491-9eec-c391cd663a34",
   "metadata": {},
   "outputs": [],
   "source": [
    "df = dd.read_parquet(\n",
    "   \"s3://coiled-datasets/uber-lyft-tlc/\" \n",
    ")"
   ]
  },
  {
   "cell_type": "code",
   "execution_count": null,
   "id": "2e2900ba-cbdf-46fc-9ee4-9fbc69ea881c",
   "metadata": {},
   "outputs": [],
   "source": [
    "df.dtypes"
   ]
  },
  {
   "cell_type": "markdown",
   "id": "80eb7dc4-e84e-40b9-9842-dad6670dad3b",
   "metadata": {},
   "source": [
    "## Memory usage \n",
    "\n",
    "```python\n",
    "dask.utils.format_bytes(\n",
    "    df.memory_usage(deep=True).sum().compute()\n",
    ")\n",
    "```\n",
    "'82.81 GiB'\n"
   ]
  },
  {
   "cell_type": "code",
   "execution_count": null,
   "id": "834816b0-5899-43a8-853e-ffc91a0a7da8",
   "metadata": {},
   "outputs": [],
   "source": [
    "df.head()"
   ]
  },
  {
   "cell_type": "code",
   "execution_count": null,
   "id": "dff7b58b-97c5-4e06-9fdf-f2fe4fc979a3",
   "metadata": {},
   "outputs": [],
   "source": [
    "df.columns"
   ]
  },
  {
   "cell_type": "code",
   "execution_count": null,
   "id": "d52ca6d7-4030-4103-b128-4263f95044c7",
   "metadata": {},
   "outputs": [],
   "source": [
    "# len(df)\n",
    "## 783_431_901"
   ]
  },
  {
   "cell_type": "code",
   "execution_count": null,
   "id": "cdcd250f-0a9f-4268-b90e-6a4f409a3f93",
   "metadata": {},
   "outputs": [],
   "source": [
    "#We have enough memory so we persist the data set\n",
    "df = df.persist()"
   ]
  },
  {
   "cell_type": "markdown",
   "id": "07a108e9-984c-498e-8c59-99cd7a269370",
   "metadata": {},
   "source": [
    "### Get some insights\n",
    "\n",
    "We assume you know pandas, so using pandas syntax and adding at the end `.compute()`, compute the follwoing quantities. "
   ]
  },
  {
   "cell_type": "markdown",
   "id": "a5bb5f87-55bf-4b3b-b63a-8c37e1fcddda",
   "metadata": {},
   "source": [
    "How much did New Yorkers pay Uber/Lyft? Sum the `base_passenger_fare` column."
   ]
  },
  {
   "cell_type": "code",
   "execution_count": null,
   "id": "447931fd-eb9c-450a-be0f-5c6c9c18f745",
   "metadata": {},
   "outputs": [],
   "source": []
  },
  {
   "cell_type": "code",
   "execution_count": null,
   "id": "af9c909b-2264-456e-b495-bc76cc974464",
   "metadata": {
    "jupyter": {
     "source_hidden": true
    },
    "tags": []
   },
   "outputs": [],
   "source": [
    "#solution\n",
    "df.base_passenger_fare.sum().compute() / 1e9"
   ]
  },
  {
   "cell_type": "markdown",
   "id": "7cdd5225-0479-4277-a767-1b43bb853459",
   "metadata": {},
   "source": [
    "How much did Uber/Lyft pay drivers?"
   ]
  },
  {
   "cell_type": "code",
   "execution_count": null,
   "id": "8cf105ff-e366-468d-b736-d530d798041d",
   "metadata": {},
   "outputs": [],
   "source": []
  },
  {
   "cell_type": "code",
   "execution_count": null,
   "id": "68bbfa3d-7a7e-4c2b-b84d-7653daa20640",
   "metadata": {
    "jupyter": {
     "source_hidden": true
    },
    "tags": []
   },
   "outputs": [],
   "source": [
    "#solution\n",
    "df.driver_pay.sum().compute() / 1e9"
   ]
  },
  {
   "cell_type": "markdown",
   "id": "d0e16825-8598-4cf0-bde0-db419f17e1ac",
   "metadata": {},
   "source": [
    "How much did Uber/Lyft drivers made on tips?"
   ]
  },
  {
   "cell_type": "code",
   "execution_count": null,
   "id": "f78a96c9-3d7f-44c6-8c52-f56a21a80460",
   "metadata": {},
   "outputs": [],
   "source": []
  },
  {
   "cell_type": "code",
   "execution_count": null,
   "id": "ed858f9e-c6e3-44da-a6d5-296f985c9aa0",
   "metadata": {
    "jupyter": {
     "source_hidden": true
    },
    "tags": []
   },
   "outputs": [],
   "source": [
    "#solution\n",
    "df.tips.sum().compute() / 1e6"
   ]
  },
  {
   "cell_type": "markdown",
   "id": "3794ddc5-77fc-4d82-bd37-d02eb8ea6a12",
   "metadata": {},
   "source": [
    "### Are New Yorkers tippers? \n",
    "\n",
    "Let's make our data set smaller and create a column that is a Yes/No for the tip. "
   ]
  },
  {
   "cell_type": "code",
   "execution_count": null,
   "id": "b1262fb9-adaa-4e23-9b5f-7e50e62128ce",
   "metadata": {},
   "outputs": [],
   "source": [
    "%%time\n",
    "##let's count to see NaN\n",
    "df.count().compute()"
   ]
  },
  {
   "cell_type": "code",
   "execution_count": null,
   "id": "eb55c7c8-bb9b-4fe5-9729-6b91f263a3ac",
   "metadata": {
    "tags": []
   },
   "outputs": [],
   "source": [
    "# Create a column tip > 0 = True\n",
    "df[\"tip_flag\"] = df.tips > 0\n",
    "\n",
    "df = df[\n",
    "    [\n",
    "        \"hvfhs_license_num\",\n",
    "        \"tips\",\n",
    "        \"base_passenger_fare\",\n",
    "        \"driver_pay\",\n",
    "        \"trip_miles\",\n",
    "        \"trip_time\",\n",
    "        \"shared_request_flag\",\n",
    "        \"tip_flag\",\n",
    "    ]\n",
    "].persist()"
   ]
  },
  {
   "cell_type": "code",
   "execution_count": null,
   "id": "54707176-6ddf-4c3c-9870-7cdfd03f8335",
   "metadata": {},
   "outputs": [],
   "source": [
    "df.head()"
   ]
  },
  {
   "cell_type": "code",
   "execution_count": null,
   "id": "2fcaad19-5ad8-4ce8-a5e6-669a802c37e3",
   "metadata": {},
   "outputs": [],
   "source": [
    "df.columns"
   ]
  },
  {
   "cell_type": "markdown",
   "id": "bba714f3-2a98-4e2d-83b2-bfa5516ae95f",
   "metadata": {},
   "source": [
    "### Exercise\n",
    "\n",
    "What percentage of rides received a tip?"
   ]
  },
  {
   "cell_type": "code",
   "execution_count": null,
   "id": "61cce3d7-c954-4b14-8f37-75b0eaff867a",
   "metadata": {},
   "outputs": [],
   "source": []
  },
  {
   "cell_type": "code",
   "execution_count": null,
   "id": "4c625daa-c794-4853-96bc-9a6685c36d26",
   "metadata": {
    "jupyter": {
     "source_hidden": true
    },
    "tags": []
   },
   "outputs": [],
   "source": [
    "#solution\n",
    "tip_count = df[\"tip_flag\"].value_counts().compute()\n",
    "\n",
    "perc_trip_tips = tip_count[True] * 100 / (tip_count[True] + tip_count[False])\n",
    "perc_trip_tips"
   ]
  },
  {
   "cell_type": "markdown",
   "id": "fc2110ff-d2fe-4a57-8556-f8381cd12d48",
   "metadata": {},
   "source": [
    "### How many trips have tip by provider?"
   ]
  },
  {
   "cell_type": "code",
   "execution_count": null,
   "id": "ac3192f3-7913-41e6-9b7b-ed01bb8a96c5",
   "metadata": {},
   "outputs": [],
   "source": [
    "tip_by_provider = df.groupby([\"hvfhs_license_num\"]).tip_flag.value_counts().compute()"
   ]
  },
  {
   "cell_type": "code",
   "execution_count": null,
   "id": "13062d36-4168-41b7-b2c5-d6c8e62de44e",
   "metadata": {},
   "outputs": [],
   "source": [
    "tip_by_provider"
   ]
  },
  {
   "cell_type": "markdown",
   "id": "fac3870d-0b82-47e9-856b-e15e77cf3425",
   "metadata": {
    "tags": []
   },
   "source": [
    "**From the data dictionary we know:**\n",
    "\n",
    "As of September 2019, the HVFHS licenses are the following:\n",
    "\n",
    "- HV0002: Juno  \n",
    "- HV0003: Uber  \n",
    "- HV0004: Via  \n",
    "- HV0005: Lyft  "
   ]
  },
  {
   "cell_type": "code",
   "execution_count": null,
   "id": "28c54f0e-0526-447e-8f5c-19fc6e6b1962",
   "metadata": {},
   "outputs": [],
   "source": [
    "type(tip_by_provider)"
   ]
  },
  {
   "cell_type": "code",
   "execution_count": null,
   "id": "fd1d5b68-5e2e-487d-9db7-b1bc0c5b8e2d",
   "metadata": {},
   "outputs": [],
   "source": [
    "## this is a pandas\n",
    "tip_by_provider = tip_by_provider.unstack(level=\"tip_flag\")\n",
    "tip_by_provider / 1e6"
   ]
  },
  {
   "cell_type": "markdown",
   "id": "3c42ee9b-b7db-4fde-8125-84c5aca7483c",
   "metadata": {},
   "source": [
    "### sum and mean of tips by provider "
   ]
  },
  {
   "cell_type": "code",
   "execution_count": null,
   "id": "9b10f437-ba9d-41d3-bc43-0d4e96e9dcdb",
   "metadata": {},
   "outputs": [],
   "source": [
    "tips_total = (\n",
    "    df.loc[lambda x: x.tip_flag]\n",
    "    .groupby(\"hvfhs_license_num\")\n",
    "    .tips.agg([\"sum\", \"mean\"])\n",
    "    .compute()\n",
    ")\n",
    "tips_total"
   ]
  },
  {
   "cell_type": "code",
   "execution_count": null,
   "id": "ef8c80f8-0d20-4bf4-a4ee-fa4a5325ce26",
   "metadata": {},
   "outputs": [],
   "source": [
    "provider = {\"HV0002\": \"Juno\", \"HV0005\": \"Lyft\", \"HV0003\": \"Uber\", \"HV0004\": \"Via\"}"
   ]
  },
  {
   "cell_type": "code",
   "execution_count": null,
   "id": "776e2689-133d-4cfb-bd08-0ca34ee05f31",
   "metadata": {},
   "outputs": [],
   "source": [
    "tips_total = tips_total.assign(provider=lambda df: df.index.map(provider)).set_index(\n",
    "    \"provider\"\n",
    ")\n",
    "tips_total"
   ]
  },
  {
   "cell_type": "markdown",
   "id": "e63f9aad-c1e0-49c6-9de2-8d99e4bd44e2",
   "metadata": {},
   "source": [
    "### What percentage of the passenger fare is the tip?"
   ]
  },
  {
   "cell_type": "markdown",
   "id": "8d089e27-053a-4f8c-820a-0fedb4d232ea",
   "metadata": {},
   "source": [
    "### Exercise\n",
    "\n",
    "Create a new column named \"tip_percentage\" that represents the what fraction of the passenger fare is the tip"
   ]
  },
  {
   "cell_type": "code",
   "execution_count": null,
   "id": "0c03b374-d006-4b36-9de7-d583ba0f8e90",
   "metadata": {},
   "outputs": [],
   "source": []
  },
  {
   "cell_type": "code",
   "execution_count": null,
   "id": "cec9faaf-f329-4ebb-8e60-d1fe95d22f2c",
   "metadata": {
    "jupyter": {
     "source_hidden": true
    },
    "tags": []
   },
   "outputs": [],
   "source": [
    "# solution\n",
    "tip_percentage = df.tips / df.base_passenger_fare\n",
    "df[\"tip_percentage\"] = tip_percentage"
   ]
  },
  {
   "cell_type": "code",
   "execution_count": null,
   "id": "5b14e09d-7a4b-454f-ab39-12cbcd5d7ef4",
   "metadata": {},
   "outputs": [],
   "source": [
    "df = df.persist()"
   ]
  },
  {
   "cell_type": "markdown",
   "id": "6c5aaa54-f344-464e-90af-4270c1792528",
   "metadata": {},
   "source": [
    "## Tip percentage mean of trip"
   ]
  },
  {
   "cell_type": "code",
   "execution_count": null,
   "id": "0ab6fa5d-1b7b-4cd6-aa02-f5986784cd49",
   "metadata": {},
   "outputs": [],
   "source": [
    "tips_perc_mean = (\n",
    "    df.loc[lambda x: x.tip_flag]\n",
    "    .groupby(\"hvfhs_license_num\")\n",
    "    .tip_percentage.mean()\n",
    "    .compute()\n",
    ")\n",
    "tips_perc_mean"
   ]
  },
  {
   "cell_type": "code",
   "execution_count": null,
   "id": "c16d4260-46a4-4a5a-842d-b80f3e0cc76b",
   "metadata": {},
   "outputs": [],
   "source": [
    "(tips_perc_mean.to_frame().set_index(tips_perc_mean.index.map(provider)))"
   ]
  },
  {
   "cell_type": "markdown",
   "id": "5508b41a-e186-4af6-8a35-2a659c3a6975",
   "metadata": {},
   "source": [
    "### Get insight on the data\n",
    "\n",
    "We are seeing weird numbers, let's try to take a deeper look and remove some outliers"
   ]
  },
  {
   "cell_type": "code",
   "execution_count": null,
   "id": "15df0aab-84fb-45bc-af6d-d2f9892b38be",
   "metadata": {
    "tags": []
   },
   "outputs": [],
   "source": [
    "(\n",
    "    df[[\"trip_miles\", \"base_passenger_fare\", \"tips\", \"tip_flag\"]]\n",
    "    .loc[lambda x: x.tip_flag]\n",
    "    .describe()\n",
    "    .compute()\n",
    ")"
   ]
  },
  {
   "cell_type": "markdown",
   "id": "5e970925-c96d-40e5-a906-176a6f69a44c",
   "metadata": {},
   "source": [
    "### Getting to know the data\n",
    "\n",
    "- How would you get more insights on the data?\n",
    "- Can you visualize it?\n",
    "\n",
    "**Hint:** Get a small sample, like 0.1% of the data to plot ~700_000 rows (go smaller if needed depending on your machine), compute it and work with that pandas dataframe."
   ]
  },
  {
   "cell_type": "code",
   "execution_count": null,
   "id": "21a73002-ab6b-4627-b5af-7ecdeedd0d78",
   "metadata": {
    "tags": []
   },
   "outputs": [],
   "source": [
    "# needed to avoid plots from breaking\n",
    "%matplotlib inline"
   ]
  },
  {
   "cell_type": "code",
   "execution_count": null,
   "id": "f1abd1c5-8d60-4772-b1a9-4a180790c0d8",
   "metadata": {
    "tags": []
   },
   "outputs": [],
   "source": [
    "## Take a sample\n",
    "df_sample = (\n",
    "    df.loc[lambda x: x.tip_flag][[\"trip_miles\", \"base_passenger_fare\", \"tips\"]]\n",
    "    .sample(frac=0.001)\n",
    "    .compute()\n",
    ")"
   ]
  },
  {
   "cell_type": "code",
   "execution_count": null,
   "id": "a46b9993-3009-4e5d-a0e4-2c8368ec0613",
   "metadata": {
    "tags": []
   },
   "outputs": [],
   "source": [
    "# box plot\n",
    "df_sample.boxplot()"
   ]
  },
  {
   "cell_type": "markdown",
   "id": "500530b7-0f24-4566-b234-1f1a5acc2cc3",
   "metadata": {},
   "source": [
    "### Cleaning up outliers\n",
    "\n",
    "- Play with the pandas dataframe `df_tiny` to get insights on good filters for the bigger dataframe. \n",
    "\n",
    "Hint: think about pandas dataframe quantiles [docs here](https://pandas.pydata.org/pandas-docs/stable/reference/api/pandas.DataFrame.quantile.html)"
   ]
  },
  {
   "cell_type": "code",
   "execution_count": null,
   "id": "0d674a25-104a-4506-8602-25e214023954",
   "metadata": {
    "tags": []
   },
   "outputs": [],
   "source": [
    "df_sample.tips.quantile([0.25, 0.75])"
   ]
  },
  {
   "cell_type": "markdown",
   "id": "d552cdcf-2ea9-4443-a9a5-b55523e33e85",
   "metadata": {},
   "source": [
    "### Exercise\n",
    "\n",
    "Calculate the first and third quantiles for `base_passenger_fare` and `trip_miles`"
   ]
  },
  {
   "cell_type": "code",
   "execution_count": null,
   "id": "7c5673e2-072f-46e1-abcf-efd2721c1051",
   "metadata": {},
   "outputs": [],
   "source": []
  },
  {
   "cell_type": "code",
   "execution_count": null,
   "id": "905ed15c-106a-42eb-bfee-59f6d12b84d6",
   "metadata": {
    "jupyter": {
     "source_hidden": true
    },
    "tags": []
   },
   "outputs": [],
   "source": [
    "# solution\n",
    "df_sample.base_passenger_fare.quantile([0.25, 0.75])"
   ]
  },
  {
   "cell_type": "code",
   "execution_count": null,
   "id": "f08228ab-5f07-460a-b268-d176e77aef94",
   "metadata": {
    "jupyter": {
     "source_hidden": true
    },
    "tags": []
   },
   "outputs": [],
   "source": [
    "# solution\n",
    "df_sample.trip_miles.quantile([0.25, 0.75])"
   ]
  },
  {
   "cell_type": "markdown",
   "id": "b0ee5c4c-3423-443c-8ce9-d0c597aa0758",
   "metadata": {},
   "source": [
    "### Conditions to filter the dataset\n",
    "\n",
    "We can use the information of Q1 and Q3 to create contions to filter the dataset"
   ]
  },
  {
   "cell_type": "code",
   "execution_count": null,
   "id": "8fcd0e94-2c7a-423d-a410-e43eedecb3f7",
   "metadata": {},
   "outputs": [],
   "source": [
    "tips_filter_vals = df_sample.tips.quantile([0.25, 0.75]).values\n",
    "tips_condition = df_sample.tips.between(*tips_filter_vals)"
   ]
  },
  {
   "cell_type": "code",
   "execution_count": null,
   "id": "1133eddf-b478-4f61-9889-3f41e9050689",
   "metadata": {
    "tags": []
   },
   "outputs": [],
   "source": [
    "tips_condition"
   ]
  },
  {
   "cell_type": "markdown",
   "id": "da2dfb9b-af06-4183-8ea5-a30dc02bdd5f",
   "metadata": {},
   "source": [
    "### Exercise\n",
    "\n",
    "Create filter conditions for the `base_passenger_fare` and `trip_miles`"
   ]
  },
  {
   "cell_type": "code",
   "execution_count": null,
   "id": "56cd321b-2aae-473b-b53b-5225b4f894ce",
   "metadata": {},
   "outputs": [],
   "source": []
  },
  {
   "cell_type": "code",
   "execution_count": null,
   "id": "89d5bdc4-1685-471d-898e-9ed239ad281b",
   "metadata": {
    "jupyter": {
     "source_hidden": true
    },
    "tags": []
   },
   "outputs": [],
   "source": [
    "## Solution\n",
    "fare_filter_vals = df_sample.base_passenger_fare.quantile([0.25, 0.75]).values\n",
    "fares_condition = df_sample.base_passenger_fare.between(*fare_filter_vals)\n",
    "\n",
    "miles_filter_vals = df_sample.trip_miles.quantile([0.25, 0.75]).values\n",
    "miles_condition = df_sample.trip_miles.between(*miles_filter_vals)"
   ]
  },
  {
   "cell_type": "markdown",
   "id": "2dacba7f-bb18-4027-99e2-43a7c91ebd21",
   "metadata": {},
   "source": [
    "### Filter dataframe and plot"
   ]
  },
  {
   "cell_type": "code",
   "execution_count": null,
   "id": "6a82012b-ee3a-4df9-b24b-877f114a207a",
   "metadata": {
    "tags": []
   },
   "outputs": [],
   "source": [
    "df_sample.loc[(tips_condition & fares_condition) & miles_condition].boxplot()"
   ]
  },
  {
   "cell_type": "markdown",
   "id": "d1337177-5c12-4f73-bc68-f9156c1bbc6c",
   "metadata": {},
   "source": [
    "## Filtering our big dataset based on the insights\n",
    "\n",
    "Based on these numbers let's go back to our `df` dataset and try to filter it.\n"
   ]
  },
  {
   "cell_type": "code",
   "execution_count": null,
   "id": "75a5a9be-5e13-4f0d-8c76-13ab7caea857",
   "metadata": {},
   "outputs": [],
   "source": [
    "tips_condition = df.tips.between(*tips_filter_vals)\n",
    "miles_condition = df.trip_miles.between(*miles_filter_vals)\n",
    "fares_condition = df.base_passenger_fare.between(*fare_filter_vals)"
   ]
  },
  {
   "cell_type": "code",
   "execution_count": null,
   "id": "879314c1-b9de-483f-af5d-59347db07f61",
   "metadata": {},
   "outputs": [],
   "source": [
    "df = df.loc[(tips_condition & fares_condition) & miles_condition].persist()"
   ]
  },
  {
   "cell_type": "markdown",
   "id": "e4933836-e833-4787-b561-f2d0bb5f76ee",
   "metadata": {},
   "source": [
    "### Let's look at the `tip_percentage` again"
   ]
  },
  {
   "cell_type": "markdown",
   "id": "aded0737-d5bf-4181-b9aa-2c5c72435d06",
   "metadata": {},
   "source": [
    "### Exercise \n",
    "Compute the `tip_percentage` mean by provider "
   ]
  },
  {
   "cell_type": "code",
   "execution_count": null,
   "id": "c6db8ed3-3aab-4e98-99aa-5379b3f1f0a0",
   "metadata": {},
   "outputs": [],
   "source": []
  },
  {
   "cell_type": "code",
   "execution_count": null,
   "id": "9e745175-5725-4b92-a58d-4f870a3d3ace",
   "metadata": {
    "jupyter": {
     "source_hidden": true
    },
    "tags": []
   },
   "outputs": [],
   "source": [
    "#Solution\n",
    "tips_perc_avg = df.groupby(\"hvfhs_license_num\").tip_percentage.mean().compute()\n",
    "tips_perc_avg"
   ]
  },
  {
   "cell_type": "code",
   "execution_count": null,
   "id": "46be3c7a-8128-4ab1-b8f1-3b398faa4238",
   "metadata": {},
   "outputs": [],
   "source": [
    "(tips_perc_avg.to_frame().set_index(tips_perc_avg.index.map(provider)))"
   ]
  },
  {
   "cell_type": "code",
   "execution_count": null,
   "id": "1538a243-8de1-4dde-82f0-dd5434b21f11",
   "metadata": {},
   "outputs": [],
   "source": [
    "len(df)"
   ]
  },
  {
   "cell_type": "markdown",
   "id": "c3665fc2-8b8e-4e0e-a656-e47cefbafb86",
   "metadata": {},
   "source": [
    "### Average trip time by provider"
   ]
  },
  {
   "cell_type": "code",
   "execution_count": null,
   "id": "176f6aa4-8eec-4d4b-9959-678fa61d50ea",
   "metadata": {
    "tags": []
   },
   "outputs": [],
   "source": [
    "trips_time_avg = (\n",
    "    df.groupby(\"hvfhs_license_num\")\n",
    "    .trip_time.agg([\"min\", \"max\", \"mean\", \"std\"])\n",
    "    .compute()\n",
    ")\n",
    "trips_time_avg"
   ]
  },
  {
   "cell_type": "markdown",
   "id": "50ade8e4-2fd4-4cf4-b533-033c694ae04d",
   "metadata": {},
   "source": [
    "### In minutes"
   ]
  },
  {
   "cell_type": "code",
   "execution_count": null,
   "id": "b3715c5a-7520-42c3-a41c-c1295a19d5ff",
   "metadata": {
    "tags": []
   },
   "outputs": [],
   "source": [
    "trips_time_avg.set_index(trips_time_avg.index.map(provider)) / 60"
   ]
  },
  {
   "cell_type": "markdown",
   "id": "bf7fdf77-320b-4d87-802c-1f260867a141",
   "metadata": {},
   "source": [
    "## What we've learned\n",
    "- Most New Yorkers do not tip\n",
    "- But it looks like of those who tip, it is common to tip around 20% regardless of the provider. Unless it's Via, they tend to tip slightly less.\n",
    "- The trip_time column needs some cleaning of outliers. "
   ]
  },
  {
   "cell_type": "code",
   "execution_count": null,
   "id": "451a0ec9-fc40-4f23-bd8a-69803f0a6fe2",
   "metadata": {},
   "outputs": [],
   "source": [
    "cluster.shutdown()\n",
    "client.close()"
   ]
  },
  {
   "cell_type": "markdown",
   "id": "1c592b6f-6386-4e82-9cb2-b74637846a22",
   "metadata": {},
   "source": [
    "### Useful links\n",
    "\n",
    "- https://tutorial.dask.org/01_dataframe.html\n",
    "\n",
    "**Useful links**\n",
    "\n",
    "* [DataFrames documentation](https://docs.dask.org/en/stable/dataframe.html)\n",
    "* [Dataframes and parquet](https://docs.dask.org/en/stable/dataframe-parquet.html)\n",
    "* [Dataframes examples](https://examples.dask.org/dataframe.html)\n",
    "\n",
    "### Other lesson\n",
    "\n",
    "Register [here](https://www.coiled.io/tutorials) for reminders. \n",
    "\n",
    "We have another lesson, where we’ll parallelize a custom Python workflow that scrapes, parses, and cleans data from Stack Overflow. We’ll get to: ‍\n",
    "\n",
    "- Learn how to do arbitrary task scheduling using the Dask Futures API\n",
    "- Utilize blocking and non-blocking distributed calculations\n",
    "\n",
    "By the end, we’ll see how much faster this workflow is using Dask and how the Dask Futures API is particularly well-suited for this type of fine-grained execution.\n"
   ]
  }
 ],
 "metadata": {
  "kernelspec": {
   "display_name": "Python 3 (ipykernel)",
   "language": "python",
   "name": "python3"
  },
  "language_info": {
   "codemirror_mode": {
    "name": "ipython",
    "version": 3
   },
   "file_extension": ".py",
   "mimetype": "text/x-python",
   "name": "python",
   "nbconvert_exporter": "python",
   "pygments_lexer": "ipython3",
   "version": "3.10.0"
  }
 },
 "nbformat": 4,
 "nbformat_minor": 5
}
